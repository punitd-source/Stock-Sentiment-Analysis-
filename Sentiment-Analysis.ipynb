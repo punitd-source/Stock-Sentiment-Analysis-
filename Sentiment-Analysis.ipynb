{
 "cells": [
  {
   "cell_type": "code",
   "execution_count": 2,
   "id": "ac4c250b-706b-407b-9367-9f33cc6baf90",
   "metadata": {},
   "outputs": [],
   "source": [
    "import re\n",
    "import pandas as pd\n",
    "import matplotlib.pyplot as plt\n",
    "import numpy as np \n",
    "import nltk\n",
    "from nltk.corpus import stopwords \n",
    "from nltk.stem import WordNetLemmatizer \n",
    "import gensim.downloader as api\n",
    "import pickle \n",
    "from sklearn.preprocessing import StandardScaler\n",
    "from sklearn.metrics import accuracy_score,precision_score\n",
    "import seaborn as sns\n",
    "from sklearn.metrics import confusion_matrix, ConfusionMatrixDisplay , classification_report ,recall_score\n",
    "from sklearn.model_selection import train_test_split, GridSearchCV\n",
    "from sklearn.pipeline import Pipeline\n",
    "from sklearn.svm import SVC\n",
    "from sklearn.metrics import f1_score\n",
    "from sklearn.metrics import roc_curve, auc\n",
    "from PIL import Image\n",
    "from IPython.display import display"
   ]
  },
  {
   "cell_type": "code",
   "execution_count": 3,
   "id": "2e88286d-2550-4d0e-ae82-ea073569c787",
   "metadata": {},
   "outputs": [],
   "source": [
    "df1=pd.read_csv(r\"C:\\Users\\Jaya Teja\\Finance_Project\\Final datasets\\AAPL_final.csv\")\n",
    "df2=pd.read_csv(r\"C:\\Users\\Jaya Teja\\Finance_Project\\Final datasets\\AMZN_final.csv\")\n",
    "df3=pd.read_csv(r\"C:\\Users\\Jaya Teja\\Finance_Project\\Final datasets\\TSLA_final.csv\")"
   ]
  },
  {
   "cell_type": "markdown",
   "id": "ee29a730-4f84-4ae9-aab7-858000478027",
   "metadata": {},
   "source": [
    "1- Apple  \n",
    "2- Amazon  \n",
    "3- Tesla  "
   ]
  },
  {
   "cell_type": "code",
   "execution_count": 4,
   "id": "6c6f0b58-e8e1-4d8f-96e0-95ea54e9ae94",
   "metadata": {},
   "outputs": [],
   "source": [
    "# The reason for mentioning comapnies with name is for final judging process of the entire portfolio as the dataset will be divided for test "
   ]
  },
  {
   "cell_type": "code",
   "execution_count": 5,
   "id": "a724d349-70ee-4984-b73a-85e53301c68b",
   "metadata": {},
   "outputs": [],
   "source": [
    "df1['Company']=1"
   ]
  },
  {
   "cell_type": "markdown",
   "id": "249b8b14-a871-40fc-b1cc-9859dc3f7611",
   "metadata": {},
   "source": [
    "### graph of 1 and 0 s pie chart "
   ]
  },
  {
   "cell_type": "code",
   "execution_count": 6,
   "id": "8dc5d0d7-2ae9-420e-844d-02e15ce1d601",
   "metadata": {
    "scrolled": true
   },
   "outputs": [
    {
     "data": {
      "text/html": [
       "<div>\n",
       "<style scoped>\n",
       "    .dataframe tbody tr th:only-of-type {\n",
       "        vertical-align: middle;\n",
       "    }\n",
       "\n",
       "    .dataframe tbody tr th {\n",
       "        vertical-align: top;\n",
       "    }\n",
       "\n",
       "    .dataframe thead th {\n",
       "        text-align: right;\n",
       "    }\n",
       "</style>\n",
       "<table border=\"1\" class=\"dataframe\">\n",
       "  <thead>\n",
       "    <tr style=\"text-align: right;\">\n",
       "      <th></th>\n",
       "      <th>Unnamed: 0</th>\n",
       "      <th>Date</th>\n",
       "      <th>Open</th>\n",
       "      <th>High</th>\n",
       "      <th>Low</th>\n",
       "      <th>Close</th>\n",
       "      <th>Adj Close</th>\n",
       "      <th>Volume</th>\n",
       "      <th>title</th>\n",
       "      <th>Label</th>\n",
       "      <th>Company</th>\n",
       "    </tr>\n",
       "  </thead>\n",
       "  <tbody>\n",
       "    <tr>\n",
       "      <th>0</th>\n",
       "      <td>0</td>\n",
       "      <td>2022-01-03</td>\n",
       "      <td>177.830002</td>\n",
       "      <td>182.880005</td>\n",
       "      <td>177.710007</td>\n",
       "      <td>182.009995</td>\n",
       "      <td>179.481140</td>\n",
       "      <td>104487900</td>\n",
       "      <td>What A 'Strong' Apple 2022 Product Line Up Cou...</td>\n",
       "      <td>1</td>\n",
       "      <td>1</td>\n",
       "    </tr>\n",
       "    <tr>\n",
       "      <th>1</th>\n",
       "      <td>1</td>\n",
       "      <td>2022-01-04</td>\n",
       "      <td>182.630005</td>\n",
       "      <td>182.940002</td>\n",
       "      <td>179.119995</td>\n",
       "      <td>179.699997</td>\n",
       "      <td>177.203217</td>\n",
       "      <td>99310400</td>\n",
       "      <td>Is $3 Trillion Just the Beginning for Apple? A...</td>\n",
       "      <td>0</td>\n",
       "      <td>1</td>\n",
       "    </tr>\n",
       "    <tr>\n",
       "      <th>2</th>\n",
       "      <td>2</td>\n",
       "      <td>2022-01-05</td>\n",
       "      <td>179.610001</td>\n",
       "      <td>180.169998</td>\n",
       "      <td>174.639999</td>\n",
       "      <td>174.919998</td>\n",
       "      <td>172.489639</td>\n",
       "      <td>94537600</td>\n",
       "      <td>Dow industrials knocking on door of milestone ...</td>\n",
       "      <td>0</td>\n",
       "      <td>1</td>\n",
       "    </tr>\n",
       "    <tr>\n",
       "      <th>3</th>\n",
       "      <td>3</td>\n",
       "      <td>2022-01-06</td>\n",
       "      <td>172.699997</td>\n",
       "      <td>175.300003</td>\n",
       "      <td>171.639999</td>\n",
       "      <td>172.000000</td>\n",
       "      <td>169.610214</td>\n",
       "      <td>96904000</td>\n",
       "      <td>Here's what's worth streaming in January 2022 ...</td>\n",
       "      <td>0</td>\n",
       "      <td>1</td>\n",
       "    </tr>\n",
       "    <tr>\n",
       "      <th>4</th>\n",
       "      <td>4</td>\n",
       "      <td>2022-01-07</td>\n",
       "      <td>172.889999</td>\n",
       "      <td>174.139999</td>\n",
       "      <td>171.029999</td>\n",
       "      <td>172.169998</td>\n",
       "      <td>169.777847</td>\n",
       "      <td>86709100</td>\n",
       "      <td>Samsung Electronics expects 52% jump in Q4 ope...</td>\n",
       "      <td>1</td>\n",
       "      <td>1</td>\n",
       "    </tr>\n",
       "  </tbody>\n",
       "</table>\n",
       "</div>"
      ],
      "text/plain": [
       "   Unnamed: 0        Date        Open        High         Low       Close  \\\n",
       "0           0  2022-01-03  177.830002  182.880005  177.710007  182.009995   \n",
       "1           1  2022-01-04  182.630005  182.940002  179.119995  179.699997   \n",
       "2           2  2022-01-05  179.610001  180.169998  174.639999  174.919998   \n",
       "3           3  2022-01-06  172.699997  175.300003  171.639999  172.000000   \n",
       "4           4  2022-01-07  172.889999  174.139999  171.029999  172.169998   \n",
       "\n",
       "    Adj Close     Volume                                              title  \\\n",
       "0  179.481140  104487900  What A 'Strong' Apple 2022 Product Line Up Cou...   \n",
       "1  177.203217   99310400  Is $3 Trillion Just the Beginning for Apple? A...   \n",
       "2  172.489639   94537600  Dow industrials knocking on door of milestone ...   \n",
       "3  169.610214   96904000  Here's what's worth streaming in January 2022 ...   \n",
       "4  169.777847   86709100  Samsung Electronics expects 52% jump in Q4 ope...   \n",
       "\n",
       "   Label  Company  \n",
       "0      1        1  \n",
       "1      0        1  \n",
       "2      0        1  \n",
       "3      0        1  \n",
       "4      1        1  "
      ]
     },
     "execution_count": 6,
     "metadata": {},
     "output_type": "execute_result"
    }
   ],
   "source": [
    "df1.head()"
   ]
  },
  {
   "cell_type": "code",
   "execution_count": 7,
   "id": "3b886c4b-6c0c-4a43-b0ff-4d2af2d1e945",
   "metadata": {},
   "outputs": [
    {
     "data": {
      "image/png": "[encoded data removed]",
      "text/plain": [
       "<Figure size 640x480 with 1 Axes>"
      ]
     },
     "metadata": {},
     "output_type": "display_data"
    }
   ],
   "source": [
    "import matplotlib.pyplot as plt\n",
    "value_counts = df1['Label'].value_counts()\n",
    "pie_data = value_counts.values\n",
    "pie_labels = value_counts.index\n",
    "plt.pie(pie_data, labels=pie_labels, autopct=\"%1.1f%%\")\n",
    "plt.title(\"Apple(AAPL) Stock Inc/Dec\")\n",
    "plt.show()"
   ]
  },
  {
   "cell_type": "code",
   "execution_count": 8,
   "id": "5fc1eae5-08a4-449b-b73f-a054aedde4fa",
   "metadata": {},
   "outputs": [],
   "source": [
    "df2['Company']=2#"
   ]
  },
  {
   "cell_type": "markdown",
   "id": "d412e3ee-fbdc-452b-9f1b-dca176226f58",
   "metadata": {},
   "source": [
    "### graph of 1 and 0 piechart ,"
   ]
  },
  {
   "cell_type": "code",
   "execution_count": 9,
   "id": "c701451f-285d-4c9f-b1f4-707ad0e338e7",
   "metadata": {},
   "outputs": [
    {
     "data": {
      "image/png": "[encoded data removed]",
      "text/plain": [
       "<Figure size 640x480 with 1 Axes>"
      ]
     },
     "metadata": {},
     "output_type": "display_data"
    }
   ],
   "source": [
    "value_counts = df2['Label'].value_counts()\n",
    "pie_data = value_counts.values\n",
    "pie_labels = value_counts.index\n",
    "plt.pie(pie_data, labels=pie_labels, autopct=\"%1.1f%%\")\n",
    "plt.title(\"Amazon(AMZN) Stock Inc/Dec\")\n",
    "plt.show()"
   ]
  },
  {
   "cell_type": "code",
   "execution_count": 10,
   "id": "3b022443-e021-4b4e-8d8c-31a2fad679f9",
   "metadata": {},
   "outputs": [
    {
     "data": {
      "text/html": [
       "<div>\n",
       "<style scoped>\n",
       "    .dataframe tbody tr th:only-of-type {\n",
       "        vertical-align: middle;\n",
       "    }\n",
       "\n",
       "    .dataframe tbody tr th {\n",
       "        vertical-align: top;\n",
       "    }\n",
       "\n",
       "    .dataframe thead th {\n",
       "        text-align: right;\n",
       "    }\n",
       "</style>\n",
       "<table border=\"1\" class=\"dataframe\">\n",
       "  <thead>\n",
       "    <tr style=\"text-align: right;\">\n",
       "      <th></th>\n",
       "      <th>Unnamed: 0</th>\n",
       "      <th>Date</th>\n",
       "      <th>Open</th>\n",
       "      <th>High</th>\n",
       "      <th>Low</th>\n",
       "      <th>Close</th>\n",
       "      <th>Adj Close</th>\n",
       "      <th>Volume</th>\n",
       "      <th>title</th>\n",
       "      <th>Label</th>\n",
       "      <th>Company</th>\n",
       "    </tr>\n",
       "  </thead>\n",
       "  <tbody>\n",
       "    <tr>\n",
       "      <th>0</th>\n",
       "      <td>0</td>\n",
       "      <td>2022-01-03</td>\n",
       "      <td>167.550003</td>\n",
       "      <td>170.703506</td>\n",
       "      <td>166.160507</td>\n",
       "      <td>170.404495</td>\n",
       "      <td>170.404495</td>\n",
       "      <td>63520000</td>\n",
       "      <td>Updating 2021 Calls While Suggesting Strategic...</td>\n",
       "      <td>1</td>\n",
       "      <td>2</td>\n",
       "    </tr>\n",
       "    <tr>\n",
       "      <th>1</th>\n",
       "      <td>1</td>\n",
       "      <td>2022-01-04</td>\n",
       "      <td>170.438004</td>\n",
       "      <td>171.399994</td>\n",
       "      <td>166.349503</td>\n",
       "      <td>167.522003</td>\n",
       "      <td>167.522003</td>\n",
       "      <td>70726000</td>\n",
       "      <td>The Best Stocks to Invest $1,000 in Right Now ...</td>\n",
       "      <td>0</td>\n",
       "      <td>2</td>\n",
       "    </tr>\n",
       "    <tr>\n",
       "      <th>2</th>\n",
       "      <td>2</td>\n",
       "      <td>2022-01-05</td>\n",
       "      <td>166.882996</td>\n",
       "      <td>167.126495</td>\n",
       "      <td>164.356995</td>\n",
       "      <td>164.356995</td>\n",
       "      <td>164.356995</td>\n",
       "      <td>64302000</td>\n",
       "      <td>The Zacks Analyst Blog Highlights: Apple, Alph...</td>\n",
       "      <td>0</td>\n",
       "      <td>2</td>\n",
       "    </tr>\n",
       "    <tr>\n",
       "      <th>3</th>\n",
       "      <td>3</td>\n",
       "      <td>2022-01-06</td>\n",
       "      <td>163.450500</td>\n",
       "      <td>164.800003</td>\n",
       "      <td>161.936996</td>\n",
       "      <td>163.253998</td>\n",
       "      <td>163.253998</td>\n",
       "      <td>51958000</td>\n",
       "      <td>Here's what's worth streaming in January 2022 ...</td>\n",
       "      <td>0</td>\n",
       "      <td>2</td>\n",
       "    </tr>\n",
       "    <tr>\n",
       "      <th>4</th>\n",
       "      <td>4</td>\n",
       "      <td>2022-01-07</td>\n",
       "      <td>163.839005</td>\n",
       "      <td>165.243500</td>\n",
       "      <td>162.031006</td>\n",
       "      <td>162.554001</td>\n",
       "      <td>162.554001</td>\n",
       "      <td>46606000</td>\n",
       "      <td>ViacomCBS: A Deal Waiting To Happen The Divide...</td>\n",
       "      <td>0</td>\n",
       "      <td>2</td>\n",
       "    </tr>\n",
       "    <tr>\n",
       "      <th>...</th>\n",
       "      <td>...</td>\n",
       "      <td>...</td>\n",
       "      <td>...</td>\n",
       "      <td>...</td>\n",
       "      <td>...</td>\n",
       "      <td>...</td>\n",
       "      <td>...</td>\n",
       "      <td>...</td>\n",
       "      <td>...</td>\n",
       "      <td>...</td>\n",
       "      <td>...</td>\n",
       "    </tr>\n",
       "    <tr>\n",
       "      <th>577</th>\n",
       "      <td>577</td>\n",
       "      <td>2024-04-22</td>\n",
       "      <td>176.940002</td>\n",
       "      <td>178.869995</td>\n",
       "      <td>174.559998</td>\n",
       "      <td>177.229996</td>\n",
       "      <td>177.229996</td>\n",
       "      <td>37924900</td>\n",
       "      <td>SCHD: If You've Won The Game, Take A Little Of...</td>\n",
       "      <td>1</td>\n",
       "      <td>2</td>\n",
       "    </tr>\n",
       "    <tr>\n",
       "      <th>578</th>\n",
       "      <td>578</td>\n",
       "      <td>2024-04-23</td>\n",
       "      <td>178.080002</td>\n",
       "      <td>179.929993</td>\n",
       "      <td>175.979996</td>\n",
       "      <td>179.539993</td>\n",
       "      <td>179.539993</td>\n",
       "      <td>37046500</td>\n",
       "      <td>This Is Hands Down My Pick for the Best \"Magni...</td>\n",
       "      <td>1</td>\n",
       "      <td>2</td>\n",
       "    </tr>\n",
       "    <tr>\n",
       "      <th>579</th>\n",
       "      <td>579</td>\n",
       "      <td>2024-04-24</td>\n",
       "      <td>179.940002</td>\n",
       "      <td>180.320007</td>\n",
       "      <td>176.179993</td>\n",
       "      <td>176.589996</td>\n",
       "      <td>176.589996</td>\n",
       "      <td>34185100</td>\n",
       "      <td>History Says the Nasdaq Could Soar: 2 Top Grow...</td>\n",
       "      <td>0</td>\n",
       "      <td>2</td>\n",
       "    </tr>\n",
       "    <tr>\n",
       "      <th>580</th>\n",
       "      <td>580</td>\n",
       "      <td>2024-04-25</td>\n",
       "      <td>169.679993</td>\n",
       "      <td>173.919998</td>\n",
       "      <td>166.320007</td>\n",
       "      <td>173.669998</td>\n",
       "      <td>173.669998</td>\n",
       "      <td>49249400</td>\n",
       "      <td>If You Invested $10,000 in Amazon 10 Years Ago...</td>\n",
       "      <td>0</td>\n",
       "      <td>2</td>\n",
       "    </tr>\n",
       "    <tr>\n",
       "      <th>581</th>\n",
       "      <td>581</td>\n",
       "      <td>2024-04-26</td>\n",
       "      <td>177.800003</td>\n",
       "      <td>180.820007</td>\n",
       "      <td>176.130005</td>\n",
       "      <td>179.619995</td>\n",
       "      <td>179.619995</td>\n",
       "      <td>43919800</td>\n",
       "      <td>1 Unstoppable Stock That Could Join Microsoft,...</td>\n",
       "      <td>1</td>\n",
       "      <td>2</td>\n",
       "    </tr>\n",
       "  </tbody>\n",
       "</table>\n",
       "<p>582 rows × 11 columns</p>\n",
       "</div>"
      ],
      "text/plain": [
       "     Unnamed: 0        Date        Open        High         Low       Close  \\\n",
       "0             0  2022-01-03  167.550003  170.703506  166.160507  170.404495   \n",
       "1             1  2022-01-04  170.438004  171.399994  166.349503  167.522003   \n",
       "2             2  2022-01-05  166.882996  167.126495  164.356995  164.356995   \n",
       "3             3  2022-01-06  163.450500  164.800003  161.936996  163.253998   \n",
       "4             4  2022-01-07  163.839005  165.243500  162.031006  162.554001   \n",
       "..          ...         ...         ...         ...         ...         ...   \n",
       "577         577  2024-04-22  176.940002  178.869995  174.559998  177.229996   \n",
       "578         578  2024-04-23  178.080002  179.929993  175.979996  179.539993   \n",
       "579         579  2024-04-24  179.940002  180.320007  176.179993  176.589996   \n",
       "580         580  2024-04-25  169.679993  173.919998  166.320007  173.669998   \n",
       "581         581  2024-04-26  177.800003  180.820007  176.130005  179.619995   \n",
       "\n",
       "      Adj Close    Volume                                              title  \\\n",
       "0    170.404495  63520000  Updating 2021 Calls While Suggesting Strategic...   \n",
       "1    167.522003  70726000  The Best Stocks to Invest $1,000 in Right Now ...   \n",
       "2    164.356995  64302000  The Zacks Analyst Blog Highlights: Apple, Alph...   \n",
       "3    163.253998  51958000  Here's what's worth streaming in January 2022 ...   \n",
       "4    162.554001  46606000  ViacomCBS: A Deal Waiting To Happen The Divide...   \n",
       "..          ...       ...                                                ...   \n",
       "577  177.229996  37924900  SCHD: If You've Won The Game, Take A Little Of...   \n",
       "578  179.539993  37046500  This Is Hands Down My Pick for the Best \"Magni...   \n",
       "579  176.589996  34185100  History Says the Nasdaq Could Soar: 2 Top Grow...   \n",
       "580  173.669998  49249400  If You Invested $10,000 in Amazon 10 Years Ago...   \n",
       "581  179.619995  43919800  1 Unstoppable Stock That Could Join Microsoft,...   \n",
       "\n",
       "     Label  Company  \n",
       "0        1        2  \n",
       "1        0        2  \n",
       "2        0        2  \n",
       "3        0        2  \n",
       "4        0        2  \n",
       "..     ...      ...  \n",
       "577      1        2  \n",
       "578      1        2  \n",
       "579      0        2  \n",
       "580      0        2  \n",
       "581      1        2  \n",
       "\n",
       "[582 rows x 11 columns]"
      ]
     },
     "execution_count": 10,
     "metadata": {},
     "output_type": "execute_result"
    }
   ],
   "source": [
    "df2"
   ]
  },
  {
   "cell_type": "code",
   "execution_count": 11,
   "id": "c187046b-a4e1-444a-82b6-431c3b8821af",
   "metadata": {},
   "outputs": [],
   "source": [
    "df3['Company']=3"
   ]
  },
  {
   "cell_type": "markdown",
   "id": "d10d0b42-30d2-4499-88cd-4e1e595991c2",
   "metadata": {},
   "source": [
    "### graph of 1 and 0 pie chart "
   ]
  },
  {
   "cell_type": "code",
   "execution_count": 12,
   "id": "6a0e6f6c-ae86-4c44-a5d4-29e67b77de3f",
   "metadata": {},
   "outputs": [
    {
     "data": {
      "image/png": "[encoded data removed]",
      "text/plain": [
       "<Figure size 640x480 with 1 Axes>"
      ]
     },
     "metadata": {},
     "output_type": "display_data"
    }
   ],
   "source": [
    "value_counts = df3['Label'].value_counts()\n",
    "pie_data = value_counts.values\n",
    "pie_labels = value_counts.index\n",
    "plt.pie(pie_data, labels=pie_labels, autopct=\"%1.1f%%\")\n",
    "plt.title(\"Tesla(TSLA) Stock Inc/Dec\")\n",
    "plt.show()"
   ]
  },
  {
   "cell_type": "code",
   "execution_count": 13,
   "id": "d6b1f41c-fb2a-4de1-97bf-cc4fe208407c",
   "metadata": {},
   "outputs": [
    {
     "data": {
      "text/html": [
       "<div>\n",
       "<style scoped>\n",
       "    .dataframe tbody tr th:only-of-type {\n",
       "        vertical-align: middle;\n",
       "    }\n",
       "\n",
       "    .dataframe tbody tr th {\n",
       "        vertical-align: top;\n",
       "    }\n",
       "\n",
       "    .dataframe thead th {\n",
       "        text-align: right;\n",
       "    }\n",
       "</style>\n",
       "<table border=\"1\" class=\"dataframe\">\n",
       "  <thead>\n",
       "    <tr style=\"text-align: right;\">\n",
       "      <th></th>\n",
       "      <th>Unnamed: 0</th>\n",
       "      <th>Date</th>\n",
       "      <th>Open</th>\n",
       "      <th>High</th>\n",
       "      <th>Low</th>\n",
       "      <th>Close</th>\n",
       "      <th>Adj Close</th>\n",
       "      <th>Volume</th>\n",
       "      <th>title</th>\n",
       "      <th>Label</th>\n",
       "      <th>Company</th>\n",
       "    </tr>\n",
       "  </thead>\n",
       "  <tbody>\n",
       "    <tr>\n",
       "      <th>0</th>\n",
       "      <td>0</td>\n",
       "      <td>2022-01-03</td>\n",
       "      <td>382.583344</td>\n",
       "      <td>400.356659</td>\n",
       "      <td>378.679993</td>\n",
       "      <td>399.926666</td>\n",
       "      <td>399.926666</td>\n",
       "      <td>103931400</td>\n",
       "      <td>LG Energy Solution starts taking orders for wh...</td>\n",
       "      <td>1</td>\n",
       "      <td>3</td>\n",
       "    </tr>\n",
       "    <tr>\n",
       "      <th>1</th>\n",
       "      <td>1</td>\n",
       "      <td>2022-01-04</td>\n",
       "      <td>396.516663</td>\n",
       "      <td>402.666656</td>\n",
       "      <td>374.350006</td>\n",
       "      <td>383.196655</td>\n",
       "      <td>383.196655</td>\n",
       "      <td>100248300</td>\n",
       "      <td>Tesla opens showroom in Xinjiang, the Chinese ...</td>\n",
       "      <td>0</td>\n",
       "      <td>3</td>\n",
       "    </tr>\n",
       "    <tr>\n",
       "      <th>2</th>\n",
       "      <td>2</td>\n",
       "      <td>2022-01-05</td>\n",
       "      <td>382.216675</td>\n",
       "      <td>390.113342</td>\n",
       "      <td>360.336670</td>\n",
       "      <td>362.706665</td>\n",
       "      <td>362.706665</td>\n",
       "      <td>80119800</td>\n",
       "      <td>Tesla And These 2 Chipmakers Are Seeing The Hi...</td>\n",
       "      <td>0</td>\n",
       "      <td>3</td>\n",
       "    </tr>\n",
       "    <tr>\n",
       "      <th>3</th>\n",
       "      <td>3</td>\n",
       "      <td>2022-01-06</td>\n",
       "      <td>359.000000</td>\n",
       "      <td>362.666656</td>\n",
       "      <td>340.166656</td>\n",
       "      <td>354.899994</td>\n",
       "      <td>354.899994</td>\n",
       "      <td>90336600</td>\n",
       "      <td>This Coin Named After Elon Musk's Pet Floki is...</td>\n",
       "      <td>0</td>\n",
       "      <td>3</td>\n",
       "    </tr>\n",
       "    <tr>\n",
       "      <th>4</th>\n",
       "      <td>4</td>\n",
       "      <td>2022-01-07</td>\n",
       "      <td>360.123322</td>\n",
       "      <td>360.309998</td>\n",
       "      <td>336.666656</td>\n",
       "      <td>342.320007</td>\n",
       "      <td>342.320007</td>\n",
       "      <td>84164700</td>\n",
       "      <td>Cathie Wood Sells Another $4.9M In Tesla Stock...</td>\n",
       "      <td>0</td>\n",
       "      <td>3</td>\n",
       "    </tr>\n",
       "    <tr>\n",
       "      <th>...</th>\n",
       "      <td>...</td>\n",
       "      <td>...</td>\n",
       "      <td>...</td>\n",
       "      <td>...</td>\n",
       "      <td>...</td>\n",
       "      <td>...</td>\n",
       "      <td>...</td>\n",
       "      <td>...</td>\n",
       "      <td>...</td>\n",
       "      <td>...</td>\n",
       "      <td>...</td>\n",
       "    </tr>\n",
       "    <tr>\n",
       "      <th>577</th>\n",
       "      <td>577</td>\n",
       "      <td>2024-04-22</td>\n",
       "      <td>140.559998</td>\n",
       "      <td>144.440002</td>\n",
       "      <td>138.800003</td>\n",
       "      <td>142.050003</td>\n",
       "      <td>142.050003</td>\n",
       "      <td>107097600</td>\n",
       "      <td>It's Time to Ditch These 2 \"Magnificent Seven\"...</td>\n",
       "      <td>0</td>\n",
       "      <td>3</td>\n",
       "    </tr>\n",
       "    <tr>\n",
       "      <th>578</th>\n",
       "      <td>578</td>\n",
       "      <td>2024-04-23</td>\n",
       "      <td>143.330002</td>\n",
       "      <td>147.259995</td>\n",
       "      <td>141.110001</td>\n",
       "      <td>144.679993</td>\n",
       "      <td>144.679993</td>\n",
       "      <td>124545100</td>\n",
       "      <td>Cathie Wood's Ark Invest Seizes Tesla Dip, Acq...</td>\n",
       "      <td>1</td>\n",
       "      <td>3</td>\n",
       "    </tr>\n",
       "    <tr>\n",
       "      <th>579</th>\n",
       "      <td>579</td>\n",
       "      <td>2024-04-24</td>\n",
       "      <td>162.839996</td>\n",
       "      <td>167.970001</td>\n",
       "      <td>157.509995</td>\n",
       "      <td>162.130005</td>\n",
       "      <td>162.130005</td>\n",
       "      <td>181178000</td>\n",
       "      <td>Tesla (TSLA) Q1 2024 Earnings Call Transcript ...</td>\n",
       "      <td>1</td>\n",
       "      <td>3</td>\n",
       "    </tr>\n",
       "    <tr>\n",
       "      <th>580</th>\n",
       "      <td>580</td>\n",
       "      <td>2024-04-25</td>\n",
       "      <td>158.960007</td>\n",
       "      <td>170.880005</td>\n",
       "      <td>158.360001</td>\n",
       "      <td>170.179993</td>\n",
       "      <td>170.179993</td>\n",
       "      <td>126427500</td>\n",
       "      <td>To Lower Or Not? EV Pricing Dilemma Hampers Fo...</td>\n",
       "      <td>1</td>\n",
       "      <td>3</td>\n",
       "    </tr>\n",
       "    <tr>\n",
       "      <th>581</th>\n",
       "      <td>581</td>\n",
       "      <td>2024-04-26</td>\n",
       "      <td>168.850006</td>\n",
       "      <td>172.119995</td>\n",
       "      <td>166.369995</td>\n",
       "      <td>168.289993</td>\n",
       "      <td>168.289993</td>\n",
       "      <td>109815700</td>\n",
       "      <td>Tesla Investor Touts EV Giant's Billions-Mile ...</td>\n",
       "      <td>0</td>\n",
       "      <td>3</td>\n",
       "    </tr>\n",
       "  </tbody>\n",
       "</table>\n",
       "<p>582 rows × 11 columns</p>\n",
       "</div>"
      ],
      "text/plain": [
       "     Unnamed: 0        Date        Open        High         Low       Close  \\\n",
       "0             0  2022-01-03  382.583344  400.356659  378.679993  399.926666   \n",
       "1             1  2022-01-04  396.516663  402.666656  374.350006  383.196655   \n",
       "2             2  2022-01-05  382.216675  390.113342  360.336670  362.706665   \n",
       "3             3  2022-01-06  359.000000  362.666656  340.166656  354.899994   \n",
       "4             4  2022-01-07  360.123322  360.309998  336.666656  342.320007   \n",
       "..          ...         ...         ...         ...         ...         ...   \n",
       "577         577  2024-04-22  140.559998  144.440002  138.800003  142.050003   \n",
       "578         578  2024-04-23  143.330002  147.259995  141.110001  144.679993   \n",
       "579         579  2024-04-24  162.839996  167.970001  157.509995  162.130005   \n",
       "580         580  2024-04-25  158.960007  170.880005  158.360001  170.179993   \n",
       "581         581  2024-04-26  168.850006  172.119995  166.369995  168.289993   \n",
       "\n",
       "      Adj Close     Volume                                              title  \\\n",
       "0    399.926666  103931400  LG Energy Solution starts taking orders for wh...   \n",
       "1    383.196655  100248300  Tesla opens showroom in Xinjiang, the Chinese ...   \n",
       "2    362.706665   80119800  Tesla And These 2 Chipmakers Are Seeing The Hi...   \n",
       "3    354.899994   90336600  This Coin Named After Elon Musk's Pet Floki is...   \n",
       "4    342.320007   84164700  Cathie Wood Sells Another $4.9M In Tesla Stock...   \n",
       "..          ...        ...                                                ...   \n",
       "577  142.050003  107097600  It's Time to Ditch These 2 \"Magnificent Seven\"...   \n",
       "578  144.679993  124545100  Cathie Wood's Ark Invest Seizes Tesla Dip, Acq...   \n",
       "579  162.130005  181178000  Tesla (TSLA) Q1 2024 Earnings Call Transcript ...   \n",
       "580  170.179993  126427500  To Lower Or Not? EV Pricing Dilemma Hampers Fo...   \n",
       "581  168.289993  109815700  Tesla Investor Touts EV Giant's Billions-Mile ...   \n",
       "\n",
       "     Label  Company  \n",
       "0        1        3  \n",
       "1        0        3  \n",
       "2        0        3  \n",
       "3        0        3  \n",
       "4        0        3  \n",
       "..     ...      ...  \n",
       "577      0        3  \n",
       "578      1        3  \n",
       "579      1        3  \n",
       "580      1        3  \n",
       "581      0        3  \n",
       "\n",
       "[582 rows x 11 columns]"
      ]
     },
     "execution_count": 13,
     "metadata": {},
     "output_type": "execute_result"
    }
   ],
   "source": [
    "df3"
   ]
  },
  {
   "cell_type": "code",
   "execution_count": 14,
   "id": "d41070d4-be43-4bf7-a0e3-e96efd65c265",
   "metadata": {},
   "outputs": [],
   "source": [
    "df=pd.concat([df1,df2,df3],ignore_index=True)"
   ]
  },
  {
   "cell_type": "code",
   "execution_count": 15,
   "id": "7ce7c855-9953-45b2-9dce-2addb0d6c471",
   "metadata": {},
   "outputs": [
    {
     "data": {
      "text/plain": [
       "19206"
      ]
     },
     "execution_count": 15,
     "metadata": {},
     "output_type": "execute_result"
    }
   ],
   "source": [
    "df.size"
   ]
  },
  {
   "cell_type": "markdown",
   "id": "95acbb86-e3e7-4ee1-9838-e44c1b5b9fd1",
   "metadata": {},
   "source": [
    "### graph of combined 1 and 0 s , and also the adj close of all the bove df1,2,3 in a single graph"
   ]
  },
  {
   "cell_type": "code",
   "execution_count": 16,
   "id": "71790e3f-e802-4453-a118-5be81300b913",
   "metadata": {},
   "outputs": [
    {
     "data": {
      "image/png": "[encoded data removed]",
      "text/plain": [
       "<Figure size 1000x600 with 1 Axes>"
      ]
     },
     "metadata": {},
     "output_type": "display_data"
    }
   ],
   "source": [
    "plt.figure(figsize=(10, 6))\n",
    "dates= df1['Date']\n",
    "# adj_close=[df1['Adj Close'],df2['Adj Close'],df3['Adj Close']]\n",
    "plt.plot(dates, df1['Adj Close'], label='Apple(AAPL)', marker='o')\n",
    "plt.plot(dates, df2['Adj Close'], label='Amazon(AMZN)', marker='s')\n",
    "plt.plot(dates, df3['Adj Close'], label='Tesla(TSLA)', marker='^')\n",
    "\n",
    "plt.xlabel('Date')\n",
    "plt.ylabel('Adj Close Price')\n",
    "plt.title('Adj Close Price of 3 Stocks in USD $')\n",
    "plt.legend()\n",
    "plt.grid(True)\n",
    "plt.xticks(rotation=90)\n",
    "\n",
    "plt.tight_layout()\n",
    "plt.show()"
   ]
  },
  {
   "cell_type": "code",
   "execution_count": 17,
   "id": "0bbd0dc3-07b8-40b5-814f-b06d0c8b104f",
   "metadata": {},
   "outputs": [
    {
     "data": {
      "image/png": "[encoded data removed]",
      "text/plain": [
       "<Figure size 640x480 with 1 Axes>"
      ]
     },
     "metadata": {},
     "output_type": "display_data"
    }
   ],
   "source": [
    "value_counts = df['Label'].value_counts()\n",
    "pie_data = value_counts.values\n",
    "pie_labels = value_counts.index\n",
    "plt.pie(pie_data, labels=pie_labels, autopct=\"%1.1f%%\")\n",
    "plt.title(\"AAPL,TSLA,AMZN Stock Inc/Dec\")\n",
    "plt.show()"
   ]
  },
  {
   "cell_type": "code",
   "execution_count": 18,
   "id": "2ed60b1d-8ccd-4d35-8d76-be1f4cadba43",
   "metadata": {},
   "outputs": [],
   "source": [
    "#  df.drop('Unnamed: 0',axis=1)"
   ]
  },
  {
   "cell_type": "code",
   "execution_count": 19,
   "id": "7bb08368-046b-4709-a2f9-6ed101e736ac",
   "metadata": {},
   "outputs": [
    {
     "name": "stdout",
     "output_type": "stream",
     "text": [
      "<class 'pandas.core.frame.DataFrame'>\n",
      "RangeIndex: 1746 entries, 0 to 1745\n",
      "Data columns (total 11 columns):\n",
      " #   Column      Non-Null Count  Dtype  \n",
      "---  ------      --------------  -----  \n",
      " 0   Unnamed: 0  1746 non-null   int64  \n",
      " 1   Date        1746 non-null   object \n",
      " 2   Open        1746 non-null   float64\n",
      " 3   High        1746 non-null   float64\n",
      " 4   Low         1746 non-null   float64\n",
      " 5   Close       1746 non-null   float64\n",
      " 6   Adj Close   1746 non-null   float64\n",
      " 7   Volume      1746 non-null   int64  \n",
      " 8   title       1746 non-null   object \n",
      " 9   Label       1746 non-null   int64  \n",
      " 10  Company     1746 non-null   int64  \n",
      "dtypes: float64(5), int64(4), object(2)\n",
      "memory usage: 150.2+ KB\n"
     ]
    }
   ],
   "source": [
    "df.info()"
   ]
  },
  {
   "cell_type": "code",
   "execution_count": 20,
   "id": "b8f51f17-f5ca-4520-b8be-eeb194ce80ec",
   "metadata": {},
   "outputs": [],
   "source": [
    "df=df.drop('Unnamed: 0',axis=1)"
   ]
  },
  {
   "cell_type": "code",
   "execution_count": 21,
   "id": "f0514476-3442-4e1e-911e-e59f9a890ca6",
   "metadata": {},
   "outputs": [
    {
     "name": "stdout",
     "output_type": "stream",
     "text": [
      "<class 'pandas.core.frame.DataFrame'>\n",
      "RangeIndex: 1746 entries, 0 to 1745\n",
      "Data columns (total 10 columns):\n",
      " #   Column     Non-Null Count  Dtype  \n",
      "---  ------     --------------  -----  \n",
      " 0   Date       1746 non-null   object \n",
      " 1   Open       1746 non-null   float64\n",
      " 2   High       1746 non-null   float64\n",
      " 3   Low        1746 non-null   float64\n",
      " 4   Close      1746 non-null   float64\n",
      " 5   Adj Close  1746 non-null   float64\n",
      " 6   Volume     1746 non-null   int64  \n",
      " 7   title      1746 non-null   object \n",
      " 8   Label      1746 non-null   int64  \n",
      " 9   Company    1746 non-null   int64  \n",
      "dtypes: float64(5), int64(3), object(2)\n",
      "memory usage: 136.5+ KB\n"
     ]
    }
   ],
   "source": [
    "df.info()"
   ]
  },
  {
   "cell_type": "code",
   "execution_count": 22,
   "id": "7e0475b0-9342-49f2-b5a5-0eca650438f3",
   "metadata": {},
   "outputs": [
    {
     "data": {
      "text/plain": [
       "1    582\n",
       "2    582\n",
       "3    582\n",
       "Name: Company, dtype: int64"
      ]
     },
     "execution_count": 22,
     "metadata": {},
     "output_type": "execute_result"
    }
   ],
   "source": [
    "df['Company'].value_counts()"
   ]
  },
  {
   "cell_type": "code",
   "execution_count": 23,
   "id": "0fd80567-6541-4adb-ba59-09840b484949",
   "metadata": {},
   "outputs": [],
   "source": [
    "df_sorted=df.sort_values(by='Date')"
   ]
  },
  {
   "cell_type": "code",
   "execution_count": 24,
   "id": "4a6a81a1-a10d-482b-8a3e-89a44403bb45",
   "metadata": {},
   "outputs": [],
   "source": [
    "df_sorted.reset_index(drop=True,inplace=True)"
   ]
  },
  {
   "cell_type": "code",
   "execution_count": 25,
   "id": "3d18fb0e-e679-4c4c-b0c3-8f6926bbb37c",
   "metadata": {},
   "outputs": [
    {
     "data": {
      "text/plain": [
       "1    582\n",
       "3    582\n",
       "2    582\n",
       "Name: Company, dtype: int64"
      ]
     },
     "execution_count": 25,
     "metadata": {},
     "output_type": "execute_result"
    }
   ],
   "source": [
    "df_sorted['Company'].value_counts()"
   ]
  },
  {
   "cell_type": "code",
   "execution_count": 26,
   "id": "039af8c8-5a74-4054-8f63-d3b80bff0e5c",
   "metadata": {
    "scrolled": true
   },
   "outputs": [
    {
     "data": {
      "text/html": [
       "<div>\n",
       "<style scoped>\n",
       "    .dataframe tbody tr th:only-of-type {\n",
       "        vertical-align: middle;\n",
       "    }\n",
       "\n",
       "    .dataframe tbody tr th {\n",
       "        vertical-align: top;\n",
       "    }\n",
       "\n",
       "    .dataframe thead th {\n",
       "        text-align: right;\n",
       "    }\n",
       "</style>\n",
       "<table border=\"1\" class=\"dataframe\">\n",
       "  <thead>\n",
       "    <tr style=\"text-align: right;\">\n",
       "      <th></th>\n",
       "      <th>Date</th>\n",
       "      <th>Open</th>\n",
       "      <th>High</th>\n",
       "      <th>Low</th>\n",
       "      <th>Close</th>\n",
       "      <th>Adj Close</th>\n",
       "      <th>Volume</th>\n",
       "      <th>title</th>\n",
       "      <th>Label</th>\n",
       "      <th>Company</th>\n",
       "    </tr>\n",
       "  </thead>\n",
       "  <tbody>\n",
       "    <tr>\n",
       "      <th>0</th>\n",
       "      <td>2022-01-03</td>\n",
       "      <td>177.830002</td>\n",
       "      <td>182.880005</td>\n",
       "      <td>177.710007</td>\n",
       "      <td>182.009995</td>\n",
       "      <td>179.481140</td>\n",
       "      <td>104487900</td>\n",
       "      <td>What A 'Strong' Apple 2022 Product Line Up Cou...</td>\n",
       "      <td>1</td>\n",
       "      <td>1</td>\n",
       "    </tr>\n",
       "    <tr>\n",
       "      <th>1</th>\n",
       "      <td>2022-01-03</td>\n",
       "      <td>382.583344</td>\n",
       "      <td>400.356659</td>\n",
       "      <td>378.679993</td>\n",
       "      <td>399.926666</td>\n",
       "      <td>399.926666</td>\n",
       "      <td>103931400</td>\n",
       "      <td>LG Energy Solution starts taking orders for wh...</td>\n",
       "      <td>1</td>\n",
       "      <td>3</td>\n",
       "    </tr>\n",
       "    <tr>\n",
       "      <th>2</th>\n",
       "      <td>2022-01-03</td>\n",
       "      <td>167.550003</td>\n",
       "      <td>170.703506</td>\n",
       "      <td>166.160507</td>\n",
       "      <td>170.404495</td>\n",
       "      <td>170.404495</td>\n",
       "      <td>63520000</td>\n",
       "      <td>Updating 2021 Calls While Suggesting Strategic...</td>\n",
       "      <td>1</td>\n",
       "      <td>2</td>\n",
       "    </tr>\n",
       "    <tr>\n",
       "      <th>3</th>\n",
       "      <td>2022-01-04</td>\n",
       "      <td>182.630005</td>\n",
       "      <td>182.940002</td>\n",
       "      <td>179.119995</td>\n",
       "      <td>179.699997</td>\n",
       "      <td>177.203217</td>\n",
       "      <td>99310400</td>\n",
       "      <td>Is $3 Trillion Just the Beginning for Apple? A...</td>\n",
       "      <td>0</td>\n",
       "      <td>1</td>\n",
       "    </tr>\n",
       "    <tr>\n",
       "      <th>4</th>\n",
       "      <td>2022-01-04</td>\n",
       "      <td>396.516663</td>\n",
       "      <td>402.666656</td>\n",
       "      <td>374.350006</td>\n",
       "      <td>383.196655</td>\n",
       "      <td>383.196655</td>\n",
       "      <td>100248300</td>\n",
       "      <td>Tesla opens showroom in Xinjiang, the Chinese ...</td>\n",
       "      <td>0</td>\n",
       "      <td>3</td>\n",
       "    </tr>\n",
       "    <tr>\n",
       "      <th>...</th>\n",
       "      <td>...</td>\n",
       "      <td>...</td>\n",
       "      <td>...</td>\n",
       "      <td>...</td>\n",
       "      <td>...</td>\n",
       "      <td>...</td>\n",
       "      <td>...</td>\n",
       "      <td>...</td>\n",
       "      <td>...</td>\n",
       "      <td>...</td>\n",
       "    </tr>\n",
       "    <tr>\n",
       "      <th>1741</th>\n",
       "      <td>2024-04-25</td>\n",
       "      <td>169.529999</td>\n",
       "      <td>170.610001</td>\n",
       "      <td>168.149994</td>\n",
       "      <td>169.889999</td>\n",
       "      <td>169.659882</td>\n",
       "      <td>50558300</td>\n",
       "      <td>This Spectacular Vanguard ETF Could Turn $250 ...</td>\n",
       "      <td>1</td>\n",
       "      <td>1</td>\n",
       "    </tr>\n",
       "    <tr>\n",
       "      <th>1742</th>\n",
       "      <td>2024-04-25</td>\n",
       "      <td>169.679993</td>\n",
       "      <td>173.919998</td>\n",
       "      <td>166.320007</td>\n",
       "      <td>173.669998</td>\n",
       "      <td>173.669998</td>\n",
       "      <td>49249400</td>\n",
       "      <td>If You Invested $10,000 in Amazon 10 Years Ago...</td>\n",
       "      <td>0</td>\n",
       "      <td>2</td>\n",
       "    </tr>\n",
       "    <tr>\n",
       "      <th>1743</th>\n",
       "      <td>2024-04-26</td>\n",
       "      <td>177.800003</td>\n",
       "      <td>180.820007</td>\n",
       "      <td>176.130005</td>\n",
       "      <td>179.619995</td>\n",
       "      <td>179.619995</td>\n",
       "      <td>43919800</td>\n",
       "      <td>1 Unstoppable Stock That Could Join Microsoft,...</td>\n",
       "      <td>1</td>\n",
       "      <td>2</td>\n",
       "    </tr>\n",
       "    <tr>\n",
       "      <th>1744</th>\n",
       "      <td>2024-04-26</td>\n",
       "      <td>169.880005</td>\n",
       "      <td>171.339996</td>\n",
       "      <td>169.179993</td>\n",
       "      <td>169.300003</td>\n",
       "      <td>169.070679</td>\n",
       "      <td>44838400</td>\n",
       "      <td>1 Unstoppable Stock That Could Join Microsoft,...</td>\n",
       "      <td>0</td>\n",
       "      <td>1</td>\n",
       "    </tr>\n",
       "    <tr>\n",
       "      <th>1745</th>\n",
       "      <td>2024-04-26</td>\n",
       "      <td>168.850006</td>\n",
       "      <td>172.119995</td>\n",
       "      <td>166.369995</td>\n",
       "      <td>168.289993</td>\n",
       "      <td>168.289993</td>\n",
       "      <td>109815700</td>\n",
       "      <td>Tesla Investor Touts EV Giant's Billions-Mile ...</td>\n",
       "      <td>0</td>\n",
       "      <td>3</td>\n",
       "    </tr>\n",
       "  </tbody>\n",
       "</table>\n",
       "<p>1746 rows × 10 columns</p>\n",
       "</div>"
      ],
      "text/plain": [
       "            Date        Open        High         Low       Close   Adj Close  \\\n",
       "0     2022-01-03  177.830002  182.880005  177.710007  182.009995  179.481140   \n",
       "1     2022-01-03  382.583344  400.356659  378.679993  399.926666  399.926666   \n",
       "2     2022-01-03  167.550003  170.703506  166.160507  170.404495  170.404495   \n",
       "3     2022-01-04  182.630005  182.940002  179.119995  179.699997  177.203217   \n",
       "4     2022-01-04  396.516663  402.666656  374.350006  383.196655  383.196655   \n",
       "...          ...         ...         ...         ...         ...         ...   \n",
       "1741  2024-04-25  169.529999  170.610001  168.149994  169.889999  169.659882   \n",
       "1742  2024-04-25  169.679993  173.919998  166.320007  173.669998  173.669998   \n",
       "1743  2024-04-26  177.800003  180.820007  176.130005  179.619995  179.619995   \n",
       "1744  2024-04-26  169.880005  171.339996  169.179993  169.300003  169.070679   \n",
       "1745  2024-04-26  168.850006  172.119995  166.369995  168.289993  168.289993   \n",
       "\n",
       "         Volume                                              title  Label  \\\n",
       "0     104487900  What A 'Strong' Apple 2022 Product Line Up Cou...      1   \n",
       "1     103931400  LG Energy Solution starts taking orders for wh...      1   \n",
       "2      63520000  Updating 2021 Calls While Suggesting Strategic...      1   \n",
       "3      99310400  Is $3 Trillion Just the Beginning for Apple? A...      0   \n",
       "4     100248300  Tesla opens showroom in Xinjiang, the Chinese ...      0   \n",
       "...         ...                                                ...    ...   \n",
       "1741   50558300  This Spectacular Vanguard ETF Could Turn $250 ...      1   \n",
       "1742   49249400  If You Invested $10,000 in Amazon 10 Years Ago...      0   \n",
       "1743   43919800  1 Unstoppable Stock That Could Join Microsoft,...      1   \n",
       "1744   44838400  1 Unstoppable Stock That Could Join Microsoft,...      0   \n",
       "1745  109815700  Tesla Investor Touts EV Giant's Billions-Mile ...      0   \n",
       "\n",
       "      Company  \n",
       "0           1  \n",
       "1           3  \n",
       "2           2  \n",
       "3           1  \n",
       "4           3  \n",
       "...       ...  \n",
       "1741        1  \n",
       "1742        2  \n",
       "1743        2  \n",
       "1744        1  \n",
       "1745        3  \n",
       "\n",
       "[1746 rows x 10 columns]"
      ]
     },
     "execution_count": 26,
     "metadata": {},
     "output_type": "execute_result"
    }
   ],
   "source": [
    "df_sorted"
   ]
  },
  {
   "cell_type": "code",
   "execution_count": 27,
   "id": "7114132c-86b3-4e0b-adb1-dd08b1e5c14b",
   "metadata": {},
   "outputs": [],
   "source": [
    "for open,close,label in df_sorted.iloc[:,[1,4,8]].values:\n",
    "    if open<=close:\n",
    "        label = 1\n",
    "    elif open>close:\n",
    "        label = 0"
   ]
  },
  {
   "cell_type": "code",
   "execution_count": 28,
   "id": "744b1218-fd72-4df5-b4c2-66b9ca2903a4",
   "metadata": {
    "scrolled": true
   },
   "outputs": [
    {
     "data": {
      "text/html": [
       "<div>\n",
       "<style scoped>\n",
       "    .dataframe tbody tr th:only-of-type {\n",
       "        vertical-align: middle;\n",
       "    }\n",
       "\n",
       "    .dataframe tbody tr th {\n",
       "        vertical-align: top;\n",
       "    }\n",
       "\n",
       "    .dataframe thead th {\n",
       "        text-align: right;\n",
       "    }\n",
       "</style>\n",
       "<table border=\"1\" class=\"dataframe\">\n",
       "  <thead>\n",
       "    <tr style=\"text-align: right;\">\n",
       "      <th></th>\n",
       "      <th>Date</th>\n",
       "      <th>Open</th>\n",
       "      <th>High</th>\n",
       "      <th>Low</th>\n",
       "      <th>Close</th>\n",
       "      <th>Adj Close</th>\n",
       "      <th>Volume</th>\n",
       "      <th>title</th>\n",
       "      <th>Label</th>\n",
       "      <th>Company</th>\n",
       "    </tr>\n",
       "  </thead>\n",
       "  <tbody>\n",
       "    <tr>\n",
       "      <th>0</th>\n",
       "      <td>2022-01-03</td>\n",
       "      <td>177.830002</td>\n",
       "      <td>182.880005</td>\n",
       "      <td>177.710007</td>\n",
       "      <td>182.009995</td>\n",
       "      <td>179.481140</td>\n",
       "      <td>104487900</td>\n",
       "      <td>What A 'Strong' Apple 2022 Product Line Up Cou...</td>\n",
       "      <td>1</td>\n",
       "      <td>1</td>\n",
       "    </tr>\n",
       "    <tr>\n",
       "      <th>1</th>\n",
       "      <td>2022-01-03</td>\n",
       "      <td>382.583344</td>\n",
       "      <td>400.356659</td>\n",
       "      <td>378.679993</td>\n",
       "      <td>399.926666</td>\n",
       "      <td>399.926666</td>\n",
       "      <td>103931400</td>\n",
       "      <td>LG Energy Solution starts taking orders for wh...</td>\n",
       "      <td>1</td>\n",
       "      <td>3</td>\n",
       "    </tr>\n",
       "    <tr>\n",
       "      <th>2</th>\n",
       "      <td>2022-01-03</td>\n",
       "      <td>167.550003</td>\n",
       "      <td>170.703506</td>\n",
       "      <td>166.160507</td>\n",
       "      <td>170.404495</td>\n",
       "      <td>170.404495</td>\n",
       "      <td>63520000</td>\n",
       "      <td>Updating 2021 Calls While Suggesting Strategic...</td>\n",
       "      <td>1</td>\n",
       "      <td>2</td>\n",
       "    </tr>\n",
       "    <tr>\n",
       "      <th>3</th>\n",
       "      <td>2022-01-04</td>\n",
       "      <td>182.630005</td>\n",
       "      <td>182.940002</td>\n",
       "      <td>179.119995</td>\n",
       "      <td>179.699997</td>\n",
       "      <td>177.203217</td>\n",
       "      <td>99310400</td>\n",
       "      <td>Is $3 Trillion Just the Beginning for Apple? A...</td>\n",
       "      <td>0</td>\n",
       "      <td>1</td>\n",
       "    </tr>\n",
       "    <tr>\n",
       "      <th>4</th>\n",
       "      <td>2022-01-04</td>\n",
       "      <td>396.516663</td>\n",
       "      <td>402.666656</td>\n",
       "      <td>374.350006</td>\n",
       "      <td>383.196655</td>\n",
       "      <td>383.196655</td>\n",
       "      <td>100248300</td>\n",
       "      <td>Tesla opens showroom in Xinjiang, the Chinese ...</td>\n",
       "      <td>0</td>\n",
       "      <td>3</td>\n",
       "    </tr>\n",
       "    <tr>\n",
       "      <th>...</th>\n",
       "      <td>...</td>\n",
       "      <td>...</td>\n",
       "      <td>...</td>\n",
       "      <td>...</td>\n",
       "      <td>...</td>\n",
       "      <td>...</td>\n",
       "      <td>...</td>\n",
       "      <td>...</td>\n",
       "      <td>...</td>\n",
       "      <td>...</td>\n",
       "    </tr>\n",
       "    <tr>\n",
       "      <th>1741</th>\n",
       "      <td>2024-04-25</td>\n",
       "      <td>169.529999</td>\n",
       "      <td>170.610001</td>\n",
       "      <td>168.149994</td>\n",
       "      <td>169.889999</td>\n",
       "      <td>169.659882</td>\n",
       "      <td>50558300</td>\n",
       "      <td>This Spectacular Vanguard ETF Could Turn $250 ...</td>\n",
       "      <td>1</td>\n",
       "      <td>1</td>\n",
       "    </tr>\n",
       "    <tr>\n",
       "      <th>1742</th>\n",
       "      <td>2024-04-25</td>\n",
       "      <td>169.679993</td>\n",
       "      <td>173.919998</td>\n",
       "      <td>166.320007</td>\n",
       "      <td>173.669998</td>\n",
       "      <td>173.669998</td>\n",
       "      <td>49249400</td>\n",
       "      <td>If You Invested $10,000 in Amazon 10 Years Ago...</td>\n",
       "      <td>0</td>\n",
       "      <td>2</td>\n",
       "    </tr>\n",
       "    <tr>\n",
       "      <th>1743</th>\n",
       "      <td>2024-04-26</td>\n",
       "      <td>177.800003</td>\n",
       "      <td>180.820007</td>\n",
       "      <td>176.130005</td>\n",
       "      <td>179.619995</td>\n",
       "      <td>179.619995</td>\n",
       "      <td>43919800</td>\n",
       "      <td>1 Unstoppable Stock That Could Join Microsoft,...</td>\n",
       "      <td>1</td>\n",
       "      <td>2</td>\n",
       "    </tr>\n",
       "    <tr>\n",
       "      <th>1744</th>\n",
       "      <td>2024-04-26</td>\n",
       "      <td>169.880005</td>\n",
       "      <td>171.339996</td>\n",
       "      <td>169.179993</td>\n",
       "      <td>169.300003</td>\n",
       "      <td>169.070679</td>\n",
       "      <td>44838400</td>\n",
       "      <td>1 Unstoppable Stock That Could Join Microsoft,...</td>\n",
       "      <td>0</td>\n",
       "      <td>1</td>\n",
       "    </tr>\n",
       "    <tr>\n",
       "      <th>1745</th>\n",
       "      <td>2024-04-26</td>\n",
       "      <td>168.850006</td>\n",
       "      <td>172.119995</td>\n",
       "      <td>166.369995</td>\n",
       "      <td>168.289993</td>\n",
       "      <td>168.289993</td>\n",
       "      <td>109815700</td>\n",
       "      <td>Tesla Investor Touts EV Giant's Billions-Mile ...</td>\n",
       "      <td>0</td>\n",
       "      <td>3</td>\n",
       "    </tr>\n",
       "  </tbody>\n",
       "</table>\n",
       "<p>1746 rows × 10 columns</p>\n",
       "</div>"
      ],
      "text/plain": [
       "            Date        Open        High         Low       Close   Adj Close  \\\n",
       "0     2022-01-03  177.830002  182.880005  177.710007  182.009995  179.481140   \n",
       "1     2022-01-03  382.583344  400.356659  378.679993  399.926666  399.926666   \n",
       "2     2022-01-03  167.550003  170.703506  166.160507  170.404495  170.404495   \n",
       "3     2022-01-04  182.630005  182.940002  179.119995  179.699997  177.203217   \n",
       "4     2022-01-04  396.516663  402.666656  374.350006  383.196655  383.196655   \n",
       "...          ...         ...         ...         ...         ...         ...   \n",
       "1741  2024-04-25  169.529999  170.610001  168.149994  169.889999  169.659882   \n",
       "1742  2024-04-25  169.679993  173.919998  166.320007  173.669998  173.669998   \n",
       "1743  2024-04-26  177.800003  180.820007  176.130005  179.619995  179.619995   \n",
       "1744  2024-04-26  169.880005  171.339996  169.179993  169.300003  169.070679   \n",
       "1745  2024-04-26  168.850006  172.119995  166.369995  168.289993  168.289993   \n",
       "\n",
       "         Volume                                              title  Label  \\\n",
       "0     104487900  What A 'Strong' Apple 2022 Product Line Up Cou...      1   \n",
       "1     103931400  LG Energy Solution starts taking orders for wh...      1   \n",
       "2      63520000  Updating 2021 Calls While Suggesting Strategic...      1   \n",
       "3      99310400  Is $3 Trillion Just the Beginning for Apple? A...      0   \n",
       "4     100248300  Tesla opens showroom in Xinjiang, the Chinese ...      0   \n",
       "...         ...                                                ...    ...   \n",
       "1741   50558300  This Spectacular Vanguard ETF Could Turn $250 ...      1   \n",
       "1742   49249400  If You Invested $10,000 in Amazon 10 Years Ago...      0   \n",
       "1743   43919800  1 Unstoppable Stock That Could Join Microsoft,...      1   \n",
       "1744   44838400  1 Unstoppable Stock That Could Join Microsoft,...      0   \n",
       "1745  109815700  Tesla Investor Touts EV Giant's Billions-Mile ...      0   \n",
       "\n",
       "      Company  \n",
       "0           1  \n",
       "1           3  \n",
       "2           2  \n",
       "3           1  \n",
       "4           3  \n",
       "...       ...  \n",
       "1741        1  \n",
       "1742        2  \n",
       "1743        2  \n",
       "1744        1  \n",
       "1745        3  \n",
       "\n",
       "[1746 rows x 10 columns]"
      ]
     },
     "execution_count": 28,
     "metadata": {},
     "output_type": "execute_result"
    }
   ],
   "source": [
    "df_sorted"
   ]
  },
  {
   "cell_type": "code",
   "execution_count": 29,
   "id": "1b5afb76-8643-46ac-b5a0-f41dcf408ec5",
   "metadata": {},
   "outputs": [
    {
     "data": {
      "text/html": [
       "<div>\n",
       "<style scoped>\n",
       "    .dataframe tbody tr th:only-of-type {\n",
       "        vertical-align: middle;\n",
       "    }\n",
       "\n",
       "    .dataframe tbody tr th {\n",
       "        vertical-align: top;\n",
       "    }\n",
       "\n",
       "    .dataframe thead th {\n",
       "        text-align: right;\n",
       "    }\n",
       "</style>\n",
       "<table border=\"1\" class=\"dataframe\">\n",
       "  <thead>\n",
       "    <tr style=\"text-align: right;\">\n",
       "      <th></th>\n",
       "      <th>Open</th>\n",
       "      <th>High</th>\n",
       "      <th>Low</th>\n",
       "      <th>Close</th>\n",
       "      <th>Adj Close</th>\n",
       "      <th>Volume</th>\n",
       "      <th>Label</th>\n",
       "      <th>Company</th>\n",
       "    </tr>\n",
       "  </thead>\n",
       "  <tbody>\n",
       "    <tr>\n",
       "      <th>count</th>\n",
       "      <td>1746.000000</td>\n",
       "      <td>1746.000000</td>\n",
       "      <td>1746.000000</td>\n",
       "      <td>1746.000000</td>\n",
       "      <td>1746.000000</td>\n",
       "      <td>1.746000e+03</td>\n",
       "      <td>1746.000000</td>\n",
       "      <td>1746.000000</td>\n",
       "    </tr>\n",
       "    <tr>\n",
       "      <th>mean</th>\n",
       "      <td>176.388535</td>\n",
       "      <td>179.325647</td>\n",
       "      <td>173.307461</td>\n",
       "      <td>176.335141</td>\n",
       "      <td>175.947713</td>\n",
       "      <td>8.222086e+07</td>\n",
       "      <td>0.508018</td>\n",
       "      <td>2.000000</td>\n",
       "    </tr>\n",
       "    <tr>\n",
       "      <th>std</th>\n",
       "      <td>56.488275</td>\n",
       "      <td>57.970267</td>\n",
       "      <td>54.693305</td>\n",
       "      <td>56.227667</td>\n",
       "      <td>56.327727</td>\n",
       "      <td>3.774146e+07</td>\n",
       "      <td>0.500079</td>\n",
       "      <td>0.816731</td>\n",
       "    </tr>\n",
       "    <tr>\n",
       "      <th>min</th>\n",
       "      <td>82.800003</td>\n",
       "      <td>83.480003</td>\n",
       "      <td>81.430000</td>\n",
       "      <td>81.820000</td>\n",
       "      <td>81.820000</td>\n",
       "      <td>2.237840e+07</td>\n",
       "      <td>0.000000</td>\n",
       "      <td>1.000000</td>\n",
       "    </tr>\n",
       "    <tr>\n",
       "      <th>25%</th>\n",
       "      <td>140.062504</td>\n",
       "      <td>142.084999</td>\n",
       "      <td>137.667503</td>\n",
       "      <td>139.432503</td>\n",
       "      <td>138.891369</td>\n",
       "      <td>5.428198e+07</td>\n",
       "      <td>0.000000</td>\n",
       "      <td>1.000000</td>\n",
       "    </tr>\n",
       "    <tr>\n",
       "      <th>50%</th>\n",
       "      <td>168.699997</td>\n",
       "      <td>170.544998</td>\n",
       "      <td>166.310005</td>\n",
       "      <td>168.430001</td>\n",
       "      <td>167.568230</td>\n",
       "      <td>7.266135e+07</td>\n",
       "      <td>1.000000</td>\n",
       "      <td>2.000000</td>\n",
       "    </tr>\n",
       "    <tr>\n",
       "      <th>75%</th>\n",
       "      <td>194.015003</td>\n",
       "      <td>196.375004</td>\n",
       "      <td>191.752495</td>\n",
       "      <td>193.862503</td>\n",
       "      <td>193.449539</td>\n",
       "      <td>1.007433e+08</td>\n",
       "      <td>1.000000</td>\n",
       "      <td>3.000000</td>\n",
       "    </tr>\n",
       "    <tr>\n",
       "      <th>max</th>\n",
       "      <td>396.516663</td>\n",
       "      <td>402.666656</td>\n",
       "      <td>378.679993</td>\n",
       "      <td>399.926666</td>\n",
       "      <td>399.926666</td>\n",
       "      <td>3.065906e+08</td>\n",
       "      <td>1.000000</td>\n",
       "      <td>3.000000</td>\n",
       "    </tr>\n",
       "  </tbody>\n",
       "</table>\n",
       "</div>"
      ],
      "text/plain": [
       "              Open         High          Low        Close    Adj Close  \\\n",
       "count  1746.000000  1746.000000  1746.000000  1746.000000  1746.000000   \n",
       "mean    176.388535   179.325647   173.307461   176.335141   175.947713   \n",
       "std      56.488275    57.970267    54.693305    56.227667    56.327727   \n",
       "min      82.800003    83.480003    81.430000    81.820000    81.820000   \n",
       "25%     140.062504   142.084999   137.667503   139.432503   138.891369   \n",
       "50%     168.699997   170.544998   166.310005   168.430001   167.568230   \n",
       "75%     194.015003   196.375004   191.752495   193.862503   193.449539   \n",
       "max     396.516663   402.666656   378.679993   399.926666   399.926666   \n",
       "\n",
       "             Volume        Label      Company  \n",
       "count  1.746000e+03  1746.000000  1746.000000  \n",
       "mean   8.222086e+07     0.508018     2.000000  \n",
       "std    3.774146e+07     0.500079     0.816731  \n",
       "min    2.237840e+07     0.000000     1.000000  \n",
       "25%    5.428198e+07     0.000000     1.000000  \n",
       "50%    7.266135e+07     1.000000     2.000000  \n",
       "75%    1.007433e+08     1.000000     3.000000  \n",
       "max    3.065906e+08     1.000000     3.000000  "
      ]
     },
     "execution_count": 29,
     "metadata": {},
     "output_type": "execute_result"
    }
   ],
   "source": [
    "df_sorted.describe()"
   ]
  },
  {
   "cell_type": "code",
   "execution_count": 30,
   "id": "1f409a5c-7647-4c88-bce4-102b71dd6ee6",
   "metadata": {},
   "outputs": [
    {
     "name": "stdout",
     "output_type": "stream",
     "text": [
      "<class 'pandas.core.frame.DataFrame'>\n",
      "RangeIndex: 1746 entries, 0 to 1745\n",
      "Data columns (total 10 columns):\n",
      " #   Column     Non-Null Count  Dtype  \n",
      "---  ------     --------------  -----  \n",
      " 0   Date       1746 non-null   object \n",
      " 1   Open       1746 non-null   float64\n",
      " 2   High       1746 non-null   float64\n",
      " 3   Low        1746 non-null   float64\n",
      " 4   Close      1746 non-null   float64\n",
      " 5   Adj Close  1746 non-null   float64\n",
      " 6   Volume     1746 non-null   int64  \n",
      " 7   title      1746 non-null   object \n",
      " 8   Label      1746 non-null   int64  \n",
      " 9   Company    1746 non-null   int64  \n",
      "dtypes: float64(5), int64(3), object(2)\n",
      "memory usage: 136.5+ KB\n"
     ]
    }
   ],
   "source": [
    "df_sorted.info()"
   ]
  },
  {
   "cell_type": "code",
   "execution_count": 31,
   "id": "1e52e949-0b51-4b1b-9889-42533e323bee",
   "metadata": {},
   "outputs": [],
   "source": [
    "df_sorted['Volume']=df_sorted['Volume'].astype(np.float64)\n",
    "df_sorted['Label']=df_sorted['Label'].astype(np.float64)\n",
    "df_sorted['Company']=df_sorted['Company'].astype(np.float64)\n"
   ]
  },
  {
   "cell_type": "code",
   "execution_count": 32,
   "id": "2ee7afc2-fb82-460e-a0ac-77b759bd4f5d",
   "metadata": {},
   "outputs": [
    {
     "data": {
      "text/plain": [
       "\"What A 'Strong' Apple 2022 Product Line Up Could Look Like, Featuring A Possible 'Holy Grail' Release Apple: Quality Name To Own; AR/VR To Drive Growth Robust iPhone Demand, Services Will Chart Apple's Course In 2022: Wedbush 'Son, get a lawyer. That woman is going to take away your inheritance!â\\x80\\x99 The most popular Moneyist columns of 2021 Tesla Q4 Deliveries, Santa Rally Eludes Bitcoin, Apple In 2022, Spider-Man At Box Office, Singapore GDP Rebound: 5 Headlines You May Have Missed From The Weekend Have $2,000? These 2 Stocks Could Be Bargain Buys for 2022 and Beyond Should WisdomTree U.S. LargeCap Dividend ETF (DLN) Be on Your Investing Radar? Should Vanguard Russell 1000 Growth ETF (VONG) Be on Your Investing Radar? 3 Surefire Metaverse Stocks That Could Make You Richer in 2022 Stock picking in 2022? Goldman Sachs says these are the companies that should be on your radar. 3 Dividend Kings That Should Help You Pull Through Inflation in 2022 Implied Volatility Surging for Apple (AAPL) Stock Options This Day In Market History: Jobs And Wozniak Incorporate Apple Computer Corp Want a 90% to 236% Return? Try These Growth Stocks, Says Wall Street These stocks are down at least 20% from 2021 highs, but Wall Street sees them gaining as much as 87% in 2022 These are tech's 10 megatrends for 2022 -- and the stocks to buy Here's the best way to spot stock-market winners, according to this 25-year tech analyst Is Microsoft Stock Set Up For Another Year Of Explosive Growth? This surprising investing strategy crushes the stock market without examining a single financial metric Is Apple (AAPL) Stock Outpacing Its Computer and Technology Peers This Year? My 3 Favorite ETFs to Own in 2022 Apple's (AAPL) In-App Purchase Policy to be Probed by CCI Here's Why Momentum Investors Will Love Apple (AAPL) Apple being investigated by India antitrust regulators over app-store practices Selling money-making stocks in a bull market is a tough call, but you'll thank yourself when the bears take charge Apple Becomes First Company To Top $3 Trillion Market Cap; Analyst Says Rally Has Further Legs Apple comes up short of $3 trillion market cap Dow, S&P 500 sweep to record closes in 2022's first session, while Nasdaq has biggest gain in a week Apple hits $3.0 trillion market cap: â\\x80\\x98it could be a $250 stockâ\\x80\\x99 Why Apple Stock Climbed to a New All-Time High Today\""
      ]
     },
     "execution_count": 32,
     "metadata": {},
     "output_type": "execute_result"
    }
   ],
   "source": [
    "df_sorted['title'][0]"
   ]
  },
  {
   "cell_type": "code",
   "execution_count": 33,
   "id": "8bf8573d-f2d1-48d2-b4fd-c26e70a60222",
   "metadata": {},
   "outputs": [
    {
     "data": {
      "text/plain": [
       "\"2 Companies That Could Be the Next Stock-Split Stocks After Amazon, Shopify, and Tesla 4 Stocks I Wouldn't Buy With Free Money Tesla Sales Of China-Made EVs Plunge 64% Sequentially In July â\\x80\\x94 Domestic Sales Trail Local Players Proceed With Caution When Considering This Ultra Popular EV Stock Indian Billionaire Outperforming Elon Musk, Jeff Bezos This Year Takes Zero Salary Home Bed Bath & Beyond leads rally in 'meme' stocks as Reddit group appears to be jumping back on board Elon Musk On Why First Moon Landing Was An 'Anomaly' Baillie Gifford Nearly Cuts Alibaba Position, Sells Tesla Shares â\\x80\\x94 But Buys More Of This Chinese EV Maker These 18 tech stocks are this earnings season's standouts based on three criteria The red flag that preceded a halving of global equities in 2000 and 2007 is back, warns Citi American Axle (AXL) Q2 Earnings & Revenues Beat Estimates Westport (WPRT) Q2 Loss Narrower Than Expected, Revenues Up Tesla Stock Jumped 80% During The 2020 Share Split. What May Happen This Time, According To One Analyst Why Verona Pharma Is Trading Higher By Around 84%, Here Are 85 Stocks Moving In Tuesday's Mid-Day Session 'Clean energy' hiring in solar, wind and EVs expands in red and blue states. Enter your ZIP code to see where the jobs are. Move Over Tesla? This Electric Vehicle Company Thinks It Can Do Robotaxis Better Why Tesla, Nio, and Lucid All Sank Today\""
      ]
     },
     "execution_count": 33,
     "metadata": {},
     "output_type": "execute_result"
    }
   ],
   "source": [
    "df_sorted['title'][452]"
   ]
  },
  {
   "cell_type": "code",
   "execution_count": 34,
   "id": "f03523e9-a798-47cc-9bd8-5c6a4eeed296",
   "metadata": {},
   "outputs": [
    {
     "data": {
      "text/plain": [
       "1.0    887\n",
       "0.0    859\n",
       "Name: Label, dtype: int64"
      ]
     },
     "execution_count": 34,
     "metadata": {},
     "output_type": "execute_result"
    }
   ],
   "source": [
    "df_sorted['Label'].value_counts()"
   ]
  },
  {
   "cell_type": "code",
   "execution_count": 35,
   "id": "e6fa3138-03d6-444c-ae6a-5ad522bb3db3",
   "metadata": {},
   "outputs": [],
   "source": [
    "def cleaning_text(text):\n",
    "    text=text.lower() # converts text to lower case \n",
    "    text=re.sub('\\[.*?\\]', '', text) # deletes text which is present in between square brackets\n",
    "    text = re.sub(r'[^\\x00-\\x7F]+', ' ', text) # only keeps the text between the ascii values \n",
    "    text = re.sub(r'\\([^)]*\\)', '', text) # deletes the text containing () these brackets\n",
    "    text = re.sub(r'[^A-Za-z0-9\\s]', '', text) # removes text which is not alphanumeric or whitespace\n",
    "    text = text.strip()\n",
    "    text = re.sub(r'\\s+', ' ', text) # removes whitespace in the text\n",
    "    return text\n",
    "\n",
    "\n"
   ]
  },
  {
   "cell_type": "code",
   "execution_count": 36,
   "id": "2ebbf55b-69cc-40c9-b548-71bb3daaa1ca",
   "metadata": {},
   "outputs": [
    {
     "data": {
      "text/plain": [
       "\"Bill Gates says Elon Musk's approach to misinformation could make Twitter worse 'Massive Misallocation' Of Capital: Cathie Wood Joins Elon Musk To Find Fault With Passive Investment Bill Gates Says Shorting Tesla Not A Statement About Climate Change Why Nio, Other EV Peers Are Shooting Up In Hong Kong Today Bill Gates Takes Swipe At Elon Musk Over Twitter Acquisition: 'He Actually Could Make It Worse' Tesla Battery Supplier CATL's Stock Tumbles As Profit Falls 24% On High Raw Material Costs Can Apple Be The New Tesla - Smartphone On Wheels By 2025? Yuga Labs Refunds Failed Transactions After $150M Ethereum 'Wasted Fees' From NFT Sale How to Buy Tesla for the Cost of a Penny Stock Elon Musk's Starlink Now Lets You Take Your Internet Connection Anywhere Within US â\\x80\\x94 But It Comes At A Cost Russian Rocket Body Shatters Into 16 Pieces In Space Ford Mach-E EV Sales Nearly Double In April, Gas-Powered Mustang Struggles Twitter Faces Advertiser Skepticism At New York Event Ahead Of Elon Musk Takeover Twitter Offshoot Bluesky Releases Early Code For Decentralized Social Network Is It Time to Buy the Nasdaq's 3 Worst Performing April Stocks? Elon Musk suggested getting into the lithium business, and these surging stocks show why Elon Musk Bags Over $7B In Twitter Deal Financing Elon Musk says Larry Ellison, Binance, Sequoia will now help fund Twitter bid 'This Is What's Going To Happen Next': Ross Gerber Reveals Tesla's Next Big Move Should Tesla Shareholders Be Worried About Elon Musk's Twitter Purchase? Rivian Stock Is Starting to Look Attractive This trader predicted the bond meltdown, tech selloff and oil's surge. Here's what she says is coming next. CNH Industrial (CNHI) Q1 Earnings Top Estimates, Down Y/Y Why Tesla Stock Crashed Today The Timing of Tesla's Stock Split Could Be in Jeopardy Why Twitter Shares Rose 27% (but not 40%) Last Month Money Talks? The Link Between Congressional Stock Trading And Corporate Lobbying Rate hikes and stock sell-off? Here's what it means for your retirement portfolio, and whether you should add crypto into it Dow ends nearly 1,100 points lower and Nasdaq sheds 5%, marking its worst day in two years Another Elon Musk Biography Coming: Here's Which Company Is Behind It\""
      ]
     },
     "execution_count": 36,
     "metadata": {},
     "output_type": "execute_result"
    }
   ],
   "source": [
    "# Checking the difference in text\n",
    "df_sorted['title'][256]"
   ]
  },
  {
   "cell_type": "code",
   "execution_count": 37,
   "id": "a8bbc38f-851c-4f77-9767-21131d520d0c",
   "metadata": {},
   "outputs": [
    {
     "data": {
      "text/plain": [
       "'bill gates says elon musks approach to misinformation could make twitter worse massive misallocation of capital cathie wood joins elon musk to find fault with passive investment bill gates says shorting tesla not a statement about climate change why nio other ev peers are shooting up in hong kong today bill gates takes swipe at elon musk over twitter acquisition he actually could make it worse tesla battery supplier catls stock tumbles as profit falls 24 on high raw material costs can apple be the new tesla smartphone on wheels by 2025 yuga labs refunds failed transactions after 150m ethereum wasted fees from nft sale how to buy tesla for the cost of a penny stock elon musks starlink now lets you take your internet connection anywhere within us but it comes at a cost russian rocket body shatters into 16 pieces in space ford mache ev sales nearly double in april gaspowered mustang struggles twitter faces advertiser skepticism at new york event ahead of elon musk takeover twitter offshoot bluesky releases early code for decentralized social network is it time to buy the nasdaqs 3 worst performing april stocks elon musk suggested getting into the lithium business and these surging stocks show why elon musk bags over 7b in twitter deal financing elon musk says larry ellison binance sequoia will now help fund twitter bid this is whats going to happen next ross gerber reveals teslas next big move should tesla shareholders be worried about elon musks twitter purchase rivian stock is starting to look attractive this trader predicted the bond meltdown tech selloff and oils surge heres what she says is coming next cnh industrial q1 earnings top estimates down yy why tesla stock crashed today the timing of teslas stock split could be in jeopardy why twitter shares rose 27 last month money talks the link between congressional stock trading and corporate lobbying rate hikes and stock selloff heres what it means for your retirement portfolio and whether you should add crypto into it dow ends nearly 1100 points lower and nasdaq sheds 5 marking its worst day in two years another elon musk biography coming heres which company is behind it'"
      ]
     },
     "execution_count": 37,
     "metadata": {},
     "output_type": "execute_result"
    }
   ],
   "source": [
    "check=cleaning_text(df_sorted['title'][256])\n",
    "check"
   ]
  },
  {
   "cell_type": "code",
   "execution_count": 38,
   "id": "380fdb3f-b408-4a31-99d1-5e0e2aef19a7",
   "metadata": {},
   "outputs": [],
   "source": [
    "# apply the cleaning_text function to the title column of the df_sorted dataframe"
   ]
  },
  {
   "cell_type": "code",
   "execution_count": 39,
   "id": "90f7203b-e6ab-45bb-bef8-301b47c9eae6",
   "metadata": {},
   "outputs": [],
   "source": [
    "df_sorted['clean_title']=df_sorted['title'].apply(lambda x : cleaning_text(x))"
   ]
  },
  {
   "cell_type": "code",
   "execution_count": 40,
   "id": "d5256978-5c65-4735-a759-8fe849f7ffb9",
   "metadata": {},
   "outputs": [
    {
     "name": "stdout",
     "output_type": "stream",
     "text": [
      "<class 'pandas.core.frame.DataFrame'>\n",
      "RangeIndex: 1746 entries, 0 to 1745\n",
      "Data columns (total 11 columns):\n",
      " #   Column       Non-Null Count  Dtype  \n",
      "---  ------       --------------  -----  \n",
      " 0   Date         1746 non-null   object \n",
      " 1   Open         1746 non-null   float64\n",
      " 2   High         1746 non-null   float64\n",
      " 3   Low          1746 non-null   float64\n",
      " 4   Close        1746 non-null   float64\n",
      " 5   Adj Close    1746 non-null   float64\n",
      " 6   Volume       1746 non-null   float64\n",
      " 7   title        1746 non-null   object \n",
      " 8   Label        1746 non-null   float64\n",
      " 9   Company      1746 non-null   float64\n",
      " 10  clean_title  1746 non-null   object \n",
      "dtypes: float64(8), object(3)\n",
      "memory usage: 150.2+ KB\n"
     ]
    }
   ],
   "source": [
    "df_sorted.info()"
   ]
  },
  {
   "cell_type": "code",
   "execution_count": 41,
   "id": "ebc8c2be-98ed-439b-acf4-b34645ebb776",
   "metadata": {},
   "outputs": [
    {
     "data": {
      "text/plain": [
       "title          What A 'Strong' Apple 2022 Product Line Up Cou...\n",
       "clean_title    what a strong apple 2022 product line up could...\n",
       "Name: 0, dtype: object"
      ]
     },
     "execution_count": 41,
     "metadata": {},
     "output_type": "execute_result"
    }
   ],
   "source": [
    "df_sorted[['title','clean_title']].iloc[0,:]"
   ]
  },
  {
   "cell_type": "code",
   "execution_count": 42,
   "id": "d99c217a-8349-410c-9461-eed9bd50bd48",
   "metadata": {},
   "outputs": [],
   "source": [
    "df4=df_sorted.drop('title',axis=1)"
   ]
  },
  {
   "cell_type": "code",
   "execution_count": 43,
   "id": "a451a73f-e4b0-49ff-9f34-a075ebec0f5a",
   "metadata": {},
   "outputs": [
    {
     "name": "stdout",
     "output_type": "stream",
     "text": [
      "<class 'pandas.core.frame.DataFrame'>\n",
      "RangeIndex: 1746 entries, 0 to 1745\n",
      "Data columns (total 10 columns):\n",
      " #   Column       Non-Null Count  Dtype  \n",
      "---  ------       --------------  -----  \n",
      " 0   Date         1746 non-null   object \n",
      " 1   Open         1746 non-null   float64\n",
      " 2   High         1746 non-null   float64\n",
      " 3   Low          1746 non-null   float64\n",
      " 4   Close        1746 non-null   float64\n",
      " 5   Adj Close    1746 non-null   float64\n",
      " 6   Volume       1746 non-null   float64\n",
      " 7   Label        1746 non-null   float64\n",
      " 8   Company      1746 non-null   float64\n",
      " 9   clean_title  1746 non-null   object \n",
      "dtypes: float64(8), object(2)\n",
      "memory usage: 136.5+ KB\n"
     ]
    }
   ],
   "source": [
    "df4.info()"
   ]
  },
  {
   "cell_type": "code",
   "execution_count": 44,
   "id": "fac5c674-1215-41a7-afef-53d32e472523",
   "metadata": {},
   "outputs": [
    {
     "data": {
      "text/plain": [
       "0       what a strong apple 2022 product line up could...\n",
       "1       lg energy solution starts taking orders for wh...\n",
       "2       updating 2021 calls while suggesting strategic...\n",
       "3       is 3 trillion just the beginning for apple app...\n",
       "4       tesla opens showroom in xinjiang the chinese r...\n",
       "                              ...                        \n",
       "1741    this spectacular vanguard etf could turn 250 p...\n",
       "1742    if you invested 10000 in amazon 10 years ago t...\n",
       "1743    1 unstoppable stock that could join microsoft ...\n",
       "1744    1 unstoppable stock that could join microsoft ...\n",
       "1745    tesla investor touts ev giants billionsmile le...\n",
       "Name: clean_title, Length: 1746, dtype: object"
      ]
     },
     "execution_count": 44,
     "metadata": {},
     "output_type": "execute_result"
    }
   ],
   "source": [
    "df4['clean_title']"
   ]
  },
  {
   "cell_type": "code",
   "execution_count": 45,
   "id": "c6fa544f-8c8e-417f-aeca-32b246ecf318",
   "metadata": {},
   "outputs": [
    {
     "data": {
      "text/html": [
       "<div>\n",
       "<style scoped>\n",
       "    .dataframe tbody tr th:only-of-type {\n",
       "        vertical-align: middle;\n",
       "    }\n",
       "\n",
       "    .dataframe tbody tr th {\n",
       "        vertical-align: top;\n",
       "    }\n",
       "\n",
       "    .dataframe thead th {\n",
       "        text-align: right;\n",
       "    }\n",
       "</style>\n",
       "<table border=\"1\" class=\"dataframe\">\n",
       "  <thead>\n",
       "    <tr style=\"text-align: right;\">\n",
       "      <th></th>\n",
       "      <th>index</th>\n",
       "      <th>Date</th>\n",
       "      <th>Open</th>\n",
       "      <th>High</th>\n",
       "      <th>Low</th>\n",
       "      <th>Close</th>\n",
       "      <th>Adj Close</th>\n",
       "      <th>Volume</th>\n",
       "      <th>Label</th>\n",
       "      <th>Company</th>\n",
       "      <th>clean_title</th>\n",
       "    </tr>\n",
       "  </thead>\n",
       "  <tbody>\n",
       "    <tr>\n",
       "      <th>0</th>\n",
       "      <td>0</td>\n",
       "      <td>2022-01-03</td>\n",
       "      <td>177.830002</td>\n",
       "      <td>182.880005</td>\n",
       "      <td>177.710007</td>\n",
       "      <td>182.009995</td>\n",
       "      <td>179.481140</td>\n",
       "      <td>104487900.0</td>\n",
       "      <td>1.0</td>\n",
       "      <td>1.0</td>\n",
       "      <td>what a strong apple 2022 product line up could...</td>\n",
       "    </tr>\n",
       "    <tr>\n",
       "      <th>1</th>\n",
       "      <td>1</td>\n",
       "      <td>2022-01-03</td>\n",
       "      <td>382.583344</td>\n",
       "      <td>400.356659</td>\n",
       "      <td>378.679993</td>\n",
       "      <td>399.926666</td>\n",
       "      <td>399.926666</td>\n",
       "      <td>103931400.0</td>\n",
       "      <td>1.0</td>\n",
       "      <td>3.0</td>\n",
       "      <td>lg energy solution starts taking orders for wh...</td>\n",
       "    </tr>\n",
       "    <tr>\n",
       "      <th>2</th>\n",
       "      <td>2</td>\n",
       "      <td>2022-01-03</td>\n",
       "      <td>167.550003</td>\n",
       "      <td>170.703506</td>\n",
       "      <td>166.160507</td>\n",
       "      <td>170.404495</td>\n",
       "      <td>170.404495</td>\n",
       "      <td>63520000.0</td>\n",
       "      <td>1.0</td>\n",
       "      <td>2.0</td>\n",
       "      <td>updating 2021 calls while suggesting strategic...</td>\n",
       "    </tr>\n",
       "    <tr>\n",
       "      <th>3</th>\n",
       "      <td>3</td>\n",
       "      <td>2022-01-04</td>\n",
       "      <td>182.630005</td>\n",
       "      <td>182.940002</td>\n",
       "      <td>179.119995</td>\n",
       "      <td>179.699997</td>\n",
       "      <td>177.203217</td>\n",
       "      <td>99310400.0</td>\n",
       "      <td>0.0</td>\n",
       "      <td>1.0</td>\n",
       "      <td>is 3 trillion just the beginning for apple app...</td>\n",
       "    </tr>\n",
       "    <tr>\n",
       "      <th>4</th>\n",
       "      <td>4</td>\n",
       "      <td>2022-01-04</td>\n",
       "      <td>396.516663</td>\n",
       "      <td>402.666656</td>\n",
       "      <td>374.350006</td>\n",
       "      <td>383.196655</td>\n",
       "      <td>383.196655</td>\n",
       "      <td>100248300.0</td>\n",
       "      <td>0.0</td>\n",
       "      <td>3.0</td>\n",
       "      <td>tesla opens showroom in xinjiang the chinese r...</td>\n",
       "    </tr>\n",
       "    <tr>\n",
       "      <th>...</th>\n",
       "      <td>...</td>\n",
       "      <td>...</td>\n",
       "      <td>...</td>\n",
       "      <td>...</td>\n",
       "      <td>...</td>\n",
       "      <td>...</td>\n",
       "      <td>...</td>\n",
       "      <td>...</td>\n",
       "      <td>...</td>\n",
       "      <td>...</td>\n",
       "      <td>...</td>\n",
       "    </tr>\n",
       "    <tr>\n",
       "      <th>1741</th>\n",
       "      <td>1741</td>\n",
       "      <td>2024-04-25</td>\n",
       "      <td>169.529999</td>\n",
       "      <td>170.610001</td>\n",
       "      <td>168.149994</td>\n",
       "      <td>169.889999</td>\n",
       "      <td>169.659882</td>\n",
       "      <td>50558300.0</td>\n",
       "      <td>1.0</td>\n",
       "      <td>1.0</td>\n",
       "      <td>this spectacular vanguard etf could turn 250 p...</td>\n",
       "    </tr>\n",
       "    <tr>\n",
       "      <th>1742</th>\n",
       "      <td>1742</td>\n",
       "      <td>2024-04-25</td>\n",
       "      <td>169.679993</td>\n",
       "      <td>173.919998</td>\n",
       "      <td>166.320007</td>\n",
       "      <td>173.669998</td>\n",
       "      <td>173.669998</td>\n",
       "      <td>49249400.0</td>\n",
       "      <td>0.0</td>\n",
       "      <td>2.0</td>\n",
       "      <td>if you invested 10000 in amazon 10 years ago t...</td>\n",
       "    </tr>\n",
       "    <tr>\n",
       "      <th>1743</th>\n",
       "      <td>1743</td>\n",
       "      <td>2024-04-26</td>\n",
       "      <td>177.800003</td>\n",
       "      <td>180.820007</td>\n",
       "      <td>176.130005</td>\n",
       "      <td>179.619995</td>\n",
       "      <td>179.619995</td>\n",
       "      <td>43919800.0</td>\n",
       "      <td>1.0</td>\n",
       "      <td>2.0</td>\n",
       "      <td>1 unstoppable stock that could join microsoft ...</td>\n",
       "    </tr>\n",
       "    <tr>\n",
       "      <th>1744</th>\n",
       "      <td>1744</td>\n",
       "      <td>2024-04-26</td>\n",
       "      <td>169.880005</td>\n",
       "      <td>171.339996</td>\n",
       "      <td>169.179993</td>\n",
       "      <td>169.300003</td>\n",
       "      <td>169.070679</td>\n",
       "      <td>44838400.0</td>\n",
       "      <td>0.0</td>\n",
       "      <td>1.0</td>\n",
       "      <td>1 unstoppable stock that could join microsoft ...</td>\n",
       "    </tr>\n",
       "    <tr>\n",
       "      <th>1745</th>\n",
       "      <td>1745</td>\n",
       "      <td>2024-04-26</td>\n",
       "      <td>168.850006</td>\n",
       "      <td>172.119995</td>\n",
       "      <td>166.369995</td>\n",
       "      <td>168.289993</td>\n",
       "      <td>168.289993</td>\n",
       "      <td>109815700.0</td>\n",
       "      <td>0.0</td>\n",
       "      <td>3.0</td>\n",
       "      <td>tesla investor touts ev giants billionsmile le...</td>\n",
       "    </tr>\n",
       "  </tbody>\n",
       "</table>\n",
       "<p>1746 rows × 11 columns</p>\n",
       "</div>"
      ],
      "text/plain": [
       "      index        Date        Open        High         Low       Close  \\\n",
       "0         0  2022-01-03  177.830002  182.880005  177.710007  182.009995   \n",
       "1         1  2022-01-03  382.583344  400.356659  378.679993  399.926666   \n",
       "2         2  2022-01-03  167.550003  170.703506  166.160507  170.404495   \n",
       "3         3  2022-01-04  182.630005  182.940002  179.119995  179.699997   \n",
       "4         4  2022-01-04  396.516663  402.666656  374.350006  383.196655   \n",
       "...     ...         ...         ...         ...         ...         ...   \n",
       "1741   1741  2024-04-25  169.529999  170.610001  168.149994  169.889999   \n",
       "1742   1742  2024-04-25  169.679993  173.919998  166.320007  173.669998   \n",
       "1743   1743  2024-04-26  177.800003  180.820007  176.130005  179.619995   \n",
       "1744   1744  2024-04-26  169.880005  171.339996  169.179993  169.300003   \n",
       "1745   1745  2024-04-26  168.850006  172.119995  166.369995  168.289993   \n",
       "\n",
       "       Adj Close       Volume  Label  Company  \\\n",
       "0     179.481140  104487900.0    1.0      1.0   \n",
       "1     399.926666  103931400.0    1.0      3.0   \n",
       "2     170.404495   63520000.0    1.0      2.0   \n",
       "3     177.203217   99310400.0    0.0      1.0   \n",
       "4     383.196655  100248300.0    0.0      3.0   \n",
       "...          ...          ...    ...      ...   \n",
       "1741  169.659882   50558300.0    1.0      1.0   \n",
       "1742  173.669998   49249400.0    0.0      2.0   \n",
       "1743  179.619995   43919800.0    1.0      2.0   \n",
       "1744  169.070679   44838400.0    0.0      1.0   \n",
       "1745  168.289993  109815700.0    0.0      3.0   \n",
       "\n",
       "                                            clean_title  \n",
       "0     what a strong apple 2022 product line up could...  \n",
       "1     lg energy solution starts taking orders for wh...  \n",
       "2     updating 2021 calls while suggesting strategic...  \n",
       "3     is 3 trillion just the beginning for apple app...  \n",
       "4     tesla opens showroom in xinjiang the chinese r...  \n",
       "...                                                 ...  \n",
       "1741  this spectacular vanguard etf could turn 250 p...  \n",
       "1742  if you invested 10000 in amazon 10 years ago t...  \n",
       "1743  1 unstoppable stock that could join microsoft ...  \n",
       "1744  1 unstoppable stock that could join microsoft ...  \n",
       "1745  tesla investor touts ev giants billionsmile le...  \n",
       "\n",
       "[1746 rows x 11 columns]"
      ]
     },
     "execution_count": 45,
     "metadata": {},
     "output_type": "execute_result"
    }
   ],
   "source": [
    "df4.reset_index()"
   ]
  },
  {
   "cell_type": "code",
   "execution_count": 46,
   "id": "61616d5d-735f-4734-b22f-eb173fcd0dd8",
   "metadata": {},
   "outputs": [],
   "source": [
    "df4['Label']=df4['Label'].astype(int)"
   ]
  },
  {
   "cell_type": "code",
   "execution_count": 47,
   "id": "80df69f4-0559-4e35-9238-aadc9b7683aa",
   "metadata": {},
   "outputs": [
    {
     "name": "stdout",
     "output_type": "stream",
     "text": [
      "<class 'pandas.core.frame.DataFrame'>\n",
      "RangeIndex: 1746 entries, 0 to 1745\n",
      "Data columns (total 10 columns):\n",
      " #   Column       Non-Null Count  Dtype  \n",
      "---  ------       --------------  -----  \n",
      " 0   Date         1746 non-null   object \n",
      " 1   Open         1746 non-null   float64\n",
      " 2   High         1746 non-null   float64\n",
      " 3   Low          1746 non-null   float64\n",
      " 4   Close        1746 non-null   float64\n",
      " 5   Adj Close    1746 non-null   float64\n",
      " 6   Volume       1746 non-null   float64\n",
      " 7   Label        1746 non-null   int32  \n",
      " 8   Company      1746 non-null   float64\n",
      " 9   clean_title  1746 non-null   object \n",
      "dtypes: float64(7), int32(1), object(2)\n",
      "memory usage: 129.7+ KB\n"
     ]
    }
   ],
   "source": [
    "df4.info()"
   ]
  },
  {
   "cell_type": "code",
   "execution_count": 48,
   "id": "7920ab63-f72d-41cd-a8f1-a96f90511600",
   "metadata": {},
   "outputs": [],
   "source": [
    "# Removal of stopwords "
   ]
  },
  {
   "cell_type": "code",
   "execution_count": 49,
   "id": "19a0da9c-a940-4838-bbab-380c94c2ae4d",
   "metadata": {},
   "outputs": [],
   "source": [
    "# pip install nltk"
   ]
  },
  {
   "cell_type": "code",
   "execution_count": 50,
   "id": "c811e283-121f-4949-923e-527c84412e0b",
   "metadata": {},
   "outputs": [],
   "source": [
    "# # Download the stopwords\n",
    "# nltk.download('stopwords')"
   ]
  },
  {
   "cell_type": "code",
   "execution_count": 51,
   "id": "80ba7534-a400-431f-b37b-b2cf1a551c45",
   "metadata": {},
   "outputs": [],
   "source": [
    "# Get the stop words list\n",
    "stop_words = set(stopwords.words('english'))"
   ]
  },
  {
   "cell_type": "code",
   "execution_count": 52,
   "id": "beeefab3-4564-4f76-acaa-c2efc4ab2441",
   "metadata": {},
   "outputs": [],
   "source": [
    "def remove_stopwords(text):\n",
    "    words = text.split()\n",
    "    cleaned_text = ' '.join(word for word in words if word.lower() not in stop_words)\n",
    "    return cleaned_text"
   ]
  },
  {
   "cell_type": "code",
   "execution_count": 53,
   "id": "7e54a5d9-959f-45a3-8db3-ad8f3f8c1cb4",
   "metadata": {},
   "outputs": [],
   "source": [
    "df4['clean_title']=df4['clean_title'].apply(remove_stopwords)"
   ]
  },
  {
   "cell_type": "code",
   "execution_count": 54,
   "id": "32869893-a0f1-44d3-8f38-1d6adc157c57",
   "metadata": {},
   "outputs": [
    {
     "data": {
      "text/html": [
       "<div>\n",
       "<style scoped>\n",
       "    .dataframe tbody tr th:only-of-type {\n",
       "        vertical-align: middle;\n",
       "    }\n",
       "\n",
       "    .dataframe tbody tr th {\n",
       "        vertical-align: top;\n",
       "    }\n",
       "\n",
       "    .dataframe thead th {\n",
       "        text-align: right;\n",
       "    }\n",
       "</style>\n",
       "<table border=\"1\" class=\"dataframe\">\n",
       "  <thead>\n",
       "    <tr style=\"text-align: right;\">\n",
       "      <th></th>\n",
       "      <th>Date</th>\n",
       "      <th>Open</th>\n",
       "      <th>High</th>\n",
       "      <th>Low</th>\n",
       "      <th>Close</th>\n",
       "      <th>Adj Close</th>\n",
       "      <th>Volume</th>\n",
       "      <th>Label</th>\n",
       "      <th>Company</th>\n",
       "      <th>clean_title</th>\n",
       "    </tr>\n",
       "  </thead>\n",
       "  <tbody>\n",
       "    <tr>\n",
       "      <th>0</th>\n",
       "      <td>2022-01-03</td>\n",
       "      <td>177.830002</td>\n",
       "      <td>182.880005</td>\n",
       "      <td>177.710007</td>\n",
       "      <td>182.009995</td>\n",
       "      <td>179.481140</td>\n",
       "      <td>104487900.0</td>\n",
       "      <td>1</td>\n",
       "      <td>1.0</td>\n",
       "      <td>strong apple 2022 product line could look like...</td>\n",
       "    </tr>\n",
       "    <tr>\n",
       "      <th>1</th>\n",
       "      <td>2022-01-03</td>\n",
       "      <td>382.583344</td>\n",
       "      <td>400.356659</td>\n",
       "      <td>378.679993</td>\n",
       "      <td>399.926666</td>\n",
       "      <td>399.926666</td>\n",
       "      <td>103931400.0</td>\n",
       "      <td>1</td>\n",
       "      <td>3.0</td>\n",
       "      <td>lg energy solution starts taking orders could ...</td>\n",
       "    </tr>\n",
       "    <tr>\n",
       "      <th>2</th>\n",
       "      <td>2022-01-03</td>\n",
       "      <td>167.550003</td>\n",
       "      <td>170.703506</td>\n",
       "      <td>166.160507</td>\n",
       "      <td>170.404495</td>\n",
       "      <td>170.404495</td>\n",
       "      <td>63520000.0</td>\n",
       "      <td>1</td>\n",
       "      <td>2.0</td>\n",
       "      <td>updating 2021 calls suggesting strategic posit...</td>\n",
       "    </tr>\n",
       "    <tr>\n",
       "      <th>3</th>\n",
       "      <td>2022-01-04</td>\n",
       "      <td>182.630005</td>\n",
       "      <td>182.940002</td>\n",
       "      <td>179.119995</td>\n",
       "      <td>179.699997</td>\n",
       "      <td>177.203217</td>\n",
       "      <td>99310400.0</td>\n",
       "      <td>0</td>\n",
       "      <td>1.0</td>\n",
       "      <td>3 trillion beginning apple apple car come prep...</td>\n",
       "    </tr>\n",
       "    <tr>\n",
       "      <th>4</th>\n",
       "      <td>2022-01-04</td>\n",
       "      <td>396.516663</td>\n",
       "      <td>402.666656</td>\n",
       "      <td>374.350006</td>\n",
       "      <td>383.196655</td>\n",
       "      <td>383.196655</td>\n",
       "      <td>100248300.0</td>\n",
       "      <td>0</td>\n",
       "      <td>3.0</td>\n",
       "      <td>tesla opens showroom xinjiang chinese region a...</td>\n",
       "    </tr>\n",
       "  </tbody>\n",
       "</table>\n",
       "</div>"
      ],
      "text/plain": [
       "         Date        Open        High         Low       Close   Adj Close  \\\n",
       "0  2022-01-03  177.830002  182.880005  177.710007  182.009995  179.481140   \n",
       "1  2022-01-03  382.583344  400.356659  378.679993  399.926666  399.926666   \n",
       "2  2022-01-03  167.550003  170.703506  166.160507  170.404495  170.404495   \n",
       "3  2022-01-04  182.630005  182.940002  179.119995  179.699997  177.203217   \n",
       "4  2022-01-04  396.516663  402.666656  374.350006  383.196655  383.196655   \n",
       "\n",
       "        Volume  Label  Company  \\\n",
       "0  104487900.0      1      1.0   \n",
       "1  103931400.0      1      3.0   \n",
       "2   63520000.0      1      2.0   \n",
       "3   99310400.0      0      1.0   \n",
       "4  100248300.0      0      3.0   \n",
       "\n",
       "                                         clean_title  \n",
       "0  strong apple 2022 product line could look like...  \n",
       "1  lg energy solution starts taking orders could ...  \n",
       "2  updating 2021 calls suggesting strategic posit...  \n",
       "3  3 trillion beginning apple apple car come prep...  \n",
       "4  tesla opens showroom xinjiang chinese region a...  "
      ]
     },
     "execution_count": 54,
     "metadata": {},
     "output_type": "execute_result"
    }
   ],
   "source": [
    "df4.head()"
   ]
  },
  {
   "cell_type": "markdown",
   "id": "abc31921-02d7-402d-9e53-a7199e3d78ce",
   "metadata": {},
   "source": [
    "## Applying Lemmatisation "
   ]
  },
  {
   "cell_type": "code",
   "execution_count": 55,
   "id": "ec36b782-dd8a-4d21-8dd9-e900489bb6ff",
   "metadata": {},
   "outputs": [],
   "source": [
    "# nltk.download('wordnet')"
   ]
  },
  {
   "cell_type": "code",
   "execution_count": 56,
   "id": "96657e11-56ec-468e-b08b-739c7a88e373",
   "metadata": {},
   "outputs": [],
   "source": [
    "lemmatizer= WordNetLemmatizer()"
   ]
  },
  {
   "cell_type": "code",
   "execution_count": 57,
   "id": "b369e5d1-c2a8-453a-b88a-c6cc395fb74c",
   "metadata": {},
   "outputs": [],
   "source": [
    "def lemmatize_text(text):\n",
    "    tokens=text.split()\n",
    "    text = ' '.join([lemmatizer.lemmatize(token) for token in tokens])\n",
    "    return text"
   ]
  },
  {
   "cell_type": "code",
   "execution_count": 58,
   "id": "db21d821-fb79-487d-bf00-325e144d1dd8",
   "metadata": {},
   "outputs": [],
   "source": [
    "df4['clean_title']=df4['clean_title'].apply(lemmatize_text)"
   ]
  },
  {
   "cell_type": "code",
   "execution_count": 59,
   "id": "89594d6a-6bc0-44bd-937d-d396b1e47267",
   "metadata": {},
   "outputs": [
    {
     "data": {
      "text/plain": [
       "0       strong apple 2022 product line could look like...\n",
       "1       lg energy solution start taking order could so...\n",
       "2       updating 2021 call suggesting strategic positi...\n",
       "3       3 trillion beginning apple apple car come prep...\n",
       "4       tesla open showroom xinjiang chinese region as...\n",
       "                              ...                        \n",
       "1741    spectacular vanguard etf could turn 250 per mo...\n",
       "1742    invested 10000 amazon 10 year ago much would t...\n",
       "1743    1 unstoppable stock could join microsoft apple...\n",
       "1744    1 unstoppable stock could join microsoft apple...\n",
       "1745    tesla investor tout ev giant billionsmile leap...\n",
       "Name: clean_title, Length: 1746, dtype: object"
      ]
     },
     "execution_count": 59,
     "metadata": {},
     "output_type": "execute_result"
    }
   ],
   "source": [
    "df4['clean_title']"
   ]
  },
  {
   "cell_type": "markdown",
   "id": "ebd79162-66b6-4cca-a299-19e2bfcf1659",
   "metadata": {},
   "source": [
    "## Creating Pretrained word2vec for clean_text"
   ]
  },
  {
   "cell_type": "code",
   "execution_count": 60,
   "id": "d28d645c-8ad2-4140-ae20-69809783769a",
   "metadata": {},
   "outputs": [],
   "source": [
    "# slashing the below code to not make it run for subsequent runs of the notebook , and the word embedding are stored to pre_trained_word2vec.csv file in \n",
    "# which the values are stored of clean_title"
   ]
  },
  {
   "cell_type": "code",
   "execution_count": 61,
   "id": "c8fca25d-6702-49e3-bc9f-fcbd8bb5c68a",
   "metadata": {},
   "outputs": [],
   "source": [
    "# pip install gensim"
   ]
  },
  {
   "cell_type": "code",
   "execution_count": 62,
   "id": "916f57fe-4718-48c9-be52-31c900cf62b5",
   "metadata": {},
   "outputs": [],
   "source": [
    "model = api.load(\"word2vec-google-news-300\")"
   ]
  },
  {
   "cell_type": "code",
   "execution_count": 63,
   "id": "42533224-e332-4006-a9de-8be2f900db95",
   "metadata": {},
   "outputs": [],
   "source": [
    "# this is a function to convert a text paragraph into vector\n",
    "def document_to_vector(document,model):\n",
    "    words=document.split()\n",
    "    word_vectors = [model[word] for word in words if word in model]\n",
    "    if not word_vectors:\n",
    "        return np.zeros(model.vector_size)\n",
    "    document_vector = np.mean(word_vectors,axis=0)\n",
    "    return document_vector"
   ]
  },
  {
   "cell_type": "code",
   "execution_count": 64,
   "id": "bf0a83e9-619e-4b34-b78b-b7a38f9dda73",
   "metadata": {},
   "outputs": [],
   "source": [
    "pre_trained_word2vec = df4['clean_title'].apply(lambda x: document_to_vector(x,model))"
   ]
  },
  {
   "cell_type": "code",
   "execution_count": 65,
   "id": "5f24b196-842a-4deb-8b8f-9fe6396a7ff3",
   "metadata": {},
   "outputs": [
    {
     "data": {
      "text/plain": [
       "pandas.core.series.Series"
      ]
     },
     "execution_count": 65,
     "metadata": {},
     "output_type": "execute_result"
    }
   ],
   "source": [
    "type(pre_trained_word2vec)"
   ]
  },
  {
   "cell_type": "code",
   "execution_count": 66,
   "id": "32eb852c-818e-461d-a08a-691589055117",
   "metadata": {},
   "outputs": [],
   "source": [
    "pre_trained_word2vec.to_pickle('pre_trained_word2vec.pkl')"
   ]
  },
  {
   "cell_type": "code",
   "execution_count": 67,
   "id": "d016202e-950b-437e-af4d-2a5bee0c138f",
   "metadata": {},
   "outputs": [],
   "source": [
    "pre_trained_word2vec=pd.read_pickle('pre_trained_word2vec.pkl')"
   ]
  },
  {
   "cell_type": "code",
   "execution_count": 68,
   "id": "7e483384-bbe0-4321-882e-bec6f64b4679",
   "metadata": {},
   "outputs": [],
   "source": [
    "# with open('pre_trained_word2vec.pkl', 'wb') as file:\n",
    "#     pickle.dump(pre_trained_word2vec, file)"
   ]
  },
  {
   "cell_type": "code",
   "execution_count": 69,
   "id": "0da8dcc2-27fc-4eb6-8064-dfaf44acc081",
   "metadata": {},
   "outputs": [],
   "source": [
    "# with open('pre_trained_word2vec.pkl', 'rb') as file:\n",
    "#     pre_trained_word2vec = pickle.load(file)"
   ]
  },
  {
   "cell_type": "code",
   "execution_count": 70,
   "id": "193da4a4-121a-4c26-b549-98fe85d08eec",
   "metadata": {},
   "outputs": [],
   "source": [
    "# pre_trained_word2vec.to_csv(\"pre_trained_word2vec.csv\")"
   ]
  },
  {
   "cell_type": "code",
   "execution_count": 71,
   "id": "4cfcb85c-aac8-4a59-a099-390426027166",
   "metadata": {},
   "outputs": [],
   "source": [
    "# saved the word embeddings of the clean title column to local storage for future use purpose "
   ]
  },
  {
   "cell_type": "code",
   "execution_count": 72,
   "id": "311d2976-5a65-428b-8971-58a3cce3eab7",
   "metadata": {},
   "outputs": [],
   "source": [
    "# pre_trained_word2vec= pd.read_csv(r\"C:\\Users\\Jaya Teja\\Stock_Sentiment_Analysis_Using_Machine_Learning_Open_Project\\Finance_Project\\pre_trained_word2vec.csv\")"
   ]
  },
  {
   "cell_type": "code",
   "execution_count": 73,
   "id": "ea066bfa-82c5-4a26-8bff-1d52e2bd0c4e",
   "metadata": {},
   "outputs": [
    {
     "data": {
      "text/plain": [
       "0       [0.00953895, 0.0009532198, -0.011498066, 0.083...\n",
       "1       [-0.0003925652, 0.032543052, 0.020452728, 0.06...\n",
       "2       [0.016471973, 0.0005563463, -0.024610301, 0.08...\n",
       "3       [-0.015810648, 0.008278012, -0.009677172, 0.08...\n",
       "4       [0.013206236, 0.034184013, 0.032716233, 0.0666...\n",
       "                              ...                        \n",
       "1741    [0.015834594, 0.030510034, 0.006982439, 0.0995...\n",
       "1742    [0.011908263, 0.020769238, -0.031156182, 0.099...\n",
       "1743    [0.012385833, 0.020524636, -0.014020858, 0.091...\n",
       "1744    [0.008278037, 0.002114206, -0.003083715, 0.082...\n",
       "1745    [0.021268114, 0.0144314235, 0.038091447, 0.066...\n",
       "Name: clean_title, Length: 1746, dtype: object"
      ]
     },
     "execution_count": 73,
     "metadata": {},
     "output_type": "execute_result"
    }
   ],
   "source": [
    "# len(pre_trained_word2vec[0])\n",
    "pre_trained_word2vec"
   ]
  },
  {
   "cell_type": "code",
   "execution_count": 74,
   "id": "8bac48de-16db-403a-967f-c026ba7f2adf",
   "metadata": {},
   "outputs": [
    {
     "data": {
      "text/plain": [
       "(1746,)"
      ]
     },
     "execution_count": 74,
     "metadata": {},
     "output_type": "execute_result"
    }
   ],
   "source": [
    "pre_trained_word2vec.shape"
   ]
  },
  {
   "cell_type": "markdown",
   "id": "925eb2fb-0494-4297-9b94-92e605a3946d",
   "metadata": {},
   "source": [
    "## Model on pretrained Word2VEc"
   ]
  },
  {
   "cell_type": "code",
   "execution_count": 75,
   "id": "2a9c8eb5-85e7-4691-b5a2-e305976c8f22",
   "metadata": {},
   "outputs": [],
   "source": [
    "# LR 0.62\n",
    "# NB 0.47\n",
    "# SVM linear 0.68\n",
    "# DT 0.39\n",
    "# RF 0.43\n",
    "# LSTM 0.43\n",
    "#GRU 0.50"
   ]
  },
  {
   "cell_type": "code",
   "execution_count": 76,
   "id": "2fa7bcd3-d2ea-402f-abbd-106a7583af98",
   "metadata": {},
   "outputs": [],
   "source": [
    "test_size=51"
   ]
  },
  {
   "cell_type": "code",
   "execution_count": 77,
   "id": "2c1afd86-e0a8-4b7c-a74d-62aa9b2f47fc",
   "metadata": {},
   "outputs": [],
   "source": [
    "X_test=pre_trained_word2vec[-test_size:]\n",
    "y_test=df4['Label'][-test_size:]"
   ]
  },
  {
   "cell_type": "code",
   "execution_count": 78,
   "id": "2a917137-4e92-400e-bb6c-83c12b7e6a98",
   "metadata": {},
   "outputs": [
    {
     "data": {
      "text/html": [
       "<div>\n",
       "<style scoped>\n",
       "    .dataframe tbody tr th:only-of-type {\n",
       "        vertical-align: middle;\n",
       "    }\n",
       "\n",
       "    .dataframe tbody tr th {\n",
       "        vertical-align: top;\n",
       "    }\n",
       "\n",
       "    .dataframe thead th {\n",
       "        text-align: right;\n",
       "    }\n",
       "</style>\n",
       "<table border=\"1\" class=\"dataframe\">\n",
       "  <thead>\n",
       "    <tr style=\"text-align: right;\">\n",
       "      <th></th>\n",
       "      <th>clean_title</th>\n",
       "      <th>Label</th>\n",
       "    </tr>\n",
       "  </thead>\n",
       "  <tbody>\n",
       "    <tr>\n",
       "      <th>0</th>\n",
       "      <td>[0.00953895, 0.0009532198, -0.011498066, 0.083...</td>\n",
       "      <td>1</td>\n",
       "    </tr>\n",
       "    <tr>\n",
       "      <th>1</th>\n",
       "      <td>[-0.0003925652, 0.032543052, 0.020452728, 0.06...</td>\n",
       "      <td>1</td>\n",
       "    </tr>\n",
       "    <tr>\n",
       "      <th>2</th>\n",
       "      <td>[0.016471973, 0.0005563463, -0.024610301, 0.08...</td>\n",
       "      <td>1</td>\n",
       "    </tr>\n",
       "    <tr>\n",
       "      <th>3</th>\n",
       "      <td>[-0.015810648, 0.008278012, -0.009677172, 0.08...</td>\n",
       "      <td>0</td>\n",
       "    </tr>\n",
       "    <tr>\n",
       "      <th>4</th>\n",
       "      <td>[0.013206236, 0.034184013, 0.032716233, 0.0666...</td>\n",
       "      <td>0</td>\n",
       "    </tr>\n",
       "    <tr>\n",
       "      <th>...</th>\n",
       "      <td>...</td>\n",
       "      <td>...</td>\n",
       "    </tr>\n",
       "    <tr>\n",
       "      <th>1690</th>\n",
       "      <td>[0.0035990665, -0.00943854, -0.0023566799, 0.1...</td>\n",
       "      <td>0</td>\n",
       "    </tr>\n",
       "    <tr>\n",
       "      <th>1691</th>\n",
       "      <td>[0.0057910015, -0.010157753, -0.0030250696, 0....</td>\n",
       "      <td>0</td>\n",
       "    </tr>\n",
       "    <tr>\n",
       "      <th>1692</th>\n",
       "      <td>[0.015489157, 0.02618864, 0.03529774, 0.063434...</td>\n",
       "      <td>1</td>\n",
       "    </tr>\n",
       "    <tr>\n",
       "      <th>1693</th>\n",
       "      <td>[0.019545667, 0.03352487, -0.011951564, 0.0652...</td>\n",
       "      <td>1</td>\n",
       "    </tr>\n",
       "    <tr>\n",
       "      <th>1694</th>\n",
       "      <td>[0.00814924, 0.027002072, 0.008467132, 0.11422...</td>\n",
       "      <td>1</td>\n",
       "    </tr>\n",
       "  </tbody>\n",
       "</table>\n",
       "<p>1695 rows × 2 columns</p>\n",
       "</div>"
      ],
      "text/plain": [
       "                                            clean_title  Label\n",
       "0     [0.00953895, 0.0009532198, -0.011498066, 0.083...      1\n",
       "1     [-0.0003925652, 0.032543052, 0.020452728, 0.06...      1\n",
       "2     [0.016471973, 0.0005563463, -0.024610301, 0.08...      1\n",
       "3     [-0.015810648, 0.008278012, -0.009677172, 0.08...      0\n",
       "4     [0.013206236, 0.034184013, 0.032716233, 0.0666...      0\n",
       "...                                                 ...    ...\n",
       "1690  [0.0035990665, -0.00943854, -0.0023566799, 0.1...      0\n",
       "1691  [0.0057910015, -0.010157753, -0.0030250696, 0....      0\n",
       "1692  [0.015489157, 0.02618864, 0.03529774, 0.063434...      1\n",
       "1693  [0.019545667, 0.03352487, -0.011951564, 0.0652...      1\n",
       "1694  [0.00814924, 0.027002072, 0.008467132, 0.11422...      1\n",
       "\n",
       "[1695 rows x 2 columns]"
      ]
     },
     "execution_count": 78,
     "metadata": {},
     "output_type": "execute_result"
    }
   ],
   "source": [
    "comb_train=pd.concat([pre_trained_word2vec[:-test_size],df4['Label'][:-test_size]],axis=1)\n",
    "comb_train"
   ]
  },
  {
   "cell_type": "code",
   "execution_count": 79,
   "id": "7131f2b4-92b4-41a5-9fff-64ae08568f1c",
   "metadata": {},
   "outputs": [],
   "source": [
    "shuffled_df = comb_train.sample(frac=1, random_state=42)"
   ]
  },
  {
   "cell_type": "code",
   "execution_count": 80,
   "id": "d3737f6a-fe46-4185-a2e5-c0adc37af8d6",
   "metadata": {},
   "outputs": [
    {
     "data": {
      "text/html": [
       "<div>\n",
       "<style scoped>\n",
       "    .dataframe tbody tr th:only-of-type {\n",
       "        vertical-align: middle;\n",
       "    }\n",
       "\n",
       "    .dataframe tbody tr th {\n",
       "        vertical-align: top;\n",
       "    }\n",
       "\n",
       "    .dataframe thead th {\n",
       "        text-align: right;\n",
       "    }\n",
       "</style>\n",
       "<table border=\"1\" class=\"dataframe\">\n",
       "  <thead>\n",
       "    <tr style=\"text-align: right;\">\n",
       "      <th></th>\n",
       "      <th>clean_title</th>\n",
       "      <th>Label</th>\n",
       "    </tr>\n",
       "  </thead>\n",
       "  <tbody>\n",
       "    <tr>\n",
       "      <th>931</th>\n",
       "      <td>[0.01759564, 0.042590994, 0.0029557352, 0.0623...</td>\n",
       "      <td>1</td>\n",
       "    </tr>\n",
       "    <tr>\n",
       "      <th>1398</th>\n",
       "      <td>[0.037093285, 0.028283658, -0.008905867, 0.073...</td>\n",
       "      <td>0</td>\n",
       "    </tr>\n",
       "    <tr>\n",
       "      <th>1561</th>\n",
       "      <td>[0.014046447, 0.024543878, -0.016828403, 0.064...</td>\n",
       "      <td>0</td>\n",
       "    </tr>\n",
       "    <tr>\n",
       "      <th>1006</th>\n",
       "      <td>[0.028023219, 0.016265105, -0.029059255, 0.081...</td>\n",
       "      <td>1</td>\n",
       "    </tr>\n",
       "    <tr>\n",
       "      <th>506</th>\n",
       "      <td>[0.025667364, 0.0026389034, -0.040504977, 0.09...</td>\n",
       "      <td>0</td>\n",
       "    </tr>\n",
       "    <tr>\n",
       "      <th>...</th>\n",
       "      <td>...</td>\n",
       "      <td>...</td>\n",
       "    </tr>\n",
       "    <tr>\n",
       "      <th>1130</th>\n",
       "      <td>[0.024268547, 0.0015622256, -0.007930263, 0.08...</td>\n",
       "      <td>1</td>\n",
       "    </tr>\n",
       "    <tr>\n",
       "      <th>1294</th>\n",
       "      <td>[0.029942995, 0.010589203, 0.0030866351, 0.084...</td>\n",
       "      <td>0</td>\n",
       "    </tr>\n",
       "    <tr>\n",
       "      <th>860</th>\n",
       "      <td>[-0.0085476255, 0.018998034, -0.002109948, 0.0...</td>\n",
       "      <td>1</td>\n",
       "    </tr>\n",
       "    <tr>\n",
       "      <th>1459</th>\n",
       "      <td>[0.0042967224, -0.0075990804, -0.0132278185, 0...</td>\n",
       "      <td>1</td>\n",
       "    </tr>\n",
       "    <tr>\n",
       "      <th>1126</th>\n",
       "      <td>[-0.0021136715, 0.012242269, -0.007951846, 0.0...</td>\n",
       "      <td>0</td>\n",
       "    </tr>\n",
       "  </tbody>\n",
       "</table>\n",
       "<p>1695 rows × 2 columns</p>\n",
       "</div>"
      ],
      "text/plain": [
       "                                            clean_title  Label\n",
       "931   [0.01759564, 0.042590994, 0.0029557352, 0.0623...      1\n",
       "1398  [0.037093285, 0.028283658, -0.008905867, 0.073...      0\n",
       "1561  [0.014046447, 0.024543878, -0.016828403, 0.064...      0\n",
       "1006  [0.028023219, 0.016265105, -0.029059255, 0.081...      1\n",
       "506   [0.025667364, 0.0026389034, -0.040504977, 0.09...      0\n",
       "...                                                 ...    ...\n",
       "1130  [0.024268547, 0.0015622256, -0.007930263, 0.08...      1\n",
       "1294  [0.029942995, 0.010589203, 0.0030866351, 0.084...      0\n",
       "860   [-0.0085476255, 0.018998034, -0.002109948, 0.0...      1\n",
       "1459  [0.0042967224, -0.0075990804, -0.0132278185, 0...      1\n",
       "1126  [-0.0021136715, 0.012242269, -0.007951846, 0.0...      0\n",
       "\n",
       "[1695 rows x 2 columns]"
      ]
     },
     "execution_count": 80,
     "metadata": {},
     "output_type": "execute_result"
    }
   ],
   "source": [
    "shuffled_df"
   ]
  },
  {
   "cell_type": "code",
   "execution_count": 81,
   "id": "368dc551-6832-425c-9ec8-19224fe2a3a0",
   "metadata": {},
   "outputs": [],
   "source": [
    "X_train=shuffled_df['clean_title']\n",
    "y_train=shuffled_df['Label']"
   ]
  },
  {
   "cell_type": "code",
   "execution_count": 82,
   "id": "48c80f2f-0919-4824-a167-9136867e8ae3",
   "metadata": {},
   "outputs": [
    {
     "data": {
      "text/plain": [
       "931     [0.01759564, 0.042590994, 0.0029557352, 0.0623...\n",
       "1398    [0.037093285, 0.028283658, -0.008905867, 0.073...\n",
       "1561    [0.014046447, 0.024543878, -0.016828403, 0.064...\n",
       "1006    [0.028023219, 0.016265105, -0.029059255, 0.081...\n",
       "506     [0.025667364, 0.0026389034, -0.040504977, 0.09...\n",
       "                              ...                        \n",
       "1130    [0.024268547, 0.0015622256, -0.007930263, 0.08...\n",
       "1294    [0.029942995, 0.010589203, 0.0030866351, 0.084...\n",
       "860     [-0.0085476255, 0.018998034, -0.002109948, 0.0...\n",
       "1459    [0.0042967224, -0.0075990804, -0.0132278185, 0...\n",
       "1126    [-0.0021136715, 0.012242269, -0.007951846, 0.0...\n",
       "Name: clean_title, Length: 1695, dtype: object"
      ]
     },
     "execution_count": 82,
     "metadata": {},
     "output_type": "execute_result"
    }
   ],
   "source": [
    "X_train"
   ]
  },
  {
   "cell_type": "code",
   "execution_count": 83,
   "id": "a687df1b-a54e-44a7-9016-308d9d6e7946",
   "metadata": {
    "scrolled": true
   },
   "outputs": [
    {
     "data": {
      "text/plain": [
       "1695    [0.0395968, 0.006833031, 0.02979206, 0.0661980...\n",
       "1696    [-0.046929847, 0.019781286, 0.033206835, 0.034...\n",
       "1697    [-0.010227203, 0.015324116, -0.03001523, 0.062...\n",
       "1698    [0.03173436, 0.03086003, -0.025545392, 0.08155...\n",
       "1699    [0.016684579, 0.013998957, -0.033993144, 0.077...\n",
       "1700    [0.030827412, 0.03408394, 0.017991582, 0.07236...\n",
       "1701    [0.000238234, -0.030210925, -0.001413653, 0.05...\n",
       "1702    [0.006989282, 0.024664508, 0.029816903, 0.0595...\n",
       "1703    [0.04539985, 0.014858427, -0.0127836745, 0.085...\n",
       "1704    [0.026466815, 0.012575687, -0.021656517, 0.091...\n",
       "1705    [0.013741349, 0.053104516, 0.02131647, 0.06223...\n",
       "1706    [0.01728241, -0.0012255097, -0.0027375603, 0.0...\n",
       "1707    [0.00061194104, 0.02229309, 0.022024129, 0.064...\n",
       "1708    [-0.00081800064, -0.021912124, -0.0057351636, ...\n",
       "1709    [0.01758284, 0.0040020053, -0.01934619, 0.0681...\n",
       "1710    [-0.01781486, 0.01153008, -0.014107738, 0.0948...\n",
       "1711    [-0.0048423903, 0.015892163, 0.05403569, 0.060...\n",
       "1712    [0.01711046, 0.005616756, -0.012433498, 0.0993...\n",
       "1713    [-0.006228177, -0.012517678, 0.01675773, 0.086...\n",
       "1714    [-0.002443487, 0.032193888, 0.016782627, 0.089...\n",
       "1715    [-0.0028281035, 0.003929138, -0.0029345264, 0....\n",
       "1716    [-0.03365355, 0.05498891, -0.010540539, 0.0843...\n",
       "1717    [0.010564757, 0.007880597, -0.024921598, 0.111...\n",
       "1718    [0.02239431, 0.03385436, 0.01117319, 0.0573450...\n",
       "1719    [0.01599916, 0.022961657, -0.03368684, 0.08237...\n",
       "1720    [-0.0068929084, 0.0053213243, -0.024994252, 0....\n",
       "1721    [0.0075661154, 0.047676407, 0.02127104, 0.0616...\n",
       "1722    [0.0056601968, 0.030683689, 0.009196853, 0.065...\n",
       "1723    [0.002759102, -0.0060238633, 0.0017183744, 0.0...\n",
       "1724    [0.034666553, 0.003690228, -0.001754918, 0.096...\n",
       "1725    [0.03646925, 0.0030100753, -0.041104294, 0.064...\n",
       "1726    [0.004890717, 0.019510377, 0.013649813, 0.0573...\n",
       "1727    [0.036524463, 0.01539694, -0.018214872, 0.0680...\n",
       "1728    [0.041578997, 0.040169798, 0.026184384, 0.0350...\n",
       "1729    [0.011837053, 0.006851385, 0.010176577, 0.0799...\n",
       "1730    [0.036928, -0.005070426, -0.018254995, 0.09443...\n",
       "1731    [0.0023267793, 0.007720389, -0.017951034, 0.07...\n",
       "1732    [0.0044863205, 0.022178236, -0.03275194, 0.054...\n",
       "1733    [0.012275127, 0.04257134, -0.005662662, 0.0793...\n",
       "1734    [0.009434124, 0.03145631, -0.034508634, 0.0784...\n",
       "1735    [0.00088713143, 0.04784299, 0.005829672, 0.059...\n",
       "1736    [-0.013596917, 0.0053011575, -0.0025865077, 0....\n",
       "1737    [0.021690655, 0.0025432587, -0.012776184, 0.10...\n",
       "1738    [-0.010651906, 0.030238329, 0.036651663, 0.058...\n",
       "1739    [-0.008349977, 0.012100571, -0.0023768852, 0.0...\n",
       "1740    [0.0064368183, 0.042996418, 0.0070157875, 0.05...\n",
       "1741    [0.015834594, 0.030510034, 0.006982439, 0.0995...\n",
       "1742    [0.011908263, 0.020769238, -0.031156182, 0.099...\n",
       "1743    [0.012385833, 0.020524636, -0.014020858, 0.091...\n",
       "1744    [0.008278037, 0.002114206, -0.003083715, 0.082...\n",
       "1745    [0.021268114, 0.0144314235, 0.038091447, 0.066...\n",
       "Name: clean_title, dtype: object"
      ]
     },
     "execution_count": 83,
     "metadata": {},
     "output_type": "execute_result"
    }
   ],
   "source": [
    "X_test"
   ]
  },
  {
   "cell_type": "code",
   "execution_count": 84,
   "id": "3e6f9921-372d-4502-9c39-4585b90dcb7a",
   "metadata": {},
   "outputs": [],
   "source": [
    "# Converted the above data to list so that it can scale it and fit it to LR"
   ]
  },
  {
   "cell_type": "code",
   "execution_count": 85,
   "id": "ad2218b7-f206-4184-ae01-75bd80251417",
   "metadata": {},
   "outputs": [],
   "source": [
    "scaler=StandardScaler()"
   ]
  },
  {
   "cell_type": "code",
   "execution_count": 86,
   "id": "19a0256f-1f71-4c54-8add-2728d1c06fe4",
   "metadata": {},
   "outputs": [],
   "source": [
    "X_train=scaler.fit_transform(X_train.to_list())\n",
    "X_test=scaler.transform(X_test.to_list())"
   ]
  },
  {
   "cell_type": "markdown",
   "id": "eaacf0cf-ae7a-4b9f-aa9e-31437343e77a",
   "metadata": {},
   "source": [
    "###  Optimise the model through grid search CV for right parameters , use Early Stopping , Use Cross Validation f"
   ]
  },
  {
   "cell_type": "code",
   "execution_count": 87,
   "id": "aa946a96-23e6-4fd7-95bc-05aca24262a6",
   "metadata": {},
   "outputs": [],
   "source": [
    "model=SVC(probability=True)"
   ]
  },
  {
   "cell_type": "code",
   "execution_count": 88,
   "id": "efa0ce65-17a2-49a1-ab27-9663cab201c0",
   "metadata": {},
   "outputs": [],
   "source": [
    "pipeline = Pipeline([('clf',model)])"
   ]
  },
  {
   "cell_type": "markdown",
   "id": "4a883094-2586-4e0d-9603-e94fdb1e3f62",
   "metadata": {},
   "source": [
    "## Unmark the below code accordingly"
   ]
  },
  {
   "cell_type": "code",
   "execution_count": 89,
   "id": "7b814352-cefa-4609-a8d5-0b6cf34f4841",
   "metadata": {},
   "outputs": [],
   "source": [
    "# param_grid = {\n",
    "#     'clf__C': [1, 2, 3],\n",
    "#     'clf__kernel': ['linear', 'poly', 'rbf', 'sigmoid'],\n",
    "#     'clf__max_iter': [-1,10,100,]\n",
    "# }\n",
    "param_grid = {\n",
    "    'clf__C':[1],\n",
    "    'clf__kernel':['linear'],\n",
    "    'clf__max_iter':[-1]\n",
    "}"
   ]
  },
  {
   "cell_type": "code",
   "execution_count": 90,
   "id": "a9e94674-1c04-43ac-8990-56482e4175c7",
   "metadata": {},
   "outputs": [],
   "source": [
    "# slashing the above paramgrid because it take lots of time to run when we restart the notebook so the best parameters were only considered in the 2nd param grid so that\n",
    "# it takes less time !!!!!!"
   ]
  },
  {
   "cell_type": "code",
   "execution_count": 91,
   "id": "c7511fc4-82ea-4e5a-9ef2-42ad8ef44b4c",
   "metadata": {},
   "outputs": [],
   "source": [
    "grid_search=GridSearchCV(estimator=pipeline,verbose=4,param_grid=param_grid,cv=5,scoring='accuracy',n_jobs=-1)\n"
   ]
  },
  {
   "cell_type": "markdown",
   "id": "5d221056-25f4-40fb-bcf7-d72be9e80597",
   "metadata": {},
   "source": [
    "### Finding best parameter only on TRAIN SET"
   ]
  },
  {
   "cell_type": "code",
   "execution_count": 92,
   "id": "c99af0d2-da9d-468b-acff-844cf8361cc1",
   "metadata": {},
   "outputs": [
    {
     "name": "stdout",
     "output_type": "stream",
     "text": [
      "Fitting 5 folds for each of 1 candidates, totalling 5 fits\n"
     ]
    },
    {
     "data": {
      "text/html": [
       "<style>#sk-container-id-1 {color: black;background-color: white;}#sk-container-id-1 pre{padding: 0;}#sk-container-id-1 div.sk-toggleable {background-color: white;}#sk-container-id-1 label.sk-toggleable__label {cursor: pointer;display: block;width: 100%;margin-bottom: 0;padding: 0.3em;box-sizing: border-box;text-align: center;}#sk-container-id-1 label.sk-toggleable__label-arrow:before {content: \"▸\";float: left;margin-right: 0.25em;color: #696969;}#sk-container-id-1 label.sk-toggleable__label-arrow:hover:before {color: black;}#sk-container-id-1 div.sk-estimator:hover label.sk-toggleable__label-arrow:before {color: black;}#sk-container-id-1 div.sk-toggleable__content {max-height: 0;max-width: 0;overflow: hidden;text-align: left;background-color: #f0f8ff;}#sk-container-id-1 div.sk-toggleable__content pre {margin: 0.2em;color: black;border-radius: 0.25em;background-color: #f0f8ff;}#sk-container-id-1 input.sk-toggleable__control:checked~div.sk-toggleable__content {max-height: 200px;max-width: 100%;overflow: auto;}#sk-container-id-1 input.sk-toggleable__control:checked~label.sk-toggleable__label-arrow:before {content: \"▾\";}#sk-container-id-1 div.sk-estimator input.sk-toggleable__control:checked~label.sk-toggleable__label {background-color: #d4ebff;}#sk-container-id-1 div.sk-label input.sk-toggleable__control:checked~label.sk-toggleable__label {background-color: #d4ebff;}#sk-container-id-1 input.sk-hidden--visually {border: 0;clip: rect(1px 1px 1px 1px);clip: rect(1px, 1px, 1px, 1px);height: 1px;margin: -1px;overflow: hidden;padding: 0;position: absolute;width: 1px;}#sk-container-id-1 div.sk-estimator {font-family: monospace;background-color: #f0f8ff;border: 1px dotted black;border-radius: 0.25em;box-sizing: border-box;margin-bottom: 0.5em;}#sk-container-id-1 div.sk-estimator:hover {background-color: #d4ebff;}#sk-container-id-1 div.sk-parallel-item::after {content: \"\";width: 100%;border-bottom: 1px solid gray;flex-grow: 1;}#sk-container-id-1 div.sk-label:hover label.sk-toggleable__label {background-color: #d4ebff;}#sk-container-id-1 div.sk-serial::before {content: \"\";position: absolute;border-left: 1px solid gray;box-sizing: border-box;top: 0;bottom: 0;left: 50%;z-index: 0;}#sk-container-id-1 div.sk-serial {display: flex;flex-direction: column;align-items: center;background-color: white;padding-right: 0.2em;padding-left: 0.2em;position: relative;}#sk-container-id-1 div.sk-item {position: relative;z-index: 1;}#sk-container-id-1 div.sk-parallel {display: flex;align-items: stretch;justify-content: center;background-color: white;position: relative;}#sk-container-id-1 div.sk-item::before, #sk-container-id-1 div.sk-parallel-item::before {content: \"\";position: absolute;border-left: 1px solid gray;box-sizing: border-box;top: 0;bottom: 0;left: 50%;z-index: -1;}#sk-container-id-1 div.sk-parallel-item {display: flex;flex-direction: column;z-index: 1;position: relative;background-color: white;}#sk-container-id-1 div.sk-parallel-item:first-child::after {align-self: flex-end;width: 50%;}#sk-container-id-1 div.sk-parallel-item:last-child::after {align-self: flex-start;width: 50%;}#sk-container-id-1 div.sk-parallel-item:only-child::after {width: 0;}#sk-container-id-1 div.sk-dashed-wrapped {border: 1px dashed gray;margin: 0 0.4em 0.5em 0.4em;box-sizing: border-box;padding-bottom: 0.4em;background-color: white;}#sk-container-id-1 div.sk-label label {font-family: monospace;font-weight: bold;display: inline-block;line-height: 1.2em;}#sk-container-id-1 div.sk-label-container {text-align: center;}#sk-container-id-1 div.sk-container {/* jupyter's `normalize.less` sets `[hidden] { display: none; }` but bootstrap.min.css set `[hidden] { display: none !important; }` so we also need the `!important` here to be able to override the default hidden behavior on the sphinx rendered scikit-learn.org. See: https://github.com/scikit-learn/scikit-learn/issues/21755 */display: inline-block !important;position: relative;}#sk-container-id-1 div.sk-text-repr-fallback {display: none;}</style><div id=\"sk-container-id-1\" class=\"sk-top-container\"><div class=\"sk-text-repr-fallback\"><pre>GridSearchCV(cv=5, estimator=Pipeline(steps=[(&#x27;clf&#x27;, SVC(probability=True))]),\n",
       "             n_jobs=-1,\n",
       "             param_grid={&#x27;clf__C&#x27;: [1], &#x27;clf__kernel&#x27;: [&#x27;linear&#x27;],\n",
       "                         &#x27;clf__max_iter&#x27;: [-1]},\n",
       "             scoring=&#x27;accuracy&#x27;, verbose=4)</pre><b>In a Jupyter environment, please rerun this cell to show the HTML representation or trust the notebook. <br />On GitHub, the HTML representation is unable to render, please try loading this page with nbviewer.org.</b></div><div class=\"sk-container\" hidden><div class=\"sk-item sk-dashed-wrapped\"><div class=\"sk-label-container\"><div class=\"sk-label sk-toggleable\"><input class=\"sk-toggleable__control sk-hidden--visually\" id=\"sk-estimator-id-1\" type=\"checkbox\" ><label for=\"sk-estimator-id-1\" class=\"sk-toggleable__label sk-toggleable__label-arrow\">GridSearchCV</label><div class=\"sk-toggleable__content\"><pre>GridSearchCV(cv=5, estimator=Pipeline(steps=[(&#x27;clf&#x27;, SVC(probability=True))]),\n",
       "             n_jobs=-1,\n",
       "             param_grid={&#x27;clf__C&#x27;: [1], &#x27;clf__kernel&#x27;: [&#x27;linear&#x27;],\n",
       "                         &#x27;clf__max_iter&#x27;: [-1]},\n",
       "             scoring=&#x27;accuracy&#x27;, verbose=4)</pre></div></div></div><div class=\"sk-parallel\"><div class=\"sk-parallel-item\"><div class=\"sk-item\"><div class=\"sk-label-container\"><div class=\"sk-label sk-toggleable\"><input class=\"sk-toggleable__control sk-hidden--visually\" id=\"sk-estimator-id-2\" type=\"checkbox\" ><label for=\"sk-estimator-id-2\" class=\"sk-toggleable__label sk-toggleable__label-arrow\">estimator: Pipeline</label><div class=\"sk-toggleable__content\"><pre>Pipeline(steps=[(&#x27;clf&#x27;, SVC(probability=True))])</pre></div></div></div><div class=\"sk-serial\"><div class=\"sk-item\"><div class=\"sk-serial\"><div class=\"sk-item\"><div class=\"sk-estimator sk-toggleable\"><input class=\"sk-toggleable__control sk-hidden--visually\" id=\"sk-estimator-id-3\" type=\"checkbox\" ><label for=\"sk-estimator-id-3\" class=\"sk-toggleable__label sk-toggleable__label-arrow\">SVC</label><div class=\"sk-toggleable__content\"><pre>SVC(probability=True)</pre></div></div></div></div></div></div></div></div></div></div></div></div>"
      ],
      "text/plain": [
       "GridSearchCV(cv=5, estimator=Pipeline(steps=[('clf', SVC(probability=True))]),\n",
       "             n_jobs=-1,\n",
       "             param_grid={'clf__C': [1], 'clf__kernel': ['linear'],\n",
       "                         'clf__max_iter': [-1]},\n",
       "             scoring='accuracy', verbose=4)"
      ]
     },
     "execution_count": 92,
     "metadata": {},
     "output_type": "execute_result"
    }
   ],
   "source": [
    "grid_search.fit(X_train.tolist(),y_train)"
   ]
  },
  {
   "cell_type": "code",
   "execution_count": 93,
   "id": "7f2a0e67-3414-47e8-8594-55f93d7fc2d6",
   "metadata": {},
   "outputs": [
    {
     "data": {
      "text/plain": [
       "{'clf__C': 1, 'clf__kernel': 'linear', 'clf__max_iter': -1}"
      ]
     },
     "execution_count": 93,
     "metadata": {},
     "output_type": "execute_result"
    }
   ],
   "source": [
    "grid_search.best_params_"
   ]
  },
  {
   "cell_type": "code",
   "execution_count": 94,
   "id": "63f4524a-cde4-4422-a4c1-46bc2c25eae5",
   "metadata": {},
   "outputs": [
    {
     "data": {
      "text/plain": [
       "0.5699115044247788"
      ]
     },
     "execution_count": 94,
     "metadata": {},
     "output_type": "execute_result"
    }
   ],
   "source": [
    "grid_search.best_score_"
   ]
  },
  {
   "cell_type": "code",
   "execution_count": 95,
   "id": "c9550f1c-cb65-4e24-9b8b-21bd538f75c4",
   "metadata": {},
   "outputs": [],
   "source": [
    "best_model=grid_search.best_estimator_"
   ]
  },
  {
   "cell_type": "code",
   "execution_count": 96,
   "id": "8c5f31e1-8f1a-427a-89e0-b3135311b879",
   "metadata": {},
   "outputs": [],
   "source": [
    "y_pred=best_model.predict(X_test.tolist())"
   ]
  },
  {
   "cell_type": "code",
   "execution_count": 97,
   "id": "03a1ebf1-84c7-4402-8398-e6141cce75c9",
   "metadata": {},
   "outputs": [
    {
     "data": {
      "text/plain": [
       "0.6862745098039216"
      ]
     },
     "execution_count": 97,
     "metadata": {},
     "output_type": "execute_result"
    }
   ],
   "source": [
    "accuracy_score(y_test,y_pred)"
   ]
  },
  {
   "cell_type": "code",
   "execution_count": 98,
   "id": "76303c10-44de-4a04-99f8-0de63d6036c7",
   "metadata": {},
   "outputs": [],
   "source": [
    "yyy=best_model.predict(X_train)"
   ]
  },
  {
   "cell_type": "code",
   "execution_count": 99,
   "id": "f691ad18-0427-418b-81b3-66940e8b83f8",
   "metadata": {},
   "outputs": [
    {
     "data": {
      "text/plain": [
       "0.7433628318584071"
      ]
     },
     "execution_count": 99,
     "metadata": {},
     "output_type": "execute_result"
    }
   ],
   "source": [
    "accuracy_score(y_train,yyy)"
   ]
  },
  {
   "cell_type": "code",
   "execution_count": 100,
   "id": "565221ca-592a-4f1c-880e-eb45820fc486",
   "metadata": {},
   "outputs": [
    {
     "name": "stdout",
     "output_type": "stream",
     "text": [
      "              precision    recall  f1-score   support\n",
      "\n",
      "           0       0.69      0.79      0.73        28\n",
      "           1       0.68      0.57      0.62        23\n",
      "\n",
      "    accuracy                           0.69        51\n",
      "   macro avg       0.69      0.68      0.68        51\n",
      "weighted avg       0.69      0.69      0.68        51\n",
      "\n"
     ]
    }
   ],
   "source": [
    "report=classification_report(y_test,y_pred)\n",
    "print(report)"
   ]
  },
  {
   "cell_type": "code",
   "execution_count": 101,
   "id": "2f391621-bb5f-46ba-8d82-30844798773c",
   "metadata": {},
   "outputs": [
    {
     "data": {
      "text/plain": [
       "0.6842105263157895"
      ]
     },
     "execution_count": 101,
     "metadata": {},
     "output_type": "execute_result"
    }
   ],
   "source": [
    "precision_score(y_test,y_pred)"
   ]
  },
  {
   "cell_type": "code",
   "execution_count": 102,
   "id": "6bcdf6be-0ed3-4911-b574-da29f7d0f5b7",
   "metadata": {},
   "outputs": [
    {
     "data": {
      "text/plain": [
       "0.5652173913043478"
      ]
     },
     "execution_count": 102,
     "metadata": {},
     "output_type": "execute_result"
    }
   ],
   "source": [
    "recall_score(y_test,y_pred)"
   ]
  },
  {
   "cell_type": "code",
   "execution_count": 103,
   "id": "297f1b0a-314a-4fe0-9b11-9029e30e6342",
   "metadata": {},
   "outputs": [
    {
     "data": {
      "text/plain": [
       "0.6190476190476191"
      ]
     },
     "execution_count": 103,
     "metadata": {},
     "output_type": "execute_result"
    }
   ],
   "source": [
    "f1_score(y_test, y_pred)"
   ]
  },
  {
   "cell_type": "code",
   "execution_count": 104,
   "id": "c43b3973-4b0d-4188-9183-e09ce58513ac",
   "metadata": {},
   "outputs": [],
   "source": [
    "# considering 1 as the class of intrest and plotting the ROC curve"
   ]
  },
  {
   "cell_type": "code",
   "execution_count": 105,
   "id": "60da8031-f672-4f68-9ad3-c1dfe88af24e",
   "metadata": {},
   "outputs": [],
   "source": [
    "y_prob= best_model.predict_proba(X_test.tolist())[:, 1]"
   ]
  },
  {
   "cell_type": "code",
   "execution_count": 106,
   "id": "ef7cf5b2-5cba-49ff-9dd6-d6c2ac40c31d",
   "metadata": {},
   "outputs": [],
   "source": [
    "fpr, tpr, thresholds = roc_curve(y_test, y_prob)"
   ]
  },
  {
   "cell_type": "code",
   "execution_count": 107,
   "id": "9b76c0f1-89d9-4223-b5bc-8193132d1124",
   "metadata": {},
   "outputs": [
    {
     "data": {
      "text/plain": [
       "0.6801242236024845"
      ]
     },
     "execution_count": 107,
     "metadata": {},
     "output_type": "execute_result"
    }
   ],
   "source": [
    "roc_auc=auc(fpr, tpr)\n",
    "roc_auc"
   ]
  },
  {
   "cell_type": "code",
   "execution_count": 108,
   "id": "af254b4a-cbd9-4f3f-8dba-980f3c4930fc",
   "metadata": {},
   "outputs": [
    {
     "data": {
      "image/png": "[encoded data removed]",
      "text/plain": [
       "<Figure size 640x480 with 1 Axes>"
      ]
     },
     "metadata": {},
     "output_type": "display_data"
    }
   ],
   "source": [
    "plt.figure()\n",
    "plt.plot(fpr, tpr, color='darkorange', lw=2, label=f'ROC curve (area = {roc_auc:.4f})')\n",
    "plt.plot([0, 1], [0, 1], color='navy', lw=2, linestyle='--')\n",
    "plt.xlim([0.0, 1.0])\n",
    "plt.ylim([0.0, 1.05])\n",
    "plt.xlabel('False Positive Rate')\n",
    "plt.ylabel('True Positive Rate')\n",
    "plt.title('Receiver Operating Characteristic')\n",
    "plt.legend(loc='lower right')\n",
    "plt.show()"
   ]
  },
  {
   "cell_type": "code",
   "execution_count": 109,
   "id": "4a4dc3d0-28ed-4574-8480-1a1562e6518d",
   "metadata": {},
   "outputs": [
    {
     "data": {
      "image/png": "[encoded data removed]",
      "text/plain": [
       "<Figure size 640x480 with 2 Axes>"
      ]
     },
     "metadata": {},
     "output_type": "display_data"
    }
   ],
   "source": [
    "cm = confusion_matrix(y_test, y_pred)\n",
    "disp = ConfusionMatrixDisplay(confusion_matrix=cm)\n",
    "disp.plot(cmap='Blues')\n",
    "plt.show()"
   ]
  },
  {
   "cell_type": "code",
   "execution_count": 110,
   "id": "9c8cc5de-b51d-4291-86d2-8ae2aaf72bbb",
   "metadata": {},
   "outputs": [
    {
     "data": {
      "image/png": "[encoded data removed]",
      "text/plain": [
       "<Figure size 400x400 with 1 Axes>"
      ]
     },
     "metadata": {},
     "output_type": "display_data"
    }
   ],
   "source": [
    "counts = pd.Series(y_pred).value_counts()\n",
    "\n",
    "# Labels for the pie chart\n",
    "labels = ['Decrease', 'Increase']\n",
    "\n",
    "# Create the pie chart\n",
    "plt.figure(figsize=(4, 4))\n",
    "plt.pie(counts, labels=labels, autopct='%1.1f%%',  colors=['red', 'green'])\n",
    "plt.title('Proportion of Increases and Decreases in Test Set')\n",
    "plt.axis('equal')  # Equal aspect ratio ensures that pie is drawn as a circle.\n",
    "\n",
    "plt.show()"
   ]
  },
  {
   "cell_type": "code",
   "execution_count": 111,
   "id": "fc7fb770-1120-4e31-a5e7-aa07b5152560",
   "metadata": {},
   "outputs": [
    {
     "data": {
      "text/html": [
       "<div>\n",
       "<style scoped>\n",
       "    .dataframe tbody tr th:only-of-type {\n",
       "        vertical-align: middle;\n",
       "    }\n",
       "\n",
       "    .dataframe tbody tr th {\n",
       "        vertical-align: top;\n",
       "    }\n",
       "\n",
       "    .dataframe thead th {\n",
       "        text-align: right;\n",
       "    }\n",
       "</style>\n",
       "<table border=\"1\" class=\"dataframe\">\n",
       "  <thead>\n",
       "    <tr style=\"text-align: right;\">\n",
       "      <th></th>\n",
       "      <th>Date</th>\n",
       "      <th>Open</th>\n",
       "      <th>High</th>\n",
       "      <th>Low</th>\n",
       "      <th>Close</th>\n",
       "      <th>Adj Close</th>\n",
       "      <th>Volume</th>\n",
       "      <th>Label</th>\n",
       "      <th>Company</th>\n",
       "      <th>clean_title</th>\n",
       "    </tr>\n",
       "  </thead>\n",
       "  <tbody>\n",
       "    <tr>\n",
       "      <th>0</th>\n",
       "      <td>2022-01-03</td>\n",
       "      <td>177.830002</td>\n",
       "      <td>182.880005</td>\n",
       "      <td>177.710007</td>\n",
       "      <td>182.009995</td>\n",
       "      <td>179.481140</td>\n",
       "      <td>104487900.0</td>\n",
       "      <td>1</td>\n",
       "      <td>1.0</td>\n",
       "      <td>strong apple 2022 product line could look like...</td>\n",
       "    </tr>\n",
       "    <tr>\n",
       "      <th>1</th>\n",
       "      <td>2022-01-03</td>\n",
       "      <td>382.583344</td>\n",
       "      <td>400.356659</td>\n",
       "      <td>378.679993</td>\n",
       "      <td>399.926666</td>\n",
       "      <td>399.926666</td>\n",
       "      <td>103931400.0</td>\n",
       "      <td>1</td>\n",
       "      <td>3.0</td>\n",
       "      <td>lg energy solution start taking order could so...</td>\n",
       "    </tr>\n",
       "    <tr>\n",
       "      <th>2</th>\n",
       "      <td>2022-01-03</td>\n",
       "      <td>167.550003</td>\n",
       "      <td>170.703506</td>\n",
       "      <td>166.160507</td>\n",
       "      <td>170.404495</td>\n",
       "      <td>170.404495</td>\n",
       "      <td>63520000.0</td>\n",
       "      <td>1</td>\n",
       "      <td>2.0</td>\n",
       "      <td>updating 2021 call suggesting strategic positi...</td>\n",
       "    </tr>\n",
       "    <tr>\n",
       "      <th>3</th>\n",
       "      <td>2022-01-04</td>\n",
       "      <td>182.630005</td>\n",
       "      <td>182.940002</td>\n",
       "      <td>179.119995</td>\n",
       "      <td>179.699997</td>\n",
       "      <td>177.203217</td>\n",
       "      <td>99310400.0</td>\n",
       "      <td>0</td>\n",
       "      <td>1.0</td>\n",
       "      <td>3 trillion beginning apple apple car come prep...</td>\n",
       "    </tr>\n",
       "    <tr>\n",
       "      <th>4</th>\n",
       "      <td>2022-01-04</td>\n",
       "      <td>396.516663</td>\n",
       "      <td>402.666656</td>\n",
       "      <td>374.350006</td>\n",
       "      <td>383.196655</td>\n",
       "      <td>383.196655</td>\n",
       "      <td>100248300.0</td>\n",
       "      <td>0</td>\n",
       "      <td>3.0</td>\n",
       "      <td>tesla open showroom xinjiang chinese region as...</td>\n",
       "    </tr>\n",
       "    <tr>\n",
       "      <th>...</th>\n",
       "      <td>...</td>\n",
       "      <td>...</td>\n",
       "      <td>...</td>\n",
       "      <td>...</td>\n",
       "      <td>...</td>\n",
       "      <td>...</td>\n",
       "      <td>...</td>\n",
       "      <td>...</td>\n",
       "      <td>...</td>\n",
       "      <td>...</td>\n",
       "    </tr>\n",
       "    <tr>\n",
       "      <th>1741</th>\n",
       "      <td>2024-04-25</td>\n",
       "      <td>169.529999</td>\n",
       "      <td>170.610001</td>\n",
       "      <td>168.149994</td>\n",
       "      <td>169.889999</td>\n",
       "      <td>169.659882</td>\n",
       "      <td>50558300.0</td>\n",
       "      <td>1</td>\n",
       "      <td>1.0</td>\n",
       "      <td>spectacular vanguard etf could turn 250 per mo...</td>\n",
       "    </tr>\n",
       "    <tr>\n",
       "      <th>1742</th>\n",
       "      <td>2024-04-25</td>\n",
       "      <td>169.679993</td>\n",
       "      <td>173.919998</td>\n",
       "      <td>166.320007</td>\n",
       "      <td>173.669998</td>\n",
       "      <td>173.669998</td>\n",
       "      <td>49249400.0</td>\n",
       "      <td>0</td>\n",
       "      <td>2.0</td>\n",
       "      <td>invested 10000 amazon 10 year ago much would t...</td>\n",
       "    </tr>\n",
       "    <tr>\n",
       "      <th>1743</th>\n",
       "      <td>2024-04-26</td>\n",
       "      <td>177.800003</td>\n",
       "      <td>180.820007</td>\n",
       "      <td>176.130005</td>\n",
       "      <td>179.619995</td>\n",
       "      <td>179.619995</td>\n",
       "      <td>43919800.0</td>\n",
       "      <td>1</td>\n",
       "      <td>2.0</td>\n",
       "      <td>1 unstoppable stock could join microsoft apple...</td>\n",
       "    </tr>\n",
       "    <tr>\n",
       "      <th>1744</th>\n",
       "      <td>2024-04-26</td>\n",
       "      <td>169.880005</td>\n",
       "      <td>171.339996</td>\n",
       "      <td>169.179993</td>\n",
       "      <td>169.300003</td>\n",
       "      <td>169.070679</td>\n",
       "      <td>44838400.0</td>\n",
       "      <td>0</td>\n",
       "      <td>1.0</td>\n",
       "      <td>1 unstoppable stock could join microsoft apple...</td>\n",
       "    </tr>\n",
       "    <tr>\n",
       "      <th>1745</th>\n",
       "      <td>2024-04-26</td>\n",
       "      <td>168.850006</td>\n",
       "      <td>172.119995</td>\n",
       "      <td>166.369995</td>\n",
       "      <td>168.289993</td>\n",
       "      <td>168.289993</td>\n",
       "      <td>109815700.0</td>\n",
       "      <td>0</td>\n",
       "      <td>3.0</td>\n",
       "      <td>tesla investor tout ev giant billionsmile leap...</td>\n",
       "    </tr>\n",
       "  </tbody>\n",
       "</table>\n",
       "<p>1746 rows × 10 columns</p>\n",
       "</div>"
      ],
      "text/plain": [
       "            Date        Open        High         Low       Close   Adj Close  \\\n",
       "0     2022-01-03  177.830002  182.880005  177.710007  182.009995  179.481140   \n",
       "1     2022-01-03  382.583344  400.356659  378.679993  399.926666  399.926666   \n",
       "2     2022-01-03  167.550003  170.703506  166.160507  170.404495  170.404495   \n",
       "3     2022-01-04  182.630005  182.940002  179.119995  179.699997  177.203217   \n",
       "4     2022-01-04  396.516663  402.666656  374.350006  383.196655  383.196655   \n",
       "...          ...         ...         ...         ...         ...         ...   \n",
       "1741  2024-04-25  169.529999  170.610001  168.149994  169.889999  169.659882   \n",
       "1742  2024-04-25  169.679993  173.919998  166.320007  173.669998  173.669998   \n",
       "1743  2024-04-26  177.800003  180.820007  176.130005  179.619995  179.619995   \n",
       "1744  2024-04-26  169.880005  171.339996  169.179993  169.300003  169.070679   \n",
       "1745  2024-04-26  168.850006  172.119995  166.369995  168.289993  168.289993   \n",
       "\n",
       "           Volume  Label  Company  \\\n",
       "0     104487900.0      1      1.0   \n",
       "1     103931400.0      1      3.0   \n",
       "2      63520000.0      1      2.0   \n",
       "3      99310400.0      0      1.0   \n",
       "4     100248300.0      0      3.0   \n",
       "...           ...    ...      ...   \n",
       "1741   50558300.0      1      1.0   \n",
       "1742   49249400.0      0      2.0   \n",
       "1743   43919800.0      1      2.0   \n",
       "1744   44838400.0      0      1.0   \n",
       "1745  109815700.0      0      3.0   \n",
       "\n",
       "                                            clean_title  \n",
       "0     strong apple 2022 product line could look like...  \n",
       "1     lg energy solution start taking order could so...  \n",
       "2     updating 2021 call suggesting strategic positi...  \n",
       "3     3 trillion beginning apple apple car come prep...  \n",
       "4     tesla open showroom xinjiang chinese region as...  \n",
       "...                                                 ...  \n",
       "1741  spectacular vanguard etf could turn 250 per mo...  \n",
       "1742  invested 10000 amazon 10 year ago much would t...  \n",
       "1743  1 unstoppable stock could join microsoft apple...  \n",
       "1744  1 unstoppable stock could join microsoft apple...  \n",
       "1745  tesla investor tout ev giant billionsmile leap...  \n",
       "\n",
       "[1746 rows x 10 columns]"
      ]
     },
     "execution_count": 111,
     "metadata": {},
     "output_type": "execute_result"
    }
   ],
   "source": [
    "df4"
   ]
  },
  {
   "cell_type": "code",
   "execution_count": 112,
   "id": "d56040f5-e8c0-4443-82f3-1a67f2d912e6",
   "metadata": {},
   "outputs": [
    {
     "data": {
      "text/plain": [
       "1695    [0.0395968, 0.006833031, 0.02979206, 0.0661980...\n",
       "1696    [-0.046929847, 0.019781286, 0.033206835, 0.034...\n",
       "1697    [-0.010227203, 0.015324116, -0.03001523, 0.062...\n",
       "1698    [0.03173436, 0.03086003, -0.025545392, 0.08155...\n",
       "1699    [0.016684579, 0.013998957, -0.033993144, 0.077...\n",
       "1700    [0.030827412, 0.03408394, 0.017991582, 0.07236...\n",
       "1701    [0.000238234, -0.030210925, -0.001413653, 0.05...\n",
       "1702    [0.006989282, 0.024664508, 0.029816903, 0.0595...\n",
       "1703    [0.04539985, 0.014858427, -0.0127836745, 0.085...\n",
       "1704    [0.026466815, 0.012575687, -0.021656517, 0.091...\n",
       "1705    [0.013741349, 0.053104516, 0.02131647, 0.06223...\n",
       "1706    [0.01728241, -0.0012255097, -0.0027375603, 0.0...\n",
       "1707    [0.00061194104, 0.02229309, 0.022024129, 0.064...\n",
       "1708    [-0.00081800064, -0.021912124, -0.0057351636, ...\n",
       "1709    [0.01758284, 0.0040020053, -0.01934619, 0.0681...\n",
       "1710    [-0.01781486, 0.01153008, -0.014107738, 0.0948...\n",
       "1711    [-0.0048423903, 0.015892163, 0.05403569, 0.060...\n",
       "1712    [0.01711046, 0.005616756, -0.012433498, 0.0993...\n",
       "1713    [-0.006228177, -0.012517678, 0.01675773, 0.086...\n",
       "1714    [-0.002443487, 0.032193888, 0.016782627, 0.089...\n",
       "1715    [-0.0028281035, 0.003929138, -0.0029345264, 0....\n",
       "1716    [-0.03365355, 0.05498891, -0.010540539, 0.0843...\n",
       "1717    [0.010564757, 0.007880597, -0.024921598, 0.111...\n",
       "1718    [0.02239431, 0.03385436, 0.01117319, 0.0573450...\n",
       "1719    [0.01599916, 0.022961657, -0.03368684, 0.08237...\n",
       "1720    [-0.0068929084, 0.0053213243, -0.024994252, 0....\n",
       "1721    [0.0075661154, 0.047676407, 0.02127104, 0.0616...\n",
       "1722    [0.0056601968, 0.030683689, 0.009196853, 0.065...\n",
       "1723    [0.002759102, -0.0060238633, 0.0017183744, 0.0...\n",
       "1724    [0.034666553, 0.003690228, -0.001754918, 0.096...\n",
       "1725    [0.03646925, 0.0030100753, -0.041104294, 0.064...\n",
       "1726    [0.004890717, 0.019510377, 0.013649813, 0.0573...\n",
       "1727    [0.036524463, 0.01539694, -0.018214872, 0.0680...\n",
       "1728    [0.041578997, 0.040169798, 0.026184384, 0.0350...\n",
       "1729    [0.011837053, 0.006851385, 0.010176577, 0.0799...\n",
       "1730    [0.036928, -0.005070426, -0.018254995, 0.09443...\n",
       "1731    [0.0023267793, 0.007720389, -0.017951034, 0.07...\n",
       "1732    [0.0044863205, 0.022178236, -0.03275194, 0.054...\n",
       "1733    [0.012275127, 0.04257134, -0.005662662, 0.0793...\n",
       "1734    [0.009434124, 0.03145631, -0.034508634, 0.0784...\n",
       "1735    [0.00088713143, 0.04784299, 0.005829672, 0.059...\n",
       "1736    [-0.013596917, 0.0053011575, -0.0025865077, 0....\n",
       "1737    [0.021690655, 0.0025432587, -0.012776184, 0.10...\n",
       "1738    [-0.010651906, 0.030238329, 0.036651663, 0.058...\n",
       "1739    [-0.008349977, 0.012100571, -0.0023768852, 0.0...\n",
       "1740    [0.0064368183, 0.042996418, 0.0070157875, 0.05...\n",
       "1741    [0.015834594, 0.030510034, 0.006982439, 0.0995...\n",
       "1742    [0.011908263, 0.020769238, -0.031156182, 0.099...\n",
       "1743    [0.012385833, 0.020524636, -0.014020858, 0.091...\n",
       "1744    [0.008278037, 0.002114206, -0.003083715, 0.082...\n",
       "1745    [0.021268114, 0.0144314235, 0.038091447, 0.066...\n",
       "Name: clean_title, dtype: object"
      ]
     },
     "execution_count": 112,
     "metadata": {},
     "output_type": "execute_result"
    }
   ],
   "source": [
    "pre_trained_word2vec[-test_size:]"
   ]
  },
  {
   "cell_type": "code",
   "execution_count": 113,
   "id": "168331dd-656c-4722-9ce0-e3a0539ab9c5",
   "metadata": {},
   "outputs": [
    {
     "data": {
      "text/plain": [
       "array([1, 0, 1, 1, 0, 0, 0, 1, 0, 1, 1, 1, 0, 0, 0, 1, 0, 1, 0, 0, 0, 0,\n",
       "       1, 0, 0, 1, 0, 0, 0, 0, 0, 1, 1, 0, 0, 0, 1, 1, 0, 1, 1, 0, 0, 0,\n",
       "       0, 0, 0, 0, 1, 0, 1])"
      ]
     },
     "execution_count": 113,
     "metadata": {},
     "output_type": "execute_result"
    }
   ],
   "source": [
    "# port_df=pd.merge()\n",
    "(y_pred)"
   ]
  },
  {
   "cell_type": "code",
   "execution_count": 114,
   "id": "af6d98bc-377a-4d69-8cad-86f8918c583b",
   "metadata": {},
   "outputs": [
    {
     "data": {
      "text/plain": [
       "range(1695, 1746)"
      ]
     },
     "execution_count": 114,
     "metadata": {},
     "output_type": "execute_result"
    }
   ],
   "source": [
    "new_index = range(1695, 1695 + len(y_pred))\n",
    "new_index"
   ]
  },
  {
   "cell_type": "code",
   "execution_count": 115,
   "id": "a1ee3abf-3860-4aed-ab89-830ef7e90697",
   "metadata": {
    "scrolled": true
   },
   "outputs": [],
   "source": [
    "y_pred=pd.Series(y_pred)\n",
    "(y_pred).index=new_index\n",
    "# pd.Series(y_pred)\n",
    "y_pred.name='pred_Label'"
   ]
  },
  {
   "cell_type": "code",
   "execution_count": 116,
   "id": "1cc315c8-5b4d-4853-9a80-3f7b34af935d",
   "metadata": {},
   "outputs": [],
   "source": [
    "port_df=pd.concat([df4.iloc[-test_size:,:],(y_pred)],axis=1)"
   ]
  },
  {
   "cell_type": "code",
   "execution_count": 117,
   "id": "03f85ee1-f435-4301-ab27-a7bcafc417ed",
   "metadata": {},
   "outputs": [
    {
     "data": {
      "text/html": [
       "<div>\n",
       "<style scoped>\n",
       "    .dataframe tbody tr th:only-of-type {\n",
       "        vertical-align: middle;\n",
       "    }\n",
       "\n",
       "    .dataframe tbody tr th {\n",
       "        vertical-align: top;\n",
       "    }\n",
       "\n",
       "    .dataframe thead th {\n",
       "        text-align: right;\n",
       "    }\n",
       "</style>\n",
       "<table border=\"1\" class=\"dataframe\">\n",
       "  <thead>\n",
       "    <tr style=\"text-align: right;\">\n",
       "      <th></th>\n",
       "      <th>Date</th>\n",
       "      <th>Open</th>\n",
       "      <th>High</th>\n",
       "      <th>Low</th>\n",
       "      <th>Close</th>\n",
       "      <th>Adj Close</th>\n",
       "      <th>Volume</th>\n",
       "      <th>Label</th>\n",
       "      <th>Company</th>\n",
       "      <th>clean_title</th>\n",
       "      <th>pred_Label</th>\n",
       "    </tr>\n",
       "  </thead>\n",
       "  <tbody>\n",
       "    <tr>\n",
       "      <th>1695</th>\n",
       "      <td>2024-04-04</td>\n",
       "      <td>170.070007</td>\n",
       "      <td>177.190002</td>\n",
       "      <td>168.009995</td>\n",
       "      <td>171.110001</td>\n",
       "      <td>171.110001</td>\n",
       "      <td>123162000.0</td>\n",
       "      <td>1</td>\n",
       "      <td>3.0</td>\n",
       "      <td>tesla stock still 30 downside according 1 wall...</td>\n",
       "      <td>1</td>\n",
       "    </tr>\n",
       "    <tr>\n",
       "      <th>1696</th>\n",
       "      <td>2024-04-04</td>\n",
       "      <td>170.289993</td>\n",
       "      <td>171.919998</td>\n",
       "      <td>168.820007</td>\n",
       "      <td>168.820007</td>\n",
       "      <td>168.591339</td>\n",
       "      <td>53704400.0</td>\n",
       "      <td>0</td>\n",
       "      <td>1.0</td>\n",
       "      <td>uk japan india emerge apple thirdlargest iphon...</td>\n",
       "      <td>0</td>\n",
       "    </tr>\n",
       "    <tr>\n",
       "      <th>1697</th>\n",
       "      <td>2024-04-04</td>\n",
       "      <td>184.000000</td>\n",
       "      <td>185.100006</td>\n",
       "      <td>180.000000</td>\n",
       "      <td>180.000000</td>\n",
       "      <td>180.000000</td>\n",
       "      <td>41624300.0</td>\n",
       "      <td>0</td>\n",
       "      <td>2.0</td>\n",
       "      <td>undertheradar announcement make confluent top ...</td>\n",
       "      <td>1</td>\n",
       "    </tr>\n",
       "    <tr>\n",
       "      <th>1698</th>\n",
       "      <td>2024-04-05</td>\n",
       "      <td>169.589996</td>\n",
       "      <td>170.389999</td>\n",
       "      <td>168.949997</td>\n",
       "      <td>169.580002</td>\n",
       "      <td>169.350296</td>\n",
       "      <td>42055200.0</td>\n",
       "      <td>1</td>\n",
       "      <td>1.0</td>\n",
       "      <td>2 magnificent seven stock spotlight wrong reas...</td>\n",
       "      <td>1</td>\n",
       "    </tr>\n",
       "    <tr>\n",
       "      <th>1699</th>\n",
       "      <td>2024-04-05</td>\n",
       "      <td>182.380005</td>\n",
       "      <td>186.270004</td>\n",
       "      <td>181.970001</td>\n",
       "      <td>185.070007</td>\n",
       "      <td>185.070007</td>\n",
       "      <td>42335200.0</td>\n",
       "      <td>1</td>\n",
       "      <td>2.0</td>\n",
       "      <td>amazon stock 2030 3 reason amazon stock could ...</td>\n",
       "      <td>0</td>\n",
       "    </tr>\n",
       "  </tbody>\n",
       "</table>\n",
       "</div>"
      ],
      "text/plain": [
       "            Date        Open        High         Low       Close   Adj Close  \\\n",
       "1695  2024-04-04  170.070007  177.190002  168.009995  171.110001  171.110001   \n",
       "1696  2024-04-04  170.289993  171.919998  168.820007  168.820007  168.591339   \n",
       "1697  2024-04-04  184.000000  185.100006  180.000000  180.000000  180.000000   \n",
       "1698  2024-04-05  169.589996  170.389999  168.949997  169.580002  169.350296   \n",
       "1699  2024-04-05  182.380005  186.270004  181.970001  185.070007  185.070007   \n",
       "\n",
       "           Volume  Label  Company  \\\n",
       "1695  123162000.0      1      3.0   \n",
       "1696   53704400.0      0      1.0   \n",
       "1697   41624300.0      0      2.0   \n",
       "1698   42055200.0      1      1.0   \n",
       "1699   42335200.0      1      2.0   \n",
       "\n",
       "                                            clean_title  pred_Label  \n",
       "1695  tesla stock still 30 downside according 1 wall...           1  \n",
       "1696  uk japan india emerge apple thirdlargest iphon...           0  \n",
       "1697  undertheradar announcement make confluent top ...           1  \n",
       "1698  2 magnificent seven stock spotlight wrong reas...           1  \n",
       "1699  amazon stock 2030 3 reason amazon stock could ...           0  "
      ]
     },
     "execution_count": 117,
     "metadata": {},
     "output_type": "execute_result"
    }
   ],
   "source": [
    "# pd.Series(y_pred)\n",
    "port_df.head()"
   ]
  },
  {
   "cell_type": "code",
   "execution_count": 118,
   "id": "41225129-3777-4e83-914e-a7c9df0ab7ef",
   "metadata": {},
   "outputs": [
    {
     "data": {
      "text/html": [
       "<div>\n",
       "<style scoped>\n",
       "    .dataframe tbody tr th:only-of-type {\n",
       "        vertical-align: middle;\n",
       "    }\n",
       "\n",
       "    .dataframe tbody tr th {\n",
       "        vertical-align: top;\n",
       "    }\n",
       "\n",
       "    .dataframe thead th {\n",
       "        text-align: right;\n",
       "    }\n",
       "</style>\n",
       "<table border=\"1\" class=\"dataframe\">\n",
       "  <thead>\n",
       "    <tr style=\"text-align: right;\">\n",
       "      <th></th>\n",
       "      <th>Date</th>\n",
       "      <th>Open</th>\n",
       "      <th>High</th>\n",
       "      <th>Low</th>\n",
       "      <th>Close</th>\n",
       "      <th>Adj Close</th>\n",
       "      <th>Volume</th>\n",
       "      <th>Label</th>\n",
       "      <th>Company</th>\n",
       "      <th>clean_title</th>\n",
       "      <th>pred_Label</th>\n",
       "    </tr>\n",
       "  </thead>\n",
       "  <tbody>\n",
       "    <tr>\n",
       "      <th>1696</th>\n",
       "      <td>2024-04-04</td>\n",
       "      <td>170.289993</td>\n",
       "      <td>171.919998</td>\n",
       "      <td>168.820007</td>\n",
       "      <td>168.820007</td>\n",
       "      <td>168.591339</td>\n",
       "      <td>53704400.0</td>\n",
       "      <td>0</td>\n",
       "      <td>1.0</td>\n",
       "      <td>uk japan india emerge apple thirdlargest iphon...</td>\n",
       "      <td>0</td>\n",
       "    </tr>\n",
       "    <tr>\n",
       "      <th>1698</th>\n",
       "      <td>2024-04-05</td>\n",
       "      <td>169.589996</td>\n",
       "      <td>170.389999</td>\n",
       "      <td>168.949997</td>\n",
       "      <td>169.580002</td>\n",
       "      <td>169.350296</td>\n",
       "      <td>42055200.0</td>\n",
       "      <td>1</td>\n",
       "      <td>1.0</td>\n",
       "      <td>2 magnificent seven stock spotlight wrong reas...</td>\n",
       "      <td>1</td>\n",
       "    </tr>\n",
       "    <tr>\n",
       "      <th>1701</th>\n",
       "      <td>2024-04-08</td>\n",
       "      <td>169.029999</td>\n",
       "      <td>169.199997</td>\n",
       "      <td>168.240005</td>\n",
       "      <td>168.449997</td>\n",
       "      <td>168.221832</td>\n",
       "      <td>37425500.0</td>\n",
       "      <td>0</td>\n",
       "      <td>1.0</td>\n",
       "      <td>almost half warren buffetts 369 billion portfo...</td>\n",
       "      <td>0</td>\n",
       "    </tr>\n",
       "    <tr>\n",
       "      <th>1706</th>\n",
       "      <td>2024-04-09</td>\n",
       "      <td>168.699997</td>\n",
       "      <td>170.080002</td>\n",
       "      <td>168.350006</td>\n",
       "      <td>169.669998</td>\n",
       "      <td>169.440170</td>\n",
       "      <td>42451200.0</td>\n",
       "      <td>1</td>\n",
       "      <td>1.0</td>\n",
       "      <td>meet cheapest magnificent seven stock accordin...</td>\n",
       "      <td>1</td>\n",
       "    </tr>\n",
       "    <tr>\n",
       "      <th>1708</th>\n",
       "      <td>2024-04-10</td>\n",
       "      <td>168.800003</td>\n",
       "      <td>169.089996</td>\n",
       "      <td>167.110001</td>\n",
       "      <td>167.779999</td>\n",
       "      <td>167.552734</td>\n",
       "      <td>49709300.0</td>\n",
       "      <td>0</td>\n",
       "      <td>1.0</td>\n",
       "      <td>clearbridge appreciation strategy q1 2024 port...</td>\n",
       "      <td>0</td>\n",
       "    </tr>\n",
       "  </tbody>\n",
       "</table>\n",
       "</div>"
      ],
      "text/plain": [
       "            Date        Open        High         Low       Close   Adj Close  \\\n",
       "1696  2024-04-04  170.289993  171.919998  168.820007  168.820007  168.591339   \n",
       "1698  2024-04-05  169.589996  170.389999  168.949997  169.580002  169.350296   \n",
       "1701  2024-04-08  169.029999  169.199997  168.240005  168.449997  168.221832   \n",
       "1706  2024-04-09  168.699997  170.080002  168.350006  169.669998  169.440170   \n",
       "1708  2024-04-10  168.800003  169.089996  167.110001  167.779999  167.552734   \n",
       "\n",
       "          Volume  Label  Company  \\\n",
       "1696  53704400.0      0      1.0   \n",
       "1698  42055200.0      1      1.0   \n",
       "1701  37425500.0      0      1.0   \n",
       "1706  42451200.0      1      1.0   \n",
       "1708  49709300.0      0      1.0   \n",
       "\n",
       "                                            clean_title  pred_Label  \n",
       "1696  uk japan india emerge apple thirdlargest iphon...           0  \n",
       "1698  2 magnificent seven stock spotlight wrong reas...           1  \n",
       "1701  almost half warren buffetts 369 billion portfo...           0  \n",
       "1706  meet cheapest magnificent seven stock accordin...           1  \n",
       "1708  clearbridge appreciation strategy q1 2024 port...           0  "
      ]
     },
     "execution_count": 118,
     "metadata": {},
     "output_type": "execute_result"
    }
   ],
   "source": [
    "port_df=port_df.sort_values(by=['Company','Date'])\n",
    "port_df.head()"
   ]
  },
  {
   "cell_type": "markdown",
   "id": "858f33a3-9d87-4c17-bd55-c2bd4f60c7fd",
   "metadata": {},
   "source": [
    "# Strategy 1"
   ]
  },
  {
   "cell_type": "code",
   "execution_count": 119,
   "id": "584efade-a2f7-40b7-8d1e-ffd176c7daf2",
   "metadata": {},
   "outputs": [],
   "source": [
    "# 1 indicates buying at open price and selling at close price \n",
    "# 0 indicates short selling that is selling at open price and buying it at close price \n",
    "# and for each transaction ie each day only 10 stocks are only used "
   ]
  },
  {
   "cell_type": "code",
   "execution_count": 120,
   "id": "42ef44d5-bcc5-4d5b-b5f8-35247554879a",
   "metadata": {},
   "outputs": [
    {
     "data": {
      "text/plain": [
       "90.60001000000085"
      ]
     },
     "execution_count": 120,
     "metadata": {},
     "output_type": "execute_result"
    }
   ],
   "source": [
    "profits_aapl=0\n",
    "stocks = 10\n",
    "returns_aapl=[]\n",
    "trades_aapl=0\n",
    "s_trades_aapl=0\n",
    "for open,close,label in port_df.iloc[:17,[1,4,10]].values:\n",
    "    if label==1:\n",
    "        profits_aapl+=(stocks*(close-open))\n",
    "        returns_aapl.append((close-open)/open)\n",
    "        if close>open:\n",
    "            s_trades_aapl+=1\n",
    "        trades_aapl+=2\n",
    "    if label==0:\n",
    "        profits_aapl+=(stocks*(open-close))\n",
    "        returns_aapl.append((open-close)/open)\n",
    "        if(open>close):\n",
    "            s_trades_aapl+=1\n",
    "        trades_aapl+=2\n",
    "profits_aapl"
   ]
  },
  {
   "cell_type": "code",
   "execution_count": 121,
   "id": "fd8273ce-4e89-4ab2-9988-f984d7109bde",
   "metadata": {},
   "outputs": [],
   "source": [
    "returns_aapl=pd.Series(returns_aapl)\n",
    "returns_aapl.name='Apple'"
   ]
  },
  {
   "cell_type": "code",
   "execution_count": 122,
   "id": "7446f8d2-2eaf-4cf2-8336-f8bf78c0e5ba",
   "metadata": {},
   "outputs": [
    {
     "data": {
      "text/plain": [
       "-18.700400000000457"
      ]
     },
     "execution_count": 122,
     "metadata": {},
     "output_type": "execute_result"
    }
   ],
   "source": [
    "profits_amzn=0\n",
    "stocks = 10\n",
    "returns_amzn=[]\n",
    "trades_amzn=0\n",
    "s_trades_amzn=0\n",
    "for open,close,label in port_df.iloc[17:34,[1,4,10]].values:\n",
    "    if label==1:\n",
    "        profits_amzn+=(stocks*(close-open))\n",
    "        returns_amzn.append((close-open)/open)\n",
    "        if close>open:\n",
    "            s_trades_amzn+=1\n",
    "        trades_amzn+=2\n",
    "    if label==0:\n",
    "        profits_amzn+=(stocks*(open-close))\n",
    "        returns_amzn.append((open-close)/open)\n",
    "        if(open>close):\n",
    "            s_trades_amzn+=1\n",
    "        trades_amzn+=2\n",
    "profits_amzn"
   ]
  },
  {
   "cell_type": "code",
   "execution_count": 123,
   "id": "03a5a6e8-5602-4a95-9fc4-8161bb0b8fee",
   "metadata": {},
   "outputs": [],
   "source": [
    "returns_amzn=pd.Series(returns_amzn)\n",
    "returns_amzn.name='Amazon'"
   ]
  },
  {
   "cell_type": "code",
   "execution_count": 124,
   "id": "3dea2532-1caf-44f6-9409-4401b55522dc",
   "metadata": {},
   "outputs": [
    {
     "data": {
      "text/plain": [
       "133.19975"
      ]
     },
     "execution_count": 124,
     "metadata": {},
     "output_type": "execute_result"
    }
   ],
   "source": [
    "profits_tsla=0\n",
    "stocks = 10\n",
    "returns_tsla=[]\n",
    "trades_tsla=0\n",
    "s_trades_tsla=0\n",
    "for open,close,label in port_df.iloc[34:51,[1,4,10]].values:\n",
    "    if label==1:\n",
    "        profits_tsla+=(stocks*(close-open))\n",
    "        returns_tsla.append((close-open)/open)\n",
    "        if close>open:\n",
    "            s_trades_tsla+=1\n",
    "        trades_tsla+=2\n",
    "    if label==0:\n",
    "        profits_tsla+=(stocks*(open-close))\n",
    "        returns_tsla.append((open-close)/open)\n",
    "        if(open>close):\n",
    "            s_trades_tsla+=1\n",
    "        trades_tsla+=2\n",
    "profits_tsla"
   ]
  },
  {
   "cell_type": "code",
   "execution_count": 125,
   "id": "c046e1ab-4705-404d-9c5d-f55666c77e46",
   "metadata": {},
   "outputs": [],
   "source": [
    "returns_tsla=pd.Series(returns_tsla)\n",
    "returns_tsla.name='Tesla'"
   ]
  },
  {
   "cell_type": "code",
   "execution_count": 126,
   "id": "0d998694-9fcf-471b-a9b2-52c300af9f00",
   "metadata": {},
   "outputs": [
    {
     "data": {
      "text/html": [
       "<div>\n",
       "<style scoped>\n",
       "    .dataframe tbody tr th:only-of-type {\n",
       "        vertical-align: middle;\n",
       "    }\n",
       "\n",
       "    .dataframe tbody tr th {\n",
       "        vertical-align: top;\n",
       "    }\n",
       "\n",
       "    .dataframe thead th {\n",
       "        text-align: right;\n",
       "    }\n",
       "</style>\n",
       "<table border=\"1\" class=\"dataframe\">\n",
       "  <thead>\n",
       "    <tr style=\"text-align: right;\">\n",
       "      <th></th>\n",
       "      <th>Apple</th>\n",
       "      <th>Amazon</th>\n",
       "      <th>Tesla</th>\n",
       "    </tr>\n",
       "  </thead>\n",
       "  <tbody>\n",
       "    <tr>\n",
       "      <th>0</th>\n",
       "      <td>0.008632</td>\n",
       "      <td>-0.021739</td>\n",
       "      <td>0.006115</td>\n",
       "    </tr>\n",
       "    <tr>\n",
       "      <th>1</th>\n",
       "      <td>-0.000059</td>\n",
       "      <td>-0.014749</td>\n",
       "      <td>0.024722</td>\n",
       "    </tr>\n",
       "    <tr>\n",
       "      <th>2</th>\n",
       "      <td>0.003431</td>\n",
       "      <td>0.009149</td>\n",
       "      <td>0.021495</td>\n",
       "    </tr>\n",
       "    <tr>\n",
       "      <th>3</th>\n",
       "      <td>0.005750</td>\n",
       "      <td>-0.008385</td>\n",
       "      <td>0.022960</td>\n",
       "    </tr>\n",
       "    <tr>\n",
       "      <th>4</th>\n",
       "      <td>0.006043</td>\n",
       "      <td>-0.017399</td>\n",
       "      <td>0.007397</td>\n",
       "    </tr>\n",
       "    <tr>\n",
       "      <th>5</th>\n",
       "      <td>0.039800</td>\n",
       "      <td>0.012370</td>\n",
       "      <td>-0.011881</td>\n",
       "    </tr>\n",
       "    <tr>\n",
       "      <th>6</th>\n",
       "      <td>-0.013141</td>\n",
       "      <td>0.008470</td>\n",
       "      <td>0.007485</td>\n",
       "    </tr>\n",
       "    <tr>\n",
       "      <th>7</th>\n",
       "      <td>0.015226</td>\n",
       "      <td>-0.020328</td>\n",
       "      <td>0.051457</td>\n",
       "    </tr>\n",
       "    <tr>\n",
       "      <th>8</th>\n",
       "      <td>-0.013799</td>\n",
       "      <td>-0.000273</td>\n",
       "      <td>-0.002361</td>\n",
       "    </tr>\n",
       "    <tr>\n",
       "      <th>9</th>\n",
       "      <td>0.009492</td>\n",
       "      <td>0.016440</td>\n",
       "      <td>0.013892</td>\n",
       "    </tr>\n",
       "    <tr>\n",
       "      <th>10</th>\n",
       "      <td>0.005892</td>\n",
       "      <td>-0.012399</td>\n",
       "      <td>-0.008727</td>\n",
       "    </tr>\n",
       "    <tr>\n",
       "      <th>11</th>\n",
       "      <td>0.007280</td>\n",
       "      <td>0.022994</td>\n",
       "      <td>0.012888</td>\n",
       "    </tr>\n",
       "    <tr>\n",
       "      <th>12</th>\n",
       "      <td>0.001933</td>\n",
       "      <td>0.001639</td>\n",
       "      <td>-0.010600</td>\n",
       "    </tr>\n",
       "    <tr>\n",
       "      <th>13</th>\n",
       "      <td>-0.009374</td>\n",
       "      <td>0.008199</td>\n",
       "      <td>0.009419</td>\n",
       "    </tr>\n",
       "    <tr>\n",
       "      <th>14</th>\n",
       "      <td>-0.014891</td>\n",
       "      <td>0.018617</td>\n",
       "      <td>0.004360</td>\n",
       "    </tr>\n",
       "    <tr>\n",
       "      <th>15</th>\n",
       "      <td>-0.002124</td>\n",
       "      <td>-0.023515</td>\n",
       "      <td>-0.070584</td>\n",
       "    </tr>\n",
       "    <tr>\n",
       "      <th>16</th>\n",
       "      <td>0.003414</td>\n",
       "      <td>0.010236</td>\n",
       "      <td>-0.003317</td>\n",
       "    </tr>\n",
       "  </tbody>\n",
       "</table>\n",
       "</div>"
      ],
      "text/plain": [
       "       Apple    Amazon     Tesla\n",
       "0   0.008632 -0.021739  0.006115\n",
       "1  -0.000059 -0.014749  0.024722\n",
       "2   0.003431  0.009149  0.021495\n",
       "3   0.005750 -0.008385  0.022960\n",
       "4   0.006043 -0.017399  0.007397\n",
       "5   0.039800  0.012370 -0.011881\n",
       "6  -0.013141  0.008470  0.007485\n",
       "7   0.015226 -0.020328  0.051457\n",
       "8  -0.013799 -0.000273 -0.002361\n",
       "9   0.009492  0.016440  0.013892\n",
       "10  0.005892 -0.012399 -0.008727\n",
       "11  0.007280  0.022994  0.012888\n",
       "12  0.001933  0.001639 -0.010600\n",
       "13 -0.009374  0.008199  0.009419\n",
       "14 -0.014891  0.018617  0.004360\n",
       "15 -0.002124 -0.023515 -0.070584\n",
       "16  0.003414  0.010236 -0.003317"
      ]
     },
     "execution_count": 126,
     "metadata": {},
     "output_type": "execute_result"
    }
   ],
   "source": [
    "pd.concat([pd.Series(returns_aapl),pd.Series(returns_amzn),pd.Series(returns_tsla)],axis=1)"
   ]
  },
  {
   "cell_type": "code",
   "execution_count": 127,
   "id": "08e0f190-0205-4b37-9787-9ac649d57601",
   "metadata": {},
   "outputs": [
    {
     "name": "stdout",
     "output_type": "stream",
     "text": [
      "Profit/Loss in APPLE: 90.60001000000085 $\n",
      "Profit/Loss in AMAZON: -18.700400000000457 $\n",
      "Profit/Loss in TSLA: 133.19975 $\n",
      "Profit/Loss in TOTAL: 205.0993600000004 $\n"
     ]
    }
   ],
   "source": [
    "print(f\"Profit/Loss in APPLE: {profits_aapl} $\")\n",
    "print(f\"Profit/Loss in AMAZON: {profits_amzn} $\")\n",
    "print(f\"Profit/Loss in TSLA: {profits_tsla} $\")\n",
    "print(f\"Profit/Loss in TOTAL: {profits_aapl+profits_amzn+profits_tsla} $\")"
   ]
  },
  {
   "cell_type": "code",
   "execution_count": 128,
   "id": "3b9cd91b-7258-4f90-a9f7-f1f7ea4d29fc",
   "metadata": {},
   "outputs": [
    {
     "data": {
      "image/png": "[encoded data removed]",
      "text/plain": [
       "<Figure size 640x480 with 1 Axes>"
      ]
     },
     "metadata": {},
     "output_type": "display_data"
    }
   ],
   "source": [
    "company_names = ['Apple(AAPL)', 'Amazon(AMZN)', 'Tesla(TSLA)']\n",
    "profit_loss_values = [profits_aapl, profits_amzn, profits_tsla]\n",
    "plt.bar(company_names, profit_loss_values, color=['green' if value >= 0 else 'red' for value in profit_loss_values])\n",
    "plt.xlabel('Companies')\n",
    "plt.ylabel('Profit/Loss')\n",
    "plt.title('Profit or Loss of Companies')\n",
    "plt.axhline(0, color='black', linewidth=0.1)\n",
    "plt.show()"
   ]
  },
  {
   "cell_type": "code",
   "execution_count": 129,
   "id": "7fcb98a3-2342-4b15-b0e8-de6989324b77",
   "metadata": {},
   "outputs": [
    {
     "data": {
      "image/png": "[encoded data removed]",
      "text/plain": [
       "<PIL.PngImagePlugin.PngImageFile image mode=RGBA size=832x281>"
      ]
     },
     "metadata": {},
     "output_type": "display_data"
    }
   ],
   "source": [
    "image = Image.open(r\"C:\\Users\\Jaya Teja\\Stock_Sentiment_Analysis_Using_Machine_Learning_Open_Project\\Finance_Project\\US Treasury Rate of a Year from market watch.png\")\n",
    "display(image)\n"
   ]
  },
  {
   "cell_type": "code",
   "execution_count": 130,
   "id": "21cae7f9-73e9-4d32-a7ad-9e5cd683b88f",
   "metadata": {},
   "outputs": [],
   "source": [
    "portfolio_returns = np.array([returns_aapl, returns_amzn, returns_tsla])\n",
    "mean_returns = portfolio_returns.mean(axis=1)\n",
    "weights = np.array([1/3, 1/3, 1/3])\n",
    "portfolio_mean_return = np.dot(mean_returns, weights)\n",
    "cov_matrix = np.cov(portfolio_returns)\n",
    "portfolio_std_dev = np.sqrt(np.dot(weights.T, np.dot(cov_matrix, weights)))\n",
    "annual_free_rate = 5.096/100\n",
    "risk_free_rate = (1+annual_free_rate)**(1/252) - 1 # 252 trading days in a year and calculating for daily\n",
    "sharpe_ratio = (portfolio_mean_return - risk_free_rate) / portfolio_std_dev"
   ]
  },
  {
   "cell_type": "code",
   "execution_count": 131,
   "id": "99db4e9a-fc8f-4401-aeb5-0b0125a0a959",
   "metadata": {},
   "outputs": [
    {
     "name": "stdout",
     "output_type": "stream",
     "text": [
      "Portfolio Mean Return: 0.0023050081606133697\n",
      "Risk-Free Rate (R_f): 0.0001972576756701372\n",
      "Portfolio Standard Deviation: 0.011243367975907035\n",
      "Sharpe Ratio: 0.1874661124193255\n"
     ]
    }
   ],
   "source": [
    "print(\"Portfolio Mean Return:\", portfolio_mean_return)\n",
    "print(\"Risk-Free Rate (R_f):\", risk_free_rate)\n",
    "print(\"Portfolio Standard Deviation:\", portfolio_std_dev)\n",
    "print(\"Sharpe Ratio:\", sharpe_ratio)"
   ]
  },
  {
   "cell_type": "code",
   "execution_count": 132,
   "id": "e2cd534d-3980-40a0-bab5-321686c33a72",
   "metadata": {},
   "outputs": [],
   "source": [
    "def calculate_max_drawdown(returns):\n",
    "    max_drawdown = 0\n",
    "    peak = trough = 0\n",
    "    cumulative_returns = np.cumprod(1 + returns) - 1\n",
    "    for i in range(len(cumulative_returns)):\n",
    "        if cumulative_returns[i] > cumulative_returns[peak]:\n",
    "            peak = trough = i\n",
    "        elif cumulative_returns[i] < cumulative_returns[trough]:\n",
    "            trough = i\n",
    "        drawdown = (cumulative_returns[peak] - cumulative_returns[trough]) / (1 + cumulative_returns[peak])\n",
    "        max_drawdown = max(max_drawdown, drawdown)\n",
    "    return max_drawdown*100"
   ]
  },
  {
   "cell_type": "code",
   "execution_count": 133,
   "id": "1c209367-53eb-4f3a-a654-b009612cbe6b",
   "metadata": {},
   "outputs": [],
   "source": [
    "max_drawdown_aapl = calculate_max_drawdown(np.array(returns_aapl))\n",
    "max_drawdown_amzn = calculate_max_drawdown(np.array(returns_amzn))\n",
    "max_drawdown_tsla = calculate_max_drawdown(np.array(returns_tsla))"
   ]
  },
  {
   "cell_type": "code",
   "execution_count": 134,
   "id": "7abbb158-2152-488b-8916-0f741ae90001",
   "metadata": {},
   "outputs": [
    {
     "name": "stdout",
     "output_type": "stream",
     "text": [
      "Maximum Drawdown for Apple(%): 2.619806108841462\n",
      "Maximum Drawdown for Amazon(%): 3.130484006949339\n",
      "Maximum Drawdown for Tesla(%): 7.366623348144624\n"
     ]
    }
   ],
   "source": [
    "print(\"Maximum Drawdown for Apple(%):\", max_drawdown_aapl)\n",
    "print(\"Maximum Drawdown for Amazon(%):\", max_drawdown_amzn)\n",
    "print(\"Maximum Drawdown for Tesla(%):\", max_drawdown_tsla)"
   ]
  },
  {
   "cell_type": "code",
   "execution_count": 135,
   "id": "9bb5f52a-3f7b-4f26-ae2a-7143841da71b",
   "metadata": {},
   "outputs": [
    {
     "data": {
      "image/png": "[encoded data removed]",
      "text/plain": [
       "<Figure size 640x480 with 1 Axes>"
      ]
     },
     "metadata": {},
     "output_type": "display_data"
    }
   ],
   "source": [
    "drawdown_values = [max_drawdown_aapl, max_drawdown_amzn, max_drawdown_tsla]\n",
    "plt.bar(company_names, drawdown_values, color='#FFB6C1')\n",
    "plt.xlabel('Companies')\n",
    "plt.ylabel('Maximum Drawdown (%)')\n",
    "plt.title('Maximum Drawdowns of Companies')\n",
    "plt.axhline(0, color='black', linewidth=0.4)\n",
    "plt.show()"
   ]
  },
  {
   "cell_type": "code",
   "execution_count": 136,
   "id": "10327c44-6842-48ca-ad3a-3bc43e8cd77f",
   "metadata": {},
   "outputs": [
    {
     "name": "stdout",
     "output_type": "stream",
     "text": [
      "No. of Trades executed on Apple Stocks: 34\n",
      "No. of Trades executed on Amazon Stocks: 34\n",
      "No. of Trades executed on Tesla Stocks: 34\n"
     ]
    }
   ],
   "source": [
    "print(\"No. of Trades executed on Apple Stocks:\",trades_aapl)\n",
    "print(\"No. of Trades executed on Amazon Stocks:\",trades_amzn)\n",
    "print(\"No. of Trades executed on Tesla Stocks:\",trades_tsla)"
   ]
  },
  {
   "cell_type": "code",
   "execution_count": 137,
   "id": "1d7ecbbb-ceb2-4705-ad0c-2a876f153720",
   "metadata": {},
   "outputs": [
    {
     "data": {
      "image/png": "[encoded data removed]",
      "text/plain": [
       "<Figure size 640x480 with 1 Axes>"
      ]
     },
     "metadata": {},
     "output_type": "display_data"
    }
   ],
   "source": [
    "comp_trades = [trades_aapl, trades_amzn, trades_tsla]\n",
    "plt.bar(company_names, comp_trades, color='#ADD8E6')\n",
    "plt.xlabel('Companies')\n",
    "plt.ylabel('Number of FO Trades Executed')\n",
    "plt.title('Number of Trades Executed by Company')\n",
    "plt.show()"
   ]
  },
  {
   "cell_type": "code",
   "execution_count": 138,
   "id": "f9af4483-161a-4e45-b8e3-bf4ec416b702",
   "metadata": {},
   "outputs": [
    {
     "name": "stdout",
     "output_type": "stream",
     "text": [
      "Win Ratio on Apple Stocks: 0.6470588235294118\n",
      "Win Ratio on Amazon Stocks: 0.5294117647058824\n",
      "Win Ratio on Tesla Stocks: 0.6470588235294118\n"
     ]
    }
   ],
   "source": [
    "print(\"Win Ratio on Apple Stocks:\",s_trades_aapl/(trades_aapl/2))\n",
    "print(\"Win Ratio on Amazon Stocks:\",s_trades_amzn/(trades_amzn/2))\n",
    "print(\"Win Ratio on Tesla Stocks:\",s_trades_tsla/(trades_tsla/2))"
   ]
  },
  {
   "cell_type": "code",
   "execution_count": 139,
   "id": "dd7f250a-c625-48cc-92dd-572f28a226a1",
   "metadata": {},
   "outputs": [],
   "source": [
    "winr_aapl=s_trades_aapl/(trades_aapl/2)\n",
    "winr_amzn=s_trades_amzn/(trades_amzn/2)\n",
    "winr_tsla=s_trades_tsla/(trades_tsla/2)"
   ]
  },
  {
   "cell_type": "code",
   "execution_count": 140,
   "id": "9cffc28e-0589-48f5-afe0-53b206f7e030",
   "metadata": {},
   "outputs": [
    {
     "data": {
      "image/png": "[encoded data removed]",
      "text/plain": [
       "<Figure size 640x480 with 1 Axes>"
      ]
     },
     "metadata": {},
     "output_type": "display_data"
    }
   ],
   "source": [
    "win_ratios = [winr_aapl,winr_amzn ,winr_tsla ]\n",
    "plt.bar(company_names, win_ratios, color='#90EE90')\n",
    "plt.xlabel('Companies')\n",
    "plt.ylabel('Win Ratio')\n",
    "plt.title('Win Ratios of Companies')\n",
    "plt.show()"
   ]
  },
  {
   "cell_type": "markdown",
   "id": "2df9e102-a770-4bda-9d16-d11b0a2db263",
   "metadata": {},
   "source": [
    "# Strategy 2"
   ]
  },
  {
   "cell_type": "markdown",
   "id": "adfa9f80-e372-4497-8ff8-afd65b0a5aba",
   "metadata": {},
   "source": [
    "### Using 10 stocks for each company i.e for AAPL,AMZN,TSLA\n",
    "### Assuming the news influence the stock price so close price will be the stock price,, and for initial day it will be open price(stock price) for 1 and stock price (stock price) for 0\n"
   ]
  },
  {
   "cell_type": "code",
   "execution_count": 141,
   "id": "9b30d6d7-82f5-4535-95d0-777f0cc173c9",
   "metadata": {},
   "outputs": [],
   "source": [
    "# pie chart of 1 and 0s for each companies and also the confusion matrix "
   ]
  },
  {
   "cell_type": "code",
   "execution_count": 142,
   "id": "36f49011-1f62-430a-9ecd-f9bbd4c9a547",
   "metadata": {},
   "outputs": [
    {
     "data": {
      "image/png": "[encoded data removed]",
      "text/plain": [
       "<Figure size 300x300 with 1 Axes>"
      ]
     },
     "metadata": {},
     "output_type": "display_data"
    }
   ],
   "source": [
    "counts = port_df.iloc[:17,[10]].value_counts()\n",
    "labels = ['Decrease', 'Increase']\n",
    "plt.figure(figsize=(3, 3))\n",
    "plt.pie(counts, labels=labels, autopct='%1.1f%%',  colors=['red', 'green'])\n",
    "plt.title('Proportion of Increases and Decreases in Test Set of Apple(AAPL)')\n",
    "plt.axis('equal')\n",
    "plt.show()"
   ]
  },
  {
   "cell_type": "code",
   "execution_count": 143,
   "id": "818919e2-1f24-49e7-a50c-c047495e0071",
   "metadata": {},
   "outputs": [
    {
     "data": {
      "image/png": "[encoded data removed]",
      "text/plain": [
       "<Figure size 300x300 with 2 Axes>"
      ]
     },
     "metadata": {},
     "output_type": "display_data"
    }
   ],
   "source": [
    "cm = confusion_matrix(port_df.iloc[:17, 7], port_df.iloc[:17, 10])\n",
    "fig, ax = plt.subplots(figsize=(3, 3))\n",
    "plt.title('Confusion Matrix for Test Set of Apple(AAPL)')\n",
    "disp = ConfusionMatrixDisplay(confusion_matrix=cm)\n",
    "disp.plot(cmap='Blues', ax=ax)\n",
    "plt.axis('equal')\n",
    "plt.show()"
   ]
  },
  {
   "cell_type": "code",
   "execution_count": 144,
   "id": "713fe73c-9108-4a77-a5b4-1e20b4acdb6a",
   "metadata": {},
   "outputs": [
    {
     "name": "stdout",
     "output_type": "stream",
     "text": [
      "Through this strategy by using 30 as highest no of stocks required , to make profit of 0.7000800000014351 using Apple Stocks\n"
     ]
    }
   ],
   "source": [
    "aapl_profit = 0\n",
    "stocks =0\n",
    "count_of_1_in_aapl= 5\n",
    "first_iteration = True\n",
    "high_count_of_stock_in_aapl=0\n",
    "returns_aapl=[]\n",
    "buy_list=[]\n",
    "trades_aapl=0\n",
    "w_b_trades_aapl=0 # win buy trades\n",
    "b_trades_aapl=0\n",
    "count_aapl=0\n",
    "# sell_list=[]\n",
    "for open_price,close_price,pred_label in port_df.iloc[:17,[1,4,10]].values:\n",
    "    count_aapl+=1\n",
    "    if first_iteration:\n",
    "        if pred_label == 0:\n",
    "            aapl_profit -= 10 * close_price\n",
    "            buy_list.append(close_price)\n",
    "            b_trades_aapl+=1\n",
    "        elif pred_label == 1:\n",
    "            aapl_profit -= 10 * open_price\n",
    "            buy_list.append(open_price)\n",
    "            b_trades_aapl+=1\n",
    "        stocks+=10\n",
    "        trades_aapl+=1\n",
    "        first_iteration = False\n",
    "        continue\n",
    "    if stocks>high_count_of_stock_in_aapl:\n",
    "        high_count_of_stock_in_aapl=stocks                                \n",
    "    if count_aapl==17:\n",
    "        if pred_label==1:\n",
    "            if stocks>0:\n",
    "                aapl_profit+=(stocks*close_price)\n",
    "                trades_aapl+=1\n",
    "        elif pred_label==0:\n",
    "            if stocks>0:\n",
    "                aapl_profit+=(stocks*open_price)\n",
    "                trades_aapl+=1\n",
    "        for buy in buy_list:\n",
    "            returns_aapl.append((close_price-buy)/(buy))\n",
    "            if close_price>buy:\n",
    "                w_b_trades_aapl+=1\n",
    "        continue    \n",
    "    if(pred_label==1):\n",
    "        if stocks==0:\n",
    "            aapl_profit-= (10*open_price)\n",
    "            b_trades_aapl+=1\n",
    "            buy_list.append(open_price)\n",
    "            stocks+=10\n",
    "            trades_aapl+=1\n",
    "        elif stocks>0:\n",
    "            aapl_profit+=(stocks*close_price)\n",
    "            trades_aapl+=1\n",
    "            for buy in buy_list:\n",
    "                returns_aapl.append((close_price-buy)/(buy))\n",
    "                if close_price>buy:\n",
    "                    w_b_trades_aapl+=1\n",
    "            buy_list=[]\n",
    "            stocks=0\n",
    "    elif(pred_label==0):\n",
    "        trades_aapl+=1\n",
    "        aapl_profit-=(10*close_price)\n",
    "        b_trades_aapl+=1\n",
    "        buy_list.append(close_price)\n",
    "        stocks+=10\n",
    "    \n",
    "print(f\"Through this strategy by using {high_count_of_stock_in_aapl} as highest no of stocks required , to make profit of {aapl_profit} using Apple Stocks\" )\n"
   ]
  },
  {
   "cell_type": "code",
   "execution_count": 145,
   "id": "0fb2b8b6-7660-46c5-a782-93004541da29",
   "metadata": {},
   "outputs": [],
   "source": [
    "returns_aapl=pd.Series(returns_aapl)\n",
    "returns_aapl.name='Apple'"
   ]
  },
  {
   "cell_type": "code",
   "execution_count": 146,
   "id": "4e5ad0d8-d263-49a1-856d-596fb7fe0a73",
   "metadata": {},
   "outputs": [
    {
     "data": {
      "image/png": "[encoded data removed]",
      "text/plain": [
       "<Figure size 300x300 with 1 Axes>"
      ]
     },
     "metadata": {},
     "output_type": "display_data"
    }
   ],
   "source": [
    "counts = port_df.iloc[17:34,[10]].value_counts()\n",
    "labels = ['Decrease', 'Increase']\n",
    "plt.figure(figsize=(3, 3))\n",
    "plt.pie(counts, labels=labels, autopct='%1.1f%%',  colors=['red', 'green'])\n",
    "plt.title('Proportion of Increases and Decreases in Test Set of Amazon(AMZN)')\n",
    "plt.axis('equal')  \n",
    "plt.show()"
   ]
  },
  {
   "cell_type": "code",
   "execution_count": 147,
   "id": "f45e0a7d-a003-4160-b6a7-5b258afab2c0",
   "metadata": {},
   "outputs": [
    {
     "data": {
      "image/png": "[encoded data removed]",
      "text/plain": [
       "<Figure size 300x300 with 2 Axes>"
      ]
     },
     "metadata": {},
     "output_type": "display_data"
    }
   ],
   "source": [
    "cm = confusion_matrix(port_df.iloc[17:34, 7], port_df.iloc[17:34, 10])\n",
    "fig, ax = plt.subplots(figsize=(3, 3))\n",
    "plt.title('Confusion Matrix for Test Set of Amazon(AMZN)')\n",
    "disp = ConfusionMatrixDisplay(confusion_matrix=cm)\n",
    "disp.plot(cmap='Blues', ax=ax)\n",
    "plt.axis('equal')\n",
    "plt.show()"
   ]
  },
  {
   "cell_type": "code",
   "execution_count": 148,
   "id": "b84e3959-722b-4746-a666-db5f07770c8e",
   "metadata": {},
   "outputs": [
    {
     "name": "stdout",
     "output_type": "stream",
     "text": [
      "Through this strategy by using 30 as highest no of stocks required , to make profit of 102.99956999999995 using Amazon Stocks\n"
     ]
    }
   ],
   "source": [
    "amzn_profit = 0\n",
    "stocks = 0\n",
    "count_of_1_in_amzn= 8\n",
    "first_iteration = True\n",
    "high_count_of_stock_in_amzn=0\n",
    "returns_amzn=[]\n",
    "buy_list=[]\n",
    "trades_amzn=0\n",
    "w_b_trades_amzn=0\n",
    "b_trades_amzn=0\n",
    "count_amzn = 0\n",
    "for open_price,close_price,pred_label in port_df.iloc[17:34,[1,4,10]].values:\n",
    "    count_amzn+=1\n",
    "    if first_iteration:\n",
    "        if pred_label == 0:\n",
    "            amzn_profit -= 10 * close_price\n",
    "            buy_list.append(close_price)\n",
    "            b_trades_amzn+=1\n",
    "        elif pred_label == 1:\n",
    "            amzn_profit -= 10 * open_price\n",
    "            buy_list.append(open_price)\n",
    "            b_trades_amzn+=1\n",
    "        stocks+=10\n",
    "        trades_amzn+=1\n",
    "        first_iteration = False\n",
    "        continue\n",
    "    if stocks>high_count_of_stock_in_amzn:\n",
    "        high_count_of_stock_in_amzn=stocks\n",
    "    \n",
    "    if count_amzn==17:\n",
    "        if pred_label==1:\n",
    "            if stocks>0:\n",
    "                amzn_profit+=(stocks*close_price)\n",
    "                trades_amzn+=1\n",
    "        elif pred_label==0:\n",
    "            if stocks>0:\n",
    "                amzn_profit+=(stocks*open_price)\n",
    "                trades_amzn+=1\n",
    "        for buy in buy_list:\n",
    "            returns_amzn.append((close_price-buy)/buy)\n",
    "            if close_price>buy:\n",
    "                w_b_trades_amzn+=1\n",
    "        continue\n",
    "    if(pred_label==1):\n",
    "        if stocks==0:\n",
    "            amzn_profit-= (10*open_price)\n",
    "            b_trades_amzn+=1\n",
    "            trades_amzn+=1\n",
    "            buy_list.append(open_price)\n",
    "            stocks+=10\n",
    "        elif stocks>0:\n",
    "            amzn_profit+=(stocks*close_price)\n",
    "            trades_amzn+=1\n",
    "            for buy in buy_list:\n",
    "                returns_amzn.append((close_price-buy)/(buy))\n",
    "                if close_price>buy:\n",
    "                    w_b_trades_amzn+=1\n",
    "            buy_list=[]\n",
    "            stocks=0\n",
    "    elif(pred_label==0):\n",
    "        amzn_profit-=(10*close_price)\n",
    "        b_trades_amzn+=1\n",
    "        trades_amzn+=1\n",
    "        buy_list.append(close_price)\n",
    "        stocks+=10\n",
    "print(f\"Through this strategy by using {high_count_of_stock_in_amzn} as highest no of stocks required , to make profit of {amzn_profit} using Amazon Stocks\" )\n",
    "\n"
   ]
  },
  {
   "cell_type": "code",
   "execution_count": 149,
   "id": "42f03974-a57c-46c4-808a-c5f06779e1f0",
   "metadata": {},
   "outputs": [],
   "source": [
    "len(returns_amzn)\n",
    "returns_amzn=pd.Series(returns_amzn)\n",
    "returns_amzn.name='Amazon'"
   ]
  },
  {
   "cell_type": "code",
   "execution_count": 150,
   "id": "d085d905-7dbc-4821-8ba0-8286e4d788d0",
   "metadata": {},
   "outputs": [
    {
     "data": {
      "image/png": "[encoded data removed]",
      "text/plain": [
       "<Figure size 300x300 with 1 Axes>"
      ]
     },
     "metadata": {},
     "output_type": "display_data"
    }
   ],
   "source": [
    "counts = port_df.iloc[34:51,[10]].value_counts()\n",
    "labels = ['Decrease', 'Increase']\n",
    "plt.figure(figsize=(3, 3))\n",
    "plt.pie(counts, labels=labels, autopct='%1.1f%%',  colors=['red', 'green'])\n",
    "plt.title('Proportion of Increases and Decreases in Test Set of Tesla(TSLA)')\n",
    "plt.axis('equal')\n",
    "plt.show()"
   ]
  },
  {
   "cell_type": "code",
   "execution_count": 151,
   "id": "8e45fb3a-16ce-4906-937f-ae02aa99db48",
   "metadata": {},
   "outputs": [
    {
     "data": {
      "image/png": "[encoded data removed]",
      "text/plain": [
       "<Figure size 300x300 with 2 Axes>"
      ]
     },
     "metadata": {},
     "output_type": "display_data"
    }
   ],
   "source": [
    "cm = confusion_matrix(port_df.iloc[34:51, 7], port_df.iloc[34:51, 10])\n",
    "fig, ax = plt.subplots(figsize=(3, 3))  # Adjust the figure size as needed (width, height)\n",
    "plt.title('Confusion Matrix for Test Set of Tesla(TSLA)')\n",
    "disp = ConfusionMatrixDisplay(confusion_matrix=cm)\n",
    "disp.plot(cmap='Blues', ax=ax)\n",
    "plt.axis('equal')\n",
    "plt.show()"
   ]
  },
  {
   "cell_type": "code",
   "execution_count": 152,
   "id": "84477bed-7b95-4e41-8a1a-e21995703907",
   "metadata": {},
   "outputs": [
    {
     "name": "stdout",
     "output_type": "stream",
     "text": [
      "Through this strategy by using 70 as highest no of stocks required , to make profit of -993.3009200000024 using Tesla Stocks\n"
     ]
    }
   ],
   "source": [
    "tsla_profit = 0\n",
    "stocks = 0\n",
    "count_of_1_in_tsla= 6\n",
    "first_iteration = True\n",
    "high_count_of_stock_in_tsla=0\n",
    "returns_tsla=[]\n",
    "buy_list=[]\n",
    "trades_tsla=0\n",
    "w_b_trades_tsla=0\n",
    "b_trades_tsla=0\n",
    "count_tsla=0\n",
    "for open_price,close_price,pred_label in port_df.iloc[34:51,[1,4,10]].values:\n",
    "    count_tsla+=1\n",
    "    if first_iteration:\n",
    "        if pred_label == 0:\n",
    "            tsla_profit -= 10 * close_price\n",
    "            b_trades_tsla+=1\n",
    "            buy_list.append(close_price)\n",
    "        elif pred_label == 1:\n",
    "            tsla_profit -= 10 * open_price\n",
    "            b_trades_tsla+=1\n",
    "            buy_list.append(open_price)\n",
    "        stocks+=10\n",
    "        trades_tsla+=1\n",
    "        first_iteration = False\n",
    "        continue\n",
    "    if stocks>high_count_of_stock_in_tsla:\n",
    "        high_count_of_stock_in_tsla=stocks\n",
    "    if count_tsla==17:\n",
    "        if pred_label==1:\n",
    "            if stocks>0:\n",
    "                tsla_profit+=(stocks*close_price)\n",
    "                trades_tsla+=1\n",
    "        elif pred_label==0:\n",
    "            if stocks>0:\n",
    "                tsla_profit+=(stocks*open_price)\n",
    "                trades_tsla+=1\n",
    "        for buy in buy_list:\n",
    "            returns_tsla.append((close_price-buy)/buy)\n",
    "            if close_price>buy:\n",
    "                w_b_trades_tsla+=1\n",
    "        continue\n",
    "    if(pred_label==1):\n",
    "        if stocks==0:\n",
    "            tsla_profit-= (10*open_price)\n",
    "            b_trades_tsla+=1\n",
    "            trades_tsla+=1\n",
    "            buy_list.append(open_price)\n",
    "            stocks+=10\n",
    "        elif stocks>0:\n",
    "            tsla_profit+=(stocks*close_price)\n",
    "            trades_tsla+=1\n",
    "            for buy in buy_list:\n",
    "                returns_tsla.append((close_price-buy)/(buy))\n",
    "                if close_price>buy:\n",
    "                    w_b_trades_tsla+=1\n",
    "            buy_list=[]\n",
    "            stocks=0\n",
    "    elif(pred_label==0):\n",
    "        tsla_profit-=(10*close_price)\n",
    "        b_trades_tsla+=1\n",
    "        trades_tsla+=1\n",
    "        buy_list.append(close_price)\n",
    "        stocks+=10\n",
    "print(f\"Through this strategy by using {high_count_of_stock_in_tsla} as highest no of stocks required , to make profit of {tsla_profit} using Tesla Stocks\" )\n"
   ]
  },
  {
   "cell_type": "code",
   "execution_count": 153,
   "id": "ad839ed7-438b-41e3-a170-cd64473556e7",
   "metadata": {},
   "outputs": [],
   "source": [
    "len(returns_tsla)\n",
    "returns_tsla=pd.Series(returns_tsla)\n",
    "returns_tsla.name='Tesla'"
   ]
  },
  {
   "cell_type": "code",
   "execution_count": 154,
   "id": "3431e43d-d23f-420d-8f22-d852ddc9836f",
   "metadata": {},
   "outputs": [
    {
     "data": {
      "text/html": [
       "<div>\n",
       "<style scoped>\n",
       "    .dataframe tbody tr th:only-of-type {\n",
       "        vertical-align: middle;\n",
       "    }\n",
       "\n",
       "    .dataframe tbody tr th {\n",
       "        vertical-align: top;\n",
       "    }\n",
       "\n",
       "    .dataframe thead th {\n",
       "        text-align: right;\n",
       "    }\n",
       "</style>\n",
       "<table border=\"1\" class=\"dataframe\">\n",
       "  <thead>\n",
       "    <tr style=\"text-align: right;\">\n",
       "      <th></th>\n",
       "      <th>Apple</th>\n",
       "      <th>Amazon</th>\n",
       "      <th>Tesla</th>\n",
       "    </tr>\n",
       "  </thead>\n",
       "  <tbody>\n",
       "    <tr>\n",
       "      <th>0</th>\n",
       "      <td>0.004502</td>\n",
       "      <td>0.009076</td>\n",
       "      <td>0.017111</td>\n",
       "    </tr>\n",
       "    <tr>\n",
       "      <th>1</th>\n",
       "      <td>0.007243</td>\n",
       "      <td>0.003242</td>\n",
       "      <td>0.048999</td>\n",
       "    </tr>\n",
       "    <tr>\n",
       "      <th>2</th>\n",
       "      <td>0.043271</td>\n",
       "      <td>0.002592</td>\n",
       "      <td>-0.132902</td>\n",
       "    </tr>\n",
       "    <tr>\n",
       "      <th>3</th>\n",
       "      <td>-0.040612</td>\n",
       "      <td>0.016671</td>\n",
       "      <td>-0.127096</td>\n",
       "    </tr>\n",
       "    <tr>\n",
       "      <th>4</th>\n",
       "      <td>-0.019167</td>\n",
       "      <td>-0.013485</td>\n",
       "      <td>-0.141294</td>\n",
       "    </tr>\n",
       "    <tr>\n",
       "      <th>5</th>\n",
       "      <td>-0.012857</td>\n",
       "      <td>-0.022365</td>\n",
       "      <td>-0.123473</td>\n",
       "    </tr>\n",
       "    <tr>\n",
       "      <th>6</th>\n",
       "      <td>-0.007184</td>\n",
       "      <td>-0.011364</td>\n",
       "      <td>-0.071526</td>\n",
       "    </tr>\n",
       "    <tr>\n",
       "      <th>7</th>\n",
       "      <td>0.005091</td>\n",
       "      <td>0.014889</td>\n",
       "      <td>-0.045701</td>\n",
       "    </tr>\n",
       "    <tr>\n",
       "      <th>8</th>\n",
       "      <td>0.014380</td>\n",
       "      <td>0.008648</td>\n",
       "      <td>-0.035510</td>\n",
       "    </tr>\n",
       "    <tr>\n",
       "      <th>9</th>\n",
       "      <td>0.001657</td>\n",
       "      <td>0.017158</td>\n",
       "      <td>-0.016117</td>\n",
       "    </tr>\n",
       "    <tr>\n",
       "      <th>10</th>\n",
       "      <td>-0.003473</td>\n",
       "      <td>0.034260</td>\n",
       "      <td>0.018515</td>\n",
       "    </tr>\n",
       "    <tr>\n",
       "      <th>11</th>\n",
       "      <td>NaN</td>\n",
       "      <td>NaN</td>\n",
       "      <td>0.037994</td>\n",
       "    </tr>\n",
       "    <tr>\n",
       "      <th>12</th>\n",
       "      <td>NaN</td>\n",
       "      <td>NaN</td>\n",
       "      <td>-0.011106</td>\n",
       "    </tr>\n",
       "  </tbody>\n",
       "</table>\n",
       "</div>"
      ],
      "text/plain": [
       "       Apple    Amazon     Tesla\n",
       "0   0.004502  0.009076  0.017111\n",
       "1   0.007243  0.003242  0.048999\n",
       "2   0.043271  0.002592 -0.132902\n",
       "3  -0.040612  0.016671 -0.127096\n",
       "4  -0.019167 -0.013485 -0.141294\n",
       "5  -0.012857 -0.022365 -0.123473\n",
       "6  -0.007184 -0.011364 -0.071526\n",
       "7   0.005091  0.014889 -0.045701\n",
       "8   0.014380  0.008648 -0.035510\n",
       "9   0.001657  0.017158 -0.016117\n",
       "10 -0.003473  0.034260  0.018515\n",
       "11       NaN       NaN  0.037994\n",
       "12       NaN       NaN -0.011106"
      ]
     },
     "execution_count": 154,
     "metadata": {},
     "output_type": "execute_result"
    }
   ],
   "source": [
    "pd.concat([pd.Series(returns_aapl),pd.Series(returns_amzn),pd.Series(returns_tsla)],axis=1)"
   ]
  },
  {
   "cell_type": "code",
   "execution_count": 155,
   "id": "e6959aaa-5ced-46f3-bb89-798b5b00ca3e",
   "metadata": {},
   "outputs": [
    {
     "name": "stdout",
     "output_type": "stream",
     "text": [
      "Highest no of stocks used in APPLE: 30\n",
      "Highest no of stocks used in AMAZON: 30\n",
      "Highest no of stocks used in TESLA: 70\n",
      "Highest no of stocks used in TOTAL: 130\n"
     ]
    }
   ],
   "source": [
    "print(f\"Highest no of stocks used in APPLE: {high_count_of_stock_in_aapl}\")\n",
    "print(f\"Highest no of stocks used in AMAZON: {high_count_of_stock_in_amzn}\")\n",
    "print(f\"Highest no of stocks used in TESLA: {high_count_of_stock_in_tsla}\")\n",
    "print(f\"Highest no of stocks used in TOTAL: {high_count_of_stock_in_aapl+high_count_of_stock_in_amzn+high_count_of_stock_in_tsla}\")"
   ]
  },
  {
   "cell_type": "code",
   "execution_count": 156,
   "id": "0c461451-8fb6-4240-84e9-fe5389fd1310",
   "metadata": {},
   "outputs": [
    {
     "name": "stdout",
     "output_type": "stream",
     "text": [
      "Profit/Loss in APPLE: 0.7000800000014351 $\n",
      "Profit/Loss in AMAZON: 102.99956999999995 $\n",
      "Profit/Loss in TSLA: -993.3009200000024 $\n",
      "Profit/Loss in TOTAL: -889.601270000001 $\n"
     ]
    }
   ],
   "source": [
    "print(f\"Profit/Loss in APPLE: {aapl_profit} $\")\n",
    "print(f\"Profit/Loss in AMAZON: {amzn_profit} $\")\n",
    "print(f\"Profit/Loss in TSLA: {tsla_profit} $\")\n",
    "print(f\"Profit/Loss in TOTAL: {aapl_profit+amzn_profit+tsla_profit} $\")"
   ]
  },
  {
   "cell_type": "code",
   "execution_count": 157,
   "id": "34509036-1366-4cad-a6a3-42825ebf1e67",
   "metadata": {},
   "outputs": [
    {
     "data": {
      "image/png": "[encoded data removed]",
      "text/plain": [
       "<Figure size 640x480 with 1 Axes>"
      ]
     },
     "metadata": {},
     "output_type": "display_data"
    }
   ],
   "source": [
    "company_names = ['Apple(AAPL)', 'Amazon(AMZN)', 'Tesla(TSLA)']\n",
    "profit_loss_values = [aapl_profit, amzn_profit, tsla_profit]\n",
    "plt.bar(company_names, profit_loss_values, color=['green' if value >= 0 else 'red' for value in profit_loss_values])\n",
    "plt.xlabel('Companies')\n",
    "plt.ylabel('Profit/Loss')\n",
    "plt.title('Profit or Loss of Companies')\n",
    "plt.axhline(0, color='black', linewidth=0.1)\n",
    "plt.show()\n",
    "\n"
   ]
  },
  {
   "cell_type": "code",
   "execution_count": 158,
   "id": "fb830961-18fe-4073-88fd-ce397598ec69",
   "metadata": {},
   "outputs": [],
   "source": [
    "all_returns= np.concatenate([returns_aapl, returns_amzn, returns_tsla])\n",
    "portfolio_return = np.mean(all_returns)\n",
    "portfolio_std_dev = np.std(all_returns)\n",
    "annual_free_rate = 5.096/100\n",
    "risk_free_rate = (1+annual_free_rate)**(1/252) - 1 # 252 trading days in a year and calculating for daily\n",
    "sharpe_ratio = (portfolio_return - risk_free_rate) / portfolio_std_dev"
   ]
  },
  {
   "cell_type": "code",
   "execution_count": 159,
   "id": "734a1eae-7010-40de-880d-96beefc5f53e",
   "metadata": {},
   "outputs": [
    {
     "name": "stdout",
     "output_type": "stream",
     "text": [
      "Portfolio Mean Return: -0.015140956153096677\n",
      "Risk-Free Rate (R_f): 0.0001972576756701372\n",
      "Portfolio Standard Deviation: 0.04831749422640668\n",
      "Sharpe Ratio: -0.31744638405491044\n"
     ]
    }
   ],
   "source": [
    "print(\"Portfolio Mean Return:\", portfolio_return)\n",
    "print(\"Risk-Free Rate (R_f):\", risk_free_rate)\n",
    "print(\"Portfolio Standard Deviation:\", portfolio_std_dev)\n",
    "print(\"Sharpe Ratio:\", sharpe_ratio)"
   ]
  },
  {
   "cell_type": "code",
   "execution_count": 160,
   "id": "96082696-4124-445d-a472-0ed6ccb64733",
   "metadata": {},
   "outputs": [],
   "source": [
    "def calculate_max_drawdown(returns):\n",
    "    max_drawdown = 0\n",
    "    peak = trough = 0\n",
    "    cumulative_returns = np.cumprod(1 + returns) - 1\n",
    "    for i in range(len(cumulative_returns)):\n",
    "        if cumulative_returns[i] > cumulative_returns[peak]:\n",
    "            peak = trough = i\n",
    "        elif cumulative_returns[i] < cumulative_returns[trough]:\n",
    "            trough = i\n",
    "        drawdown = (cumulative_returns[peak] - cumulative_returns[trough]) / (1 + cumulative_returns[peak])\n",
    "        max_drawdown = max(max_drawdown, drawdown)\n",
    "    return max_drawdown*100"
   ]
  },
  {
   "cell_type": "code",
   "execution_count": 161,
   "id": "a7bce34f-7ba4-487d-a23f-3c2f3c9a2a19",
   "metadata": {},
   "outputs": [],
   "source": [
    "max_drawdown_aapl = calculate_max_drawdown(returns_aapl)\n",
    "max_drawdown_amzn = calculate_max_drawdown(returns_amzn)\n",
    "max_drawdown_tsla = calculate_max_drawdown(returns_tsla)"
   ]
  },
  {
   "cell_type": "code",
   "execution_count": 162,
   "id": "adbfbb3b-b4d4-4b9f-944f-a2a5f41bc70b",
   "metadata": {},
   "outputs": [
    {
     "name": "stdout",
     "output_type": "stream",
     "text": [
      "Maximum Drawdown for Apple(%): 7.7772281465408915\n",
      "Maximum Drawdown for Amazon(%): 4.650860554980789\n",
      "Maximum Drawdown for Tesla(%): 52.099469091991146\n"
     ]
    }
   ],
   "source": [
    "print(\"Maximum Drawdown for Apple(%):\", max_drawdown_aapl)\n",
    "print(\"Maximum Drawdown for Amazon(%):\", max_drawdown_amzn)\n",
    "print(\"Maximum Drawdown for Tesla(%):\", max_drawdown_tsla)"
   ]
  },
  {
   "cell_type": "code",
   "execution_count": 163,
   "id": "fc44b965-0875-428f-ab0d-11ef7dde8c5b",
   "metadata": {},
   "outputs": [
    {
     "data": {
      "image/png": "[encoded data removed]",
      "text/plain": [
       "<Figure size 640x480 with 1 Axes>"
      ]
     },
     "metadata": {},
     "output_type": "display_data"
    }
   ],
   "source": [
    "drawdown_values = [max_drawdown_aapl, max_drawdown_amzn, max_drawdown_tsla]\n",
    "plt.bar(company_names, drawdown_values, color='#FFB6C1')\n",
    "plt.xlabel('Companies')\n",
    "plt.ylabel('Maximum Drawdown (%)')\n",
    "plt.title('Maximum Drawdowns of Companies')\n",
    "plt.axhline(0, color='black', linewidth=0.4)\n",
    "plt.show()"
   ]
  },
  {
   "cell_type": "code",
   "execution_count": 164,
   "id": "1d6b0911-ecf1-4b8a-b047-b44c35d3df1a",
   "metadata": {},
   "outputs": [
    {
     "name": "stdout",
     "output_type": "stream",
     "text": [
      "No. of Trades executed on Apple Stocks: 17\n",
      "No. of Trades executed on Amazon Stocks: 17\n",
      "No. of Trades executed on Tesla Stocks: 17\n"
     ]
    }
   ],
   "source": [
    "print(\"No. of Trades executed on Apple Stocks:\",trades_aapl)\n",
    "print(\"No. of Trades executed on Amazon Stocks:\",trades_amzn)\n",
    "print(\"No. of Trades executed on Tesla Stocks:\",trades_tsla)"
   ]
  },
  {
   "cell_type": "code",
   "execution_count": 165,
   "id": "228bf0cc-6b4f-4617-a4ee-766aa0e73bd5",
   "metadata": {},
   "outputs": [
    {
     "data": {
      "image/png": "[encoded data removed]",
      "text/plain": [
       "<Figure size 640x480 with 1 Axes>"
      ]
     },
     "metadata": {},
     "output_type": "display_data"
    }
   ],
   "source": [
    "comp_trades = [trades_aapl, trades_amzn, trades_tsla]\n",
    "plt.bar(company_names, comp_trades, color='#ADD8E6')\n",
    "plt.xlabel('Companies')\n",
    "plt.ylabel('Number of FO Trades Executed')\n",
    "plt.title('Number of Trades Executed by Company')\n",
    "plt.show()"
   ]
  },
  {
   "cell_type": "code",
   "execution_count": 166,
   "id": "3b59234a-d84f-4e0e-82c5-f2384c82e7ab",
   "metadata": {},
   "outputs": [
    {
     "name": "stdout",
     "output_type": "stream",
     "text": [
      "Win Ratio on Apple Stocks: 0.5454545454545454\n",
      "Win Ratio on Amazon Stocks: 0.7272727272727273\n",
      "Win Ratio on Tesla Stocks: 0.3076923076923077\n"
     ]
    }
   ],
   "source": [
    "print(\"Win Ratio on Apple Stocks:\",w_b_trades_aapl/b_trades_aapl)\n",
    "print(\"Win Ratio on Amazon Stocks:\",w_b_trades_amzn/b_trades_amzn)\n",
    "print(\"Win Ratio on Tesla Stocks:\",w_b_trades_tsla/b_trades_tsla)"
   ]
  },
  {
   "cell_type": "code",
   "execution_count": 167,
   "id": "59efbf3e-fbbd-44c7-9ffb-0d88fb4c7403",
   "metadata": {},
   "outputs": [],
   "source": [
    "winr_aapl=w_b_trades_aapl/b_trades_aapl\n",
    "winr_amzn=w_b_trades_amzn/b_trades_amzn\n",
    "winr_tsla=w_b_trades_tsla/b_trades_tsla"
   ]
  },
  {
   "cell_type": "code",
   "execution_count": 168,
   "id": "6779dcc9-5a7c-423e-b6ab-6b5191cae414",
   "metadata": {},
   "outputs": [
    {
     "data": {
      "image/png": "[encoded data removed]",
      "text/plain": [
       "<Figure size 640x480 with 1 Axes>"
      ]
     },
     "metadata": {},
     "output_type": "display_data"
    }
   ],
   "source": [
    "win_ratios = [winr_aapl,winr_amzn ,winr_tsla ]\n",
    "plt.bar(company_names, win_ratios, color='#90EE90')\n",
    "plt.xlabel('Companies')\n",
    "plt.ylabel('Win Ratio')\n",
    "plt.title('Win Ratios of Companies')\n",
    "plt.show()"
   ]
  }
 ],
 "metadata": {
  "kernelspec": {
   "display_name": "Python 3 (ipykernel)",
   "language": "python",
   "name": "python3"
  },
  "language_info": {
   "codemirror_mode": {
    "name": "ipython",
    "version": 3
   },
   "file_extension": ".py",
   "mimetype": "text/x-python",
   "name": "python",
   "nbconvert_exporter": "python",
   "pygments_lexer": "ipython3",
   "version": "3.11.7"
  }
 },
 "nbformat": 4,
 "nbformat_minor": 5
}
