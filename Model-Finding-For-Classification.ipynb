{
 "cells": [
  {
   "cell_type": "code",
   "execution_count": 2,
   "id": "ac4c250b-706b-407b-9367-9f33cc6baf90",
   "metadata": {},
   "outputs": [],
   "source": [
    "import pandas as pd"
   ]
  },
  {
   "cell_type": "code",
   "execution_count": null,
   "id": "f666d602-6cac-4be3-804a-23aa7267f02b",
   "metadata": {},
   "outputs": [],
   "source": []
  },
  {
   "cell_type": "code",
   "execution_count": null,
   "id": "29a8b924-e778-42a4-9a89-4eb991897c17",
   "metadata": {},
   "outputs": [],
   "source": []
  },
  {
   "cell_type": "code",
   "execution_count": null,
   "id": "87f4e4e3-6835-411c-ac4d-7b78cf931666",
   "metadata": {},
   "outputs": [],
   "source": []
  },
  {
   "cell_type": "code",
   "execution_count": null,
   "id": "bfce109b-8302-425e-93bf-b413276e5b40",
   "metadata": {},
   "outputs": [],
   "source": []
  },
  {
   "cell_type": "code",
   "execution_count": null,
   "id": "b421d7f7-b4c3-4224-bec1-b4c0da3600f7",
   "metadata": {},
   "outputs": [],
   "source": []
  },
  {
   "cell_type": "code",
   "execution_count": 3,
   "id": "2e88286d-2550-4d0e-ae82-ea073569c787",
   "metadata": {},
   "outputs": [],
   "source": [
    "df1=pd.read_csv(r\"C:\\Users\\Jaya Teja\\Finance_Project\\Final datasets\\AAPL_final.csv\")\n",
    "df2=pd.read_csv(r\"C:\\Users\\Jaya Teja\\Finance_Project\\Final datasets\\AMZN_final.csv\")\n",
    "df3=pd.read_csv(r\"C:\\Users\\Jaya Teja\\Finance_Project\\Final datasets\\TSLA_final.csv\")"
   ]
  },
  {
   "cell_type": "markdown",
   "id": "ee29a730-4f84-4ae9-aab7-858000478027",
   "metadata": {},
   "source": [
    "1- Apple  \n",
    "2- Amazon  \n",
    "3- Tesla  "
   ]
  },
  {
   "cell_type": "code",
   "execution_count": 4,
   "id": "6c6f0b58-e8e1-4d8f-96e0-95ea54e9ae94",
   "metadata": {},
   "outputs": [],
   "source": [
    "# The reason for mentioning comapnies with name is for final judging process of the entire portfolio as the dataset will be divided for test "
   ]
  },
  {
   "cell_type": "code",
   "execution_count": 5,
   "id": "a724d349-70ee-4984-b73a-85e53301c68b",
   "metadata": {},
   "outputs": [],
   "source": [
    "df1['Company']=1"
   ]
  },
  {
   "cell_type": "code",
   "execution_count": 6,
   "id": "8dc5d0d7-2ae9-420e-844d-02e15ce1d601",
   "metadata": {},
   "outputs": [
    {
     "data": {
      "text/html": [
       "<div>\n",
       "<style scoped>\n",
       "    .dataframe tbody tr th:only-of-type {\n",
       "        vertical-align: middle;\n",
       "    }\n",
       "\n",
       "    .dataframe tbody tr th {\n",
       "        vertical-align: top;\n",
       "    }\n",
       "\n",
       "    .dataframe thead th {\n",
       "        text-align: right;\n",
       "    }\n",
       "</style>\n",
       "<table border=\"1\" class=\"dataframe\">\n",
       "  <thead>\n",
       "    <tr style=\"text-align: right;\">\n",
       "      <th></th>\n",
       "      <th>Unnamed: 0</th>\n",
       "      <th>Date</th>\n",
       "      <th>Open</th>\n",
       "      <th>High</th>\n",
       "      <th>Low</th>\n",
       "      <th>Close</th>\n",
       "      <th>Adj Close</th>\n",
       "      <th>Volume</th>\n",
       "      <th>title</th>\n",
       "      <th>Label</th>\n",
       "      <th>Company</th>\n",
       "    </tr>\n",
       "  </thead>\n",
       "  <tbody>\n",
       "    <tr>\n",
       "      <th>0</th>\n",
       "      <td>0</td>\n",
       "      <td>2022-01-03</td>\n",
       "      <td>177.830002</td>\n",
       "      <td>182.880005</td>\n",
       "      <td>177.710007</td>\n",
       "      <td>182.009995</td>\n",
       "      <td>179.481140</td>\n",
       "      <td>104487900</td>\n",
       "      <td>What A 'Strong' Apple 2022 Product Line Up Cou...</td>\n",
       "      <td>1</td>\n",
       "      <td>1</td>\n",
       "    </tr>\n",
       "    <tr>\n",
       "      <th>1</th>\n",
       "      <td>1</td>\n",
       "      <td>2022-01-04</td>\n",
       "      <td>182.630005</td>\n",
       "      <td>182.940002</td>\n",
       "      <td>179.119995</td>\n",
       "      <td>179.699997</td>\n",
       "      <td>177.203217</td>\n",
       "      <td>99310400</td>\n",
       "      <td>Is $3 Trillion Just the Beginning for Apple? A...</td>\n",
       "      <td>0</td>\n",
       "      <td>1</td>\n",
       "    </tr>\n",
       "    <tr>\n",
       "      <th>2</th>\n",
       "      <td>2</td>\n",
       "      <td>2022-01-05</td>\n",
       "      <td>179.610001</td>\n",
       "      <td>180.169998</td>\n",
       "      <td>174.639999</td>\n",
       "      <td>174.919998</td>\n",
       "      <td>172.489639</td>\n",
       "      <td>94537600</td>\n",
       "      <td>Dow industrials knocking on door of milestone ...</td>\n",
       "      <td>0</td>\n",
       "      <td>1</td>\n",
       "    </tr>\n",
       "    <tr>\n",
       "      <th>3</th>\n",
       "      <td>3</td>\n",
       "      <td>2022-01-06</td>\n",
       "      <td>172.699997</td>\n",
       "      <td>175.300003</td>\n",
       "      <td>171.639999</td>\n",
       "      <td>172.000000</td>\n",
       "      <td>169.610214</td>\n",
       "      <td>96904000</td>\n",
       "      <td>Here's what's worth streaming in January 2022 ...</td>\n",
       "      <td>0</td>\n",
       "      <td>1</td>\n",
       "    </tr>\n",
       "    <tr>\n",
       "      <th>4</th>\n",
       "      <td>4</td>\n",
       "      <td>2022-01-07</td>\n",
       "      <td>172.889999</td>\n",
       "      <td>174.139999</td>\n",
       "      <td>171.029999</td>\n",
       "      <td>172.169998</td>\n",
       "      <td>169.777847</td>\n",
       "      <td>86709100</td>\n",
       "      <td>Samsung Electronics expects 52% jump in Q4 ope...</td>\n",
       "      <td>1</td>\n",
       "      <td>1</td>\n",
       "    </tr>\n",
       "    <tr>\n",
       "      <th>...</th>\n",
       "      <td>...</td>\n",
       "      <td>...</td>\n",
       "      <td>...</td>\n",
       "      <td>...</td>\n",
       "      <td>...</td>\n",
       "      <td>...</td>\n",
       "      <td>...</td>\n",
       "      <td>...</td>\n",
       "      <td>...</td>\n",
       "      <td>...</td>\n",
       "      <td>...</td>\n",
       "    </tr>\n",
       "    <tr>\n",
       "      <th>577</th>\n",
       "      <td>577</td>\n",
       "      <td>2024-04-22</td>\n",
       "      <td>165.520004</td>\n",
       "      <td>167.259995</td>\n",
       "      <td>164.770004</td>\n",
       "      <td>165.839996</td>\n",
       "      <td>165.615356</td>\n",
       "      <td>48116400</td>\n",
       "      <td>SCHD: If You've Won The Game, Take A Little Of...</td>\n",
       "      <td>1</td>\n",
       "      <td>1</td>\n",
       "    </tr>\n",
       "    <tr>\n",
       "      <th>578</th>\n",
       "      <td>578</td>\n",
       "      <td>2024-04-23</td>\n",
       "      <td>165.350006</td>\n",
       "      <td>167.050003</td>\n",
       "      <td>164.919998</td>\n",
       "      <td>166.899994</td>\n",
       "      <td>166.673920</td>\n",
       "      <td>49537800</td>\n",
       "      <td>Unfortunate News for Meta Stock and Apple Stoc...</td>\n",
       "      <td>1</td>\n",
       "      <td>1</td>\n",
       "    </tr>\n",
       "    <tr>\n",
       "      <th>579</th>\n",
       "      <td>579</td>\n",
       "      <td>2024-04-24</td>\n",
       "      <td>166.539993</td>\n",
       "      <td>169.300003</td>\n",
       "      <td>166.210007</td>\n",
       "      <td>169.020004</td>\n",
       "      <td>168.791061</td>\n",
       "      <td>48251800</td>\n",
       "      <td>Could AMD Stock Help You Become a Millionaire?...</td>\n",
       "      <td>1</td>\n",
       "      <td>1</td>\n",
       "    </tr>\n",
       "    <tr>\n",
       "      <th>580</th>\n",
       "      <td>580</td>\n",
       "      <td>2024-04-25</td>\n",
       "      <td>169.529999</td>\n",
       "      <td>170.610001</td>\n",
       "      <td>168.149994</td>\n",
       "      <td>169.889999</td>\n",
       "      <td>169.659882</td>\n",
       "      <td>50558300</td>\n",
       "      <td>This Spectacular Vanguard ETF Could Turn $250 ...</td>\n",
       "      <td>1</td>\n",
       "      <td>1</td>\n",
       "    </tr>\n",
       "    <tr>\n",
       "      <th>581</th>\n",
       "      <td>581</td>\n",
       "      <td>2024-04-26</td>\n",
       "      <td>169.880005</td>\n",
       "      <td>171.339996</td>\n",
       "      <td>169.179993</td>\n",
       "      <td>169.300003</td>\n",
       "      <td>169.070679</td>\n",
       "      <td>44838400</td>\n",
       "      <td>1 Unstoppable Stock That Could Join Microsoft,...</td>\n",
       "      <td>0</td>\n",
       "      <td>1</td>\n",
       "    </tr>\n",
       "  </tbody>\n",
       "</table>\n",
       "<p>582 rows × 11 columns</p>\n",
       "</div>"
      ],
      "text/plain": [
       "     Unnamed: 0        Date        Open        High         Low       Close  \\\n",
       "0             0  2022-01-03  177.830002  182.880005  177.710007  182.009995   \n",
       "1             1  2022-01-04  182.630005  182.940002  179.119995  179.699997   \n",
       "2             2  2022-01-05  179.610001  180.169998  174.639999  174.919998   \n",
       "3             3  2022-01-06  172.699997  175.300003  171.639999  172.000000   \n",
       "4             4  2022-01-07  172.889999  174.139999  171.029999  172.169998   \n",
       "..          ...         ...         ...         ...         ...         ...   \n",
       "577         577  2024-04-22  165.520004  167.259995  164.770004  165.839996   \n",
       "578         578  2024-04-23  165.350006  167.050003  164.919998  166.899994   \n",
       "579         579  2024-04-24  166.539993  169.300003  166.210007  169.020004   \n",
       "580         580  2024-04-25  169.529999  170.610001  168.149994  169.889999   \n",
       "581         581  2024-04-26  169.880005  171.339996  169.179993  169.300003   \n",
       "\n",
       "      Adj Close     Volume                                              title  \\\n",
       "0    179.481140  104487900  What A 'Strong' Apple 2022 Product Line Up Cou...   \n",
       "1    177.203217   99310400  Is $3 Trillion Just the Beginning for Apple? A...   \n",
       "2    172.489639   94537600  Dow industrials knocking on door of milestone ...   \n",
       "3    169.610214   96904000  Here's what's worth streaming in January 2022 ...   \n",
       "4    169.777847   86709100  Samsung Electronics expects 52% jump in Q4 ope...   \n",
       "..          ...        ...                                                ...   \n",
       "577  165.615356   48116400  SCHD: If You've Won The Game, Take A Little Of...   \n",
       "578  166.673920   49537800  Unfortunate News for Meta Stock and Apple Stoc...   \n",
       "579  168.791061   48251800  Could AMD Stock Help You Become a Millionaire?...   \n",
       "580  169.659882   50558300  This Spectacular Vanguard ETF Could Turn $250 ...   \n",
       "581  169.070679   44838400  1 Unstoppable Stock That Could Join Microsoft,...   \n",
       "\n",
       "     Label  Company  \n",
       "0        1        1  \n",
       "1        0        1  \n",
       "2        0        1  \n",
       "3        0        1  \n",
       "4        1        1  \n",
       "..     ...      ...  \n",
       "577      1        1  \n",
       "578      1        1  \n",
       "579      1        1  \n",
       "580      1        1  \n",
       "581      0        1  \n",
       "\n",
       "[582 rows x 11 columns]"
      ]
     },
     "execution_count": 6,
     "metadata": {},
     "output_type": "execute_result"
    }
   ],
   "source": [
    "df1"
   ]
  },
  {
   "cell_type": "code",
   "execution_count": 7,
   "id": "5fc1eae5-08a4-449b-b73f-a054aedde4fa",
   "metadata": {},
   "outputs": [],
   "source": [
    "df2['Company']=2"
   ]
  },
  {
   "cell_type": "code",
   "execution_count": 8,
   "id": "3b022443-e021-4b4e-8d8c-31a2fad679f9",
   "metadata": {},
   "outputs": [
    {
     "data": {
      "text/html": [
       "<div>\n",
       "<style scoped>\n",
       "    .dataframe tbody tr th:only-of-type {\n",
       "        vertical-align: middle;\n",
       "    }\n",
       "\n",
       "    .dataframe tbody tr th {\n",
       "        vertical-align: top;\n",
       "    }\n",
       "\n",
       "    .dataframe thead th {\n",
       "        text-align: right;\n",
       "    }\n",
       "</style>\n",
       "<table border=\"1\" class=\"dataframe\">\n",
       "  <thead>\n",
       "    <tr style=\"text-align: right;\">\n",
       "      <th></th>\n",
       "      <th>Unnamed: 0</th>\n",
       "      <th>Date</th>\n",
       "      <th>Open</th>\n",
       "      <th>High</th>\n",
       "      <th>Low</th>\n",
       "      <th>Close</th>\n",
       "      <th>Adj Close</th>\n",
       "      <th>Volume</th>\n",
       "      <th>title</th>\n",
       "      <th>Label</th>\n",
       "      <th>Company</th>\n",
       "    </tr>\n",
       "  </thead>\n",
       "  <tbody>\n",
       "    <tr>\n",
       "      <th>0</th>\n",
       "      <td>0</td>\n",
       "      <td>2022-01-03</td>\n",
       "      <td>167.550003</td>\n",
       "      <td>170.703506</td>\n",
       "      <td>166.160507</td>\n",
       "      <td>170.404495</td>\n",
       "      <td>170.404495</td>\n",
       "      <td>63520000</td>\n",
       "      <td>Updating 2021 Calls While Suggesting Strategic...</td>\n",
       "      <td>1</td>\n",
       "      <td>2</td>\n",
       "    </tr>\n",
       "    <tr>\n",
       "      <th>1</th>\n",
       "      <td>1</td>\n",
       "      <td>2022-01-04</td>\n",
       "      <td>170.438004</td>\n",
       "      <td>171.399994</td>\n",
       "      <td>166.349503</td>\n",
       "      <td>167.522003</td>\n",
       "      <td>167.522003</td>\n",
       "      <td>70726000</td>\n",
       "      <td>The Best Stocks to Invest $1,000 in Right Now ...</td>\n",
       "      <td>0</td>\n",
       "      <td>2</td>\n",
       "    </tr>\n",
       "    <tr>\n",
       "      <th>2</th>\n",
       "      <td>2</td>\n",
       "      <td>2022-01-05</td>\n",
       "      <td>166.882996</td>\n",
       "      <td>167.126495</td>\n",
       "      <td>164.356995</td>\n",
       "      <td>164.356995</td>\n",
       "      <td>164.356995</td>\n",
       "      <td>64302000</td>\n",
       "      <td>The Zacks Analyst Blog Highlights: Apple, Alph...</td>\n",
       "      <td>0</td>\n",
       "      <td>2</td>\n",
       "    </tr>\n",
       "    <tr>\n",
       "      <th>3</th>\n",
       "      <td>3</td>\n",
       "      <td>2022-01-06</td>\n",
       "      <td>163.450500</td>\n",
       "      <td>164.800003</td>\n",
       "      <td>161.936996</td>\n",
       "      <td>163.253998</td>\n",
       "      <td>163.253998</td>\n",
       "      <td>51958000</td>\n",
       "      <td>Here's what's worth streaming in January 2022 ...</td>\n",
       "      <td>0</td>\n",
       "      <td>2</td>\n",
       "    </tr>\n",
       "    <tr>\n",
       "      <th>4</th>\n",
       "      <td>4</td>\n",
       "      <td>2022-01-07</td>\n",
       "      <td>163.839005</td>\n",
       "      <td>165.243500</td>\n",
       "      <td>162.031006</td>\n",
       "      <td>162.554001</td>\n",
       "      <td>162.554001</td>\n",
       "      <td>46606000</td>\n",
       "      <td>ViacomCBS: A Deal Waiting To Happen The Divide...</td>\n",
       "      <td>0</td>\n",
       "      <td>2</td>\n",
       "    </tr>\n",
       "    <tr>\n",
       "      <th>...</th>\n",
       "      <td>...</td>\n",
       "      <td>...</td>\n",
       "      <td>...</td>\n",
       "      <td>...</td>\n",
       "      <td>...</td>\n",
       "      <td>...</td>\n",
       "      <td>...</td>\n",
       "      <td>...</td>\n",
       "      <td>...</td>\n",
       "      <td>...</td>\n",
       "      <td>...</td>\n",
       "    </tr>\n",
       "    <tr>\n",
       "      <th>577</th>\n",
       "      <td>577</td>\n",
       "      <td>2024-04-22</td>\n",
       "      <td>176.940002</td>\n",
       "      <td>178.869995</td>\n",
       "      <td>174.559998</td>\n",
       "      <td>177.229996</td>\n",
       "      <td>177.229996</td>\n",
       "      <td>37924900</td>\n",
       "      <td>SCHD: If You've Won The Game, Take A Little Of...</td>\n",
       "      <td>1</td>\n",
       "      <td>2</td>\n",
       "    </tr>\n",
       "    <tr>\n",
       "      <th>578</th>\n",
       "      <td>578</td>\n",
       "      <td>2024-04-23</td>\n",
       "      <td>178.080002</td>\n",
       "      <td>179.929993</td>\n",
       "      <td>175.979996</td>\n",
       "      <td>179.539993</td>\n",
       "      <td>179.539993</td>\n",
       "      <td>37046500</td>\n",
       "      <td>This Is Hands Down My Pick for the Best \"Magni...</td>\n",
       "      <td>1</td>\n",
       "      <td>2</td>\n",
       "    </tr>\n",
       "    <tr>\n",
       "      <th>579</th>\n",
       "      <td>579</td>\n",
       "      <td>2024-04-24</td>\n",
       "      <td>179.940002</td>\n",
       "      <td>180.320007</td>\n",
       "      <td>176.179993</td>\n",
       "      <td>176.589996</td>\n",
       "      <td>176.589996</td>\n",
       "      <td>34185100</td>\n",
       "      <td>History Says the Nasdaq Could Soar: 2 Top Grow...</td>\n",
       "      <td>0</td>\n",
       "      <td>2</td>\n",
       "    </tr>\n",
       "    <tr>\n",
       "      <th>580</th>\n",
       "      <td>580</td>\n",
       "      <td>2024-04-25</td>\n",
       "      <td>169.679993</td>\n",
       "      <td>173.919998</td>\n",
       "      <td>166.320007</td>\n",
       "      <td>173.669998</td>\n",
       "      <td>173.669998</td>\n",
       "      <td>49249400</td>\n",
       "      <td>If You Invested $10,000 in Amazon 10 Years Ago...</td>\n",
       "      <td>0</td>\n",
       "      <td>2</td>\n",
       "    </tr>\n",
       "    <tr>\n",
       "      <th>581</th>\n",
       "      <td>581</td>\n",
       "      <td>2024-04-26</td>\n",
       "      <td>177.800003</td>\n",
       "      <td>180.820007</td>\n",
       "      <td>176.130005</td>\n",
       "      <td>179.619995</td>\n",
       "      <td>179.619995</td>\n",
       "      <td>43919800</td>\n",
       "      <td>1 Unstoppable Stock That Could Join Microsoft,...</td>\n",
       "      <td>1</td>\n",
       "      <td>2</td>\n",
       "    </tr>\n",
       "  </tbody>\n",
       "</table>\n",
       "<p>582 rows × 11 columns</p>\n",
       "</div>"
      ],
      "text/plain": [
       "     Unnamed: 0        Date        Open        High         Low       Close  \\\n",
       "0             0  2022-01-03  167.550003  170.703506  166.160507  170.404495   \n",
       "1             1  2022-01-04  170.438004  171.399994  166.349503  167.522003   \n",
       "2             2  2022-01-05  166.882996  167.126495  164.356995  164.356995   \n",
       "3             3  2022-01-06  163.450500  164.800003  161.936996  163.253998   \n",
       "4             4  2022-01-07  163.839005  165.243500  162.031006  162.554001   \n",
       "..          ...         ...         ...         ...         ...         ...   \n",
       "577         577  2024-04-22  176.940002  178.869995  174.559998  177.229996   \n",
       "578         578  2024-04-23  178.080002  179.929993  175.979996  179.539993   \n",
       "579         579  2024-04-24  179.940002  180.320007  176.179993  176.589996   \n",
       "580         580  2024-04-25  169.679993  173.919998  166.320007  173.669998   \n",
       "581         581  2024-04-26  177.800003  180.820007  176.130005  179.619995   \n",
       "\n",
       "      Adj Close    Volume                                              title  \\\n",
       "0    170.404495  63520000  Updating 2021 Calls While Suggesting Strategic...   \n",
       "1    167.522003  70726000  The Best Stocks to Invest $1,000 in Right Now ...   \n",
       "2    164.356995  64302000  The Zacks Analyst Blog Highlights: Apple, Alph...   \n",
       "3    163.253998  51958000  Here's what's worth streaming in January 2022 ...   \n",
       "4    162.554001  46606000  ViacomCBS: A Deal Waiting To Happen The Divide...   \n",
       "..          ...       ...                                                ...   \n",
       "577  177.229996  37924900  SCHD: If You've Won The Game, Take A Little Of...   \n",
       "578  179.539993  37046500  This Is Hands Down My Pick for the Best \"Magni...   \n",
       "579  176.589996  34185100  History Says the Nasdaq Could Soar: 2 Top Grow...   \n",
       "580  173.669998  49249400  If You Invested $10,000 in Amazon 10 Years Ago...   \n",
       "581  179.619995  43919800  1 Unstoppable Stock That Could Join Microsoft,...   \n",
       "\n",
       "     Label  Company  \n",
       "0        1        2  \n",
       "1        0        2  \n",
       "2        0        2  \n",
       "3        0        2  \n",
       "4        0        2  \n",
       "..     ...      ...  \n",
       "577      1        2  \n",
       "578      1        2  \n",
       "579      0        2  \n",
       "580      0        2  \n",
       "581      1        2  \n",
       "\n",
       "[582 rows x 11 columns]"
      ]
     },
     "execution_count": 8,
     "metadata": {},
     "output_type": "execute_result"
    }
   ],
   "source": [
    "df2"
   ]
  },
  {
   "cell_type": "code",
   "execution_count": 9,
   "id": "c187046b-a4e1-444a-82b6-431c3b8821af",
   "metadata": {},
   "outputs": [],
   "source": [
    "df3['Company']=3"
   ]
  },
  {
   "cell_type": "code",
   "execution_count": 10,
   "id": "d6b1f41c-fb2a-4de1-97bf-cc4fe208407c",
   "metadata": {},
   "outputs": [
    {
     "data": {
      "text/html": [
       "<div>\n",
       "<style scoped>\n",
       "    .dataframe tbody tr th:only-of-type {\n",
       "        vertical-align: middle;\n",
       "    }\n",
       "\n",
       "    .dataframe tbody tr th {\n",
       "        vertical-align: top;\n",
       "    }\n",
       "\n",
       "    .dataframe thead th {\n",
       "        text-align: right;\n",
       "    }\n",
       "</style>\n",
       "<table border=\"1\" class=\"dataframe\">\n",
       "  <thead>\n",
       "    <tr style=\"text-align: right;\">\n",
       "      <th></th>\n",
       "      <th>Unnamed: 0</th>\n",
       "      <th>Date</th>\n",
       "      <th>Open</th>\n",
       "      <th>High</th>\n",
       "      <th>Low</th>\n",
       "      <th>Close</th>\n",
       "      <th>Adj Close</th>\n",
       "      <th>Volume</th>\n",
       "      <th>title</th>\n",
       "      <th>Label</th>\n",
       "      <th>Company</th>\n",
       "    </tr>\n",
       "  </thead>\n",
       "  <tbody>\n",
       "    <tr>\n",
       "      <th>0</th>\n",
       "      <td>0</td>\n",
       "      <td>2022-01-03</td>\n",
       "      <td>382.583344</td>\n",
       "      <td>400.356659</td>\n",
       "      <td>378.679993</td>\n",
       "      <td>399.926666</td>\n",
       "      <td>399.926666</td>\n",
       "      <td>103931400</td>\n",
       "      <td>LG Energy Solution starts taking orders for wh...</td>\n",
       "      <td>1</td>\n",
       "      <td>3</td>\n",
       "    </tr>\n",
       "    <tr>\n",
       "      <th>1</th>\n",
       "      <td>1</td>\n",
       "      <td>2022-01-04</td>\n",
       "      <td>396.516663</td>\n",
       "      <td>402.666656</td>\n",
       "      <td>374.350006</td>\n",
       "      <td>383.196655</td>\n",
       "      <td>383.196655</td>\n",
       "      <td>100248300</td>\n",
       "      <td>Tesla opens showroom in Xinjiang, the Chinese ...</td>\n",
       "      <td>0</td>\n",
       "      <td>3</td>\n",
       "    </tr>\n",
       "    <tr>\n",
       "      <th>2</th>\n",
       "      <td>2</td>\n",
       "      <td>2022-01-05</td>\n",
       "      <td>382.216675</td>\n",
       "      <td>390.113342</td>\n",
       "      <td>360.336670</td>\n",
       "      <td>362.706665</td>\n",
       "      <td>362.706665</td>\n",
       "      <td>80119800</td>\n",
       "      <td>Tesla And These 2 Chipmakers Are Seeing The Hi...</td>\n",
       "      <td>0</td>\n",
       "      <td>3</td>\n",
       "    </tr>\n",
       "    <tr>\n",
       "      <th>3</th>\n",
       "      <td>3</td>\n",
       "      <td>2022-01-06</td>\n",
       "      <td>359.000000</td>\n",
       "      <td>362.666656</td>\n",
       "      <td>340.166656</td>\n",
       "      <td>354.899994</td>\n",
       "      <td>354.899994</td>\n",
       "      <td>90336600</td>\n",
       "      <td>This Coin Named After Elon Musk's Pet Floki is...</td>\n",
       "      <td>0</td>\n",
       "      <td>3</td>\n",
       "    </tr>\n",
       "    <tr>\n",
       "      <th>4</th>\n",
       "      <td>4</td>\n",
       "      <td>2022-01-07</td>\n",
       "      <td>360.123322</td>\n",
       "      <td>360.309998</td>\n",
       "      <td>336.666656</td>\n",
       "      <td>342.320007</td>\n",
       "      <td>342.320007</td>\n",
       "      <td>84164700</td>\n",
       "      <td>Cathie Wood Sells Another $4.9M In Tesla Stock...</td>\n",
       "      <td>0</td>\n",
       "      <td>3</td>\n",
       "    </tr>\n",
       "    <tr>\n",
       "      <th>...</th>\n",
       "      <td>...</td>\n",
       "      <td>...</td>\n",
       "      <td>...</td>\n",
       "      <td>...</td>\n",
       "      <td>...</td>\n",
       "      <td>...</td>\n",
       "      <td>...</td>\n",
       "      <td>...</td>\n",
       "      <td>...</td>\n",
       "      <td>...</td>\n",
       "      <td>...</td>\n",
       "    </tr>\n",
       "    <tr>\n",
       "      <th>577</th>\n",
       "      <td>577</td>\n",
       "      <td>2024-04-22</td>\n",
       "      <td>140.559998</td>\n",
       "      <td>144.440002</td>\n",
       "      <td>138.800003</td>\n",
       "      <td>142.050003</td>\n",
       "      <td>142.050003</td>\n",
       "      <td>107097600</td>\n",
       "      <td>It's Time to Ditch These 2 \"Magnificent Seven\"...</td>\n",
       "      <td>0</td>\n",
       "      <td>3</td>\n",
       "    </tr>\n",
       "    <tr>\n",
       "      <th>578</th>\n",
       "      <td>578</td>\n",
       "      <td>2024-04-23</td>\n",
       "      <td>143.330002</td>\n",
       "      <td>147.259995</td>\n",
       "      <td>141.110001</td>\n",
       "      <td>144.679993</td>\n",
       "      <td>144.679993</td>\n",
       "      <td>124545100</td>\n",
       "      <td>Cathie Wood's Ark Invest Seizes Tesla Dip, Acq...</td>\n",
       "      <td>1</td>\n",
       "      <td>3</td>\n",
       "    </tr>\n",
       "    <tr>\n",
       "      <th>579</th>\n",
       "      <td>579</td>\n",
       "      <td>2024-04-24</td>\n",
       "      <td>162.839996</td>\n",
       "      <td>167.970001</td>\n",
       "      <td>157.509995</td>\n",
       "      <td>162.130005</td>\n",
       "      <td>162.130005</td>\n",
       "      <td>181178000</td>\n",
       "      <td>Tesla (TSLA) Q1 2024 Earnings Call Transcript ...</td>\n",
       "      <td>1</td>\n",
       "      <td>3</td>\n",
       "    </tr>\n",
       "    <tr>\n",
       "      <th>580</th>\n",
       "      <td>580</td>\n",
       "      <td>2024-04-25</td>\n",
       "      <td>158.960007</td>\n",
       "      <td>170.880005</td>\n",
       "      <td>158.360001</td>\n",
       "      <td>170.179993</td>\n",
       "      <td>170.179993</td>\n",
       "      <td>126427500</td>\n",
       "      <td>To Lower Or Not? EV Pricing Dilemma Hampers Fo...</td>\n",
       "      <td>1</td>\n",
       "      <td>3</td>\n",
       "    </tr>\n",
       "    <tr>\n",
       "      <th>581</th>\n",
       "      <td>581</td>\n",
       "      <td>2024-04-26</td>\n",
       "      <td>168.850006</td>\n",
       "      <td>172.119995</td>\n",
       "      <td>166.369995</td>\n",
       "      <td>168.289993</td>\n",
       "      <td>168.289993</td>\n",
       "      <td>109815700</td>\n",
       "      <td>Tesla Investor Touts EV Giant's Billions-Mile ...</td>\n",
       "      <td>0</td>\n",
       "      <td>3</td>\n",
       "    </tr>\n",
       "  </tbody>\n",
       "</table>\n",
       "<p>582 rows × 11 columns</p>\n",
       "</div>"
      ],
      "text/plain": [
       "     Unnamed: 0        Date        Open        High         Low       Close  \\\n",
       "0             0  2022-01-03  382.583344  400.356659  378.679993  399.926666   \n",
       "1             1  2022-01-04  396.516663  402.666656  374.350006  383.196655   \n",
       "2             2  2022-01-05  382.216675  390.113342  360.336670  362.706665   \n",
       "3             3  2022-01-06  359.000000  362.666656  340.166656  354.899994   \n",
       "4             4  2022-01-07  360.123322  360.309998  336.666656  342.320007   \n",
       "..          ...         ...         ...         ...         ...         ...   \n",
       "577         577  2024-04-22  140.559998  144.440002  138.800003  142.050003   \n",
       "578         578  2024-04-23  143.330002  147.259995  141.110001  144.679993   \n",
       "579         579  2024-04-24  162.839996  167.970001  157.509995  162.130005   \n",
       "580         580  2024-04-25  158.960007  170.880005  158.360001  170.179993   \n",
       "581         581  2024-04-26  168.850006  172.119995  166.369995  168.289993   \n",
       "\n",
       "      Adj Close     Volume                                              title  \\\n",
       "0    399.926666  103931400  LG Energy Solution starts taking orders for wh...   \n",
       "1    383.196655  100248300  Tesla opens showroom in Xinjiang, the Chinese ...   \n",
       "2    362.706665   80119800  Tesla And These 2 Chipmakers Are Seeing The Hi...   \n",
       "3    354.899994   90336600  This Coin Named After Elon Musk's Pet Floki is...   \n",
       "4    342.320007   84164700  Cathie Wood Sells Another $4.9M In Tesla Stock...   \n",
       "..          ...        ...                                                ...   \n",
       "577  142.050003  107097600  It's Time to Ditch These 2 \"Magnificent Seven\"...   \n",
       "578  144.679993  124545100  Cathie Wood's Ark Invest Seizes Tesla Dip, Acq...   \n",
       "579  162.130005  181178000  Tesla (TSLA) Q1 2024 Earnings Call Transcript ...   \n",
       "580  170.179993  126427500  To Lower Or Not? EV Pricing Dilemma Hampers Fo...   \n",
       "581  168.289993  109815700  Tesla Investor Touts EV Giant's Billions-Mile ...   \n",
       "\n",
       "     Label  Company  \n",
       "0        1        3  \n",
       "1        0        3  \n",
       "2        0        3  \n",
       "3        0        3  \n",
       "4        0        3  \n",
       "..     ...      ...  \n",
       "577      0        3  \n",
       "578      1        3  \n",
       "579      1        3  \n",
       "580      1        3  \n",
       "581      0        3  \n",
       "\n",
       "[582 rows x 11 columns]"
      ]
     },
     "execution_count": 10,
     "metadata": {},
     "output_type": "execute_result"
    }
   ],
   "source": [
    "df3"
   ]
  },
  {
   "cell_type": "code",
   "execution_count": 11,
   "id": "8773ad5c-c275-4200-9bdf-97e5f9677fb6",
   "metadata": {},
   "outputs": [
    {
     "name": "stdout",
     "output_type": "stream",
     "text": [
      "<class 'pandas.core.frame.DataFrame'>\n",
      "RangeIndex: 582 entries, 0 to 581\n",
      "Data columns (total 11 columns):\n",
      " #   Column      Non-Null Count  Dtype  \n",
      "---  ------      --------------  -----  \n",
      " 0   Unnamed: 0  582 non-null    int64  \n",
      " 1   Date        582 non-null    object \n",
      " 2   Open        582 non-null    float64\n",
      " 3   High        582 non-null    float64\n",
      " 4   Low         582 non-null    float64\n",
      " 5   Close       582 non-null    float64\n",
      " 6   Adj Close   582 non-null    float64\n",
      " 7   Volume      582 non-null    int64  \n",
      " 8   title       582 non-null    object \n",
      " 9   Label       582 non-null    int64  \n",
      " 10  Company     582 non-null    int64  \n",
      "dtypes: float64(5), int64(4), object(2)\n",
      "memory usage: 50.1+ KB\n"
     ]
    }
   ],
   "source": [
    "df3.info()"
   ]
  },
  {
   "cell_type": "code",
   "execution_count": 12,
   "id": "9af37ad8-e740-43a0-af4e-1cd3f2ad535d",
   "metadata": {},
   "outputs": [
    {
     "data": {
      "text/html": [
       "<div>\n",
       "<style scoped>\n",
       "    .dataframe tbody tr th:only-of-type {\n",
       "        vertical-align: middle;\n",
       "    }\n",
       "\n",
       "    .dataframe tbody tr th {\n",
       "        vertical-align: top;\n",
       "    }\n",
       "\n",
       "    .dataframe thead th {\n",
       "        text-align: right;\n",
       "    }\n",
       "</style>\n",
       "<table border=\"1\" class=\"dataframe\">\n",
       "  <thead>\n",
       "    <tr style=\"text-align: right;\">\n",
       "      <th></th>\n",
       "      <th>Unnamed: 0</th>\n",
       "      <th>Date</th>\n",
       "      <th>Open</th>\n",
       "      <th>High</th>\n",
       "      <th>Low</th>\n",
       "      <th>Close</th>\n",
       "      <th>Adj Close</th>\n",
       "      <th>Volume</th>\n",
       "      <th>title</th>\n",
       "      <th>Label</th>\n",
       "      <th>Company</th>\n",
       "    </tr>\n",
       "  </thead>\n",
       "  <tbody>\n",
       "    <tr>\n",
       "      <th>0</th>\n",
       "      <td>0</td>\n",
       "      <td>2022-01-03</td>\n",
       "      <td>177.830002</td>\n",
       "      <td>182.880005</td>\n",
       "      <td>177.710007</td>\n",
       "      <td>182.009995</td>\n",
       "      <td>179.481140</td>\n",
       "      <td>104487900</td>\n",
       "      <td>What A 'Strong' Apple 2022 Product Line Up Cou...</td>\n",
       "      <td>1</td>\n",
       "      <td>1</td>\n",
       "    </tr>\n",
       "    <tr>\n",
       "      <th>1</th>\n",
       "      <td>1</td>\n",
       "      <td>2022-01-04</td>\n",
       "      <td>182.630005</td>\n",
       "      <td>182.940002</td>\n",
       "      <td>179.119995</td>\n",
       "      <td>179.699997</td>\n",
       "      <td>177.203217</td>\n",
       "      <td>99310400</td>\n",
       "      <td>Is $3 Trillion Just the Beginning for Apple? A...</td>\n",
       "      <td>0</td>\n",
       "      <td>1</td>\n",
       "    </tr>\n",
       "    <tr>\n",
       "      <th>2</th>\n",
       "      <td>2</td>\n",
       "      <td>2022-01-05</td>\n",
       "      <td>179.610001</td>\n",
       "      <td>180.169998</td>\n",
       "      <td>174.639999</td>\n",
       "      <td>174.919998</td>\n",
       "      <td>172.489639</td>\n",
       "      <td>94537600</td>\n",
       "      <td>Dow industrials knocking on door of milestone ...</td>\n",
       "      <td>0</td>\n",
       "      <td>1</td>\n",
       "    </tr>\n",
       "    <tr>\n",
       "      <th>3</th>\n",
       "      <td>3</td>\n",
       "      <td>2022-01-06</td>\n",
       "      <td>172.699997</td>\n",
       "      <td>175.300003</td>\n",
       "      <td>171.639999</td>\n",
       "      <td>172.000000</td>\n",
       "      <td>169.610214</td>\n",
       "      <td>96904000</td>\n",
       "      <td>Here's what's worth streaming in January 2022 ...</td>\n",
       "      <td>0</td>\n",
       "      <td>1</td>\n",
       "    </tr>\n",
       "    <tr>\n",
       "      <th>4</th>\n",
       "      <td>4</td>\n",
       "      <td>2022-01-07</td>\n",
       "      <td>172.889999</td>\n",
       "      <td>174.139999</td>\n",
       "      <td>171.029999</td>\n",
       "      <td>172.169998</td>\n",
       "      <td>169.777847</td>\n",
       "      <td>86709100</td>\n",
       "      <td>Samsung Electronics expects 52% jump in Q4 ope...</td>\n",
       "      <td>1</td>\n",
       "      <td>1</td>\n",
       "    </tr>\n",
       "    <tr>\n",
       "      <th>...</th>\n",
       "      <td>...</td>\n",
       "      <td>...</td>\n",
       "      <td>...</td>\n",
       "      <td>...</td>\n",
       "      <td>...</td>\n",
       "      <td>...</td>\n",
       "      <td>...</td>\n",
       "      <td>...</td>\n",
       "      <td>...</td>\n",
       "      <td>...</td>\n",
       "      <td>...</td>\n",
       "    </tr>\n",
       "    <tr>\n",
       "      <th>577</th>\n",
       "      <td>577</td>\n",
       "      <td>2024-04-22</td>\n",
       "      <td>165.520004</td>\n",
       "      <td>167.259995</td>\n",
       "      <td>164.770004</td>\n",
       "      <td>165.839996</td>\n",
       "      <td>165.615356</td>\n",
       "      <td>48116400</td>\n",
       "      <td>SCHD: If You've Won The Game, Take A Little Of...</td>\n",
       "      <td>1</td>\n",
       "      <td>1</td>\n",
       "    </tr>\n",
       "    <tr>\n",
       "      <th>578</th>\n",
       "      <td>578</td>\n",
       "      <td>2024-04-23</td>\n",
       "      <td>165.350006</td>\n",
       "      <td>167.050003</td>\n",
       "      <td>164.919998</td>\n",
       "      <td>166.899994</td>\n",
       "      <td>166.673920</td>\n",
       "      <td>49537800</td>\n",
       "      <td>Unfortunate News for Meta Stock and Apple Stoc...</td>\n",
       "      <td>1</td>\n",
       "      <td>1</td>\n",
       "    </tr>\n",
       "    <tr>\n",
       "      <th>579</th>\n",
       "      <td>579</td>\n",
       "      <td>2024-04-24</td>\n",
       "      <td>166.539993</td>\n",
       "      <td>169.300003</td>\n",
       "      <td>166.210007</td>\n",
       "      <td>169.020004</td>\n",
       "      <td>168.791061</td>\n",
       "      <td>48251800</td>\n",
       "      <td>Could AMD Stock Help You Become a Millionaire?...</td>\n",
       "      <td>1</td>\n",
       "      <td>1</td>\n",
       "    </tr>\n",
       "    <tr>\n",
       "      <th>580</th>\n",
       "      <td>580</td>\n",
       "      <td>2024-04-25</td>\n",
       "      <td>169.529999</td>\n",
       "      <td>170.610001</td>\n",
       "      <td>168.149994</td>\n",
       "      <td>169.889999</td>\n",
       "      <td>169.659882</td>\n",
       "      <td>50558300</td>\n",
       "      <td>This Spectacular Vanguard ETF Could Turn $250 ...</td>\n",
       "      <td>1</td>\n",
       "      <td>1</td>\n",
       "    </tr>\n",
       "    <tr>\n",
       "      <th>581</th>\n",
       "      <td>581</td>\n",
       "      <td>2024-04-26</td>\n",
       "      <td>169.880005</td>\n",
       "      <td>171.339996</td>\n",
       "      <td>169.179993</td>\n",
       "      <td>169.300003</td>\n",
       "      <td>169.070679</td>\n",
       "      <td>44838400</td>\n",
       "      <td>1 Unstoppable Stock That Could Join Microsoft,...</td>\n",
       "      <td>0</td>\n",
       "      <td>1</td>\n",
       "    </tr>\n",
       "  </tbody>\n",
       "</table>\n",
       "<p>582 rows × 11 columns</p>\n",
       "</div>"
      ],
      "text/plain": [
       "     Unnamed: 0        Date        Open        High         Low       Close  \\\n",
       "0             0  2022-01-03  177.830002  182.880005  177.710007  182.009995   \n",
       "1             1  2022-01-04  182.630005  182.940002  179.119995  179.699997   \n",
       "2             2  2022-01-05  179.610001  180.169998  174.639999  174.919998   \n",
       "3             3  2022-01-06  172.699997  175.300003  171.639999  172.000000   \n",
       "4             4  2022-01-07  172.889999  174.139999  171.029999  172.169998   \n",
       "..          ...         ...         ...         ...         ...         ...   \n",
       "577         577  2024-04-22  165.520004  167.259995  164.770004  165.839996   \n",
       "578         578  2024-04-23  165.350006  167.050003  164.919998  166.899994   \n",
       "579         579  2024-04-24  166.539993  169.300003  166.210007  169.020004   \n",
       "580         580  2024-04-25  169.529999  170.610001  168.149994  169.889999   \n",
       "581         581  2024-04-26  169.880005  171.339996  169.179993  169.300003   \n",
       "\n",
       "      Adj Close     Volume                                              title  \\\n",
       "0    179.481140  104487900  What A 'Strong' Apple 2022 Product Line Up Cou...   \n",
       "1    177.203217   99310400  Is $3 Trillion Just the Beginning for Apple? A...   \n",
       "2    172.489639   94537600  Dow industrials knocking on door of milestone ...   \n",
       "3    169.610214   96904000  Here's what's worth streaming in January 2022 ...   \n",
       "4    169.777847   86709100  Samsung Electronics expects 52% jump in Q4 ope...   \n",
       "..          ...        ...                                                ...   \n",
       "577  165.615356   48116400  SCHD: If You've Won The Game, Take A Little Of...   \n",
       "578  166.673920   49537800  Unfortunate News for Meta Stock and Apple Stoc...   \n",
       "579  168.791061   48251800  Could AMD Stock Help You Become a Millionaire?...   \n",
       "580  169.659882   50558300  This Spectacular Vanguard ETF Could Turn $250 ...   \n",
       "581  169.070679   44838400  1 Unstoppable Stock That Could Join Microsoft,...   \n",
       "\n",
       "     Label  Company  \n",
       "0        1        1  \n",
       "1        0        1  \n",
       "2        0        1  \n",
       "3        0        1  \n",
       "4        1        1  \n",
       "..     ...      ...  \n",
       "577      1        1  \n",
       "578      1        1  \n",
       "579      1        1  \n",
       "580      1        1  \n",
       "581      0        1  \n",
       "\n",
       "[582 rows x 11 columns]"
      ]
     },
     "execution_count": 12,
     "metadata": {},
     "output_type": "execute_result"
    }
   ],
   "source": [
    "df1"
   ]
  },
  {
   "cell_type": "code",
   "execution_count": 13,
   "id": "d41070d4-be43-4bf7-a0e3-e96efd65c265",
   "metadata": {},
   "outputs": [],
   "source": [
    "df=pd.concat([df1,df2,df3],ignore_index=True)"
   ]
  },
  {
   "cell_type": "code",
   "execution_count": 14,
   "id": "7ce7c855-9953-45b2-9dce-2addb0d6c471",
   "metadata": {},
   "outputs": [
    {
     "data": {
      "text/plain": [
       "19206"
      ]
     },
     "execution_count": 14,
     "metadata": {},
     "output_type": "execute_result"
    }
   ],
   "source": [
    "df.size"
   ]
  },
  {
   "cell_type": "code",
   "execution_count": 15,
   "id": "2ed60b1d-8ccd-4d35-8d76-be1f4cadba43",
   "metadata": {},
   "outputs": [],
   "source": [
    "#  df.drop('Unnamed: 0',axis=1)"
   ]
  },
  {
   "cell_type": "code",
   "execution_count": 16,
   "id": "7bb08368-046b-4709-a2f9-6ed101e736ac",
   "metadata": {},
   "outputs": [
    {
     "name": "stdout",
     "output_type": "stream",
     "text": [
      "<class 'pandas.core.frame.DataFrame'>\n",
      "RangeIndex: 1746 entries, 0 to 1745\n",
      "Data columns (total 11 columns):\n",
      " #   Column      Non-Null Count  Dtype  \n",
      "---  ------      --------------  -----  \n",
      " 0   Unnamed: 0  1746 non-null   int64  \n",
      " 1   Date        1746 non-null   object \n",
      " 2   Open        1746 non-null   float64\n",
      " 3   High        1746 non-null   float64\n",
      " 4   Low         1746 non-null   float64\n",
      " 5   Close       1746 non-null   float64\n",
      " 6   Adj Close   1746 non-null   float64\n",
      " 7   Volume      1746 non-null   int64  \n",
      " 8   title       1746 non-null   object \n",
      " 9   Label       1746 non-null   int64  \n",
      " 10  Company     1746 non-null   int64  \n",
      "dtypes: float64(5), int64(4), object(2)\n",
      "memory usage: 150.2+ KB\n"
     ]
    }
   ],
   "source": [
    "df.info()"
   ]
  },
  {
   "cell_type": "code",
   "execution_count": 17,
   "id": "b8f51f17-f5ca-4520-b8be-eeb194ce80ec",
   "metadata": {},
   "outputs": [],
   "source": [
    "df=df.drop('Unnamed: 0',axis=1)"
   ]
  },
  {
   "cell_type": "code",
   "execution_count": 18,
   "id": "f0514476-3442-4e1e-911e-e59f9a890ca6",
   "metadata": {},
   "outputs": [
    {
     "name": "stdout",
     "output_type": "stream",
     "text": [
      "<class 'pandas.core.frame.DataFrame'>\n",
      "RangeIndex: 1746 entries, 0 to 1745\n",
      "Data columns (total 10 columns):\n",
      " #   Column     Non-Null Count  Dtype  \n",
      "---  ------     --------------  -----  \n",
      " 0   Date       1746 non-null   object \n",
      " 1   Open       1746 non-null   float64\n",
      " 2   High       1746 non-null   float64\n",
      " 3   Low        1746 non-null   float64\n",
      " 4   Close      1746 non-null   float64\n",
      " 5   Adj Close  1746 non-null   float64\n",
      " 6   Volume     1746 non-null   int64  \n",
      " 7   title      1746 non-null   object \n",
      " 8   Label      1746 non-null   int64  \n",
      " 9   Company    1746 non-null   int64  \n",
      "dtypes: float64(5), int64(3), object(2)\n",
      "memory usage: 136.5+ KB\n"
     ]
    }
   ],
   "source": [
    "df.info()"
   ]
  },
  {
   "cell_type": "code",
   "execution_count": 19,
   "id": "7e0475b0-9342-49f2-b5a5-0eca650438f3",
   "metadata": {},
   "outputs": [
    {
     "data": {
      "text/plain": [
       "1    582\n",
       "2    582\n",
       "3    582\n",
       "Name: Company, dtype: int64"
      ]
     },
     "execution_count": 19,
     "metadata": {},
     "output_type": "execute_result"
    }
   ],
   "source": [
    "df['Company'].value_counts()"
   ]
  },
  {
   "cell_type": "code",
   "execution_count": 20,
   "id": "0fd80567-6541-4adb-ba59-09840b484949",
   "metadata": {},
   "outputs": [],
   "source": [
    "df_sorted=df.sort_values(by='Date')"
   ]
  },
  {
   "cell_type": "code",
   "execution_count": 21,
   "id": "4a6a81a1-a10d-482b-8a3e-89a44403bb45",
   "metadata": {},
   "outputs": [],
   "source": [
    "df_sorted.reset_index(drop=True,inplace=True)"
   ]
  },
  {
   "cell_type": "code",
   "execution_count": 22,
   "id": "3d18fb0e-e679-4c4c-b0c3-8f6926bbb37c",
   "metadata": {},
   "outputs": [
    {
     "data": {
      "text/plain": [
       "1    582\n",
       "3    582\n",
       "2    582\n",
       "Name: Company, dtype: int64"
      ]
     },
     "execution_count": 22,
     "metadata": {},
     "output_type": "execute_result"
    }
   ],
   "source": [
    "df_sorted['Company'].value_counts()"
   ]
  },
  {
   "cell_type": "code",
   "execution_count": 23,
   "id": "039af8c8-5a74-4054-8f63-d3b80bff0e5c",
   "metadata": {},
   "outputs": [
    {
     "data": {
      "text/html": [
       "<div>\n",
       "<style scoped>\n",
       "    .dataframe tbody tr th:only-of-type {\n",
       "        vertical-align: middle;\n",
       "    }\n",
       "\n",
       "    .dataframe tbody tr th {\n",
       "        vertical-align: top;\n",
       "    }\n",
       "\n",
       "    .dataframe thead th {\n",
       "        text-align: right;\n",
       "    }\n",
       "</style>\n",
       "<table border=\"1\" class=\"dataframe\">\n",
       "  <thead>\n",
       "    <tr style=\"text-align: right;\">\n",
       "      <th></th>\n",
       "      <th>Date</th>\n",
       "      <th>Open</th>\n",
       "      <th>High</th>\n",
       "      <th>Low</th>\n",
       "      <th>Close</th>\n",
       "      <th>Adj Close</th>\n",
       "      <th>Volume</th>\n",
       "      <th>title</th>\n",
       "      <th>Label</th>\n",
       "      <th>Company</th>\n",
       "    </tr>\n",
       "  </thead>\n",
       "  <tbody>\n",
       "    <tr>\n",
       "      <th>0</th>\n",
       "      <td>2022-01-03</td>\n",
       "      <td>177.830002</td>\n",
       "      <td>182.880005</td>\n",
       "      <td>177.710007</td>\n",
       "      <td>182.009995</td>\n",
       "      <td>179.481140</td>\n",
       "      <td>104487900</td>\n",
       "      <td>What A 'Strong' Apple 2022 Product Line Up Cou...</td>\n",
       "      <td>1</td>\n",
       "      <td>1</td>\n",
       "    </tr>\n",
       "    <tr>\n",
       "      <th>1</th>\n",
       "      <td>2022-01-03</td>\n",
       "      <td>382.583344</td>\n",
       "      <td>400.356659</td>\n",
       "      <td>378.679993</td>\n",
       "      <td>399.926666</td>\n",
       "      <td>399.926666</td>\n",
       "      <td>103931400</td>\n",
       "      <td>LG Energy Solution starts taking orders for wh...</td>\n",
       "      <td>1</td>\n",
       "      <td>3</td>\n",
       "    </tr>\n",
       "    <tr>\n",
       "      <th>2</th>\n",
       "      <td>2022-01-03</td>\n",
       "      <td>167.550003</td>\n",
       "      <td>170.703506</td>\n",
       "      <td>166.160507</td>\n",
       "      <td>170.404495</td>\n",
       "      <td>170.404495</td>\n",
       "      <td>63520000</td>\n",
       "      <td>Updating 2021 Calls While Suggesting Strategic...</td>\n",
       "      <td>1</td>\n",
       "      <td>2</td>\n",
       "    </tr>\n",
       "    <tr>\n",
       "      <th>3</th>\n",
       "      <td>2022-01-04</td>\n",
       "      <td>182.630005</td>\n",
       "      <td>182.940002</td>\n",
       "      <td>179.119995</td>\n",
       "      <td>179.699997</td>\n",
       "      <td>177.203217</td>\n",
       "      <td>99310400</td>\n",
       "      <td>Is $3 Trillion Just the Beginning for Apple? A...</td>\n",
       "      <td>0</td>\n",
       "      <td>1</td>\n",
       "    </tr>\n",
       "    <tr>\n",
       "      <th>4</th>\n",
       "      <td>2022-01-04</td>\n",
       "      <td>396.516663</td>\n",
       "      <td>402.666656</td>\n",
       "      <td>374.350006</td>\n",
       "      <td>383.196655</td>\n",
       "      <td>383.196655</td>\n",
       "      <td>100248300</td>\n",
       "      <td>Tesla opens showroom in Xinjiang, the Chinese ...</td>\n",
       "      <td>0</td>\n",
       "      <td>3</td>\n",
       "    </tr>\n",
       "    <tr>\n",
       "      <th>...</th>\n",
       "      <td>...</td>\n",
       "      <td>...</td>\n",
       "      <td>...</td>\n",
       "      <td>...</td>\n",
       "      <td>...</td>\n",
       "      <td>...</td>\n",
       "      <td>...</td>\n",
       "      <td>...</td>\n",
       "      <td>...</td>\n",
       "      <td>...</td>\n",
       "    </tr>\n",
       "    <tr>\n",
       "      <th>1741</th>\n",
       "      <td>2024-04-25</td>\n",
       "      <td>169.529999</td>\n",
       "      <td>170.610001</td>\n",
       "      <td>168.149994</td>\n",
       "      <td>169.889999</td>\n",
       "      <td>169.659882</td>\n",
       "      <td>50558300</td>\n",
       "      <td>This Spectacular Vanguard ETF Could Turn $250 ...</td>\n",
       "      <td>1</td>\n",
       "      <td>1</td>\n",
       "    </tr>\n",
       "    <tr>\n",
       "      <th>1742</th>\n",
       "      <td>2024-04-25</td>\n",
       "      <td>169.679993</td>\n",
       "      <td>173.919998</td>\n",
       "      <td>166.320007</td>\n",
       "      <td>173.669998</td>\n",
       "      <td>173.669998</td>\n",
       "      <td>49249400</td>\n",
       "      <td>If You Invested $10,000 in Amazon 10 Years Ago...</td>\n",
       "      <td>0</td>\n",
       "      <td>2</td>\n",
       "    </tr>\n",
       "    <tr>\n",
       "      <th>1743</th>\n",
       "      <td>2024-04-26</td>\n",
       "      <td>177.800003</td>\n",
       "      <td>180.820007</td>\n",
       "      <td>176.130005</td>\n",
       "      <td>179.619995</td>\n",
       "      <td>179.619995</td>\n",
       "      <td>43919800</td>\n",
       "      <td>1 Unstoppable Stock That Could Join Microsoft,...</td>\n",
       "      <td>1</td>\n",
       "      <td>2</td>\n",
       "    </tr>\n",
       "    <tr>\n",
       "      <th>1744</th>\n",
       "      <td>2024-04-26</td>\n",
       "      <td>169.880005</td>\n",
       "      <td>171.339996</td>\n",
       "      <td>169.179993</td>\n",
       "      <td>169.300003</td>\n",
       "      <td>169.070679</td>\n",
       "      <td>44838400</td>\n",
       "      <td>1 Unstoppable Stock That Could Join Microsoft,...</td>\n",
       "      <td>0</td>\n",
       "      <td>1</td>\n",
       "    </tr>\n",
       "    <tr>\n",
       "      <th>1745</th>\n",
       "      <td>2024-04-26</td>\n",
       "      <td>168.850006</td>\n",
       "      <td>172.119995</td>\n",
       "      <td>166.369995</td>\n",
       "      <td>168.289993</td>\n",
       "      <td>168.289993</td>\n",
       "      <td>109815700</td>\n",
       "      <td>Tesla Investor Touts EV Giant's Billions-Mile ...</td>\n",
       "      <td>0</td>\n",
       "      <td>3</td>\n",
       "    </tr>\n",
       "  </tbody>\n",
       "</table>\n",
       "<p>1746 rows × 10 columns</p>\n",
       "</div>"
      ],
      "text/plain": [
       "            Date        Open        High         Low       Close   Adj Close  \\\n",
       "0     2022-01-03  177.830002  182.880005  177.710007  182.009995  179.481140   \n",
       "1     2022-01-03  382.583344  400.356659  378.679993  399.926666  399.926666   \n",
       "2     2022-01-03  167.550003  170.703506  166.160507  170.404495  170.404495   \n",
       "3     2022-01-04  182.630005  182.940002  179.119995  179.699997  177.203217   \n",
       "4     2022-01-04  396.516663  402.666656  374.350006  383.196655  383.196655   \n",
       "...          ...         ...         ...         ...         ...         ...   \n",
       "1741  2024-04-25  169.529999  170.610001  168.149994  169.889999  169.659882   \n",
       "1742  2024-04-25  169.679993  173.919998  166.320007  173.669998  173.669998   \n",
       "1743  2024-04-26  177.800003  180.820007  176.130005  179.619995  179.619995   \n",
       "1744  2024-04-26  169.880005  171.339996  169.179993  169.300003  169.070679   \n",
       "1745  2024-04-26  168.850006  172.119995  166.369995  168.289993  168.289993   \n",
       "\n",
       "         Volume                                              title  Label  \\\n",
       "0     104487900  What A 'Strong' Apple 2022 Product Line Up Cou...      1   \n",
       "1     103931400  LG Energy Solution starts taking orders for wh...      1   \n",
       "2      63520000  Updating 2021 Calls While Suggesting Strategic...      1   \n",
       "3      99310400  Is $3 Trillion Just the Beginning for Apple? A...      0   \n",
       "4     100248300  Tesla opens showroom in Xinjiang, the Chinese ...      0   \n",
       "...         ...                                                ...    ...   \n",
       "1741   50558300  This Spectacular Vanguard ETF Could Turn $250 ...      1   \n",
       "1742   49249400  If You Invested $10,000 in Amazon 10 Years Ago...      0   \n",
       "1743   43919800  1 Unstoppable Stock That Could Join Microsoft,...      1   \n",
       "1744   44838400  1 Unstoppable Stock That Could Join Microsoft,...      0   \n",
       "1745  109815700  Tesla Investor Touts EV Giant's Billions-Mile ...      0   \n",
       "\n",
       "      Company  \n",
       "0           1  \n",
       "1           3  \n",
       "2           2  \n",
       "3           1  \n",
       "4           3  \n",
       "...       ...  \n",
       "1741        1  \n",
       "1742        2  \n",
       "1743        2  \n",
       "1744        1  \n",
       "1745        3  \n",
       "\n",
       "[1746 rows x 10 columns]"
      ]
     },
     "execution_count": 23,
     "metadata": {},
     "output_type": "execute_result"
    }
   ],
   "source": [
    "df_sorted"
   ]
  },
  {
   "cell_type": "code",
   "execution_count": 24,
   "id": "1b5afb76-8643-46ac-b5a0-f41dcf408ec5",
   "metadata": {},
   "outputs": [
    {
     "data": {
      "text/html": [
       "<div>\n",
       "<style scoped>\n",
       "    .dataframe tbody tr th:only-of-type {\n",
       "        vertical-align: middle;\n",
       "    }\n",
       "\n",
       "    .dataframe tbody tr th {\n",
       "        vertical-align: top;\n",
       "    }\n",
       "\n",
       "    .dataframe thead th {\n",
       "        text-align: right;\n",
       "    }\n",
       "</style>\n",
       "<table border=\"1\" class=\"dataframe\">\n",
       "  <thead>\n",
       "    <tr style=\"text-align: right;\">\n",
       "      <th></th>\n",
       "      <th>Open</th>\n",
       "      <th>High</th>\n",
       "      <th>Low</th>\n",
       "      <th>Close</th>\n",
       "      <th>Adj Close</th>\n",
       "      <th>Volume</th>\n",
       "      <th>Label</th>\n",
       "      <th>Company</th>\n",
       "    </tr>\n",
       "  </thead>\n",
       "  <tbody>\n",
       "    <tr>\n",
       "      <th>count</th>\n",
       "      <td>1746.000000</td>\n",
       "      <td>1746.000000</td>\n",
       "      <td>1746.000000</td>\n",
       "      <td>1746.000000</td>\n",
       "      <td>1746.000000</td>\n",
       "      <td>1.746000e+03</td>\n",
       "      <td>1746.000000</td>\n",
       "      <td>1746.000000</td>\n",
       "    </tr>\n",
       "    <tr>\n",
       "      <th>mean</th>\n",
       "      <td>176.388535</td>\n",
       "      <td>179.325647</td>\n",
       "      <td>173.307461</td>\n",
       "      <td>176.335141</td>\n",
       "      <td>175.947713</td>\n",
       "      <td>8.222086e+07</td>\n",
       "      <td>0.508018</td>\n",
       "      <td>2.000000</td>\n",
       "    </tr>\n",
       "    <tr>\n",
       "      <th>std</th>\n",
       "      <td>56.488275</td>\n",
       "      <td>57.970267</td>\n",
       "      <td>54.693305</td>\n",
       "      <td>56.227667</td>\n",
       "      <td>56.327727</td>\n",
       "      <td>3.774146e+07</td>\n",
       "      <td>0.500079</td>\n",
       "      <td>0.816731</td>\n",
       "    </tr>\n",
       "    <tr>\n",
       "      <th>min</th>\n",
       "      <td>82.800003</td>\n",
       "      <td>83.480003</td>\n",
       "      <td>81.430000</td>\n",
       "      <td>81.820000</td>\n",
       "      <td>81.820000</td>\n",
       "      <td>2.237840e+07</td>\n",
       "      <td>0.000000</td>\n",
       "      <td>1.000000</td>\n",
       "    </tr>\n",
       "    <tr>\n",
       "      <th>25%</th>\n",
       "      <td>140.062504</td>\n",
       "      <td>142.084999</td>\n",
       "      <td>137.667503</td>\n",
       "      <td>139.432503</td>\n",
       "      <td>138.891369</td>\n",
       "      <td>5.428198e+07</td>\n",
       "      <td>0.000000</td>\n",
       "      <td>1.000000</td>\n",
       "    </tr>\n",
       "    <tr>\n",
       "      <th>50%</th>\n",
       "      <td>168.699997</td>\n",
       "      <td>170.544998</td>\n",
       "      <td>166.310005</td>\n",
       "      <td>168.430001</td>\n",
       "      <td>167.568230</td>\n",
       "      <td>7.266135e+07</td>\n",
       "      <td>1.000000</td>\n",
       "      <td>2.000000</td>\n",
       "    </tr>\n",
       "    <tr>\n",
       "      <th>75%</th>\n",
       "      <td>194.015003</td>\n",
       "      <td>196.375004</td>\n",
       "      <td>191.752495</td>\n",
       "      <td>193.862503</td>\n",
       "      <td>193.449539</td>\n",
       "      <td>1.007433e+08</td>\n",
       "      <td>1.000000</td>\n",
       "      <td>3.000000</td>\n",
       "    </tr>\n",
       "    <tr>\n",
       "      <th>max</th>\n",
       "      <td>396.516663</td>\n",
       "      <td>402.666656</td>\n",
       "      <td>378.679993</td>\n",
       "      <td>399.926666</td>\n",
       "      <td>399.926666</td>\n",
       "      <td>3.065906e+08</td>\n",
       "      <td>1.000000</td>\n",
       "      <td>3.000000</td>\n",
       "    </tr>\n",
       "  </tbody>\n",
       "</table>\n",
       "</div>"
      ],
      "text/plain": [
       "              Open         High          Low        Close    Adj Close  \\\n",
       "count  1746.000000  1746.000000  1746.000000  1746.000000  1746.000000   \n",
       "mean    176.388535   179.325647   173.307461   176.335141   175.947713   \n",
       "std      56.488275    57.970267    54.693305    56.227667    56.327727   \n",
       "min      82.800003    83.480003    81.430000    81.820000    81.820000   \n",
       "25%     140.062504   142.084999   137.667503   139.432503   138.891369   \n",
       "50%     168.699997   170.544998   166.310005   168.430001   167.568230   \n",
       "75%     194.015003   196.375004   191.752495   193.862503   193.449539   \n",
       "max     396.516663   402.666656   378.679993   399.926666   399.926666   \n",
       "\n",
       "             Volume        Label      Company  \n",
       "count  1.746000e+03  1746.000000  1746.000000  \n",
       "mean   8.222086e+07     0.508018     2.000000  \n",
       "std    3.774146e+07     0.500079     0.816731  \n",
       "min    2.237840e+07     0.000000     1.000000  \n",
       "25%    5.428198e+07     0.000000     1.000000  \n",
       "50%    7.266135e+07     1.000000     2.000000  \n",
       "75%    1.007433e+08     1.000000     3.000000  \n",
       "max    3.065906e+08     1.000000     3.000000  "
      ]
     },
     "execution_count": 24,
     "metadata": {},
     "output_type": "execute_result"
    }
   ],
   "source": [
    "df_sorted.describe()"
   ]
  },
  {
   "cell_type": "code",
   "execution_count": 25,
   "id": "1f409a5c-7647-4c88-bce4-102b71dd6ee6",
   "metadata": {},
   "outputs": [
    {
     "name": "stdout",
     "output_type": "stream",
     "text": [
      "<class 'pandas.core.frame.DataFrame'>\n",
      "RangeIndex: 1746 entries, 0 to 1745\n",
      "Data columns (total 10 columns):\n",
      " #   Column     Non-Null Count  Dtype  \n",
      "---  ------     --------------  -----  \n",
      " 0   Date       1746 non-null   object \n",
      " 1   Open       1746 non-null   float64\n",
      " 2   High       1746 non-null   float64\n",
      " 3   Low        1746 non-null   float64\n",
      " 4   Close      1746 non-null   float64\n",
      " 5   Adj Close  1746 non-null   float64\n",
      " 6   Volume     1746 non-null   int64  \n",
      " 7   title      1746 non-null   object \n",
      " 8   Label      1746 non-null   int64  \n",
      " 9   Company    1746 non-null   int64  \n",
      "dtypes: float64(5), int64(3), object(2)\n",
      "memory usage: 136.5+ KB\n"
     ]
    }
   ],
   "source": [
    "df_sorted.info()"
   ]
  },
  {
   "cell_type": "code",
   "execution_count": 26,
   "id": "a52f202a-348d-4b4d-946c-95acacbe9a2c",
   "metadata": {},
   "outputs": [],
   "source": [
    "import numpy as np "
   ]
  },
  {
   "cell_type": "code",
   "execution_count": 27,
   "id": "1e52e949-0b51-4b1b-9889-42533e323bee",
   "metadata": {},
   "outputs": [],
   "source": [
    "df_sorted['Volume']=df_sorted['Volume'].astype(np.float64)\n",
    "df_sorted['Label']=df_sorted['Label'].astype(np.float64)\n",
    "df_sorted['Company']=df_sorted['Company'].astype(np.float64)\n"
   ]
  },
  {
   "cell_type": "code",
   "execution_count": 28,
   "id": "2ee7afc2-fb82-460e-a0ac-77b759bd4f5d",
   "metadata": {},
   "outputs": [
    {
     "data": {
      "text/plain": [
       "\"What A 'Strong' Apple 2022 Product Line Up Could Look Like, Featuring A Possible 'Holy Grail' Release Apple: Quality Name To Own; AR/VR To Drive Growth Robust iPhone Demand, Services Will Chart Apple's Course In 2022: Wedbush 'Son, get a lawyer. That woman is going to take away your inheritance!â\\x80\\x99 The most popular Moneyist columns of 2021 Tesla Q4 Deliveries, Santa Rally Eludes Bitcoin, Apple In 2022, Spider-Man At Box Office, Singapore GDP Rebound: 5 Headlines You May Have Missed From The Weekend Have $2,000? These 2 Stocks Could Be Bargain Buys for 2022 and Beyond Should WisdomTree U.S. LargeCap Dividend ETF (DLN) Be on Your Investing Radar? Should Vanguard Russell 1000 Growth ETF (VONG) Be on Your Investing Radar? 3 Surefire Metaverse Stocks That Could Make You Richer in 2022 Stock picking in 2022? Goldman Sachs says these are the companies that should be on your radar. 3 Dividend Kings That Should Help You Pull Through Inflation in 2022 Implied Volatility Surging for Apple (AAPL) Stock Options This Day In Market History: Jobs And Wozniak Incorporate Apple Computer Corp Want a 90% to 236% Return? Try These Growth Stocks, Says Wall Street These stocks are down at least 20% from 2021 highs, but Wall Street sees them gaining as much as 87% in 2022 These are tech's 10 megatrends for 2022 -- and the stocks to buy Here's the best way to spot stock-market winners, according to this 25-year tech analyst Is Microsoft Stock Set Up For Another Year Of Explosive Growth? This surprising investing strategy crushes the stock market without examining a single financial metric Is Apple (AAPL) Stock Outpacing Its Computer and Technology Peers This Year? My 3 Favorite ETFs to Own in 2022 Apple's (AAPL) In-App Purchase Policy to be Probed by CCI Here's Why Momentum Investors Will Love Apple (AAPL) Apple being investigated by India antitrust regulators over app-store practices Selling money-making stocks in a bull market is a tough call, but you'll thank yourself when the bears take charge Apple Becomes First Company To Top $3 Trillion Market Cap; Analyst Says Rally Has Further Legs Apple comes up short of $3 trillion market cap Dow, S&P 500 sweep to record closes in 2022's first session, while Nasdaq has biggest gain in a week Apple hits $3.0 trillion market cap: â\\x80\\x98it could be a $250 stockâ\\x80\\x99 Why Apple Stock Climbed to a New All-Time High Today\""
      ]
     },
     "execution_count": 28,
     "metadata": {},
     "output_type": "execute_result"
    }
   ],
   "source": [
    "df_sorted['title'][0]"
   ]
  },
  {
   "cell_type": "code",
   "execution_count": 29,
   "id": "8bf8573d-f2d1-48d2-b4fd-c26e70a60222",
   "metadata": {},
   "outputs": [
    {
     "data": {
      "text/plain": [
       "\"2 Companies That Could Be the Next Stock-Split Stocks After Amazon, Shopify, and Tesla 4 Stocks I Wouldn't Buy With Free Money Tesla Sales Of China-Made EVs Plunge 64% Sequentially In July â\\x80\\x94 Domestic Sales Trail Local Players Proceed With Caution When Considering This Ultra Popular EV Stock Indian Billionaire Outperforming Elon Musk, Jeff Bezos This Year Takes Zero Salary Home Bed Bath & Beyond leads rally in 'meme' stocks as Reddit group appears to be jumping back on board Elon Musk On Why First Moon Landing Was An 'Anomaly' Baillie Gifford Nearly Cuts Alibaba Position, Sells Tesla Shares â\\x80\\x94 But Buys More Of This Chinese EV Maker These 18 tech stocks are this earnings season's standouts based on three criteria The red flag that preceded a halving of global equities in 2000 and 2007 is back, warns Citi American Axle (AXL) Q2 Earnings & Revenues Beat Estimates Westport (WPRT) Q2 Loss Narrower Than Expected, Revenues Up Tesla Stock Jumped 80% During The 2020 Share Split. What May Happen This Time, According To One Analyst Why Verona Pharma Is Trading Higher By Around 84%, Here Are 85 Stocks Moving In Tuesday's Mid-Day Session 'Clean energy' hiring in solar, wind and EVs expands in red and blue states. Enter your ZIP code to see where the jobs are. Move Over Tesla? This Electric Vehicle Company Thinks It Can Do Robotaxis Better Why Tesla, Nio, and Lucid All Sank Today\""
      ]
     },
     "execution_count": 29,
     "metadata": {},
     "output_type": "execute_result"
    }
   ],
   "source": [
    "df_sorted['title'][452]"
   ]
  },
  {
   "cell_type": "code",
   "execution_count": 30,
   "id": "f03523e9-a798-47cc-9bd8-5c6a4eeed296",
   "metadata": {},
   "outputs": [
    {
     "data": {
      "text/plain": [
       "1.0    887\n",
       "0.0    859\n",
       "Name: Label, dtype: int64"
      ]
     },
     "execution_count": 30,
     "metadata": {},
     "output_type": "execute_result"
    }
   ],
   "source": [
    "df_sorted['Label'].value_counts()"
   ]
  },
  {
   "cell_type": "code",
   "execution_count": 31,
   "id": "ad7aeac9-77bd-4f08-b36b-f85d54c6510f",
   "metadata": {},
   "outputs": [],
   "source": [
    "import re \n",
    "import string"
   ]
  },
  {
   "cell_type": "code",
   "execution_count": 32,
   "id": "e6fa3138-03d6-444c-ae6a-5ad522bb3db3",
   "metadata": {},
   "outputs": [],
   "source": [
    "def cleaning_text(text):\n",
    "    text=text.lower() # converts text to lower case \n",
    "    text=re.sub('\\[.*?\\]', '', text) # deletes text which is present in between square brackets\n",
    "    text = re.sub(r'[^\\x00-\\x7F]+', ' ', text) # only keeps the text between the ascii values \n",
    "    text = re.sub(r'\\([^)]*\\)', '', text) # deletes the text containing () these brackets\n",
    "    text = re.sub(r'[^A-Za-z0-9\\s]', '', text) # removes text which is not alphanumeric or whitespace\n",
    "    text = text.strip()\n",
    "    text = re.sub(r'\\s+', ' ', text) # removes whitespace in the text\n",
    "    return text\n",
    "\n",
    "\n"
   ]
  },
  {
   "cell_type": "code",
   "execution_count": 33,
   "id": "2ebbf55b-69cc-40c9-b548-71bb3daaa1ca",
   "metadata": {},
   "outputs": [
    {
     "data": {
      "text/plain": [
       "\"Bill Gates says Elon Musk's approach to misinformation could make Twitter worse 'Massive Misallocation' Of Capital: Cathie Wood Joins Elon Musk To Find Fault With Passive Investment Bill Gates Says Shorting Tesla Not A Statement About Climate Change Why Nio, Other EV Peers Are Shooting Up In Hong Kong Today Bill Gates Takes Swipe At Elon Musk Over Twitter Acquisition: 'He Actually Could Make It Worse' Tesla Battery Supplier CATL's Stock Tumbles As Profit Falls 24% On High Raw Material Costs Can Apple Be The New Tesla - Smartphone On Wheels By 2025? Yuga Labs Refunds Failed Transactions After $150M Ethereum 'Wasted Fees' From NFT Sale How to Buy Tesla for the Cost of a Penny Stock Elon Musk's Starlink Now Lets You Take Your Internet Connection Anywhere Within US â\\x80\\x94 But It Comes At A Cost Russian Rocket Body Shatters Into 16 Pieces In Space Ford Mach-E EV Sales Nearly Double In April, Gas-Powered Mustang Struggles Twitter Faces Advertiser Skepticism At New York Event Ahead Of Elon Musk Takeover Twitter Offshoot Bluesky Releases Early Code For Decentralized Social Network Is It Time to Buy the Nasdaq's 3 Worst Performing April Stocks? Elon Musk suggested getting into the lithium business, and these surging stocks show why Elon Musk Bags Over $7B In Twitter Deal Financing Elon Musk says Larry Ellison, Binance, Sequoia will now help fund Twitter bid 'This Is What's Going To Happen Next': Ross Gerber Reveals Tesla's Next Big Move Should Tesla Shareholders Be Worried About Elon Musk's Twitter Purchase? Rivian Stock Is Starting to Look Attractive This trader predicted the bond meltdown, tech selloff and oil's surge. Here's what she says is coming next. CNH Industrial (CNHI) Q1 Earnings Top Estimates, Down Y/Y Why Tesla Stock Crashed Today The Timing of Tesla's Stock Split Could Be in Jeopardy Why Twitter Shares Rose 27% (but not 40%) Last Month Money Talks? The Link Between Congressional Stock Trading And Corporate Lobbying Rate hikes and stock sell-off? Here's what it means for your retirement portfolio, and whether you should add crypto into it Dow ends nearly 1,100 points lower and Nasdaq sheds 5%, marking its worst day in two years Another Elon Musk Biography Coming: Here's Which Company Is Behind It\""
      ]
     },
     "execution_count": 33,
     "metadata": {},
     "output_type": "execute_result"
    }
   ],
   "source": [
    "# Checking the difference in text\n",
    "df_sorted['title'][256]"
   ]
  },
  {
   "cell_type": "code",
   "execution_count": 34,
   "id": "a8bbc38f-851c-4f77-9767-21131d520d0c",
   "metadata": {},
   "outputs": [
    {
     "data": {
      "text/plain": [
       "'bill gates says elon musks approach to misinformation could make twitter worse massive misallocation of capital cathie wood joins elon musk to find fault with passive investment bill gates says shorting tesla not a statement about climate change why nio other ev peers are shooting up in hong kong today bill gates takes swipe at elon musk over twitter acquisition he actually could make it worse tesla battery supplier catls stock tumbles as profit falls 24 on high raw material costs can apple be the new tesla smartphone on wheels by 2025 yuga labs refunds failed transactions after 150m ethereum wasted fees from nft sale how to buy tesla for the cost of a penny stock elon musks starlink now lets you take your internet connection anywhere within us but it comes at a cost russian rocket body shatters into 16 pieces in space ford mache ev sales nearly double in april gaspowered mustang struggles twitter faces advertiser skepticism at new york event ahead of elon musk takeover twitter offshoot bluesky releases early code for decentralized social network is it time to buy the nasdaqs 3 worst performing april stocks elon musk suggested getting into the lithium business and these surging stocks show why elon musk bags over 7b in twitter deal financing elon musk says larry ellison binance sequoia will now help fund twitter bid this is whats going to happen next ross gerber reveals teslas next big move should tesla shareholders be worried about elon musks twitter purchase rivian stock is starting to look attractive this trader predicted the bond meltdown tech selloff and oils surge heres what she says is coming next cnh industrial q1 earnings top estimates down yy why tesla stock crashed today the timing of teslas stock split could be in jeopardy why twitter shares rose 27 last month money talks the link between congressional stock trading and corporate lobbying rate hikes and stock selloff heres what it means for your retirement portfolio and whether you should add crypto into it dow ends nearly 1100 points lower and nasdaq sheds 5 marking its worst day in two years another elon musk biography coming heres which company is behind it'"
      ]
     },
     "execution_count": 34,
     "metadata": {},
     "output_type": "execute_result"
    }
   ],
   "source": [
    "check=cleaning_text(df_sorted['title'][256])\n",
    "check"
   ]
  },
  {
   "cell_type": "code",
   "execution_count": 35,
   "id": "380fdb3f-b408-4a31-99d1-5e0e2aef19a7",
   "metadata": {},
   "outputs": [],
   "source": [
    "# apply the cleaning_text function to the title column of the df_sorted dataframe"
   ]
  },
  {
   "cell_type": "code",
   "execution_count": 36,
   "id": "90f7203b-e6ab-45bb-bef8-301b47c9eae6",
   "metadata": {},
   "outputs": [],
   "source": [
    "df_sorted['clean_title']=df_sorted['title'].apply(lambda x : cleaning_text(x))"
   ]
  },
  {
   "cell_type": "code",
   "execution_count": 37,
   "id": "d5256978-5c65-4735-a759-8fe849f7ffb9",
   "metadata": {},
   "outputs": [
    {
     "name": "stdout",
     "output_type": "stream",
     "text": [
      "<class 'pandas.core.frame.DataFrame'>\n",
      "RangeIndex: 1746 entries, 0 to 1745\n",
      "Data columns (total 11 columns):\n",
      " #   Column       Non-Null Count  Dtype  \n",
      "---  ------       --------------  -----  \n",
      " 0   Date         1746 non-null   object \n",
      " 1   Open         1746 non-null   float64\n",
      " 2   High         1746 non-null   float64\n",
      " 3   Low          1746 non-null   float64\n",
      " 4   Close        1746 non-null   float64\n",
      " 5   Adj Close    1746 non-null   float64\n",
      " 6   Volume       1746 non-null   float64\n",
      " 7   title        1746 non-null   object \n",
      " 8   Label        1746 non-null   float64\n",
      " 9   Company      1746 non-null   float64\n",
      " 10  clean_title  1746 non-null   object \n",
      "dtypes: float64(8), object(3)\n",
      "memory usage: 150.2+ KB\n"
     ]
    }
   ],
   "source": [
    "df_sorted.info()"
   ]
  },
  {
   "cell_type": "code",
   "execution_count": 38,
   "id": "ebc8c2be-98ed-439b-acf4-b34645ebb776",
   "metadata": {},
   "outputs": [
    {
     "data": {
      "text/plain": [
       "title          What A 'Strong' Apple 2022 Product Line Up Cou...\n",
       "clean_title    what a strong apple 2022 product line up could...\n",
       "Name: 0, dtype: object"
      ]
     },
     "execution_count": 38,
     "metadata": {},
     "output_type": "execute_result"
    }
   ],
   "source": [
    "df_sorted[['title','clean_title']].iloc[0,:]"
   ]
  },
  {
   "cell_type": "code",
   "execution_count": 39,
   "id": "d99c217a-8349-410c-9461-eed9bd50bd48",
   "metadata": {},
   "outputs": [],
   "source": [
    "df4=df_sorted.drop('title',axis=1)"
   ]
  },
  {
   "cell_type": "code",
   "execution_count": 40,
   "id": "a451a73f-e4b0-49ff-9f34-a075ebec0f5a",
   "metadata": {},
   "outputs": [
    {
     "name": "stdout",
     "output_type": "stream",
     "text": [
      "<class 'pandas.core.frame.DataFrame'>\n",
      "RangeIndex: 1746 entries, 0 to 1745\n",
      "Data columns (total 10 columns):\n",
      " #   Column       Non-Null Count  Dtype  \n",
      "---  ------       --------------  -----  \n",
      " 0   Date         1746 non-null   object \n",
      " 1   Open         1746 non-null   float64\n",
      " 2   High         1746 non-null   float64\n",
      " 3   Low          1746 non-null   float64\n",
      " 4   Close        1746 non-null   float64\n",
      " 5   Adj Close    1746 non-null   float64\n",
      " 6   Volume       1746 non-null   float64\n",
      " 7   Label        1746 non-null   float64\n",
      " 8   Company      1746 non-null   float64\n",
      " 9   clean_title  1746 non-null   object \n",
      "dtypes: float64(8), object(2)\n",
      "memory usage: 136.5+ KB\n"
     ]
    }
   ],
   "source": [
    "df4.info()"
   ]
  },
  {
   "cell_type": "code",
   "execution_count": 41,
   "id": "fac5c674-1215-41a7-afef-53d32e472523",
   "metadata": {},
   "outputs": [
    {
     "data": {
      "text/plain": [
       "0       what a strong apple 2022 product line up could...\n",
       "1       lg energy solution starts taking orders for wh...\n",
       "2       updating 2021 calls while suggesting strategic...\n",
       "3       is 3 trillion just the beginning for apple app...\n",
       "4       tesla opens showroom in xinjiang the chinese r...\n",
       "                              ...                        \n",
       "1741    this spectacular vanguard etf could turn 250 p...\n",
       "1742    if you invested 10000 in amazon 10 years ago t...\n",
       "1743    1 unstoppable stock that could join microsoft ...\n",
       "1744    1 unstoppable stock that could join microsoft ...\n",
       "1745    tesla investor touts ev giants billionsmile le...\n",
       "Name: clean_title, Length: 1746, dtype: object"
      ]
     },
     "execution_count": 41,
     "metadata": {},
     "output_type": "execute_result"
    }
   ],
   "source": [
    "df4['clean_title']"
   ]
  },
  {
   "cell_type": "code",
   "execution_count": 42,
   "id": "c6fa544f-8c8e-417f-aeca-32b246ecf318",
   "metadata": {},
   "outputs": [
    {
     "data": {
      "text/html": [
       "<div>\n",
       "<style scoped>\n",
       "    .dataframe tbody tr th:only-of-type {\n",
       "        vertical-align: middle;\n",
       "    }\n",
       "\n",
       "    .dataframe tbody tr th {\n",
       "        vertical-align: top;\n",
       "    }\n",
       "\n",
       "    .dataframe thead th {\n",
       "        text-align: right;\n",
       "    }\n",
       "</style>\n",
       "<table border=\"1\" class=\"dataframe\">\n",
       "  <thead>\n",
       "    <tr style=\"text-align: right;\">\n",
       "      <th></th>\n",
       "      <th>index</th>\n",
       "      <th>Date</th>\n",
       "      <th>Open</th>\n",
       "      <th>High</th>\n",
       "      <th>Low</th>\n",
       "      <th>Close</th>\n",
       "      <th>Adj Close</th>\n",
       "      <th>Volume</th>\n",
       "      <th>Label</th>\n",
       "      <th>Company</th>\n",
       "      <th>clean_title</th>\n",
       "    </tr>\n",
       "  </thead>\n",
       "  <tbody>\n",
       "    <tr>\n",
       "      <th>0</th>\n",
       "      <td>0</td>\n",
       "      <td>2022-01-03</td>\n",
       "      <td>177.830002</td>\n",
       "      <td>182.880005</td>\n",
       "      <td>177.710007</td>\n",
       "      <td>182.009995</td>\n",
       "      <td>179.481140</td>\n",
       "      <td>104487900.0</td>\n",
       "      <td>1.0</td>\n",
       "      <td>1.0</td>\n",
       "      <td>what a strong apple 2022 product line up could...</td>\n",
       "    </tr>\n",
       "    <tr>\n",
       "      <th>1</th>\n",
       "      <td>1</td>\n",
       "      <td>2022-01-03</td>\n",
       "      <td>382.583344</td>\n",
       "      <td>400.356659</td>\n",
       "      <td>378.679993</td>\n",
       "      <td>399.926666</td>\n",
       "      <td>399.926666</td>\n",
       "      <td>103931400.0</td>\n",
       "      <td>1.0</td>\n",
       "      <td>3.0</td>\n",
       "      <td>lg energy solution starts taking orders for wh...</td>\n",
       "    </tr>\n",
       "    <tr>\n",
       "      <th>2</th>\n",
       "      <td>2</td>\n",
       "      <td>2022-01-03</td>\n",
       "      <td>167.550003</td>\n",
       "      <td>170.703506</td>\n",
       "      <td>166.160507</td>\n",
       "      <td>170.404495</td>\n",
       "      <td>170.404495</td>\n",
       "      <td>63520000.0</td>\n",
       "      <td>1.0</td>\n",
       "      <td>2.0</td>\n",
       "      <td>updating 2021 calls while suggesting strategic...</td>\n",
       "    </tr>\n",
       "    <tr>\n",
       "      <th>3</th>\n",
       "      <td>3</td>\n",
       "      <td>2022-01-04</td>\n",
       "      <td>182.630005</td>\n",
       "      <td>182.940002</td>\n",
       "      <td>179.119995</td>\n",
       "      <td>179.699997</td>\n",
       "      <td>177.203217</td>\n",
       "      <td>99310400.0</td>\n",
       "      <td>0.0</td>\n",
       "      <td>1.0</td>\n",
       "      <td>is 3 trillion just the beginning for apple app...</td>\n",
       "    </tr>\n",
       "    <tr>\n",
       "      <th>4</th>\n",
       "      <td>4</td>\n",
       "      <td>2022-01-04</td>\n",
       "      <td>396.516663</td>\n",
       "      <td>402.666656</td>\n",
       "      <td>374.350006</td>\n",
       "      <td>383.196655</td>\n",
       "      <td>383.196655</td>\n",
       "      <td>100248300.0</td>\n",
       "      <td>0.0</td>\n",
       "      <td>3.0</td>\n",
       "      <td>tesla opens showroom in xinjiang the chinese r...</td>\n",
       "    </tr>\n",
       "    <tr>\n",
       "      <th>...</th>\n",
       "      <td>...</td>\n",
       "      <td>...</td>\n",
       "      <td>...</td>\n",
       "      <td>...</td>\n",
       "      <td>...</td>\n",
       "      <td>...</td>\n",
       "      <td>...</td>\n",
       "      <td>...</td>\n",
       "      <td>...</td>\n",
       "      <td>...</td>\n",
       "      <td>...</td>\n",
       "    </tr>\n",
       "    <tr>\n",
       "      <th>1741</th>\n",
       "      <td>1741</td>\n",
       "      <td>2024-04-25</td>\n",
       "      <td>169.529999</td>\n",
       "      <td>170.610001</td>\n",
       "      <td>168.149994</td>\n",
       "      <td>169.889999</td>\n",
       "      <td>169.659882</td>\n",
       "      <td>50558300.0</td>\n",
       "      <td>1.0</td>\n",
       "      <td>1.0</td>\n",
       "      <td>this spectacular vanguard etf could turn 250 p...</td>\n",
       "    </tr>\n",
       "    <tr>\n",
       "      <th>1742</th>\n",
       "      <td>1742</td>\n",
       "      <td>2024-04-25</td>\n",
       "      <td>169.679993</td>\n",
       "      <td>173.919998</td>\n",
       "      <td>166.320007</td>\n",
       "      <td>173.669998</td>\n",
       "      <td>173.669998</td>\n",
       "      <td>49249400.0</td>\n",
       "      <td>0.0</td>\n",
       "      <td>2.0</td>\n",
       "      <td>if you invested 10000 in amazon 10 years ago t...</td>\n",
       "    </tr>\n",
       "    <tr>\n",
       "      <th>1743</th>\n",
       "      <td>1743</td>\n",
       "      <td>2024-04-26</td>\n",
       "      <td>177.800003</td>\n",
       "      <td>180.820007</td>\n",
       "      <td>176.130005</td>\n",
       "      <td>179.619995</td>\n",
       "      <td>179.619995</td>\n",
       "      <td>43919800.0</td>\n",
       "      <td>1.0</td>\n",
       "      <td>2.0</td>\n",
       "      <td>1 unstoppable stock that could join microsoft ...</td>\n",
       "    </tr>\n",
       "    <tr>\n",
       "      <th>1744</th>\n",
       "      <td>1744</td>\n",
       "      <td>2024-04-26</td>\n",
       "      <td>169.880005</td>\n",
       "      <td>171.339996</td>\n",
       "      <td>169.179993</td>\n",
       "      <td>169.300003</td>\n",
       "      <td>169.070679</td>\n",
       "      <td>44838400.0</td>\n",
       "      <td>0.0</td>\n",
       "      <td>1.0</td>\n",
       "      <td>1 unstoppable stock that could join microsoft ...</td>\n",
       "    </tr>\n",
       "    <tr>\n",
       "      <th>1745</th>\n",
       "      <td>1745</td>\n",
       "      <td>2024-04-26</td>\n",
       "      <td>168.850006</td>\n",
       "      <td>172.119995</td>\n",
       "      <td>166.369995</td>\n",
       "      <td>168.289993</td>\n",
       "      <td>168.289993</td>\n",
       "      <td>109815700.0</td>\n",
       "      <td>0.0</td>\n",
       "      <td>3.0</td>\n",
       "      <td>tesla investor touts ev giants billionsmile le...</td>\n",
       "    </tr>\n",
       "  </tbody>\n",
       "</table>\n",
       "<p>1746 rows × 11 columns</p>\n",
       "</div>"
      ],
      "text/plain": [
       "      index        Date        Open        High         Low       Close  \\\n",
       "0         0  2022-01-03  177.830002  182.880005  177.710007  182.009995   \n",
       "1         1  2022-01-03  382.583344  400.356659  378.679993  399.926666   \n",
       "2         2  2022-01-03  167.550003  170.703506  166.160507  170.404495   \n",
       "3         3  2022-01-04  182.630005  182.940002  179.119995  179.699997   \n",
       "4         4  2022-01-04  396.516663  402.666656  374.350006  383.196655   \n",
       "...     ...         ...         ...         ...         ...         ...   \n",
       "1741   1741  2024-04-25  169.529999  170.610001  168.149994  169.889999   \n",
       "1742   1742  2024-04-25  169.679993  173.919998  166.320007  173.669998   \n",
       "1743   1743  2024-04-26  177.800003  180.820007  176.130005  179.619995   \n",
       "1744   1744  2024-04-26  169.880005  171.339996  169.179993  169.300003   \n",
       "1745   1745  2024-04-26  168.850006  172.119995  166.369995  168.289993   \n",
       "\n",
       "       Adj Close       Volume  Label  Company  \\\n",
       "0     179.481140  104487900.0    1.0      1.0   \n",
       "1     399.926666  103931400.0    1.0      3.0   \n",
       "2     170.404495   63520000.0    1.0      2.0   \n",
       "3     177.203217   99310400.0    0.0      1.0   \n",
       "4     383.196655  100248300.0    0.0      3.0   \n",
       "...          ...          ...    ...      ...   \n",
       "1741  169.659882   50558300.0    1.0      1.0   \n",
       "1742  173.669998   49249400.0    0.0      2.0   \n",
       "1743  179.619995   43919800.0    1.0      2.0   \n",
       "1744  169.070679   44838400.0    0.0      1.0   \n",
       "1745  168.289993  109815700.0    0.0      3.0   \n",
       "\n",
       "                                            clean_title  \n",
       "0     what a strong apple 2022 product line up could...  \n",
       "1     lg energy solution starts taking orders for wh...  \n",
       "2     updating 2021 calls while suggesting strategic...  \n",
       "3     is 3 trillion just the beginning for apple app...  \n",
       "4     tesla opens showroom in xinjiang the chinese r...  \n",
       "...                                                 ...  \n",
       "1741  this spectacular vanguard etf could turn 250 p...  \n",
       "1742  if you invested 10000 in amazon 10 years ago t...  \n",
       "1743  1 unstoppable stock that could join microsoft ...  \n",
       "1744  1 unstoppable stock that could join microsoft ...  \n",
       "1745  tesla investor touts ev giants billionsmile le...  \n",
       "\n",
       "[1746 rows x 11 columns]"
      ]
     },
     "execution_count": 42,
     "metadata": {},
     "output_type": "execute_result"
    }
   ],
   "source": [
    "df4.reset_index()"
   ]
  },
  {
   "cell_type": "code",
   "execution_count": 43,
   "id": "61616d5d-735f-4734-b22f-eb173fcd0dd8",
   "metadata": {},
   "outputs": [],
   "source": [
    "df4['Label']=df4['Label'].astype(int)"
   ]
  },
  {
   "cell_type": "code",
   "execution_count": 44,
   "id": "80df69f4-0559-4e35-9238-aadc9b7683aa",
   "metadata": {},
   "outputs": [
    {
     "name": "stdout",
     "output_type": "stream",
     "text": [
      "<class 'pandas.core.frame.DataFrame'>\n",
      "RangeIndex: 1746 entries, 0 to 1745\n",
      "Data columns (total 10 columns):\n",
      " #   Column       Non-Null Count  Dtype  \n",
      "---  ------       --------------  -----  \n",
      " 0   Date         1746 non-null   object \n",
      " 1   Open         1746 non-null   float64\n",
      " 2   High         1746 non-null   float64\n",
      " 3   Low          1746 non-null   float64\n",
      " 4   Close        1746 non-null   float64\n",
      " 5   Adj Close    1746 non-null   float64\n",
      " 6   Volume       1746 non-null   float64\n",
      " 7   Label        1746 non-null   int32  \n",
      " 8   Company      1746 non-null   float64\n",
      " 9   clean_title  1746 non-null   object \n",
      "dtypes: float64(7), int32(1), object(2)\n",
      "memory usage: 129.7+ KB\n"
     ]
    }
   ],
   "source": [
    "df4.info()"
   ]
  },
  {
   "cell_type": "code",
   "execution_count": 45,
   "id": "7920ab63-f72d-41cd-a8f1-a96f90511600",
   "metadata": {},
   "outputs": [],
   "source": [
    "# Removal of stopwords "
   ]
  },
  {
   "cell_type": "code",
   "execution_count": 46,
   "id": "19a0da9c-a940-4838-bbab-380c94c2ae4d",
   "metadata": {},
   "outputs": [],
   "source": [
    "# pip install nltk"
   ]
  },
  {
   "cell_type": "code",
   "execution_count": 47,
   "id": "be61b11f-df9b-451f-9aef-88f021422e9c",
   "metadata": {},
   "outputs": [],
   "source": [
    "import nltk\n",
    "from nltk.corpus import stopwords "
   ]
  },
  {
   "cell_type": "code",
   "execution_count": 48,
   "id": "c811e283-121f-4949-923e-527c84412e0b",
   "metadata": {},
   "outputs": [],
   "source": [
    "# # Download the stopwords\n",
    "# nltk.download('stopwords')"
   ]
  },
  {
   "cell_type": "code",
   "execution_count": 49,
   "id": "80ba7534-a400-431f-b37b-b2cf1a551c45",
   "metadata": {},
   "outputs": [],
   "source": [
    "# Get the stop words list\n",
    "stop_words = set(stopwords.words('english'))"
   ]
  },
  {
   "cell_type": "code",
   "execution_count": 50,
   "id": "beeefab3-4564-4f76-acaa-c2efc4ab2441",
   "metadata": {},
   "outputs": [],
   "source": [
    "def remove_stopwords(text):\n",
    "    words = text.split()\n",
    "    cleaned_text = ' '.join(word for word in words if word.lower() not in stop_words)\n",
    "    return cleaned_text"
   ]
  },
  {
   "cell_type": "code",
   "execution_count": 51,
   "id": "7e54a5d9-959f-45a3-8db3-ad8f3f8c1cb4",
   "metadata": {},
   "outputs": [],
   "source": [
    "df4['clean_title']=df4['clean_title'].apply(remove_stopwords)"
   ]
  },
  {
   "cell_type": "code",
   "execution_count": 52,
   "id": "32869893-a0f1-44d3-8f38-1d6adc157c57",
   "metadata": {},
   "outputs": [
    {
     "data": {
      "text/html": [
       "<div>\n",
       "<style scoped>\n",
       "    .dataframe tbody tr th:only-of-type {\n",
       "        vertical-align: middle;\n",
       "    }\n",
       "\n",
       "    .dataframe tbody tr th {\n",
       "        vertical-align: top;\n",
       "    }\n",
       "\n",
       "    .dataframe thead th {\n",
       "        text-align: right;\n",
       "    }\n",
       "</style>\n",
       "<table border=\"1\" class=\"dataframe\">\n",
       "  <thead>\n",
       "    <tr style=\"text-align: right;\">\n",
       "      <th></th>\n",
       "      <th>Date</th>\n",
       "      <th>Open</th>\n",
       "      <th>High</th>\n",
       "      <th>Low</th>\n",
       "      <th>Close</th>\n",
       "      <th>Adj Close</th>\n",
       "      <th>Volume</th>\n",
       "      <th>Label</th>\n",
       "      <th>Company</th>\n",
       "      <th>clean_title</th>\n",
       "    </tr>\n",
       "  </thead>\n",
       "  <tbody>\n",
       "    <tr>\n",
       "      <th>0</th>\n",
       "      <td>2022-01-03</td>\n",
       "      <td>177.830002</td>\n",
       "      <td>182.880005</td>\n",
       "      <td>177.710007</td>\n",
       "      <td>182.009995</td>\n",
       "      <td>179.481140</td>\n",
       "      <td>104487900.0</td>\n",
       "      <td>1</td>\n",
       "      <td>1.0</td>\n",
       "      <td>strong apple 2022 product line could look like...</td>\n",
       "    </tr>\n",
       "    <tr>\n",
       "      <th>1</th>\n",
       "      <td>2022-01-03</td>\n",
       "      <td>382.583344</td>\n",
       "      <td>400.356659</td>\n",
       "      <td>378.679993</td>\n",
       "      <td>399.926666</td>\n",
       "      <td>399.926666</td>\n",
       "      <td>103931400.0</td>\n",
       "      <td>1</td>\n",
       "      <td>3.0</td>\n",
       "      <td>lg energy solution starts taking orders could ...</td>\n",
       "    </tr>\n",
       "    <tr>\n",
       "      <th>2</th>\n",
       "      <td>2022-01-03</td>\n",
       "      <td>167.550003</td>\n",
       "      <td>170.703506</td>\n",
       "      <td>166.160507</td>\n",
       "      <td>170.404495</td>\n",
       "      <td>170.404495</td>\n",
       "      <td>63520000.0</td>\n",
       "      <td>1</td>\n",
       "      <td>2.0</td>\n",
       "      <td>updating 2021 calls suggesting strategic posit...</td>\n",
       "    </tr>\n",
       "    <tr>\n",
       "      <th>3</th>\n",
       "      <td>2022-01-04</td>\n",
       "      <td>182.630005</td>\n",
       "      <td>182.940002</td>\n",
       "      <td>179.119995</td>\n",
       "      <td>179.699997</td>\n",
       "      <td>177.203217</td>\n",
       "      <td>99310400.0</td>\n",
       "      <td>0</td>\n",
       "      <td>1.0</td>\n",
       "      <td>3 trillion beginning apple apple car come prep...</td>\n",
       "    </tr>\n",
       "    <tr>\n",
       "      <th>4</th>\n",
       "      <td>2022-01-04</td>\n",
       "      <td>396.516663</td>\n",
       "      <td>402.666656</td>\n",
       "      <td>374.350006</td>\n",
       "      <td>383.196655</td>\n",
       "      <td>383.196655</td>\n",
       "      <td>100248300.0</td>\n",
       "      <td>0</td>\n",
       "      <td>3.0</td>\n",
       "      <td>tesla opens showroom xinjiang chinese region a...</td>\n",
       "    </tr>\n",
       "  </tbody>\n",
       "</table>\n",
       "</div>"
      ],
      "text/plain": [
       "         Date        Open        High         Low       Close   Adj Close  \\\n",
       "0  2022-01-03  177.830002  182.880005  177.710007  182.009995  179.481140   \n",
       "1  2022-01-03  382.583344  400.356659  378.679993  399.926666  399.926666   \n",
       "2  2022-01-03  167.550003  170.703506  166.160507  170.404495  170.404495   \n",
       "3  2022-01-04  182.630005  182.940002  179.119995  179.699997  177.203217   \n",
       "4  2022-01-04  396.516663  402.666656  374.350006  383.196655  383.196655   \n",
       "\n",
       "        Volume  Label  Company  \\\n",
       "0  104487900.0      1      1.0   \n",
       "1  103931400.0      1      3.0   \n",
       "2   63520000.0      1      2.0   \n",
       "3   99310400.0      0      1.0   \n",
       "4  100248300.0      0      3.0   \n",
       "\n",
       "                                         clean_title  \n",
       "0  strong apple 2022 product line could look like...  \n",
       "1  lg energy solution starts taking orders could ...  \n",
       "2  updating 2021 calls suggesting strategic posit...  \n",
       "3  3 trillion beginning apple apple car come prep...  \n",
       "4  tesla opens showroom xinjiang chinese region a...  "
      ]
     },
     "execution_count": 52,
     "metadata": {},
     "output_type": "execute_result"
    }
   ],
   "source": [
    "df4.head()"
   ]
  },
  {
   "cell_type": "markdown",
   "id": "abc31921-02d7-402d-9e53-a7199e3d78ce",
   "metadata": {},
   "source": [
    "## Applying Lemmatisation "
   ]
  },
  {
   "cell_type": "code",
   "execution_count": 53,
   "id": "ee2b776c-5a69-4624-9a08-d50de0d8cd9f",
   "metadata": {},
   "outputs": [],
   "source": [
    "from nltk.stem import WordNetLemmatizer "
   ]
  },
  {
   "cell_type": "code",
   "execution_count": 54,
   "id": "ec36b782-dd8a-4d21-8dd9-e900489bb6ff",
   "metadata": {},
   "outputs": [],
   "source": [
    "# nltk.download('wordnet')"
   ]
  },
  {
   "cell_type": "code",
   "execution_count": 55,
   "id": "96657e11-56ec-468e-b08b-739c7a88e373",
   "metadata": {},
   "outputs": [],
   "source": [
    "lemmatizer= WordNetLemmatizer()"
   ]
  },
  {
   "cell_type": "code",
   "execution_count": 56,
   "id": "b369e5d1-c2a8-453a-b88a-c6cc395fb74c",
   "metadata": {},
   "outputs": [],
   "source": [
    "def lemmatize_text(text):\n",
    "    tokens=text.split()\n",
    "    text = ' '.join([lemmatizer.lemmatize(token) for token in tokens])\n",
    "    return text"
   ]
  },
  {
   "cell_type": "code",
   "execution_count": 57,
   "id": "db21d821-fb79-487d-bf00-325e144d1dd8",
   "metadata": {},
   "outputs": [],
   "source": [
    "df4['clean_title']=df4['clean_title'].apply(lemmatize_text)"
   ]
  },
  {
   "cell_type": "code",
   "execution_count": 58,
   "id": "89594d6a-6bc0-44bd-937d-d396b1e47267",
   "metadata": {},
   "outputs": [
    {
     "data": {
      "text/plain": [
       "0       strong apple 2022 product line could look like...\n",
       "1       lg energy solution start taking order could so...\n",
       "2       updating 2021 call suggesting strategic positi...\n",
       "3       3 trillion beginning apple apple car come prep...\n",
       "4       tesla open showroom xinjiang chinese region as...\n",
       "                              ...                        \n",
       "1741    spectacular vanguard etf could turn 250 per mo...\n",
       "1742    invested 10000 amazon 10 year ago much would t...\n",
       "1743    1 unstoppable stock could join microsoft apple...\n",
       "1744    1 unstoppable stock could join microsoft apple...\n",
       "1745    tesla investor tout ev giant billionsmile leap...\n",
       "Name: clean_title, Length: 1746, dtype: object"
      ]
     },
     "execution_count": 58,
     "metadata": {},
     "output_type": "execute_result"
    }
   ],
   "source": [
    "df4['clean_title']"
   ]
  },
  {
   "cell_type": "markdown",
   "id": "736c78cb-19ec-4d50-95ff-63f6ace46fb0",
   "metadata": {},
   "source": [
    "## Creating Bag of Words for clean_text"
   ]
  },
  {
   "cell_type": "code",
   "execution_count": 59,
   "id": "202fe753-a429-4446-8511-efabcc899e1e",
   "metadata": {},
   "outputs": [],
   "source": [
    "from sklearn.feature_extraction.text import CountVectorizer"
   ]
  },
  {
   "cell_type": "code",
   "execution_count": 60,
   "id": "03cf9d64-3157-4d05-a185-e03a67a3aadf",
   "metadata": {},
   "outputs": [],
   "source": [
    "bow_vectorizer=CountVectorizer()\n",
    "bow_matrix=bow_vectorizer.fit_transform(df4['clean_title'])"
   ]
  },
  {
   "cell_type": "code",
   "execution_count": 61,
   "id": "29c3da57-1d22-489b-a0d1-74505c6f97f0",
   "metadata": {},
   "outputs": [
    {
     "data": {
      "text/plain": [
       "<1746x14058 sparse matrix of type '<class 'numpy.int64'>'\n",
       "\twith 209409 stored elements in Compressed Sparse Row format>"
      ]
     },
     "execution_count": 61,
     "metadata": {},
     "output_type": "execute_result"
    }
   ],
   "source": [
    "bow_matrix"
   ]
  },
  {
   "cell_type": "code",
   "execution_count": 62,
   "id": "1ac7d489-689f-4d4c-8a39-14758d27c236",
   "metadata": {},
   "outputs": [],
   "source": [
    "bow_array=bow_matrix.toarray()"
   ]
  },
  {
   "cell_type": "code",
   "execution_count": 63,
   "id": "069c26c3-90c5-463a-91f8-292024653d9c",
   "metadata": {},
   "outputs": [
    {
     "data": {
      "text/plain": [
       "array([[0, 0, 0, ..., 0, 0, 0],\n",
       "       [0, 0, 0, ..., 0, 0, 0],\n",
       "       [0, 0, 0, ..., 0, 0, 0],\n",
       "       ...,\n",
       "       [0, 0, 0, ..., 0, 0, 0],\n",
       "       [0, 0, 0, ..., 0, 0, 0],\n",
       "       [0, 0, 0, ..., 0, 0, 0]], dtype=int64)"
      ]
     },
     "execution_count": 63,
     "metadata": {},
     "output_type": "execute_result"
    }
   ],
   "source": [
    "bow_array"
   ]
  },
  {
   "cell_type": "code",
   "execution_count": 64,
   "id": "5f1d4c9f-b521-4ea7-80e6-6bfeccf13a1e",
   "metadata": {},
   "outputs": [],
   "source": [
    "from sklearn.decomposition import PCA"
   ]
  },
  {
   "cell_type": "code",
   "execution_count": 65,
   "id": "75371204-c88a-41ca-afdf-d1c2ea7202c6",
   "metadata": {},
   "outputs": [],
   "source": [
    "pca=PCA(n_components=0.9)"
   ]
  },
  {
   "cell_type": "code",
   "execution_count": 66,
   "id": "a5470e4f-634e-4ced-bc82-5a600055b836",
   "metadata": {},
   "outputs": [],
   "source": [
    "bow_array_pca=pca.fit_transform(bow_array)"
   ]
  },
  {
   "cell_type": "code",
   "execution_count": 67,
   "id": "8ceb0852-f531-4306-9f6b-9b883214a2ea",
   "metadata": {},
   "outputs": [
    {
     "data": {
      "text/plain": [
       "622"
      ]
     },
     "execution_count": 67,
     "metadata": {},
     "output_type": "execute_result"
    }
   ],
   "source": [
    "pca.n_components_"
   ]
  },
  {
   "cell_type": "code",
   "execution_count": null,
   "id": "d3e3d0e9-85f2-4c23-b946-c0f418af15fa",
   "metadata": {},
   "outputs": [],
   "source": []
  },
  {
   "cell_type": "code",
   "execution_count": null,
   "id": "2b87bb23-634a-4e21-8011-db1a1739b5d8",
   "metadata": {},
   "outputs": [],
   "source": []
  },
  {
   "cell_type": "code",
   "execution_count": null,
   "id": "0fa2e064-cb44-45da-9ff0-37dff7489d36",
   "metadata": {},
   "outputs": [],
   "source": []
  },
  {
   "cell_type": "markdown",
   "id": "ebd79162-66b6-4cca-a299-19e2bfcf1659",
   "metadata": {},
   "source": [
    "## Creating Pretrained word2vec for clean_text"
   ]
  },
  {
   "cell_type": "code",
   "execution_count": 68,
   "id": "d28d645c-8ad2-4140-ae20-69809783769a",
   "metadata": {},
   "outputs": [],
   "source": [
    "# slashing the below code to not make it run for subsequent runs of the notebook , and the word embedding are stored to pre_trained_word2vec.csv file in \n",
    "# which the values are stored of clean_title"
   ]
  },
  {
   "cell_type": "code",
   "execution_count": 69,
   "id": "c8fca25d-6702-49e3-bc9f-fcbd8bb5c68a",
   "metadata": {},
   "outputs": [],
   "source": [
    "# pip install gensim"
   ]
  },
  {
   "cell_type": "code",
   "execution_count": 70,
   "id": "9da32507-2d7a-438e-9c8e-bc578a89b820",
   "metadata": {},
   "outputs": [],
   "source": [
    "import gensim.downloader as api\n",
    "# import numpy as np \n",
    "# gensim.__version__"
   ]
  },
  {
   "cell_type": "code",
   "execution_count": 71,
   "id": "916f57fe-4718-48c9-be52-31c900cf62b5",
   "metadata": {},
   "outputs": [],
   "source": [
    "# model = api.load(\"word2vec-google-news-300\")"
   ]
  },
  {
   "cell_type": "code",
   "execution_count": 72,
   "id": "42533224-e332-4006-a9de-8be2f900db95",
   "metadata": {},
   "outputs": [],
   "source": [
    "# this is a function to convert a text paragraph into vector\n",
    "def document_to_vector(document,model):\n",
    "    words=document.split()\n",
    "    word_vectors = [model[word] for word in words if word in model]\n",
    "    if not word_vectors:\n",
    "        return np.zeros(model.vector_size)\n",
    "    document_vector = np.mean(word_vectors,axis=0)\n",
    "    return document_vector"
   ]
  },
  {
   "cell_type": "code",
   "execution_count": 73,
   "id": "bf0a83e9-619e-4b34-b78b-b7a38f9dda73",
   "metadata": {},
   "outputs": [],
   "source": [
    "# pre_trained_word2vec = df4['clean_title'].apply(lambda x: document_to_vector(x,model))"
   ]
  },
  {
   "cell_type": "code",
   "execution_count": 74,
   "id": "5f24b196-842a-4deb-8b8f-9fe6396a7ff3",
   "metadata": {},
   "outputs": [],
   "source": [
    "# pre_trained_word2vec"
   ]
  },
  {
   "cell_type": "code",
   "execution_count": 75,
   "id": "c4546c8d-cdae-4713-b7b8-60fef22f36e9",
   "metadata": {},
   "outputs": [],
   "source": [
    "import pickle "
   ]
  },
  {
   "cell_type": "code",
   "execution_count": 76,
   "id": "7e483384-bbe0-4321-882e-bec6f64b4679",
   "metadata": {},
   "outputs": [],
   "source": [
    "# with open('pre_trained_word2vec.pkl', 'wb') as file:\n",
    "#     pickle.dump(pre_trained_word2vec, file)"
   ]
  },
  {
   "cell_type": "code",
   "execution_count": 77,
   "id": "0da8dcc2-27fc-4eb6-8064-dfaf44acc081",
   "metadata": {},
   "outputs": [],
   "source": [
    "with open('pre_trained_word2vec.pkl', 'rb') as file:\n",
    "    pre_trained_word2vec = pickle.load(file)"
   ]
  },
  {
   "cell_type": "code",
   "execution_count": 78,
   "id": "193da4a4-121a-4c26-b549-98fe85d08eec",
   "metadata": {},
   "outputs": [],
   "source": [
    "# pre_trained_word2vec.to_csv(\"pre_trained_word2vec.csv\")"
   ]
  },
  {
   "cell_type": "code",
   "execution_count": 79,
   "id": "4cfcb85c-aac8-4a59-a099-390426027166",
   "metadata": {},
   "outputs": [],
   "source": [
    "# saved the word embeddings of the clean title column to local storage for future use purpose "
   ]
  },
  {
   "cell_type": "code",
   "execution_count": 80,
   "id": "311d2976-5a65-428b-8971-58a3cce3eab7",
   "metadata": {},
   "outputs": [],
   "source": [
    "# pre_trained_word2vec= pd.read_csv(r\"C:\\Users\\Jaya Teja\\Stock_Sentiment_Analysis_Using_Machine_Learning_Open_Project\\Finance_Project\\pre_trained_word2vec.csv\")"
   ]
  },
  {
   "cell_type": "code",
   "execution_count": 230,
   "id": "ea066bfa-82c5-4a26-8bff-1d52e2bd0c4e",
   "metadata": {},
   "outputs": [
    {
     "data": {
      "text/plain": [
       "300"
      ]
     },
     "execution_count": 230,
     "metadata": {},
     "output_type": "execute_result"
    }
   ],
   "source": [
    "# len(pre_trained_word2vec[0])\n",
    "len(pre_trained_word2vec[0])"
   ]
  },
  {
   "cell_type": "markdown",
   "id": "4ab02e66-5cfb-4f36-8c7a-cc6425737959",
   "metadata": {},
   "source": [
    "## Local Word2Vec for clean_title"
   ]
  },
  {
   "cell_type": "code",
   "execution_count": 82,
   "id": "ad7a0f5a-b375-4991-a709-c5a16aa452d5",
   "metadata": {},
   "outputs": [],
   "source": [
    "from gensim.models import Word2Vec\n",
    "import nltk\n",
    "# nltk.download('punkt')"
   ]
  },
  {
   "cell_type": "code",
   "execution_count": 83,
   "id": "9a6d967b-a462-4fc6-ab2a-1ded47e4f485",
   "metadata": {},
   "outputs": [],
   "source": [
    "# Tokenize the text\n",
    "tokenized_text = [nltk.word_tokenize(sentence) for sentence in df4['clean_title']]\n",
    "\n",
    "# # Train the Word2Vec model\n",
    "model = Word2Vec(tokenized_text, min_count=1, epochs=10)"
   ]
  },
  {
   "cell_type": "code",
   "execution_count": 84,
   "id": "43aa5d1e-bd75-41ad-a67c-94b03af9db18",
   "metadata": {},
   "outputs": [],
   "source": [
    "def sentence_embedding(sentence):\n",
    "    word_embeddings = [model.wv.get_vector(word) for word in nltk.word_tokenize(sentence) if word in model.wv.key_to_index]\n",
    "    if word_embeddings:\n",
    "        return np.mean(word_embeddings, axis=0)\n",
    "    else:\n",
    "        return [0] * model.vector_size "
   ]
  },
  {
   "cell_type": "code",
   "execution_count": 85,
   "id": "aa88aa2b-8e8f-4658-867c-0fa07f5e6d79",
   "metadata": {},
   "outputs": [],
   "source": [
    "# word2vec_matrix= (entence_embedding(text) for text in df4['clean_title'])\n",
    "word2vec_matrix= df4['clean_title'].apply(lambda x: sentence_embedding(x))"
   ]
  },
  {
   "cell_type": "code",
   "execution_count": 229,
   "id": "7ecbb6b2-b4da-48ff-8651-4dbf1d1e5225",
   "metadata": {},
   "outputs": [
    {
     "data": {
      "text/plain": [
       "100"
      ]
     },
     "execution_count": 229,
     "metadata": {},
     "output_type": "execute_result"
    }
   ],
   "source": [
    "len(word2vec_matrix[0])"
   ]
  },
  {
   "cell_type": "code",
   "execution_count": 231,
   "id": "2acd72cb-68f8-468c-a078-c9b9080a447f",
   "metadata": {},
   "outputs": [],
   "source": [
    "word2vec_matrix.to_pickle('word2vec_matrix.pkl')"
   ]
  },
  {
   "cell_type": "code",
   "execution_count": 232,
   "id": "d0f2584a-226d-481c-a144-d62acfae2dca",
   "metadata": {},
   "outputs": [],
   "source": [
    "word2vec_matrix=pd.read_pickle('word2vec_matrix.pkl')"
   ]
  },
  {
   "cell_type": "code",
   "execution_count": 234,
   "id": "09dffd94-e083-41bb-b044-c68b945c4092",
   "metadata": {},
   "outputs": [
    {
     "data": {
      "text/plain": [
       "100"
      ]
     },
     "execution_count": 234,
     "metadata": {},
     "output_type": "execute_result"
    }
   ],
   "source": [
    "len(word2vec_matrix[0])"
   ]
  },
  {
   "cell_type": "code",
   "execution_count": null,
   "id": "7895fe06-5f45-4de7-918f-27bed93134f0",
   "metadata": {},
   "outputs": [],
   "source": []
  },
  {
   "cell_type": "code",
   "execution_count": null,
   "id": "5fc43312-06da-44ed-8829-5068e445b64e",
   "metadata": {},
   "outputs": [],
   "source": []
  },
  {
   "cell_type": "markdown",
   "id": "f2d76e68-12d9-4076-b0df-fcf0240e57b0",
   "metadata": {},
   "source": [
    "## Using Sentiment Intensity Analyser \n"
   ]
  },
  {
   "cell_type": "code",
   "execution_count": 87,
   "id": "e06e7494-1257-4193-a796-b9dd5bc6dbe9",
   "metadata": {},
   "outputs": [],
   "source": [
    "# pip install vaderSentiment"
   ]
  },
  {
   "cell_type": "code",
   "execution_count": 88,
   "id": "bd893153-bd34-47d5-9f14-ef518857fbae",
   "metadata": {},
   "outputs": [],
   "source": [
    "from vaderSentiment.vaderSentiment import SentimentIntensityAnalyzer"
   ]
  },
  {
   "cell_type": "code",
   "execution_count": 89,
   "id": "1390ad17-266e-48ed-ae3a-a3c73944d316",
   "metadata": {},
   "outputs": [],
   "source": [
    "analyzer= SentimentIntensityAnalyzer()"
   ]
  },
  {
   "cell_type": "code",
   "execution_count": 90,
   "id": "ca409cf1-9f51-43ea-ba5d-f017a3e0e97f",
   "metadata": {},
   "outputs": [],
   "source": [
    "def analyze_sentiment(text):\n",
    "    scores = analyzer.polarity_scores(text)\n",
    "    return scores"
   ]
  },
  {
   "cell_type": "code",
   "execution_count": 91,
   "id": "aac7f5d4-a331-4474-b9e5-630049f4f3e0",
   "metadata": {},
   "outputs": [],
   "source": [
    "sentiment_scores=pd.DataFrame()"
   ]
  },
  {
   "cell_type": "code",
   "execution_count": 92,
   "id": "7e87ff53-f392-4f46-b888-979530f57a23",
   "metadata": {},
   "outputs": [],
   "source": [
    "sentiment_scores=df4['clean_title'].apply(lambda x: analyze_sentiment(x))"
   ]
  },
  {
   "cell_type": "code",
   "execution_count": 93,
   "id": "7b55b270-0f67-4954-b257-0653acfbf2cd",
   "metadata": {},
   "outputs": [
    {
     "data": {
      "text/plain": [
       "{'neg': 0.055, 'neu': 0.813, 'pos': 0.132, 'compound': 0.99}"
      ]
     },
     "execution_count": 93,
     "metadata": {},
     "output_type": "execute_result"
    }
   ],
   "source": [
    "sentiment_scores[1]"
   ]
  },
  {
   "cell_type": "code",
   "execution_count": 94,
   "id": "5f7891e4-f1c6-4487-8430-1659e34f0905",
   "metadata": {},
   "outputs": [],
   "source": [
    "# So here neg indicates how much the sentence is negative from 0 to 1\n",
    "# neu indicates how much the sentence is neutral from 0 to 1 \n",
    "# pos indicates how much the sentence is positive from 0 to 1 \n",
    "# compound indicates how much the overall sentence is from -1(extremely negative) to \n",
    "# 1(extremely positive)\n",
    "\n",
    "# So we use compound to get the overall effect of the sentence"
   ]
  },
  {
   "cell_type": "code",
   "execution_count": 95,
   "id": "ff50997b-ca2c-4379-a9f2-91f1e077617f",
   "metadata": {},
   "outputs": [],
   "source": [
    "compound_sentiment=sentiment_scores.apply(lambda x: x['compound'])"
   ]
  },
  {
   "cell_type": "code",
   "execution_count": 235,
   "id": "65965ac5-7434-47ae-9a5b-41c1a1971680",
   "metadata": {},
   "outputs": [
    {
     "data": {
      "text/plain": [
       "{'neg': 0.022, 'neu': 0.781, 'pos': 0.197, 'compound': 0.9941}"
      ]
     },
     "execution_count": 235,
     "metadata": {},
     "output_type": "execute_result"
    }
   ],
   "source": [
    "sentiment_scores[0]"
   ]
  },
  {
   "cell_type": "code",
   "execution_count": 236,
   "id": "bd7a9d4b-d11f-476e-9fdf-0611c6ab11bf",
   "metadata": {},
   "outputs": [],
   "source": [
    "sentiment_scores.to_pickle('sentiment_scores.pkl')"
   ]
  },
  {
   "cell_type": "code",
   "execution_count": 238,
   "id": "b45b69be-8784-4bff-bbbd-24fbc5743ee3",
   "metadata": {},
   "outputs": [],
   "source": [
    "sentiment_scores=pd.read_pickle('sentiment_scores.pkl')"
   ]
  },
  {
   "cell_type": "code",
   "execution_count": 239,
   "id": "12123ee1-3733-4d81-8b91-167bf4fdbae3",
   "metadata": {},
   "outputs": [
    {
     "data": {
      "text/plain": [
       "{'neg': 0.022, 'neu': 0.781, 'pos': 0.197, 'compound': 0.9941}"
      ]
     },
     "execution_count": 239,
     "metadata": {},
     "output_type": "execute_result"
    }
   ],
   "source": [
    "sentiment_scores[0]"
   ]
  },
  {
   "cell_type": "code",
   "execution_count": 97,
   "id": "9a4000f8-695d-41a5-b450-5ac4542909ad",
   "metadata": {},
   "outputs": [
    {
     "data": {
      "text/plain": [
       "0       0.9941\n",
       "1       0.9900\n",
       "2       0.9904\n",
       "3       0.9849\n",
       "4       0.9821\n",
       "         ...  \n",
       "1741    0.9468\n",
       "1742    0.9897\n",
       "1743    0.9762\n",
       "1744    0.5733\n",
       "1745    0.3103\n",
       "Name: clean_title, Length: 1746, dtype: float64"
      ]
     },
     "execution_count": 97,
     "metadata": {},
     "output_type": "execute_result"
    }
   ],
   "source": [
    "compound_sentiment"
   ]
  },
  {
   "cell_type": "markdown",
   "id": "8d9851dc-5843-4ffa-8608-26c27fbf25c7",
   "metadata": {},
   "source": [
    "## Using Tf-Idf on text"
   ]
  },
  {
   "cell_type": "code",
   "execution_count": 98,
   "id": "c77ad616-8dce-4785-8557-4251ee20cc0a",
   "metadata": {},
   "outputs": [],
   "source": [
    "from sklearn.feature_extraction.text  import TfidfVectorizer"
   ]
  },
  {
   "cell_type": "code",
   "execution_count": 99,
   "id": "72cf5d22-2e88-4248-897e-9fa906c5f50a",
   "metadata": {},
   "outputs": [],
   "source": [
    "vectorizer= TfidfVectorizer()"
   ]
  },
  {
   "cell_type": "code",
   "execution_count": 100,
   "id": "3d2dd35e-b260-406a-82d9-5433fa2dc539",
   "metadata": {},
   "outputs": [],
   "source": [
    "tfidf_matrix= vectorizer.fit_transform(df4['clean_title'])"
   ]
  },
  {
   "cell_type": "code",
   "execution_count": 101,
   "id": "be86e749-f038-4433-a350-da3062fca63e",
   "metadata": {},
   "outputs": [],
   "source": [
    "tfidf_df=pd.DataFrame(tfidf_matrix.toarray())"
   ]
  },
  {
   "cell_type": "code",
   "execution_count": 102,
   "id": "43868a47-9f16-4162-b431-2cf896b6b4d5",
   "metadata": {},
   "outputs": [
    {
     "data": {
      "text/html": [
       "<div>\n",
       "<style scoped>\n",
       "    .dataframe tbody tr th:only-of-type {\n",
       "        vertical-align: middle;\n",
       "    }\n",
       "\n",
       "    .dataframe tbody tr th {\n",
       "        vertical-align: top;\n",
       "    }\n",
       "\n",
       "    .dataframe thead th {\n",
       "        text-align: right;\n",
       "    }\n",
       "</style>\n",
       "<table border=\"1\" class=\"dataframe\">\n",
       "  <thead>\n",
       "    <tr style=\"text-align: right;\">\n",
       "      <th></th>\n",
       "      <th>0</th>\n",
       "      <th>1</th>\n",
       "      <th>2</th>\n",
       "      <th>3</th>\n",
       "      <th>4</th>\n",
       "      <th>5</th>\n",
       "      <th>6</th>\n",
       "      <th>7</th>\n",
       "      <th>8</th>\n",
       "      <th>9</th>\n",
       "      <th>...</th>\n",
       "      <th>14048</th>\n",
       "      <th>14049</th>\n",
       "      <th>14050</th>\n",
       "      <th>14051</th>\n",
       "      <th>14052</th>\n",
       "      <th>14053</th>\n",
       "      <th>14054</th>\n",
       "      <th>14055</th>\n",
       "      <th>14056</th>\n",
       "      <th>14057</th>\n",
       "    </tr>\n",
       "  </thead>\n",
       "  <tbody>\n",
       "    <tr>\n",
       "      <th>0</th>\n",
       "      <td>0.0</td>\n",
       "      <td>0.0</td>\n",
       "      <td>0.0</td>\n",
       "      <td>0.0</td>\n",
       "      <td>0.0</td>\n",
       "      <td>0.0</td>\n",
       "      <td>0.0</td>\n",
       "      <td>0.0</td>\n",
       "      <td>0.0</td>\n",
       "      <td>0.0</td>\n",
       "      <td>...</td>\n",
       "      <td>0.0</td>\n",
       "      <td>0.0</td>\n",
       "      <td>0.0</td>\n",
       "      <td>0.0</td>\n",
       "      <td>0.0</td>\n",
       "      <td>0.0</td>\n",
       "      <td>0.0</td>\n",
       "      <td>0.0</td>\n",
       "      <td>0.0</td>\n",
       "      <td>0.0</td>\n",
       "    </tr>\n",
       "    <tr>\n",
       "      <th>1</th>\n",
       "      <td>0.0</td>\n",
       "      <td>0.0</td>\n",
       "      <td>0.0</td>\n",
       "      <td>0.0</td>\n",
       "      <td>0.0</td>\n",
       "      <td>0.0</td>\n",
       "      <td>0.0</td>\n",
       "      <td>0.0</td>\n",
       "      <td>0.0</td>\n",
       "      <td>0.0</td>\n",
       "      <td>...</td>\n",
       "      <td>0.0</td>\n",
       "      <td>0.0</td>\n",
       "      <td>0.0</td>\n",
       "      <td>0.0</td>\n",
       "      <td>0.0</td>\n",
       "      <td>0.0</td>\n",
       "      <td>0.0</td>\n",
       "      <td>0.0</td>\n",
       "      <td>0.0</td>\n",
       "      <td>0.0</td>\n",
       "    </tr>\n",
       "    <tr>\n",
       "      <th>2</th>\n",
       "      <td>0.0</td>\n",
       "      <td>0.0</td>\n",
       "      <td>0.0</td>\n",
       "      <td>0.0</td>\n",
       "      <td>0.0</td>\n",
       "      <td>0.0</td>\n",
       "      <td>0.0</td>\n",
       "      <td>0.0</td>\n",
       "      <td>0.0</td>\n",
       "      <td>0.0</td>\n",
       "      <td>...</td>\n",
       "      <td>0.0</td>\n",
       "      <td>0.0</td>\n",
       "      <td>0.0</td>\n",
       "      <td>0.0</td>\n",
       "      <td>0.0</td>\n",
       "      <td>0.0</td>\n",
       "      <td>0.0</td>\n",
       "      <td>0.0</td>\n",
       "      <td>0.0</td>\n",
       "      <td>0.0</td>\n",
       "    </tr>\n",
       "    <tr>\n",
       "      <th>3</th>\n",
       "      <td>0.0</td>\n",
       "      <td>0.0</td>\n",
       "      <td>0.0</td>\n",
       "      <td>0.0</td>\n",
       "      <td>0.0</td>\n",
       "      <td>0.0</td>\n",
       "      <td>0.0</td>\n",
       "      <td>0.0</td>\n",
       "      <td>0.0</td>\n",
       "      <td>0.0</td>\n",
       "      <td>...</td>\n",
       "      <td>0.0</td>\n",
       "      <td>0.0</td>\n",
       "      <td>0.0</td>\n",
       "      <td>0.0</td>\n",
       "      <td>0.0</td>\n",
       "      <td>0.0</td>\n",
       "      <td>0.0</td>\n",
       "      <td>0.0</td>\n",
       "      <td>0.0</td>\n",
       "      <td>0.0</td>\n",
       "    </tr>\n",
       "    <tr>\n",
       "      <th>4</th>\n",
       "      <td>0.0</td>\n",
       "      <td>0.0</td>\n",
       "      <td>0.0</td>\n",
       "      <td>0.0</td>\n",
       "      <td>0.0</td>\n",
       "      <td>0.0</td>\n",
       "      <td>0.0</td>\n",
       "      <td>0.0</td>\n",
       "      <td>0.0</td>\n",
       "      <td>0.0</td>\n",
       "      <td>...</td>\n",
       "      <td>0.0</td>\n",
       "      <td>0.0</td>\n",
       "      <td>0.0</td>\n",
       "      <td>0.0</td>\n",
       "      <td>0.0</td>\n",
       "      <td>0.0</td>\n",
       "      <td>0.0</td>\n",
       "      <td>0.0</td>\n",
       "      <td>0.0</td>\n",
       "      <td>0.0</td>\n",
       "    </tr>\n",
       "    <tr>\n",
       "      <th>...</th>\n",
       "      <td>...</td>\n",
       "      <td>...</td>\n",
       "      <td>...</td>\n",
       "      <td>...</td>\n",
       "      <td>...</td>\n",
       "      <td>...</td>\n",
       "      <td>...</td>\n",
       "      <td>...</td>\n",
       "      <td>...</td>\n",
       "      <td>...</td>\n",
       "      <td>...</td>\n",
       "      <td>...</td>\n",
       "      <td>...</td>\n",
       "      <td>...</td>\n",
       "      <td>...</td>\n",
       "      <td>...</td>\n",
       "      <td>...</td>\n",
       "      <td>...</td>\n",
       "      <td>...</td>\n",
       "      <td>...</td>\n",
       "      <td>...</td>\n",
       "    </tr>\n",
       "    <tr>\n",
       "      <th>1741</th>\n",
       "      <td>0.0</td>\n",
       "      <td>0.0</td>\n",
       "      <td>0.0</td>\n",
       "      <td>0.0</td>\n",
       "      <td>0.0</td>\n",
       "      <td>0.0</td>\n",
       "      <td>0.0</td>\n",
       "      <td>0.0</td>\n",
       "      <td>0.0</td>\n",
       "      <td>0.0</td>\n",
       "      <td>...</td>\n",
       "      <td>0.0</td>\n",
       "      <td>0.0</td>\n",
       "      <td>0.0</td>\n",
       "      <td>0.0</td>\n",
       "      <td>0.0</td>\n",
       "      <td>0.0</td>\n",
       "      <td>0.0</td>\n",
       "      <td>0.0</td>\n",
       "      <td>0.0</td>\n",
       "      <td>0.0</td>\n",
       "    </tr>\n",
       "    <tr>\n",
       "      <th>1742</th>\n",
       "      <td>0.0</td>\n",
       "      <td>0.0</td>\n",
       "      <td>0.0</td>\n",
       "      <td>0.0</td>\n",
       "      <td>0.0</td>\n",
       "      <td>0.0</td>\n",
       "      <td>0.0</td>\n",
       "      <td>0.0</td>\n",
       "      <td>0.0</td>\n",
       "      <td>0.0</td>\n",
       "      <td>...</td>\n",
       "      <td>0.0</td>\n",
       "      <td>0.0</td>\n",
       "      <td>0.0</td>\n",
       "      <td>0.0</td>\n",
       "      <td>0.0</td>\n",
       "      <td>0.0</td>\n",
       "      <td>0.0</td>\n",
       "      <td>0.0</td>\n",
       "      <td>0.0</td>\n",
       "      <td>0.0</td>\n",
       "    </tr>\n",
       "    <tr>\n",
       "      <th>1743</th>\n",
       "      <td>0.0</td>\n",
       "      <td>0.0</td>\n",
       "      <td>0.0</td>\n",
       "      <td>0.0</td>\n",
       "      <td>0.0</td>\n",
       "      <td>0.0</td>\n",
       "      <td>0.0</td>\n",
       "      <td>0.0</td>\n",
       "      <td>0.0</td>\n",
       "      <td>0.0</td>\n",
       "      <td>...</td>\n",
       "      <td>0.0</td>\n",
       "      <td>0.0</td>\n",
       "      <td>0.0</td>\n",
       "      <td>0.0</td>\n",
       "      <td>0.0</td>\n",
       "      <td>0.0</td>\n",
       "      <td>0.0</td>\n",
       "      <td>0.0</td>\n",
       "      <td>0.0</td>\n",
       "      <td>0.0</td>\n",
       "    </tr>\n",
       "    <tr>\n",
       "      <th>1744</th>\n",
       "      <td>0.0</td>\n",
       "      <td>0.0</td>\n",
       "      <td>0.0</td>\n",
       "      <td>0.0</td>\n",
       "      <td>0.0</td>\n",
       "      <td>0.0</td>\n",
       "      <td>0.0</td>\n",
       "      <td>0.0</td>\n",
       "      <td>0.0</td>\n",
       "      <td>0.0</td>\n",
       "      <td>...</td>\n",
       "      <td>0.0</td>\n",
       "      <td>0.0</td>\n",
       "      <td>0.0</td>\n",
       "      <td>0.0</td>\n",
       "      <td>0.0</td>\n",
       "      <td>0.0</td>\n",
       "      <td>0.0</td>\n",
       "      <td>0.0</td>\n",
       "      <td>0.0</td>\n",
       "      <td>0.0</td>\n",
       "    </tr>\n",
       "    <tr>\n",
       "      <th>1745</th>\n",
       "      <td>0.0</td>\n",
       "      <td>0.0</td>\n",
       "      <td>0.0</td>\n",
       "      <td>0.0</td>\n",
       "      <td>0.0</td>\n",
       "      <td>0.0</td>\n",
       "      <td>0.0</td>\n",
       "      <td>0.0</td>\n",
       "      <td>0.0</td>\n",
       "      <td>0.0</td>\n",
       "      <td>...</td>\n",
       "      <td>0.0</td>\n",
       "      <td>0.0</td>\n",
       "      <td>0.0</td>\n",
       "      <td>0.0</td>\n",
       "      <td>0.0</td>\n",
       "      <td>0.0</td>\n",
       "      <td>0.0</td>\n",
       "      <td>0.0</td>\n",
       "      <td>0.0</td>\n",
       "      <td>0.0</td>\n",
       "    </tr>\n",
       "  </tbody>\n",
       "</table>\n",
       "<p>1746 rows × 14058 columns</p>\n",
       "</div>"
      ],
      "text/plain": [
       "      0      1      2      3      4      5      6      7      8      9      \\\n",
       "0       0.0    0.0    0.0    0.0    0.0    0.0    0.0    0.0    0.0    0.0   \n",
       "1       0.0    0.0    0.0    0.0    0.0    0.0    0.0    0.0    0.0    0.0   \n",
       "2       0.0    0.0    0.0    0.0    0.0    0.0    0.0    0.0    0.0    0.0   \n",
       "3       0.0    0.0    0.0    0.0    0.0    0.0    0.0    0.0    0.0    0.0   \n",
       "4       0.0    0.0    0.0    0.0    0.0    0.0    0.0    0.0    0.0    0.0   \n",
       "...     ...    ...    ...    ...    ...    ...    ...    ...    ...    ...   \n",
       "1741    0.0    0.0    0.0    0.0    0.0    0.0    0.0    0.0    0.0    0.0   \n",
       "1742    0.0    0.0    0.0    0.0    0.0    0.0    0.0    0.0    0.0    0.0   \n",
       "1743    0.0    0.0    0.0    0.0    0.0    0.0    0.0    0.0    0.0    0.0   \n",
       "1744    0.0    0.0    0.0    0.0    0.0    0.0    0.0    0.0    0.0    0.0   \n",
       "1745    0.0    0.0    0.0    0.0    0.0    0.0    0.0    0.0    0.0    0.0   \n",
       "\n",
       "      ...  14048  14049  14050  14051  14052  14053  14054  14055  14056  \\\n",
       "0     ...    0.0    0.0    0.0    0.0    0.0    0.0    0.0    0.0    0.0   \n",
       "1     ...    0.0    0.0    0.0    0.0    0.0    0.0    0.0    0.0    0.0   \n",
       "2     ...    0.0    0.0    0.0    0.0    0.0    0.0    0.0    0.0    0.0   \n",
       "3     ...    0.0    0.0    0.0    0.0    0.0    0.0    0.0    0.0    0.0   \n",
       "4     ...    0.0    0.0    0.0    0.0    0.0    0.0    0.0    0.0    0.0   \n",
       "...   ...    ...    ...    ...    ...    ...    ...    ...    ...    ...   \n",
       "1741  ...    0.0    0.0    0.0    0.0    0.0    0.0    0.0    0.0    0.0   \n",
       "1742  ...    0.0    0.0    0.0    0.0    0.0    0.0    0.0    0.0    0.0   \n",
       "1743  ...    0.0    0.0    0.0    0.0    0.0    0.0    0.0    0.0    0.0   \n",
       "1744  ...    0.0    0.0    0.0    0.0    0.0    0.0    0.0    0.0    0.0   \n",
       "1745  ...    0.0    0.0    0.0    0.0    0.0    0.0    0.0    0.0    0.0   \n",
       "\n",
       "      14057  \n",
       "0       0.0  \n",
       "1       0.0  \n",
       "2       0.0  \n",
       "3       0.0  \n",
       "4       0.0  \n",
       "...     ...  \n",
       "1741    0.0  \n",
       "1742    0.0  \n",
       "1743    0.0  \n",
       "1744    0.0  \n",
       "1745    0.0  \n",
       "\n",
       "[1746 rows x 14058 columns]"
      ]
     },
     "execution_count": 102,
     "metadata": {},
     "output_type": "execute_result"
    }
   ],
   "source": [
    "tfidf_df"
   ]
  },
  {
   "cell_type": "code",
   "execution_count": 103,
   "id": "badfdb4e-517e-4321-8d41-e3ff0df00e81",
   "metadata": {},
   "outputs": [],
   "source": [
    "# tfidf_df.describe()"
   ]
  },
  {
   "cell_type": "markdown",
   "id": "123b6ce5-5fb2-44cd-94d5-f5339b54082b",
   "metadata": {},
   "source": [
    "### Using PCA on Tf-Idf Vectorizer"
   ]
  },
  {
   "cell_type": "code",
   "execution_count": 104,
   "id": "dc7adf51-ed40-422d-bcc2-cb05cf778180",
   "metadata": {},
   "outputs": [],
   "source": [
    "from sklearn.decomposition import PCA\n",
    "from sklearn.preprocessing import StandardScaler"
   ]
  },
  {
   "cell_type": "code",
   "execution_count": 105,
   "id": "46b1fef2-fd5e-4cbe-b0e5-ed8e03a9d65b",
   "metadata": {},
   "outputs": [],
   "source": [
    "scaler= StandardScaler()\n",
    "tfidf_df_scaled= scaler.fit_transform(tfidf_df)"
   ]
  },
  {
   "cell_type": "code",
   "execution_count": 106,
   "id": "f8d0ce62-9638-4419-b0ba-42f4ceb92769",
   "metadata": {},
   "outputs": [],
   "source": [
    "pca= PCA(n_components=0.75)"
   ]
  },
  {
   "cell_type": "code",
   "execution_count": 107,
   "id": "91a1e213-80d6-4772-972c-0965ab8fa08e",
   "metadata": {},
   "outputs": [],
   "source": [
    "tfidf_pca=pca.fit_transform(tfidf_df_scaled)"
   ]
  },
  {
   "cell_type": "code",
   "execution_count": 108,
   "id": "58028d98-425a-4b31-b5fe-de0c188e34bf",
   "metadata": {},
   "outputs": [
    {
     "data": {
      "text/plain": [
       "944"
      ]
     },
     "execution_count": 108,
     "metadata": {},
     "output_type": "execute_result"
    }
   ],
   "source": [
    "pca.n_components_ # possibly a case of overfitting"
   ]
  },
  {
   "cell_type": "code",
   "execution_count": 109,
   "id": "d8efd615-ec5d-4009-a9c5-62f700bbfa39",
   "metadata": {
    "scrolled": true
   },
   "outputs": [
    {
     "data": {
      "text/plain": [
       "array([0.00216597, 0.00182307, 0.00173944, 0.00166755, 0.00163509,\n",
       "       0.00159407, 0.00158678, 0.00157447, 0.00154342, 0.00152675,\n",
       "       0.0015066 , 0.00149315, 0.00147018, 0.00146685, 0.00145722,\n",
       "       0.00143507, 0.00143096, 0.00142458, 0.00142144, 0.00141191,\n",
       "       0.00140631, 0.00139552, 0.001389  , 0.00137252, 0.00136175,\n",
       "       0.00135507, 0.00134974, 0.00134497, 0.00133445, 0.00133053,\n",
       "       0.00132748, 0.00132513, 0.00131792, 0.00131078, 0.00129943,\n",
       "       0.00129793, 0.0012917 , 0.00128542, 0.00128011, 0.00127546,\n",
       "       0.00126922, 0.0012649 , 0.0012618 , 0.00125945, 0.00125479,\n",
       "       0.00125129, 0.00124886, 0.00124511, 0.00124126, 0.00123943,\n",
       "       0.00123676, 0.00123305, 0.00122991, 0.00122653, 0.00122461,\n",
       "       0.00122161, 0.00121994, 0.00121822, 0.00121617, 0.0012103 ,\n",
       "       0.00121002, 0.00120631, 0.00120439, 0.00120365, 0.00120179,\n",
       "       0.00119995, 0.00119463, 0.00119316, 0.00119148, 0.00118934,\n",
       "       0.00118694, 0.00118596, 0.00118183, 0.00117993, 0.00117792,\n",
       "       0.00117632, 0.00117317, 0.00116943, 0.00116792, 0.00116656,\n",
       "       0.00116498, 0.00116438, 0.00116127, 0.0011605 , 0.00115672,\n",
       "       0.00115463, 0.00115425, 0.00115055, 0.00114706, 0.00114532,\n",
       "       0.00114225, 0.00114064, 0.00113916, 0.00113562, 0.0011346 ,\n",
       "       0.00113445, 0.00113077, 0.00112939, 0.00112831, 0.00112541,\n",
       "       0.00112437, 0.00112218, 0.00112012, 0.00111912, 0.00111731,\n",
       "       0.00111567, 0.00111528, 0.00111197, 0.00111042, 0.00110736,\n",
       "       0.00110661, 0.00110285, 0.00110132, 0.00109882, 0.00109817,\n",
       "       0.00109692, 0.00109402, 0.00109161, 0.00109035, 0.00108849,\n",
       "       0.00108813, 0.00108709, 0.00108514, 0.00108282, 0.00108071,\n",
       "       0.00107935, 0.00107775, 0.0010768 , 0.00107412, 0.00107125,\n",
       "       0.00106954, 0.00106793, 0.00106746, 0.00106611, 0.00106412,\n",
       "       0.00106311, 0.00106183, 0.00105873, 0.00105815, 0.00105566,\n",
       "       0.00105529, 0.00105315, 0.00105221, 0.00105172, 0.00104885,\n",
       "       0.00104748, 0.00104593, 0.00104435, 0.00104359, 0.00104146,\n",
       "       0.0010404 , 0.0010387 , 0.00103757, 0.00103451, 0.00103327,\n",
       "       0.00103272, 0.00103177, 0.00102963, 0.00102936, 0.00102782,\n",
       "       0.00102611, 0.00102438, 0.0010223 , 0.00102083, 0.00102026,\n",
       "       0.00101829, 0.00101774, 0.00101639, 0.00101497, 0.00101244,\n",
       "       0.0010115 , 0.00101056, 0.00100904, 0.00100811, 0.00100499,\n",
       "       0.00100372, 0.00100297, 0.00100183, 0.00100129, 0.00099918,\n",
       "       0.00099834, 0.00099759, 0.00099629, 0.00099518, 0.00099429,\n",
       "       0.00099211, 0.00099081, 0.00099003, 0.00098863, 0.00098752,\n",
       "       0.000986  , 0.00098394, 0.00098271, 0.00098177, 0.00098071,\n",
       "       0.00097824, 0.00097744, 0.00097633, 0.00097599, 0.00097557,\n",
       "       0.00097326, 0.00097276, 0.00097122, 0.00096973, 0.00096876,\n",
       "       0.00096783, 0.00096717, 0.00096547, 0.00096484, 0.0009642 ,\n",
       "       0.0009622 , 0.00096196, 0.00096118, 0.00095965, 0.00095859,\n",
       "       0.00095714, 0.00095507, 0.00095467, 0.00095391, 0.00095258,\n",
       "       0.00095118, 0.00095012, 0.00094968, 0.00094774, 0.0009461 ,\n",
       "       0.0009458 , 0.00094445, 0.00094363, 0.00094277, 0.00094202,\n",
       "       0.00094106, 0.0009404 , 0.00093947, 0.0009381 , 0.00093719,\n",
       "       0.00093633, 0.00093549, 0.00093388, 0.00093205, 0.00093145,\n",
       "       0.00093064, 0.00092964, 0.00092893, 0.00092734, 0.00092667,\n",
       "       0.00092652, 0.00092525, 0.00092394, 0.00092241, 0.00092213,\n",
       "       0.00092129, 0.00091958, 0.00091882, 0.0009181 , 0.00091727,\n",
       "       0.00091628, 0.00091412, 0.00091367, 0.00091199, 0.0009109 ,\n",
       "       0.00091028, 0.00090912, 0.00090712, 0.00090646, 0.00090632,\n",
       "       0.00090467, 0.00090449, 0.0009043 , 0.00090326, 0.00090312,\n",
       "       0.00090185, 0.00089982, 0.00089915, 0.00089827, 0.00089729,\n",
       "       0.00089681, 0.00089643, 0.00089574, 0.00089464, 0.0008935 ,\n",
       "       0.00089233, 0.00088969, 0.00088859, 0.00088804, 0.00088745,\n",
       "       0.00088643, 0.00088504, 0.0008843 , 0.00088308, 0.00088228,\n",
       "       0.0008814 , 0.00088114, 0.00088069, 0.00087926, 0.0008791 ,\n",
       "       0.0008783 , 0.00087703, 0.00087666, 0.00087581, 0.00087515,\n",
       "       0.0008736 , 0.00087279, 0.00087272, 0.00087081, 0.00086942,\n",
       "       0.00086786, 0.00086768, 0.00086707, 0.00086639, 0.00086621,\n",
       "       0.00086512, 0.00086472, 0.0008634 , 0.0008626 , 0.00086201,\n",
       "       0.00086165, 0.00086065, 0.00085939, 0.00085713, 0.00085619,\n",
       "       0.00085606, 0.00085597, 0.00085433, 0.000854  , 0.00085257,\n",
       "       0.00085228, 0.00085126, 0.0008506 , 0.00084989, 0.00084857,\n",
       "       0.00084827, 0.0008469 , 0.00084608, 0.00084494, 0.00084364,\n",
       "       0.00084301, 0.0008419 , 0.00084099, 0.00084074, 0.00083945,\n",
       "       0.00083798, 0.00083744, 0.00083637, 0.00083612, 0.00083542,\n",
       "       0.00083448, 0.00083398, 0.00083345, 0.00083298, 0.00083222,\n",
       "       0.00083136, 0.00083031, 0.0008291 , 0.00082869, 0.00082761,\n",
       "       0.00082711, 0.00082629, 0.00082566, 0.00082458, 0.00082374,\n",
       "       0.00082275, 0.00082196, 0.00082185, 0.00082063, 0.00082008,\n",
       "       0.00081959, 0.00081834, 0.00081738, 0.00081721, 0.00081652,\n",
       "       0.00081518, 0.00081421, 0.0008138 , 0.00081321, 0.00081256,\n",
       "       0.00081168, 0.00081052, 0.00080988, 0.00080926, 0.00080859,\n",
       "       0.00080792, 0.00080744, 0.00080531, 0.00080446, 0.00080362,\n",
       "       0.00080257, 0.00080246, 0.00080135, 0.00080043, 0.00080028,\n",
       "       0.00079902, 0.00079858, 0.00079776, 0.00079754, 0.00079702,\n",
       "       0.00079637, 0.00079562, 0.00079508, 0.00079422, 0.00079383,\n",
       "       0.00079306, 0.00079272, 0.00079187, 0.00079077, 0.00078976,\n",
       "       0.00078948, 0.00078911, 0.00078865, 0.00078821, 0.00078745,\n",
       "       0.00078678, 0.00078429, 0.00078412, 0.00078263, 0.00078172,\n",
       "       0.00078126, 0.00078044, 0.00077971, 0.00077863, 0.0007785 ,\n",
       "       0.00077724, 0.00077657, 0.00077625, 0.00077535, 0.00077447,\n",
       "       0.00077416, 0.00077339, 0.00077297, 0.00077204, 0.0007718 ,\n",
       "       0.00077091, 0.00076956, 0.00076884, 0.00076871, 0.00076834,\n",
       "       0.00076788, 0.00076655, 0.00076595, 0.00076544, 0.00076448,\n",
       "       0.00076347, 0.00076302, 0.00076244, 0.00076224, 0.00076142,\n",
       "       0.00076068, 0.00075959, 0.00075886, 0.00075874, 0.00075792,\n",
       "       0.00075675, 0.00075591, 0.00075561, 0.00075501, 0.00075462,\n",
       "       0.00075303, 0.0007526 , 0.00075224, 0.00075174, 0.00075034,\n",
       "       0.00075009, 0.00074924, 0.00074872, 0.00074758, 0.00074725,\n",
       "       0.00074703, 0.00074606, 0.00074508, 0.00074403, 0.00074293,\n",
       "       0.00074256, 0.00074248, 0.0007414 , 0.00074087, 0.00073972,\n",
       "       0.00073953, 0.00073845, 0.00073766, 0.00073706, 0.00073683,\n",
       "       0.00073618, 0.00073511, 0.00073458, 0.00073289, 0.00073194,\n",
       "       0.00073152, 0.00073097, 0.00073053, 0.00072924, 0.00072831,\n",
       "       0.0007279 , 0.00072752, 0.00072683, 0.0007266 , 0.0007254 ,\n",
       "       0.0007251 , 0.00072461, 0.00072375, 0.00072317, 0.00072218,\n",
       "       0.00072188, 0.00072143, 0.00072026, 0.00071996, 0.00071936,\n",
       "       0.00071887, 0.00071786, 0.00071765, 0.00071694, 0.00071545,\n",
       "       0.00071491, 0.00071463, 0.00071419, 0.00071327, 0.00071307,\n",
       "       0.00071226, 0.00071135, 0.00071085, 0.00071029, 0.00070959,\n",
       "       0.00070917, 0.00070864, 0.00070824, 0.00070759, 0.00070668,\n",
       "       0.00070613, 0.00070528, 0.00070493, 0.00070367, 0.00070346,\n",
       "       0.00070243, 0.00070205, 0.00070178, 0.00070041, 0.00070008,\n",
       "       0.00069928, 0.00069903, 0.00069877, 0.00069786, 0.00069725,\n",
       "       0.00069697, 0.00069593, 0.00069568, 0.00069513, 0.00069441,\n",
       "       0.00069409, 0.00069366, 0.00069238, 0.0006919 , 0.0006914 ,\n",
       "       0.00069044, 0.00068985, 0.00068964, 0.00068925, 0.0006885 ,\n",
       "       0.00068769, 0.00068713, 0.00068632, 0.00068571, 0.00068539,\n",
       "       0.00068478, 0.00068415, 0.00068288, 0.00068249, 0.00068173,\n",
       "       0.00068156, 0.00068096, 0.00067993, 0.00067944, 0.00067878,\n",
       "       0.00067834, 0.00067829, 0.00067796, 0.00067735, 0.00067643,\n",
       "       0.00067587, 0.00067484, 0.00067474, 0.00067382, 0.00067314,\n",
       "       0.00067287, 0.00067242, 0.0006712 , 0.000671  , 0.00067064,\n",
       "       0.00067005, 0.0006694 , 0.00066857, 0.00066805, 0.00066725,\n",
       "       0.000667  , 0.00066649, 0.00066625, 0.00066521, 0.00066476,\n",
       "       0.00066408, 0.00066357, 0.00066245, 0.00066166, 0.00066142,\n",
       "       0.00066061, 0.00066045, 0.00065959, 0.00065948, 0.00065864,\n",
       "       0.00065809, 0.00065749, 0.0006567 , 0.00065622, 0.00065545,\n",
       "       0.00065498, 0.000654  , 0.00065382, 0.00065367, 0.00065292,\n",
       "       0.00065265, 0.00065183, 0.00065174, 0.00065142, 0.00065055,\n",
       "       0.00065009, 0.00064954, 0.00064815, 0.00064767, 0.00064674,\n",
       "       0.00064641, 0.00064585, 0.00064497, 0.00064466, 0.00064408,\n",
       "       0.0006436 , 0.00064344, 0.00064248, 0.0006416 , 0.00064137,\n",
       "       0.00064088, 0.00063969, 0.00063934, 0.000639  , 0.00063842,\n",
       "       0.00063791, 0.00063768, 0.00063703, 0.00063639, 0.00063555,\n",
       "       0.00063535, 0.00063498, 0.0006337 , 0.00063347, 0.00063265,\n",
       "       0.00063227, 0.00063201, 0.00063159, 0.0006306 , 0.00062975,\n",
       "       0.00062944, 0.00062901, 0.0006284 , 0.0006279 , 0.00062739,\n",
       "       0.00062683, 0.00062657, 0.00062543, 0.00062498, 0.00062469,\n",
       "       0.00062435, 0.00062339, 0.00062305, 0.00062244, 0.00062194,\n",
       "       0.00062107, 0.0006204 , 0.00062026, 0.00061979, 0.00061905,\n",
       "       0.00061875, 0.00061815, 0.00061765, 0.00061695, 0.00061632,\n",
       "       0.0006156 , 0.00061551, 0.00061464, 0.00061432, 0.00061406,\n",
       "       0.00061375, 0.00061303, 0.00061237, 0.00061201, 0.00061182,\n",
       "       0.00061124, 0.00061044, 0.00061018, 0.00060948, 0.00060899,\n",
       "       0.00060807, 0.00060785, 0.00060745, 0.000607  , 0.00060568,\n",
       "       0.0006056 , 0.00060529, 0.00060467, 0.00060396, 0.00060329,\n",
       "       0.00060261, 0.00060195, 0.00060132, 0.00060076, 0.0005997 ,\n",
       "       0.0005994 , 0.00059911, 0.00059825, 0.0005981 , 0.0005974 ,\n",
       "       0.00059728, 0.0005967 , 0.0005963 , 0.00059529, 0.00059503,\n",
       "       0.00059404, 0.00059384, 0.00059336, 0.00059317, 0.00059222,\n",
       "       0.00059205, 0.00059158, 0.00059088, 0.00059071, 0.00059011,\n",
       "       0.00058998, 0.00058951, 0.00058934, 0.00058842, 0.00058798,\n",
       "       0.00058756, 0.00058698, 0.00058608, 0.00058592, 0.00058553,\n",
       "       0.00058507, 0.00058411, 0.00058358, 0.00058294, 0.00058278,\n",
       "       0.00058271, 0.00058207, 0.00058144, 0.00058089, 0.00058055,\n",
       "       0.0005801 , 0.00057927, 0.0005789 , 0.00057798, 0.00057779,\n",
       "       0.000577  , 0.00057666, 0.00057629, 0.00057552, 0.0005752 ,\n",
       "       0.00057497, 0.00057428, 0.00057374, 0.00057355, 0.00057294,\n",
       "       0.00057217, 0.00057151, 0.00057117, 0.00057046, 0.00056984,\n",
       "       0.00056919, 0.00056886, 0.0005682 , 0.00056773, 0.00056691,\n",
       "       0.00056678, 0.00056621, 0.00056558, 0.0005649 , 0.00056456,\n",
       "       0.00056353, 0.00056334, 0.00056326, 0.0005622 , 0.00056207,\n",
       "       0.00056134, 0.0005608 , 0.00056068, 0.00056032, 0.00055967,\n",
       "       0.00055904, 0.0005589 , 0.0005582 , 0.00055763, 0.00055738,\n",
       "       0.00055641, 0.00055582, 0.00055562, 0.00055502, 0.00055465,\n",
       "       0.00055409, 0.00055347, 0.00055277, 0.0005527 , 0.0005521 ,\n",
       "       0.00055189, 0.00055117, 0.00055054, 0.00055033, 0.00054968,\n",
       "       0.00054943, 0.00054883, 0.00054833, 0.00054772, 0.00054682,\n",
       "       0.0005466 , 0.00054624, 0.0005458 , 0.00054539, 0.00054411,\n",
       "       0.00054395, 0.00054369, 0.00054315, 0.0005428 , 0.00054257,\n",
       "       0.00054167, 0.00054114, 0.00054096, 0.00053996, 0.00053966,\n",
       "       0.00053921, 0.00053852, 0.00053827, 0.00053783, 0.00053741,\n",
       "       0.0005367 , 0.00053614, 0.00053572, 0.00053549, 0.00053494,\n",
       "       0.00053462, 0.00053375, 0.00053328, 0.00053273, 0.0005323 ,\n",
       "       0.00053188, 0.00053174, 0.00053033, 0.00053007, 0.00052959,\n",
       "       0.00052945, 0.0005283 , 0.00052813, 0.00052775, 0.00052738,\n",
       "       0.00052674, 0.00052574, 0.00052559, 0.00052524, 0.00052498,\n",
       "       0.00052432, 0.00052403, 0.00052388, 0.00052316, 0.00052252,\n",
       "       0.0005224 , 0.00052127, 0.00052116, 0.00052033, 0.00052008,\n",
       "       0.00051969, 0.00051929, 0.00051903, 0.00051877, 0.00051814,\n",
       "       0.00051759, 0.00051727, 0.00051669, 0.00051632, 0.00051591,\n",
       "       0.0005157 , 0.0005151 , 0.00051408, 0.00051342, 0.00051294,\n",
       "       0.00051218, 0.00051192, 0.00051143, 0.00051138, 0.00051076,\n",
       "       0.00051028, 0.00050952, 0.00050942, 0.00050916, 0.00050844,\n",
       "       0.00050794, 0.00050738, 0.0005069 , 0.00050617, 0.00050616,\n",
       "       0.0005054 , 0.00050498, 0.00050477, 0.00050431, 0.00050427,\n",
       "       0.00050385, 0.00050356, 0.00050295, 0.00050215, 0.00050146,\n",
       "       0.0005009 , 0.00050036, 0.00050006, 0.00049964, 0.00049948,\n",
       "       0.00049891, 0.00049825, 0.00049794, 0.00049744, 0.0004972 ,\n",
       "       0.00049622, 0.00049579, 0.00049507, 0.00049481, 0.00049414,\n",
       "       0.00049366, 0.00049313, 0.00049292, 0.0004926 , 0.00049253,\n",
       "       0.00049201, 0.00049145, 0.00049099, 0.00049062, 0.00049003,\n",
       "       0.00048939, 0.0004892 , 0.00048891, 0.00048832, 0.00048781,\n",
       "       0.00048757, 0.00048706, 0.00048686, 0.00048622])"
      ]
     },
     "execution_count": 109,
     "metadata": {},
     "output_type": "execute_result"
    }
   ],
   "source": [
    "pca.explained_variance_ratio_ # gives each columns variance composition to the 0.85"
   ]
  },
  {
   "cell_type": "markdown",
   "id": "028facb8-616a-48d8-82f7-480b971a6e34",
   "metadata": {},
   "source": [
    "## Models on Bag of Words"
   ]
  },
  {
   "cell_type": "code",
   "execution_count": 110,
   "id": "c546896c-dc4a-4090-bd80-3d27b49b409b",
   "metadata": {},
   "outputs": [],
   "source": [
    "# Logistic Regression 0.64 , 0.87\n",
    "# SVM is overfitting with same accuracy as LR\n",
    "# NB is not performing well \n",
    "# RF has low acc on test and around 0.94 acc for train , DT also behaves the same\n",
    "# LSTM was more better than GRU 0.66 and 0.62"
   ]
  },
  {
   "cell_type": "code",
   "execution_count": 111,
   "id": "fee92a3e-ae58-4362-a5e8-ad915ab04368",
   "metadata": {},
   "outputs": [],
   "source": [
    "from sklearn.model_selection import train_test_split\n",
    "from sklearn.linear_model import LogisticRegression"
   ]
  },
  {
   "cell_type": "code",
   "execution_count": 112,
   "id": "18514a13-a0f3-4f7e-a468-62bf2f585d35",
   "metadata": {},
   "outputs": [],
   "source": [
    "from sklearn.preprocessing import StandardScaler"
   ]
  },
  {
   "cell_type": "code",
   "execution_count": 113,
   "id": "94b2f7c8-46a9-45d5-a7d5-2437efa2bd65",
   "metadata": {},
   "outputs": [],
   "source": [
    "scaler=StandardScaler()\n",
    "# bow_array_pca_scaled=scaler.fit_transform(bow_array_pca)"
   ]
  },
  {
   "cell_type": "code",
   "execution_count": 114,
   "id": "f59c2b21-8328-4852-bf22-8ec0673cd663",
   "metadata": {},
   "outputs": [],
   "source": [
    "# Split the data into training and test sets\n",
    "X_train, X_test, y_train, y_test = train_test_split(bow_array_pca, df4['Label'], test_size=0.03, random_state=42)\n"
   ]
  },
  {
   "cell_type": "code",
   "execution_count": 115,
   "id": "1b4e1a2f-fb51-4ad0-a0b5-1a75d3975275",
   "metadata": {},
   "outputs": [],
   "source": [
    "X_train=scaler.fit_transform(X_train)\n",
    "X_test=scaler.transform(X_test)"
   ]
  },
  {
   "cell_type": "code",
   "execution_count": 116,
   "id": "e643fcdd-e344-4999-a9e1-74e9ef9d2657",
   "metadata": {},
   "outputs": [
    {
     "data": {
      "text/plain": [
       "1693"
      ]
     },
     "execution_count": 116,
     "metadata": {},
     "output_type": "execute_result"
    }
   ],
   "source": [
    "len(y_train)"
   ]
  },
  {
   "cell_type": "code",
   "execution_count": 117,
   "id": "c656dcfd-67f6-4a0a-8405-c76cebcd1219",
   "metadata": {},
   "outputs": [
    {
     "data": {
      "text/plain": [
       "0.030124040165386886"
      ]
     },
     "execution_count": 117,
     "metadata": {},
     "output_type": "execute_result"
    }
   ],
   "source": [
    "51/1693"
   ]
  },
  {
   "cell_type": "code",
   "execution_count": 118,
   "id": "0b6411d1-86b3-479b-a693-1ff121dfa6c8",
   "metadata": {},
   "outputs": [
    {
     "data": {
      "text/plain": [
       "51"
      ]
     },
     "execution_count": 118,
     "metadata": {},
     "output_type": "execute_result"
    }
   ],
   "source": [
    "test_size=int(0.030124040165386886*len(y_train))\n",
    "test_size"
   ]
  },
  {
   "cell_type": "code",
   "execution_count": 119,
   "id": "20b7f028-1760-46b3-93d4-4a72f1f2a1c7",
   "metadata": {},
   "outputs": [
    {
     "data": {
      "text/plain": [
       "622"
      ]
     },
     "execution_count": 119,
     "metadata": {},
     "output_type": "execute_result"
    }
   ],
   "source": [
    "len(bow_array_pca[0])"
   ]
  },
  {
   "cell_type": "code",
   "execution_count": 120,
   "id": "974a24e5-35c4-4ddc-bf9d-478bd61fcf88",
   "metadata": {},
   "outputs": [
    {
     "data": {
      "text/html": [
       "<style>#sk-container-id-1 {color: black;background-color: white;}#sk-container-id-1 pre{padding: 0;}#sk-container-id-1 div.sk-toggleable {background-color: white;}#sk-container-id-1 label.sk-toggleable__label {cursor: pointer;display: block;width: 100%;margin-bottom: 0;padding: 0.3em;box-sizing: border-box;text-align: center;}#sk-container-id-1 label.sk-toggleable__label-arrow:before {content: \"▸\";float: left;margin-right: 0.25em;color: #696969;}#sk-container-id-1 label.sk-toggleable__label-arrow:hover:before {color: black;}#sk-container-id-1 div.sk-estimator:hover label.sk-toggleable__label-arrow:before {color: black;}#sk-container-id-1 div.sk-toggleable__content {max-height: 0;max-width: 0;overflow: hidden;text-align: left;background-color: #f0f8ff;}#sk-container-id-1 div.sk-toggleable__content pre {margin: 0.2em;color: black;border-radius: 0.25em;background-color: #f0f8ff;}#sk-container-id-1 input.sk-toggleable__control:checked~div.sk-toggleable__content {max-height: 200px;max-width: 100%;overflow: auto;}#sk-container-id-1 input.sk-toggleable__control:checked~label.sk-toggleable__label-arrow:before {content: \"▾\";}#sk-container-id-1 div.sk-estimator input.sk-toggleable__control:checked~label.sk-toggleable__label {background-color: #d4ebff;}#sk-container-id-1 div.sk-label input.sk-toggleable__control:checked~label.sk-toggleable__label {background-color: #d4ebff;}#sk-container-id-1 input.sk-hidden--visually {border: 0;clip: rect(1px 1px 1px 1px);clip: rect(1px, 1px, 1px, 1px);height: 1px;margin: -1px;overflow: hidden;padding: 0;position: absolute;width: 1px;}#sk-container-id-1 div.sk-estimator {font-family: monospace;background-color: #f0f8ff;border: 1px dotted black;border-radius: 0.25em;box-sizing: border-box;margin-bottom: 0.5em;}#sk-container-id-1 div.sk-estimator:hover {background-color: #d4ebff;}#sk-container-id-1 div.sk-parallel-item::after {content: \"\";width: 100%;border-bottom: 1px solid gray;flex-grow: 1;}#sk-container-id-1 div.sk-label:hover label.sk-toggleable__label {background-color: #d4ebff;}#sk-container-id-1 div.sk-serial::before {content: \"\";position: absolute;border-left: 1px solid gray;box-sizing: border-box;top: 0;bottom: 0;left: 50%;z-index: 0;}#sk-container-id-1 div.sk-serial {display: flex;flex-direction: column;align-items: center;background-color: white;padding-right: 0.2em;padding-left: 0.2em;position: relative;}#sk-container-id-1 div.sk-item {position: relative;z-index: 1;}#sk-container-id-1 div.sk-parallel {display: flex;align-items: stretch;justify-content: center;background-color: white;position: relative;}#sk-container-id-1 div.sk-item::before, #sk-container-id-1 div.sk-parallel-item::before {content: \"\";position: absolute;border-left: 1px solid gray;box-sizing: border-box;top: 0;bottom: 0;left: 50%;z-index: -1;}#sk-container-id-1 div.sk-parallel-item {display: flex;flex-direction: column;z-index: 1;position: relative;background-color: white;}#sk-container-id-1 div.sk-parallel-item:first-child::after {align-self: flex-end;width: 50%;}#sk-container-id-1 div.sk-parallel-item:last-child::after {align-self: flex-start;width: 50%;}#sk-container-id-1 div.sk-parallel-item:only-child::after {width: 0;}#sk-container-id-1 div.sk-dashed-wrapped {border: 1px dashed gray;margin: 0 0.4em 0.5em 0.4em;box-sizing: border-box;padding-bottom: 0.4em;background-color: white;}#sk-container-id-1 div.sk-label label {font-family: monospace;font-weight: bold;display: inline-block;line-height: 1.2em;}#sk-container-id-1 div.sk-label-container {text-align: center;}#sk-container-id-1 div.sk-container {/* jupyter's `normalize.less` sets `[hidden] { display: none; }` but bootstrap.min.css set `[hidden] { display: none !important; }` so we also need the `!important` here to be able to override the default hidden behavior on the sphinx rendered scikit-learn.org. See: https://github.com/scikit-learn/scikit-learn/issues/21755 */display: inline-block !important;position: relative;}#sk-container-id-1 div.sk-text-repr-fallback {display: none;}</style><div id=\"sk-container-id-1\" class=\"sk-top-container\"><div class=\"sk-text-repr-fallback\"><pre>LogisticRegression(max_iter=30, penalty=&#x27;l1&#x27;, solver=&#x27;liblinear&#x27;)</pre><b>In a Jupyter environment, please rerun this cell to show the HTML representation or trust the notebook. <br />On GitHub, the HTML representation is unable to render, please try loading this page with nbviewer.org.</b></div><div class=\"sk-container\" hidden><div class=\"sk-item\"><div class=\"sk-estimator sk-toggleable\"><input class=\"sk-toggleable__control sk-hidden--visually\" id=\"sk-estimator-id-1\" type=\"checkbox\" checked><label for=\"sk-estimator-id-1\" class=\"sk-toggleable__label sk-toggleable__label-arrow\">LogisticRegression</label><div class=\"sk-toggleable__content\"><pre>LogisticRegression(max_iter=30, penalty=&#x27;l1&#x27;, solver=&#x27;liblinear&#x27;)</pre></div></div></div></div></div>"
      ],
      "text/plain": [
       "LogisticRegression(max_iter=30, penalty='l1', solver='liblinear')"
      ]
     },
     "execution_count": 120,
     "metadata": {},
     "output_type": "execute_result"
    }
   ],
   "source": [
    "logreg = LogisticRegression(solver='liblinear',max_iter=30,penalty='l1')\n",
    "logreg.fit(X_train, y_train)\n",
    "# Changed max_iter to 200 , default 100 was not enough"
   ]
  },
  {
   "cell_type": "code",
   "execution_count": 121,
   "id": "36eab918-bedd-49bc-9cd9-a349decfa16a",
   "metadata": {},
   "outputs": [],
   "source": [
    "from sklearn.metrics import classification_report, accuracy_score, precision_score, recall_score"
   ]
  },
  {
   "cell_type": "code",
   "execution_count": 122,
   "id": "35996c02-8ce3-4654-b0bf-0cae07e57b60",
   "metadata": {},
   "outputs": [],
   "source": [
    "y_pred = logreg.predict(X_test)"
   ]
  },
  {
   "cell_type": "code",
   "execution_count": 123,
   "id": "c01e8182-e700-402f-9fd7-c7d91d8c5e3c",
   "metadata": {},
   "outputs": [
    {
     "data": {
      "text/plain": [
       "0.6415094339622641"
      ]
     },
     "execution_count": 123,
     "metadata": {},
     "output_type": "execute_result"
    }
   ],
   "source": [
    "accuracy_score(y_test,y_pred)"
   ]
  },
  {
   "cell_type": "code",
   "execution_count": 124,
   "id": "c18360e0-9e1c-404d-a149-e54e7d6aea38",
   "metadata": {},
   "outputs": [
    {
     "data": {
      "text/plain": [
       "0.7307692307692307"
      ]
     },
     "execution_count": 124,
     "metadata": {},
     "output_type": "execute_result"
    }
   ],
   "source": [
    "precision_score(y_test,y_pred)"
   ]
  },
  {
   "cell_type": "code",
   "execution_count": 125,
   "id": "a95606ed-07f8-42c3-aa71-35419a5d171a",
   "metadata": {},
   "outputs": [
    {
     "data": {
      "text/plain": [
       "0.6129032258064516"
      ]
     },
     "execution_count": 125,
     "metadata": {},
     "output_type": "execute_result"
    }
   ],
   "source": [
    "recall_score(y_test,y_pred)"
   ]
  },
  {
   "cell_type": "code",
   "execution_count": 126,
   "id": "ae53143b-dd61-43cd-ada8-6944db1ebfc9",
   "metadata": {},
   "outputs": [],
   "source": [
    "yyy=logreg.predict(X_train)"
   ]
  },
  {
   "cell_type": "code",
   "execution_count": 127,
   "id": "96fe6065-3502-4d1e-93ee-c1a07028140c",
   "metadata": {},
   "outputs": [
    {
     "data": {
      "text/plain": [
       "0.8765505020673361"
      ]
     },
     "execution_count": 127,
     "metadata": {},
     "output_type": "execute_result"
    }
   ],
   "source": [
    "accuracy_score(y_train,yyy)"
   ]
  },
  {
   "cell_type": "code",
   "execution_count": 128,
   "id": "62d3a7d0-fd3a-4b3f-8b51-1cff5ad18a97",
   "metadata": {},
   "outputs": [],
   "source": [
    "# LSTM "
   ]
  },
  {
   "cell_type": "code",
   "execution_count": 129,
   "id": "0ead6bb9-174b-4b6f-9a39-bd751bd20164",
   "metadata": {},
   "outputs": [],
   "source": [
    "# import tensorflow as tf\n",
    "# from tensorflow.keras.models import Sequential\n",
    "# from tensorflow.keras.layers import LSTM, Dense , Input\n",
    "# from tensorflow.keras.optimizers import Adam"
   ]
  },
  {
   "cell_type": "code",
   "execution_count": 130,
   "id": "d45a5abf-9554-4c46-a8e5-0212d65e7156",
   "metadata": {},
   "outputs": [
    {
     "data": {
      "text/plain": [
       "1746"
      ]
     },
     "execution_count": 130,
     "metadata": {},
     "output_type": "execute_result"
    }
   ],
   "source": [
    "len(bow_array_pca)"
   ]
  },
  {
   "cell_type": "code",
   "execution_count": 131,
   "id": "28155981-57c6-4205-9747-c9973a544018",
   "metadata": {},
   "outputs": [
    {
     "data": {
      "text/plain": [
       "622"
      ]
     },
     "execution_count": 131,
     "metadata": {},
     "output_type": "execute_result"
    }
   ],
   "source": [
    "len(bow_array_pca[0])"
   ]
  },
  {
   "cell_type": "code",
   "execution_count": 132,
   "id": "dc075ac6-b6b2-49ed-8eb6-7d290666e5fe",
   "metadata": {},
   "outputs": [
    {
     "data": {
      "text/plain": [
       "1693"
      ]
     },
     "execution_count": 132,
     "metadata": {},
     "output_type": "execute_result"
    }
   ],
   "source": [
    "len(X_train)"
   ]
  },
  {
   "cell_type": "code",
   "execution_count": 133,
   "id": "2b244deb-7542-4ae3-bccc-e45fb1c954b7",
   "metadata": {},
   "outputs": [
    {
     "data": {
      "text/plain": [
       "622"
      ]
     },
     "execution_count": 133,
     "metadata": {},
     "output_type": "execute_result"
    }
   ],
   "source": [
    "len(X_train[0])"
   ]
  },
  {
   "cell_type": "code",
   "execution_count": 134,
   "id": "d08fe5fb-c019-4960-b81a-09861cddf325",
   "metadata": {},
   "outputs": [
    {
     "data": {
      "text/plain": [
       "numpy.ndarray"
      ]
     },
     "execution_count": 134,
     "metadata": {},
     "output_type": "execute_result"
    }
   ],
   "source": [
    "type(X_train)"
   ]
  },
  {
   "cell_type": "code",
   "execution_count": 135,
   "id": "af50458f-12b2-4b37-9c18-493cd7ae8770",
   "metadata": {},
   "outputs": [
    {
     "data": {
      "text/plain": [
       "(1693, 622)"
      ]
     },
     "execution_count": 135,
     "metadata": {},
     "output_type": "execute_result"
    }
   ],
   "source": [
    "X_train.shape"
   ]
  },
  {
   "cell_type": "code",
   "execution_count": 136,
   "id": "b160cd3d-9d3b-44bb-a4ad-055aade0f40c",
   "metadata": {},
   "outputs": [],
   "source": [
    "# from tensorflow.keras.layers import Reshape\n",
    "\n",
    "# # Reshape the input data to include a dimension for timesteps\n",
    "# model = Sequential()\n",
    "# model.add(Input(shape=(622,)))  # Input shape: (622,)\n",
    "# model.add(Reshape((1, 622)))  # Reshape to (batch_size, timesteps, input_dim)\n",
    "# model.add(LSTM(100, return_sequences=True))\n",
    "# model.add(LSTM(50))\n",
    "# model.add(Dense(1, activation='sigmoid'))  # Assuming binary classification\n",
    "\n",
    "# # Compile the model\n",
    "# optimizer = Adam(learning_rate=0.001)\n",
    "# model.compile(optimizer=optimizer, loss='binary_crossentropy', metrics=['accuracy'])\n"
   ]
  },
  {
   "cell_type": "code",
   "execution_count": 137,
   "id": "cac4df5a-3d37-47c7-afba-ebc18a0d4b44",
   "metadata": {
    "scrolled": true
   },
   "outputs": [],
   "source": [
    "# model.fit(X_train, y_train, epochs=30, batch_size=8, validation_split=0.2)"
   ]
  },
  {
   "cell_type": "code",
   "execution_count": 138,
   "id": "6ab492fc-a82d-43bd-9fe6-92c09450473c",
   "metadata": {},
   "outputs": [],
   "source": [
    "# y_pred=model.predict(X_test)"
   ]
  },
  {
   "cell_type": "code",
   "execution_count": 139,
   "id": "04295bdb-df94-4681-a6b5-dd5ebd1feb17",
   "metadata": {},
   "outputs": [],
   "source": [
    "# threshold = 0.5\n",
    "# y_pred = (y_pred > threshold).astype(int)"
   ]
  },
  {
   "cell_type": "code",
   "execution_count": 140,
   "id": "7ec12e8f-d37b-4574-b05c-34b8ddc0c804",
   "metadata": {
    "scrolled": true
   },
   "outputs": [],
   "source": [
    "# y_pred"
   ]
  },
  {
   "cell_type": "code",
   "execution_count": 141,
   "id": "f4c6b932-1684-4228-aec6-a7b8f3511959",
   "metadata": {},
   "outputs": [],
   "source": [
    "# accuracy_score(y_test,y_pred)"
   ]
  },
  {
   "cell_type": "code",
   "execution_count": 142,
   "id": "f45c36c9-9e6a-4dc3-b78e-651e23993ead",
   "metadata": {},
   "outputs": [],
   "source": [
    "# precision_score(y_test,y_pred)"
   ]
  },
  {
   "cell_type": "code",
   "execution_count": 143,
   "id": "d52b40a6-b10c-4f32-810b-724535b94412",
   "metadata": {},
   "outputs": [],
   "source": [
    "# recall_score(y_test,y_pred)"
   ]
  },
  {
   "cell_type": "code",
   "execution_count": 144,
   "id": "8dbd1396-6245-4459-8bf1-c0da9b127839",
   "metadata": {},
   "outputs": [],
   "source": [
    "# yyy=model.predict(X_train)"
   ]
  },
  {
   "cell_type": "code",
   "execution_count": 145,
   "id": "b0a9aa18-9297-4c0d-8ff8-45a227222414",
   "metadata": {},
   "outputs": [],
   "source": [
    "# threshold = 0.5\n",
    "# yyy = (yyy > threshold).astype(int)"
   ]
  },
  {
   "cell_type": "code",
   "execution_count": 146,
   "id": "fc4560d6-52cd-4927-b568-02d4f8f1c854",
   "metadata": {},
   "outputs": [],
   "source": [
    "# accuracy_score(y_train,yyy)"
   ]
  },
  {
   "cell_type": "code",
   "execution_count": 147,
   "id": "bb436d3c-4674-41b7-9fbd-cf3f3b325a9c",
   "metadata": {},
   "outputs": [],
   "source": [
    "# GRU"
   ]
  },
  {
   "cell_type": "code",
   "execution_count": 148,
   "id": "dc230341-641b-42a1-9d18-5a02fa04343b",
   "metadata": {},
   "outputs": [],
   "source": [
    "# from tensorflow.keras.layers import GRU, Dense"
   ]
  },
  {
   "cell_type": "code",
   "execution_count": 149,
   "id": "16c81d97-233f-4c34-b399-d580f38a4f06",
   "metadata": {},
   "outputs": [],
   "source": [
    "# optimizer = Adam(learning_rate=0.001)\n",
    "# batch_size = 8\n",
    "# epochs = 30"
   ]
  },
  {
   "cell_type": "code",
   "execution_count": 150,
   "id": "320d0d66-bc78-4b04-96a6-c9d8fc880d94",
   "metadata": {},
   "outputs": [],
   "source": [
    "# len(X_train[0])"
   ]
  },
  {
   "cell_type": "code",
   "execution_count": 151,
   "id": "ac1901a5-eb11-4ae0-bc98-2ea5349539ec",
   "metadata": {},
   "outputs": [],
   "source": [
    "\n",
    "# # Reshape training set: (1693, 622) -> (1693, 1, 622)\n",
    "# X_train_reshaped = np.reshape(X_train, (X_train.shape[0], 1, X_train.shape[1]))\n",
    "\n",
    "# # Reshape test set: (53, 622) -> (53, 1, 622)\n",
    "# X_test_reshaped = np.reshape(X_test, (X_test.shape[0], 1, X_test.shape[1]))\n"
   ]
  },
  {
   "cell_type": "code",
   "execution_count": 152,
   "id": "bf0faff1-4899-4c09-8381-d38c39098f31",
   "metadata": {},
   "outputs": [],
   "source": [
    "# model_gru_2hidden = Sequential()\n",
    "# model_gru_2hidden.add(Input(shape=(X_train_reshaped.shape[1], X_train_reshaped.shape[2])))\n",
    "# model_gru_2hidden.add(GRU(units=100, return_sequences=True))\n",
    "# model_gru_2hidden.add(GRU(units=50))\n",
    "# model_gru_2hidden.add(Dense(units=1, activation='sigmoid'))  # Assuming binary classification\n",
    "\n",
    "# # Compile the model\n",
    "# optimizer = Adam(learning_rate=0.001)\n",
    "# model_gru_2hidden.compile(optimizer=optimizer, loss='binary_crossentropy', metrics=['accuracy'])\n",
    "\n"
   ]
  },
  {
   "cell_type": "code",
   "execution_count": 153,
   "id": "ac8ec6b1-84f0-4d5b-b99c-d049ff06964e",
   "metadata": {
    "scrolled": true
   },
   "outputs": [],
   "source": [
    "# # Train the model\n",
    "\n",
    "# model_gru_2hidden.fit(X_train_reshaped, y_train, batch_size=batch_size, epochs=epochs, validation_split=0.2)\n"
   ]
  },
  {
   "cell_type": "code",
   "execution_count": 154,
   "id": "fc1509ac-1f82-48a3-b7d4-120d1493fae1",
   "metadata": {},
   "outputs": [],
   "source": [
    "# (X_test_reshaped)"
   ]
  },
  {
   "cell_type": "code",
   "execution_count": 155,
   "id": "8585a3d2-8cb9-4ff1-bb9c-ae1d4d6d9ffd",
   "metadata": {},
   "outputs": [],
   "source": [
    "# y_pred=model_gru_2hidden.predict(X_test_reshaped)"
   ]
  },
  {
   "cell_type": "code",
   "execution_count": 156,
   "id": "cd5553ee-13da-4988-b781-818842ad9978",
   "metadata": {},
   "outputs": [],
   "source": [
    "# threshold = 0.5\n",
    "# y_pred = (y_pred > threshold).astype(int)"
   ]
  },
  {
   "cell_type": "code",
   "execution_count": 157,
   "id": "c60374d3-a4fa-460c-b644-03d034f48817",
   "metadata": {
    "scrolled": true
   },
   "outputs": [],
   "source": [
    "# y_pred"
   ]
  },
  {
   "cell_type": "code",
   "execution_count": 158,
   "id": "304e5795-f908-4872-b51d-9acc115a6324",
   "metadata": {},
   "outputs": [],
   "source": [
    "# accuracy_score(y_test,y_pred)"
   ]
  },
  {
   "cell_type": "code",
   "execution_count": 159,
   "id": "0da37e8f-3d73-4c84-bb2f-a99de7c0ed7d",
   "metadata": {},
   "outputs": [],
   "source": [
    "# precision_score(y_test,y_pred)"
   ]
  },
  {
   "cell_type": "code",
   "execution_count": 160,
   "id": "0d6986fe-56bd-40bc-9641-61051aff09f4",
   "metadata": {},
   "outputs": [],
   "source": [
    "# recall_score(y_test,y_pred)"
   ]
  },
  {
   "cell_type": "code",
   "execution_count": 161,
   "id": "3d7fa08d-aa11-4f37-af78-5c69a84be8a1",
   "metadata": {},
   "outputs": [],
   "source": [
    "# yyy=model_gru_2hidden.predict(X_train_reshaped)"
   ]
  },
  {
   "cell_type": "code",
   "execution_count": 162,
   "id": "fe939c34-b03e-49b4-8079-a9ac494d2272",
   "metadata": {},
   "outputs": [],
   "source": [
    "# threshold = 0.5\n",
    "# yyy = (yyy > threshold).astype(int)"
   ]
  },
  {
   "cell_type": "code",
   "execution_count": 163,
   "id": "d42eb2bf-eb24-480d-9394-9cbcb72745be",
   "metadata": {},
   "outputs": [],
   "source": [
    "# accuracy_score(y_train,yyy)"
   ]
  },
  {
   "cell_type": "markdown",
   "id": "925eb2fb-0494-4297-9b94-92e605a3946d",
   "metadata": {},
   "source": [
    "## Model on pretrained Word2VEc"
   ]
  },
  {
   "cell_type": "code",
   "execution_count": 164,
   "id": "2a9c8eb5-85e7-4691-b5a2-e305976c8f22",
   "metadata": {},
   "outputs": [],
   "source": [
    "# LR 0.62\n",
    "# NB 0.47\n",
    "# SVM linear 0.68\n",
    "# DT 0.39\n",
    "# RF 0.43\n",
    "# LSTM 0.43\n",
    "#GRU 0.50"
   ]
  },
  {
   "cell_type": "code",
   "execution_count": 165,
   "id": "2c1afd86-e0a8-4b7c-a74d-62aa9b2f47fc",
   "metadata": {},
   "outputs": [],
   "source": [
    "X_test=pre_trained_word2vec[-test_size:]\n",
    "y_test=df4['Label'][-test_size:]"
   ]
  },
  {
   "cell_type": "code",
   "execution_count": 166,
   "id": "2a917137-4e92-400e-bb6c-83c12b7e6a98",
   "metadata": {},
   "outputs": [
    {
     "data": {
      "text/html": [
       "<div>\n",
       "<style scoped>\n",
       "    .dataframe tbody tr th:only-of-type {\n",
       "        vertical-align: middle;\n",
       "    }\n",
       "\n",
       "    .dataframe tbody tr th {\n",
       "        vertical-align: top;\n",
       "    }\n",
       "\n",
       "    .dataframe thead th {\n",
       "        text-align: right;\n",
       "    }\n",
       "</style>\n",
       "<table border=\"1\" class=\"dataframe\">\n",
       "  <thead>\n",
       "    <tr style=\"text-align: right;\">\n",
       "      <th></th>\n",
       "      <th>clean_title</th>\n",
       "      <th>Label</th>\n",
       "    </tr>\n",
       "  </thead>\n",
       "  <tbody>\n",
       "    <tr>\n",
       "      <th>0</th>\n",
       "      <td>[0.00953895, 0.0009532198, -0.011498066, 0.083...</td>\n",
       "      <td>1</td>\n",
       "    </tr>\n",
       "    <tr>\n",
       "      <th>1</th>\n",
       "      <td>[-0.0003925652, 0.032543052, 0.020452728, 0.06...</td>\n",
       "      <td>1</td>\n",
       "    </tr>\n",
       "    <tr>\n",
       "      <th>2</th>\n",
       "      <td>[0.016471973, 0.0005563463, -0.024610301, 0.08...</td>\n",
       "      <td>1</td>\n",
       "    </tr>\n",
       "    <tr>\n",
       "      <th>3</th>\n",
       "      <td>[-0.015810648, 0.008278012, -0.009677172, 0.08...</td>\n",
       "      <td>0</td>\n",
       "    </tr>\n",
       "    <tr>\n",
       "      <th>4</th>\n",
       "      <td>[0.013206236, 0.034184013, 0.032716233, 0.0666...</td>\n",
       "      <td>0</td>\n",
       "    </tr>\n",
       "    <tr>\n",
       "      <th>...</th>\n",
       "      <td>...</td>\n",
       "      <td>...</td>\n",
       "    </tr>\n",
       "    <tr>\n",
       "      <th>1690</th>\n",
       "      <td>[0.0035990665, -0.00943854, -0.0023566799, 0.1...</td>\n",
       "      <td>0</td>\n",
       "    </tr>\n",
       "    <tr>\n",
       "      <th>1691</th>\n",
       "      <td>[0.0057910015, -0.010157753, -0.0030250696, 0....</td>\n",
       "      <td>0</td>\n",
       "    </tr>\n",
       "    <tr>\n",
       "      <th>1692</th>\n",
       "      <td>[0.015489157, 0.02618864, 0.03529774, 0.063434...</td>\n",
       "      <td>1</td>\n",
       "    </tr>\n",
       "    <tr>\n",
       "      <th>1693</th>\n",
       "      <td>[0.019545667, 0.03352487, -0.011951564, 0.0652...</td>\n",
       "      <td>1</td>\n",
       "    </tr>\n",
       "    <tr>\n",
       "      <th>1694</th>\n",
       "      <td>[0.00814924, 0.027002072, 0.008467132, 0.11422...</td>\n",
       "      <td>1</td>\n",
       "    </tr>\n",
       "  </tbody>\n",
       "</table>\n",
       "<p>1695 rows × 2 columns</p>\n",
       "</div>"
      ],
      "text/plain": [
       "                                            clean_title  Label\n",
       "0     [0.00953895, 0.0009532198, -0.011498066, 0.083...      1\n",
       "1     [-0.0003925652, 0.032543052, 0.020452728, 0.06...      1\n",
       "2     [0.016471973, 0.0005563463, -0.024610301, 0.08...      1\n",
       "3     [-0.015810648, 0.008278012, -0.009677172, 0.08...      0\n",
       "4     [0.013206236, 0.034184013, 0.032716233, 0.0666...      0\n",
       "...                                                 ...    ...\n",
       "1690  [0.0035990665, -0.00943854, -0.0023566799, 0.1...      0\n",
       "1691  [0.0057910015, -0.010157753, -0.0030250696, 0....      0\n",
       "1692  [0.015489157, 0.02618864, 0.03529774, 0.063434...      1\n",
       "1693  [0.019545667, 0.03352487, -0.011951564, 0.0652...      1\n",
       "1694  [0.00814924, 0.027002072, 0.008467132, 0.11422...      1\n",
       "\n",
       "[1695 rows x 2 columns]"
      ]
     },
     "execution_count": 166,
     "metadata": {},
     "output_type": "execute_result"
    }
   ],
   "source": [
    "comb_train=pd.concat([pre_trained_word2vec[:-test_size],df4['Label'][:-test_size]],axis=1)\n",
    "comb_train"
   ]
  },
  {
   "cell_type": "code",
   "execution_count": 167,
   "id": "7131f2b4-92b4-41a5-9fff-64ae08568f1c",
   "metadata": {},
   "outputs": [],
   "source": [
    "shuffled_df = comb_train.sample(frac=1, random_state=42)"
   ]
  },
  {
   "cell_type": "code",
   "execution_count": 168,
   "id": "d3737f6a-fe46-4185-a2e5-c0adc37af8d6",
   "metadata": {},
   "outputs": [
    {
     "data": {
      "text/html": [
       "<div>\n",
       "<style scoped>\n",
       "    .dataframe tbody tr th:only-of-type {\n",
       "        vertical-align: middle;\n",
       "    }\n",
       "\n",
       "    .dataframe tbody tr th {\n",
       "        vertical-align: top;\n",
       "    }\n",
       "\n",
       "    .dataframe thead th {\n",
       "        text-align: right;\n",
       "    }\n",
       "</style>\n",
       "<table border=\"1\" class=\"dataframe\">\n",
       "  <thead>\n",
       "    <tr style=\"text-align: right;\">\n",
       "      <th></th>\n",
       "      <th>clean_title</th>\n",
       "      <th>Label</th>\n",
       "    </tr>\n",
       "  </thead>\n",
       "  <tbody>\n",
       "    <tr>\n",
       "      <th>931</th>\n",
       "      <td>[0.01759564, 0.042590994, 0.0029557352, 0.0623...</td>\n",
       "      <td>1</td>\n",
       "    </tr>\n",
       "    <tr>\n",
       "      <th>1398</th>\n",
       "      <td>[0.037093285, 0.028283658, -0.008905867, 0.073...</td>\n",
       "      <td>0</td>\n",
       "    </tr>\n",
       "    <tr>\n",
       "      <th>1561</th>\n",
       "      <td>[0.014046447, 0.024543878, -0.016828403, 0.064...</td>\n",
       "      <td>0</td>\n",
       "    </tr>\n",
       "    <tr>\n",
       "      <th>1006</th>\n",
       "      <td>[0.028023219, 0.016265105, -0.029059255, 0.081...</td>\n",
       "      <td>1</td>\n",
       "    </tr>\n",
       "    <tr>\n",
       "      <th>506</th>\n",
       "      <td>[0.025667364, 0.0026389034, -0.040504977, 0.09...</td>\n",
       "      <td>0</td>\n",
       "    </tr>\n",
       "    <tr>\n",
       "      <th>...</th>\n",
       "      <td>...</td>\n",
       "      <td>...</td>\n",
       "    </tr>\n",
       "    <tr>\n",
       "      <th>1130</th>\n",
       "      <td>[0.024268547, 0.0015622256, -0.007930263, 0.08...</td>\n",
       "      <td>1</td>\n",
       "    </tr>\n",
       "    <tr>\n",
       "      <th>1294</th>\n",
       "      <td>[0.029942995, 0.010589203, 0.0030866351, 0.084...</td>\n",
       "      <td>0</td>\n",
       "    </tr>\n",
       "    <tr>\n",
       "      <th>860</th>\n",
       "      <td>[-0.0085476255, 0.018998034, -0.002109948, 0.0...</td>\n",
       "      <td>1</td>\n",
       "    </tr>\n",
       "    <tr>\n",
       "      <th>1459</th>\n",
       "      <td>[0.0042967224, -0.0075990804, -0.0132278185, 0...</td>\n",
       "      <td>1</td>\n",
       "    </tr>\n",
       "    <tr>\n",
       "      <th>1126</th>\n",
       "      <td>[-0.0021136715, 0.012242269, -0.007951846, 0.0...</td>\n",
       "      <td>0</td>\n",
       "    </tr>\n",
       "  </tbody>\n",
       "</table>\n",
       "<p>1695 rows × 2 columns</p>\n",
       "</div>"
      ],
      "text/plain": [
       "                                            clean_title  Label\n",
       "931   [0.01759564, 0.042590994, 0.0029557352, 0.0623...      1\n",
       "1398  [0.037093285, 0.028283658, -0.008905867, 0.073...      0\n",
       "1561  [0.014046447, 0.024543878, -0.016828403, 0.064...      0\n",
       "1006  [0.028023219, 0.016265105, -0.029059255, 0.081...      1\n",
       "506   [0.025667364, 0.0026389034, -0.040504977, 0.09...      0\n",
       "...                                                 ...    ...\n",
       "1130  [0.024268547, 0.0015622256, -0.007930263, 0.08...      1\n",
       "1294  [0.029942995, 0.010589203, 0.0030866351, 0.084...      0\n",
       "860   [-0.0085476255, 0.018998034, -0.002109948, 0.0...      1\n",
       "1459  [0.0042967224, -0.0075990804, -0.0132278185, 0...      1\n",
       "1126  [-0.0021136715, 0.012242269, -0.007951846, 0.0...      0\n",
       "\n",
       "[1695 rows x 2 columns]"
      ]
     },
     "execution_count": 168,
     "metadata": {},
     "output_type": "execute_result"
    }
   ],
   "source": [
    "shuffled_df"
   ]
  },
  {
   "cell_type": "code",
   "execution_count": 169,
   "id": "368dc551-6832-425c-9ec8-19224fe2a3a0",
   "metadata": {},
   "outputs": [],
   "source": [
    "X_train=shuffled_df['clean_title']\n",
    "y_train=shuffled_df['Label']"
   ]
  },
  {
   "cell_type": "code",
   "execution_count": 170,
   "id": "70fcaaa3-4b74-4645-ab8a-8e307e5685bd",
   "metadata": {},
   "outputs": [
    {
     "data": {
      "text/plain": [
       "dtype('float64')"
      ]
     },
     "execution_count": 170,
     "metadata": {},
     "output_type": "execute_result"
    }
   ],
   "source": [
    "bow_array_pca.dtype"
   ]
  },
  {
   "cell_type": "code",
   "execution_count": 171,
   "id": "48c80f2f-0919-4824-a167-9136867e8ae3",
   "metadata": {},
   "outputs": [
    {
     "data": {
      "text/plain": [
       "931     [0.01759564, 0.042590994, 0.0029557352, 0.0623...\n",
       "1398    [0.037093285, 0.028283658, -0.008905867, 0.073...\n",
       "1561    [0.014046447, 0.024543878, -0.016828403, 0.064...\n",
       "1006    [0.028023219, 0.016265105, -0.029059255, 0.081...\n",
       "506     [0.025667364, 0.0026389034, -0.040504977, 0.09...\n",
       "                              ...                        \n",
       "1130    [0.024268547, 0.0015622256, -0.007930263, 0.08...\n",
       "1294    [0.029942995, 0.010589203, 0.0030866351, 0.084...\n",
       "860     [-0.0085476255, 0.018998034, -0.002109948, 0.0...\n",
       "1459    [0.0042967224, -0.0075990804, -0.0132278185, 0...\n",
       "1126    [-0.0021136715, 0.012242269, -0.007951846, 0.0...\n",
       "Name: clean_title, Length: 1695, dtype: object"
      ]
     },
     "execution_count": 171,
     "metadata": {},
     "output_type": "execute_result"
    }
   ],
   "source": [
    "X_train"
   ]
  },
  {
   "cell_type": "code",
   "execution_count": 172,
   "id": "a687df1b-a54e-44a7-9016-308d9d6e7946",
   "metadata": {
    "scrolled": true
   },
   "outputs": [
    {
     "data": {
      "text/plain": [
       "1695    [0.0395968, 0.006833031, 0.02979206, 0.0661980...\n",
       "1696    [-0.046929847, 0.019781286, 0.033206835, 0.034...\n",
       "1697    [-0.010227203, 0.015324116, -0.03001523, 0.062...\n",
       "1698    [0.03173436, 0.03086003, -0.025545392, 0.08155...\n",
       "1699    [0.016684579, 0.013998957, -0.033993144, 0.077...\n",
       "1700    [0.030827412, 0.03408394, 0.017991582, 0.07236...\n",
       "1701    [0.000238234, -0.030210925, -0.001413653, 0.05...\n",
       "1702    [0.006989282, 0.024664508, 0.029816903, 0.0595...\n",
       "1703    [0.04539985, 0.014858427, -0.0127836745, 0.085...\n",
       "1704    [0.026466815, 0.012575687, -0.021656517, 0.091...\n",
       "1705    [0.013741349, 0.053104516, 0.02131647, 0.06223...\n",
       "1706    [0.01728241, -0.0012255097, -0.0027375603, 0.0...\n",
       "1707    [0.00061194104, 0.02229309, 0.022024129, 0.064...\n",
       "1708    [-0.00081800064, -0.021912124, -0.0057351636, ...\n",
       "1709    [0.01758284, 0.0040020053, -0.01934619, 0.0681...\n",
       "1710    [-0.01781486, 0.01153008, -0.014107738, 0.0948...\n",
       "1711    [-0.0048423903, 0.015892163, 0.05403569, 0.060...\n",
       "1712    [0.01711046, 0.005616756, -0.012433498, 0.0993...\n",
       "1713    [-0.006228177, -0.012517678, 0.01675773, 0.086...\n",
       "1714    [-0.002443487, 0.032193888, 0.016782627, 0.089...\n",
       "1715    [-0.0028281035, 0.003929138, -0.0029345264, 0....\n",
       "1716    [-0.03365355, 0.05498891, -0.010540539, 0.0843...\n",
       "1717    [0.010564757, 0.007880597, -0.024921598, 0.111...\n",
       "1718    [0.02239431, 0.03385436, 0.01117319, 0.0573450...\n",
       "1719    [0.01599916, 0.022961657, -0.03368684, 0.08237...\n",
       "1720    [-0.0068929084, 0.0053213243, -0.024994252, 0....\n",
       "1721    [0.0075661154, 0.047676407, 0.02127104, 0.0616...\n",
       "1722    [0.0056601968, 0.030683689, 0.009196853, 0.065...\n",
       "1723    [0.002759102, -0.0060238633, 0.0017183744, 0.0...\n",
       "1724    [0.034666553, 0.003690228, -0.001754918, 0.096...\n",
       "1725    [0.03646925, 0.0030100753, -0.041104294, 0.064...\n",
       "1726    [0.004890717, 0.019510377, 0.013649813, 0.0573...\n",
       "1727    [0.036524463, 0.01539694, -0.018214872, 0.0680...\n",
       "1728    [0.041578997, 0.040169798, 0.026184384, 0.0350...\n",
       "1729    [0.011837053, 0.006851385, 0.010176577, 0.0799...\n",
       "1730    [0.036928, -0.005070426, -0.018254995, 0.09443...\n",
       "1731    [0.0023267793, 0.007720389, -0.017951034, 0.07...\n",
       "1732    [0.0044863205, 0.022178236, -0.03275194, 0.054...\n",
       "1733    [0.012275127, 0.04257134, -0.005662662, 0.0793...\n",
       "1734    [0.009434124, 0.03145631, -0.034508634, 0.0784...\n",
       "1735    [0.00088713143, 0.04784299, 0.005829672, 0.059...\n",
       "1736    [-0.013596917, 0.0053011575, -0.0025865077, 0....\n",
       "1737    [0.021690655, 0.0025432587, -0.012776184, 0.10...\n",
       "1738    [-0.010651906, 0.030238329, 0.036651663, 0.058...\n",
       "1739    [-0.008349977, 0.012100571, -0.0023768852, 0.0...\n",
       "1740    [0.0064368183, 0.042996418, 0.0070157875, 0.05...\n",
       "1741    [0.015834594, 0.030510034, 0.006982439, 0.0995...\n",
       "1742    [0.011908263, 0.020769238, -0.031156182, 0.099...\n",
       "1743    [0.012385833, 0.020524636, -0.014020858, 0.091...\n",
       "1744    [0.008278037, 0.002114206, -0.003083715, 0.082...\n",
       "1745    [0.021268114, 0.0144314235, 0.038091447, 0.066...\n",
       "Name: clean_title, dtype: object"
      ]
     },
     "execution_count": 172,
     "metadata": {},
     "output_type": "execute_result"
    }
   ],
   "source": [
    "X_test"
   ]
  },
  {
   "cell_type": "code",
   "execution_count": 173,
   "id": "3e6f9921-372d-4502-9c39-4585b90dcb7a",
   "metadata": {},
   "outputs": [],
   "source": [
    "# Converted the above data to list so that it can scale it and fit it to LR"
   ]
  },
  {
   "cell_type": "code",
   "execution_count": 174,
   "id": "ccba2716-a094-46f6-b2a8-596fe862d5de",
   "metadata": {},
   "outputs": [],
   "source": [
    "from sklearn.preprocessing import StandardScaler"
   ]
  },
  {
   "cell_type": "code",
   "execution_count": 175,
   "id": "19a0256f-1f71-4c54-8add-2728d1c06fe4",
   "metadata": {},
   "outputs": [],
   "source": [
    "X_train=scaler.fit_transform(X_train.to_list())\n",
    "X_test=scaler.transform(X_test.to_list())"
   ]
  },
  {
   "cell_type": "code",
   "execution_count": 176,
   "id": "3ad87670-011b-4b24-a79e-8a347a786d1a",
   "metadata": {},
   "outputs": [
    {
     "data": {
      "text/html": [
       "<style>#sk-container-id-2 {color: black;background-color: white;}#sk-container-id-2 pre{padding: 0;}#sk-container-id-2 div.sk-toggleable {background-color: white;}#sk-container-id-2 label.sk-toggleable__label {cursor: pointer;display: block;width: 100%;margin-bottom: 0;padding: 0.3em;box-sizing: border-box;text-align: center;}#sk-container-id-2 label.sk-toggleable__label-arrow:before {content: \"▸\";float: left;margin-right: 0.25em;color: #696969;}#sk-container-id-2 label.sk-toggleable__label-arrow:hover:before {color: black;}#sk-container-id-2 div.sk-estimator:hover label.sk-toggleable__label-arrow:before {color: black;}#sk-container-id-2 div.sk-toggleable__content {max-height: 0;max-width: 0;overflow: hidden;text-align: left;background-color: #f0f8ff;}#sk-container-id-2 div.sk-toggleable__content pre {margin: 0.2em;color: black;border-radius: 0.25em;background-color: #f0f8ff;}#sk-container-id-2 input.sk-toggleable__control:checked~div.sk-toggleable__content {max-height: 200px;max-width: 100%;overflow: auto;}#sk-container-id-2 input.sk-toggleable__control:checked~label.sk-toggleable__label-arrow:before {content: \"▾\";}#sk-container-id-2 div.sk-estimator input.sk-toggleable__control:checked~label.sk-toggleable__label {background-color: #d4ebff;}#sk-container-id-2 div.sk-label input.sk-toggleable__control:checked~label.sk-toggleable__label {background-color: #d4ebff;}#sk-container-id-2 input.sk-hidden--visually {border: 0;clip: rect(1px 1px 1px 1px);clip: rect(1px, 1px, 1px, 1px);height: 1px;margin: -1px;overflow: hidden;padding: 0;position: absolute;width: 1px;}#sk-container-id-2 div.sk-estimator {font-family: monospace;background-color: #f0f8ff;border: 1px dotted black;border-radius: 0.25em;box-sizing: border-box;margin-bottom: 0.5em;}#sk-container-id-2 div.sk-estimator:hover {background-color: #d4ebff;}#sk-container-id-2 div.sk-parallel-item::after {content: \"\";width: 100%;border-bottom: 1px solid gray;flex-grow: 1;}#sk-container-id-2 div.sk-label:hover label.sk-toggleable__label {background-color: #d4ebff;}#sk-container-id-2 div.sk-serial::before {content: \"\";position: absolute;border-left: 1px solid gray;box-sizing: border-box;top: 0;bottom: 0;left: 50%;z-index: 0;}#sk-container-id-2 div.sk-serial {display: flex;flex-direction: column;align-items: center;background-color: white;padding-right: 0.2em;padding-left: 0.2em;position: relative;}#sk-container-id-2 div.sk-item {position: relative;z-index: 1;}#sk-container-id-2 div.sk-parallel {display: flex;align-items: stretch;justify-content: center;background-color: white;position: relative;}#sk-container-id-2 div.sk-item::before, #sk-container-id-2 div.sk-parallel-item::before {content: \"\";position: absolute;border-left: 1px solid gray;box-sizing: border-box;top: 0;bottom: 0;left: 50%;z-index: -1;}#sk-container-id-2 div.sk-parallel-item {display: flex;flex-direction: column;z-index: 1;position: relative;background-color: white;}#sk-container-id-2 div.sk-parallel-item:first-child::after {align-self: flex-end;width: 50%;}#sk-container-id-2 div.sk-parallel-item:last-child::after {align-self: flex-start;width: 50%;}#sk-container-id-2 div.sk-parallel-item:only-child::after {width: 0;}#sk-container-id-2 div.sk-dashed-wrapped {border: 1px dashed gray;margin: 0 0.4em 0.5em 0.4em;box-sizing: border-box;padding-bottom: 0.4em;background-color: white;}#sk-container-id-2 div.sk-label label {font-family: monospace;font-weight: bold;display: inline-block;line-height: 1.2em;}#sk-container-id-2 div.sk-label-container {text-align: center;}#sk-container-id-2 div.sk-container {/* jupyter's `normalize.less` sets `[hidden] { display: none; }` but bootstrap.min.css set `[hidden] { display: none !important; }` so we also need the `!important` here to be able to override the default hidden behavior on the sphinx rendered scikit-learn.org. See: https://github.com/scikit-learn/scikit-learn/issues/21755 */display: inline-block !important;position: relative;}#sk-container-id-2 div.sk-text-repr-fallback {display: none;}</style><div id=\"sk-container-id-2\" class=\"sk-top-container\"><div class=\"sk-text-repr-fallback\"><pre>LogisticRegression(max_iter=30, penalty=&#x27;l1&#x27;, solver=&#x27;liblinear&#x27;)</pre><b>In a Jupyter environment, please rerun this cell to show the HTML representation or trust the notebook. <br />On GitHub, the HTML representation is unable to render, please try loading this page with nbviewer.org.</b></div><div class=\"sk-container\" hidden><div class=\"sk-item\"><div class=\"sk-estimator sk-toggleable\"><input class=\"sk-toggleable__control sk-hidden--visually\" id=\"sk-estimator-id-2\" type=\"checkbox\" checked><label for=\"sk-estimator-id-2\" class=\"sk-toggleable__label sk-toggleable__label-arrow\">LogisticRegression</label><div class=\"sk-toggleable__content\"><pre>LogisticRegression(max_iter=30, penalty=&#x27;l1&#x27;, solver=&#x27;liblinear&#x27;)</pre></div></div></div></div></div>"
      ],
      "text/plain": [
       "LogisticRegression(max_iter=30, penalty='l1', solver='liblinear')"
      ]
     },
     "execution_count": 176,
     "metadata": {},
     "output_type": "execute_result"
    }
   ],
   "source": [
    "logreg = LogisticRegression(solver='liblinear',max_iter=30,penalty='l1')\n",
    "logreg.fit(X_train, y_train)"
   ]
  },
  {
   "cell_type": "code",
   "execution_count": 177,
   "id": "408fd7d8-fe31-4744-af07-537b4d27483a",
   "metadata": {},
   "outputs": [],
   "source": [
    "y_pred = logreg.predict(X_test)"
   ]
  },
  {
   "cell_type": "code",
   "execution_count": 178,
   "id": "c41ca537-623e-4225-b617-db9a8dc09193",
   "metadata": {},
   "outputs": [
    {
     "data": {
      "text/plain": [
       "0.6274509803921569"
      ]
     },
     "execution_count": 178,
     "metadata": {},
     "output_type": "execute_result"
    }
   ],
   "source": [
    "accuracy_score(y_test,y_pred)"
   ]
  },
  {
   "cell_type": "code",
   "execution_count": 179,
   "id": "3e63a03e-c0f8-4cc0-a510-f679684af3f8",
   "metadata": {},
   "outputs": [
    {
     "data": {
      "text/plain": [
       "0.6"
      ]
     },
     "execution_count": 179,
     "metadata": {},
     "output_type": "execute_result"
    }
   ],
   "source": [
    "precision_score(y_test,y_pred)"
   ]
  },
  {
   "cell_type": "code",
   "execution_count": 180,
   "id": "b4c3ea8c-518f-4753-954a-33348c92df75",
   "metadata": {},
   "outputs": [
    {
     "data": {
      "text/plain": [
       "0.5217391304347826"
      ]
     },
     "execution_count": 180,
     "metadata": {},
     "output_type": "execute_result"
    }
   ],
   "source": [
    "recall_score(y_test,y_pred)"
   ]
  },
  {
   "cell_type": "code",
   "execution_count": 181,
   "id": "9eb8b47d-7e3c-41c1-a8b9-4d91441f2203",
   "metadata": {},
   "outputs": [],
   "source": [
    "yyy=logreg.predict(X_train)"
   ]
  },
  {
   "cell_type": "code",
   "execution_count": 182,
   "id": "50df9b15-03c9-455e-b7f5-f843df9457ba",
   "metadata": {},
   "outputs": [
    {
     "data": {
      "text/plain": [
       "0.7262536873156342"
      ]
     },
     "execution_count": 182,
     "metadata": {},
     "output_type": "execute_result"
    }
   ],
   "source": [
    "accuracy_score(y_train,yyy)"
   ]
  },
  {
   "cell_type": "code",
   "execution_count": 183,
   "id": "dff07f9a-d46c-4590-8729-0b1a2dc9d378",
   "metadata": {},
   "outputs": [],
   "source": [
    "# NB"
   ]
  },
  {
   "cell_type": "code",
   "execution_count": 184,
   "id": "727eba8d-11e3-4866-a3d2-d678d8d185d1",
   "metadata": {},
   "outputs": [],
   "source": [
    "from sklearn.naive_bayes import GaussianNB"
   ]
  },
  {
   "cell_type": "code",
   "execution_count": 185,
   "id": "8983339e-823d-4e82-9cab-ed2ae28f302b",
   "metadata": {},
   "outputs": [
    {
     "data": {
      "text/html": [
       "<style>#sk-container-id-3 {color: black;background-color: white;}#sk-container-id-3 pre{padding: 0;}#sk-container-id-3 div.sk-toggleable {background-color: white;}#sk-container-id-3 label.sk-toggleable__label {cursor: pointer;display: block;width: 100%;margin-bottom: 0;padding: 0.3em;box-sizing: border-box;text-align: center;}#sk-container-id-3 label.sk-toggleable__label-arrow:before {content: \"▸\";float: left;margin-right: 0.25em;color: #696969;}#sk-container-id-3 label.sk-toggleable__label-arrow:hover:before {color: black;}#sk-container-id-3 div.sk-estimator:hover label.sk-toggleable__label-arrow:before {color: black;}#sk-container-id-3 div.sk-toggleable__content {max-height: 0;max-width: 0;overflow: hidden;text-align: left;background-color: #f0f8ff;}#sk-container-id-3 div.sk-toggleable__content pre {margin: 0.2em;color: black;border-radius: 0.25em;background-color: #f0f8ff;}#sk-container-id-3 input.sk-toggleable__control:checked~div.sk-toggleable__content {max-height: 200px;max-width: 100%;overflow: auto;}#sk-container-id-3 input.sk-toggleable__control:checked~label.sk-toggleable__label-arrow:before {content: \"▾\";}#sk-container-id-3 div.sk-estimator input.sk-toggleable__control:checked~label.sk-toggleable__label {background-color: #d4ebff;}#sk-container-id-3 div.sk-label input.sk-toggleable__control:checked~label.sk-toggleable__label {background-color: #d4ebff;}#sk-container-id-3 input.sk-hidden--visually {border: 0;clip: rect(1px 1px 1px 1px);clip: rect(1px, 1px, 1px, 1px);height: 1px;margin: -1px;overflow: hidden;padding: 0;position: absolute;width: 1px;}#sk-container-id-3 div.sk-estimator {font-family: monospace;background-color: #f0f8ff;border: 1px dotted black;border-radius: 0.25em;box-sizing: border-box;margin-bottom: 0.5em;}#sk-container-id-3 div.sk-estimator:hover {background-color: #d4ebff;}#sk-container-id-3 div.sk-parallel-item::after {content: \"\";width: 100%;border-bottom: 1px solid gray;flex-grow: 1;}#sk-container-id-3 div.sk-label:hover label.sk-toggleable__label {background-color: #d4ebff;}#sk-container-id-3 div.sk-serial::before {content: \"\";position: absolute;border-left: 1px solid gray;box-sizing: border-box;top: 0;bottom: 0;left: 50%;z-index: 0;}#sk-container-id-3 div.sk-serial {display: flex;flex-direction: column;align-items: center;background-color: white;padding-right: 0.2em;padding-left: 0.2em;position: relative;}#sk-container-id-3 div.sk-item {position: relative;z-index: 1;}#sk-container-id-3 div.sk-parallel {display: flex;align-items: stretch;justify-content: center;background-color: white;position: relative;}#sk-container-id-3 div.sk-item::before, #sk-container-id-3 div.sk-parallel-item::before {content: \"\";position: absolute;border-left: 1px solid gray;box-sizing: border-box;top: 0;bottom: 0;left: 50%;z-index: -1;}#sk-container-id-3 div.sk-parallel-item {display: flex;flex-direction: column;z-index: 1;position: relative;background-color: white;}#sk-container-id-3 div.sk-parallel-item:first-child::after {align-self: flex-end;width: 50%;}#sk-container-id-3 div.sk-parallel-item:last-child::after {align-self: flex-start;width: 50%;}#sk-container-id-3 div.sk-parallel-item:only-child::after {width: 0;}#sk-container-id-3 div.sk-dashed-wrapped {border: 1px dashed gray;margin: 0 0.4em 0.5em 0.4em;box-sizing: border-box;padding-bottom: 0.4em;background-color: white;}#sk-container-id-3 div.sk-label label {font-family: monospace;font-weight: bold;display: inline-block;line-height: 1.2em;}#sk-container-id-3 div.sk-label-container {text-align: center;}#sk-container-id-3 div.sk-container {/* jupyter's `normalize.less` sets `[hidden] { display: none; }` but bootstrap.min.css set `[hidden] { display: none !important; }` so we also need the `!important` here to be able to override the default hidden behavior on the sphinx rendered scikit-learn.org. See: https://github.com/scikit-learn/scikit-learn/issues/21755 */display: inline-block !important;position: relative;}#sk-container-id-3 div.sk-text-repr-fallback {display: none;}</style><div id=\"sk-container-id-3\" class=\"sk-top-container\"><div class=\"sk-text-repr-fallback\"><pre>GaussianNB()</pre><b>In a Jupyter environment, please rerun this cell to show the HTML representation or trust the notebook. <br />On GitHub, the HTML representation is unable to render, please try loading this page with nbviewer.org.</b></div><div class=\"sk-container\" hidden><div class=\"sk-item\"><div class=\"sk-estimator sk-toggleable\"><input class=\"sk-toggleable__control sk-hidden--visually\" id=\"sk-estimator-id-3\" type=\"checkbox\" checked><label for=\"sk-estimator-id-3\" class=\"sk-toggleable__label sk-toggleable__label-arrow\">GaussianNB</label><div class=\"sk-toggleable__content\"><pre>GaussianNB()</pre></div></div></div></div></div>"
      ],
      "text/plain": [
       "GaussianNB()"
      ]
     },
     "execution_count": 185,
     "metadata": {},
     "output_type": "execute_result"
    }
   ],
   "source": [
    "nb_classifier = GaussianNB()\n",
    "nb_classifier.fit(X_train, y_train)"
   ]
  },
  {
   "cell_type": "code",
   "execution_count": 186,
   "id": "4b2f7bd0-6b9e-4a53-a8bf-2f4a65411101",
   "metadata": {},
   "outputs": [],
   "source": [
    "y_pred = nb_classifier.predict(X_test)"
   ]
  },
  {
   "cell_type": "code",
   "execution_count": 187,
   "id": "ff9aa2ec-5d01-470f-95bb-9fc066f2079c",
   "metadata": {},
   "outputs": [
    {
     "data": {
      "text/plain": [
       "0.47058823529411764"
      ]
     },
     "execution_count": 187,
     "metadata": {},
     "output_type": "execute_result"
    }
   ],
   "source": [
    "accuracy_score(y_test,y_pred)"
   ]
  },
  {
   "cell_type": "code",
   "execution_count": 188,
   "id": "2099aa8d-3f7c-44c3-8a32-2e282d5660d8",
   "metadata": {},
   "outputs": [
    {
     "data": {
      "text/plain": [
       "0.42857142857142855"
      ]
     },
     "execution_count": 188,
     "metadata": {},
     "output_type": "execute_result"
    }
   ],
   "source": [
    "precision_score(y_test,y_pred)"
   ]
  },
  {
   "cell_type": "code",
   "execution_count": 189,
   "id": "0d9c49ea-ebd8-4df0-ad60-098cb8f812a5",
   "metadata": {},
   "outputs": [
    {
     "data": {
      "text/plain": [
       "0.42857142857142855"
      ]
     },
     "execution_count": 189,
     "metadata": {},
     "output_type": "execute_result"
    }
   ],
   "source": [
    "precision_score(y_test,y_pred)"
   ]
  },
  {
   "cell_type": "code",
   "execution_count": 190,
   "id": "264dd603-e2c0-4812-a86b-63797a2eba8c",
   "metadata": {},
   "outputs": [],
   "source": [
    "yyy=logreg.predict(X_train)"
   ]
  },
  {
   "cell_type": "code",
   "execution_count": 191,
   "id": "7945ae05-fd7c-4fd8-85fa-7948d47e1523",
   "metadata": {},
   "outputs": [
    {
     "data": {
      "text/plain": [
       "0.7262536873156342"
      ]
     },
     "execution_count": 191,
     "metadata": {},
     "output_type": "execute_result"
    }
   ],
   "source": [
    "accuracy_score(y_train,yyy)"
   ]
  },
  {
   "cell_type": "code",
   "execution_count": 192,
   "id": "dd7e6e6f-509c-4a56-a1ad-8ff468401cd6",
   "metadata": {},
   "outputs": [],
   "source": [
    "# SVM "
   ]
  },
  {
   "cell_type": "code",
   "execution_count": 193,
   "id": "fba5661b-645a-40ee-beb0-ae96f8865dbc",
   "metadata": {},
   "outputs": [],
   "source": [
    "from sklearn.svm import SVC"
   ]
  },
  {
   "cell_type": "code",
   "execution_count": 194,
   "id": "a40c3008-8649-4d65-9046-7a3ed271fba0",
   "metadata": {},
   "outputs": [
    {
     "data": {
      "text/html": [
       "<style>#sk-container-id-4 {color: black;background-color: white;}#sk-container-id-4 pre{padding: 0;}#sk-container-id-4 div.sk-toggleable {background-color: white;}#sk-container-id-4 label.sk-toggleable__label {cursor: pointer;display: block;width: 100%;margin-bottom: 0;padding: 0.3em;box-sizing: border-box;text-align: center;}#sk-container-id-4 label.sk-toggleable__label-arrow:before {content: \"▸\";float: left;margin-right: 0.25em;color: #696969;}#sk-container-id-4 label.sk-toggleable__label-arrow:hover:before {color: black;}#sk-container-id-4 div.sk-estimator:hover label.sk-toggleable__label-arrow:before {color: black;}#sk-container-id-4 div.sk-toggleable__content {max-height: 0;max-width: 0;overflow: hidden;text-align: left;background-color: #f0f8ff;}#sk-container-id-4 div.sk-toggleable__content pre {margin: 0.2em;color: black;border-radius: 0.25em;background-color: #f0f8ff;}#sk-container-id-4 input.sk-toggleable__control:checked~div.sk-toggleable__content {max-height: 200px;max-width: 100%;overflow: auto;}#sk-container-id-4 input.sk-toggleable__control:checked~label.sk-toggleable__label-arrow:before {content: \"▾\";}#sk-container-id-4 div.sk-estimator input.sk-toggleable__control:checked~label.sk-toggleable__label {background-color: #d4ebff;}#sk-container-id-4 div.sk-label input.sk-toggleable__control:checked~label.sk-toggleable__label {background-color: #d4ebff;}#sk-container-id-4 input.sk-hidden--visually {border: 0;clip: rect(1px 1px 1px 1px);clip: rect(1px, 1px, 1px, 1px);height: 1px;margin: -1px;overflow: hidden;padding: 0;position: absolute;width: 1px;}#sk-container-id-4 div.sk-estimator {font-family: monospace;background-color: #f0f8ff;border: 1px dotted black;border-radius: 0.25em;box-sizing: border-box;margin-bottom: 0.5em;}#sk-container-id-4 div.sk-estimator:hover {background-color: #d4ebff;}#sk-container-id-4 div.sk-parallel-item::after {content: \"\";width: 100%;border-bottom: 1px solid gray;flex-grow: 1;}#sk-container-id-4 div.sk-label:hover label.sk-toggleable__label {background-color: #d4ebff;}#sk-container-id-4 div.sk-serial::before {content: \"\";position: absolute;border-left: 1px solid gray;box-sizing: border-box;top: 0;bottom: 0;left: 50%;z-index: 0;}#sk-container-id-4 div.sk-serial {display: flex;flex-direction: column;align-items: center;background-color: white;padding-right: 0.2em;padding-left: 0.2em;position: relative;}#sk-container-id-4 div.sk-item {position: relative;z-index: 1;}#sk-container-id-4 div.sk-parallel {display: flex;align-items: stretch;justify-content: center;background-color: white;position: relative;}#sk-container-id-4 div.sk-item::before, #sk-container-id-4 div.sk-parallel-item::before {content: \"\";position: absolute;border-left: 1px solid gray;box-sizing: border-box;top: 0;bottom: 0;left: 50%;z-index: -1;}#sk-container-id-4 div.sk-parallel-item {display: flex;flex-direction: column;z-index: 1;position: relative;background-color: white;}#sk-container-id-4 div.sk-parallel-item:first-child::after {align-self: flex-end;width: 50%;}#sk-container-id-4 div.sk-parallel-item:last-child::after {align-self: flex-start;width: 50%;}#sk-container-id-4 div.sk-parallel-item:only-child::after {width: 0;}#sk-container-id-4 div.sk-dashed-wrapped {border: 1px dashed gray;margin: 0 0.4em 0.5em 0.4em;box-sizing: border-box;padding-bottom: 0.4em;background-color: white;}#sk-container-id-4 div.sk-label label {font-family: monospace;font-weight: bold;display: inline-block;line-height: 1.2em;}#sk-container-id-4 div.sk-label-container {text-align: center;}#sk-container-id-4 div.sk-container {/* jupyter's `normalize.less` sets `[hidden] { display: none; }` but bootstrap.min.css set `[hidden] { display: none !important; }` so we also need the `!important` here to be able to override the default hidden behavior on the sphinx rendered scikit-learn.org. See: https://github.com/scikit-learn/scikit-learn/issues/21755 */display: inline-block !important;position: relative;}#sk-container-id-4 div.sk-text-repr-fallback {display: none;}</style><div id=\"sk-container-id-4\" class=\"sk-top-container\"><div class=\"sk-text-repr-fallback\"><pre>SVC(C=1, kernel=&#x27;linear&#x27;)</pre><b>In a Jupyter environment, please rerun this cell to show the HTML representation or trust the notebook. <br />On GitHub, the HTML representation is unable to render, please try loading this page with nbviewer.org.</b></div><div class=\"sk-container\" hidden><div class=\"sk-item\"><div class=\"sk-estimator sk-toggleable\"><input class=\"sk-toggleable__control sk-hidden--visually\" id=\"sk-estimator-id-4\" type=\"checkbox\" checked><label for=\"sk-estimator-id-4\" class=\"sk-toggleable__label sk-toggleable__label-arrow\">SVC</label><div class=\"sk-toggleable__content\"><pre>SVC(C=1, kernel=&#x27;linear&#x27;)</pre></div></div></div></div></div>"
      ],
      "text/plain": [
       "SVC(C=1, kernel='linear')"
      ]
     },
     "execution_count": 194,
     "metadata": {},
     "output_type": "execute_result"
    }
   ],
   "source": [
    "svm_classifier = SVC(kernel='linear', C=1, gamma='scale')\n",
    "svm_classifier.fit(X_train, y_train)"
   ]
  },
  {
   "cell_type": "code",
   "execution_count": 195,
   "id": "c6e4141c-edd2-4626-be4e-d87193965572",
   "metadata": {},
   "outputs": [],
   "source": [
    "y_pred = svm_classifier.predict(X_test)"
   ]
  },
  {
   "cell_type": "code",
   "execution_count": 196,
   "id": "da2a9a63-aa82-428b-b0d3-bac5c22f599c",
   "metadata": {},
   "outputs": [
    {
     "data": {
      "text/plain": [
       "28"
      ]
     },
     "execution_count": 196,
     "metadata": {},
     "output_type": "execute_result"
    }
   ],
   "source": [
    "# y_test.sum()\n",
    "51-23"
   ]
  },
  {
   "cell_type": "code",
   "execution_count": 197,
   "id": "e07b9296-1638-460e-bd10-9723e805673e",
   "metadata": {},
   "outputs": [
    {
     "data": {
      "text/plain": [
       "0.6862745098039216"
      ]
     },
     "execution_count": 197,
     "metadata": {},
     "output_type": "execute_result"
    }
   ],
   "source": [
    "accuracy_score(y_test,y_pred)"
   ]
  },
  {
   "cell_type": "code",
   "execution_count": 198,
   "id": "efdf69e0-8bf7-43bd-8ead-5bf7c6db44ed",
   "metadata": {},
   "outputs": [
    {
     "data": {
      "text/plain": [
       "0.6842105263157895"
      ]
     },
     "execution_count": 198,
     "metadata": {},
     "output_type": "execute_result"
    }
   ],
   "source": [
    "precision_score(y_test,y_pred)"
   ]
  },
  {
   "cell_type": "code",
   "execution_count": 199,
   "id": "0d738485-7534-43bd-a94d-fde95cd3dac8",
   "metadata": {},
   "outputs": [
    {
     "data": {
      "text/plain": [
       "0.5652173913043478"
      ]
     },
     "execution_count": 199,
     "metadata": {},
     "output_type": "execute_result"
    }
   ],
   "source": [
    "recall_score(y_test,y_pred)"
   ]
  },
  {
   "cell_type": "code",
   "execution_count": 200,
   "id": "fbd860ae-bb9a-4c24-b3f0-1a3e92fb9963",
   "metadata": {},
   "outputs": [],
   "source": [
    "yyy=logreg.predict(X_train)"
   ]
  },
  {
   "cell_type": "code",
   "execution_count": 201,
   "id": "3e9c83ba-9c88-4f33-987b-4669cbcdd554",
   "metadata": {},
   "outputs": [
    {
     "data": {
      "text/plain": [
       "0.7262536873156342"
      ]
     },
     "execution_count": 201,
     "metadata": {},
     "output_type": "execute_result"
    }
   ],
   "source": [
    "accuracy_score(y_train,yyy)"
   ]
  },
  {
   "cell_type": "code",
   "execution_count": 202,
   "id": "d39e7a17-c9e7-4327-bba2-a8db46d0e9ff",
   "metadata": {},
   "outputs": [],
   "source": [
    "# DT"
   ]
  },
  {
   "cell_type": "code",
   "execution_count": 203,
   "id": "7704c3a3-2eaf-4e5b-8b4c-e9c18bbca308",
   "metadata": {},
   "outputs": [],
   "source": [
    "from sklearn.tree import DecisionTreeClassifier"
   ]
  },
  {
   "cell_type": "code",
   "execution_count": 204,
   "id": "333462f6-ae3f-4d45-92e5-73a9b5d692ac",
   "metadata": {},
   "outputs": [
    {
     "data": {
      "text/html": [
       "<style>#sk-container-id-5 {color: black;background-color: white;}#sk-container-id-5 pre{padding: 0;}#sk-container-id-5 div.sk-toggleable {background-color: white;}#sk-container-id-5 label.sk-toggleable__label {cursor: pointer;display: block;width: 100%;margin-bottom: 0;padding: 0.3em;box-sizing: border-box;text-align: center;}#sk-container-id-5 label.sk-toggleable__label-arrow:before {content: \"▸\";float: left;margin-right: 0.25em;color: #696969;}#sk-container-id-5 label.sk-toggleable__label-arrow:hover:before {color: black;}#sk-container-id-5 div.sk-estimator:hover label.sk-toggleable__label-arrow:before {color: black;}#sk-container-id-5 div.sk-toggleable__content {max-height: 0;max-width: 0;overflow: hidden;text-align: left;background-color: #f0f8ff;}#sk-container-id-5 div.sk-toggleable__content pre {margin: 0.2em;color: black;border-radius: 0.25em;background-color: #f0f8ff;}#sk-container-id-5 input.sk-toggleable__control:checked~div.sk-toggleable__content {max-height: 200px;max-width: 100%;overflow: auto;}#sk-container-id-5 input.sk-toggleable__control:checked~label.sk-toggleable__label-arrow:before {content: \"▾\";}#sk-container-id-5 div.sk-estimator input.sk-toggleable__control:checked~label.sk-toggleable__label {background-color: #d4ebff;}#sk-container-id-5 div.sk-label input.sk-toggleable__control:checked~label.sk-toggleable__label {background-color: #d4ebff;}#sk-container-id-5 input.sk-hidden--visually {border: 0;clip: rect(1px 1px 1px 1px);clip: rect(1px, 1px, 1px, 1px);height: 1px;margin: -1px;overflow: hidden;padding: 0;position: absolute;width: 1px;}#sk-container-id-5 div.sk-estimator {font-family: monospace;background-color: #f0f8ff;border: 1px dotted black;border-radius: 0.25em;box-sizing: border-box;margin-bottom: 0.5em;}#sk-container-id-5 div.sk-estimator:hover {background-color: #d4ebff;}#sk-container-id-5 div.sk-parallel-item::after {content: \"\";width: 100%;border-bottom: 1px solid gray;flex-grow: 1;}#sk-container-id-5 div.sk-label:hover label.sk-toggleable__label {background-color: #d4ebff;}#sk-container-id-5 div.sk-serial::before {content: \"\";position: absolute;border-left: 1px solid gray;box-sizing: border-box;top: 0;bottom: 0;left: 50%;z-index: 0;}#sk-container-id-5 div.sk-serial {display: flex;flex-direction: column;align-items: center;background-color: white;padding-right: 0.2em;padding-left: 0.2em;position: relative;}#sk-container-id-5 div.sk-item {position: relative;z-index: 1;}#sk-container-id-5 div.sk-parallel {display: flex;align-items: stretch;justify-content: center;background-color: white;position: relative;}#sk-container-id-5 div.sk-item::before, #sk-container-id-5 div.sk-parallel-item::before {content: \"\";position: absolute;border-left: 1px solid gray;box-sizing: border-box;top: 0;bottom: 0;left: 50%;z-index: -1;}#sk-container-id-5 div.sk-parallel-item {display: flex;flex-direction: column;z-index: 1;position: relative;background-color: white;}#sk-container-id-5 div.sk-parallel-item:first-child::after {align-self: flex-end;width: 50%;}#sk-container-id-5 div.sk-parallel-item:last-child::after {align-self: flex-start;width: 50%;}#sk-container-id-5 div.sk-parallel-item:only-child::after {width: 0;}#sk-container-id-5 div.sk-dashed-wrapped {border: 1px dashed gray;margin: 0 0.4em 0.5em 0.4em;box-sizing: border-box;padding-bottom: 0.4em;background-color: white;}#sk-container-id-5 div.sk-label label {font-family: monospace;font-weight: bold;display: inline-block;line-height: 1.2em;}#sk-container-id-5 div.sk-label-container {text-align: center;}#sk-container-id-5 div.sk-container {/* jupyter's `normalize.less` sets `[hidden] { display: none; }` but bootstrap.min.css set `[hidden] { display: none !important; }` so we also need the `!important` here to be able to override the default hidden behavior on the sphinx rendered scikit-learn.org. See: https://github.com/scikit-learn/scikit-learn/issues/21755 */display: inline-block !important;position: relative;}#sk-container-id-5 div.sk-text-repr-fallback {display: none;}</style><div id=\"sk-container-id-5\" class=\"sk-top-container\"><div class=\"sk-text-repr-fallback\"><pre>DecisionTreeClassifier(random_state=42)</pre><b>In a Jupyter environment, please rerun this cell to show the HTML representation or trust the notebook. <br />On GitHub, the HTML representation is unable to render, please try loading this page with nbviewer.org.</b></div><div class=\"sk-container\" hidden><div class=\"sk-item\"><div class=\"sk-estimator sk-toggleable\"><input class=\"sk-toggleable__control sk-hidden--visually\" id=\"sk-estimator-id-5\" type=\"checkbox\" checked><label for=\"sk-estimator-id-5\" class=\"sk-toggleable__label sk-toggleable__label-arrow\">DecisionTreeClassifier</label><div class=\"sk-toggleable__content\"><pre>DecisionTreeClassifier(random_state=42)</pre></div></div></div></div></div>"
      ],
      "text/plain": [
       "DecisionTreeClassifier(random_state=42)"
      ]
     },
     "execution_count": 204,
     "metadata": {},
     "output_type": "execute_result"
    }
   ],
   "source": [
    "dt_classifier = DecisionTreeClassifier(random_state=42)\n",
    "dt_classifier.fit(X_train.tolist(), y_train)"
   ]
  },
  {
   "cell_type": "code",
   "execution_count": 205,
   "id": "023fdf0d-95d7-43f1-a041-6b24da98f09f",
   "metadata": {},
   "outputs": [],
   "source": [
    "y_pred = dt_classifier.predict(X_test.tolist())"
   ]
  },
  {
   "cell_type": "code",
   "execution_count": 206,
   "id": "84d9acb2-06f2-40f1-b49c-0109093717f0",
   "metadata": {},
   "outputs": [
    {
     "data": {
      "text/plain": [
       "0.39215686274509803"
      ]
     },
     "execution_count": 206,
     "metadata": {},
     "output_type": "execute_result"
    }
   ],
   "source": [
    "accuracy_score(y_test,y_pred)"
   ]
  },
  {
   "cell_type": "code",
   "execution_count": 207,
   "id": "3dc6f3ea-a254-4c05-9b14-c3425be9080c",
   "metadata": {},
   "outputs": [
    {
     "data": {
      "text/plain": [
       "0.375"
      ]
     },
     "execution_count": 207,
     "metadata": {},
     "output_type": "execute_result"
    }
   ],
   "source": [
    "precision_score(y_test,y_pred)"
   ]
  },
  {
   "cell_type": "code",
   "execution_count": 208,
   "id": "edec40f8-2275-45e6-bbd4-c9ef514784c0",
   "metadata": {},
   "outputs": [
    {
     "data": {
      "text/plain": [
       "0.5217391304347826"
      ]
     },
     "execution_count": 208,
     "metadata": {},
     "output_type": "execute_result"
    }
   ],
   "source": [
    "recall_score(y_test,y_pred)"
   ]
  },
  {
   "cell_type": "code",
   "execution_count": 209,
   "id": "550ef174-9d3b-4083-b3fe-7bd289458823",
   "metadata": {},
   "outputs": [],
   "source": [
    "yyy=logreg.predict(X_train.tolist())"
   ]
  },
  {
   "cell_type": "code",
   "execution_count": 210,
   "id": "e1b8b107-1589-4542-9100-6df018d86c2f",
   "metadata": {},
   "outputs": [
    {
     "data": {
      "text/plain": [
       "0.7262536873156342"
      ]
     },
     "execution_count": 210,
     "metadata": {},
     "output_type": "execute_result"
    }
   ],
   "source": [
    "accuracy_score(y_train,yyy)"
   ]
  },
  {
   "cell_type": "code",
   "execution_count": 211,
   "id": "f4813358-71bd-4eaf-918d-c8bcef78645c",
   "metadata": {},
   "outputs": [],
   "source": [
    "# RF"
   ]
  },
  {
   "cell_type": "code",
   "execution_count": 212,
   "id": "14e6a511-4241-4e00-bb8c-fa12a09e937f",
   "metadata": {},
   "outputs": [],
   "source": [
    "from sklearn.ensemble import RandomForestClassifier"
   ]
  },
  {
   "cell_type": "code",
   "execution_count": 213,
   "id": "3bcb549e-83a6-45fd-9858-3f7c36ef08b5",
   "metadata": {},
   "outputs": [],
   "source": [
    "rf_classifier = RandomForestClassifier(random_state=42)"
   ]
  },
  {
   "cell_type": "code",
   "execution_count": 214,
   "id": "d3731bba-2c25-42f5-b575-3edc84c0c34d",
   "metadata": {},
   "outputs": [
    {
     "data": {
      "text/html": [
       "<style>#sk-container-id-6 {color: black;background-color: white;}#sk-container-id-6 pre{padding: 0;}#sk-container-id-6 div.sk-toggleable {background-color: white;}#sk-container-id-6 label.sk-toggleable__label {cursor: pointer;display: block;width: 100%;margin-bottom: 0;padding: 0.3em;box-sizing: border-box;text-align: center;}#sk-container-id-6 label.sk-toggleable__label-arrow:before {content: \"▸\";float: left;margin-right: 0.25em;color: #696969;}#sk-container-id-6 label.sk-toggleable__label-arrow:hover:before {color: black;}#sk-container-id-6 div.sk-estimator:hover label.sk-toggleable__label-arrow:before {color: black;}#sk-container-id-6 div.sk-toggleable__content {max-height: 0;max-width: 0;overflow: hidden;text-align: left;background-color: #f0f8ff;}#sk-container-id-6 div.sk-toggleable__content pre {margin: 0.2em;color: black;border-radius: 0.25em;background-color: #f0f8ff;}#sk-container-id-6 input.sk-toggleable__control:checked~div.sk-toggleable__content {max-height: 200px;max-width: 100%;overflow: auto;}#sk-container-id-6 input.sk-toggleable__control:checked~label.sk-toggleable__label-arrow:before {content: \"▾\";}#sk-container-id-6 div.sk-estimator input.sk-toggleable__control:checked~label.sk-toggleable__label {background-color: #d4ebff;}#sk-container-id-6 div.sk-label input.sk-toggleable__control:checked~label.sk-toggleable__label {background-color: #d4ebff;}#sk-container-id-6 input.sk-hidden--visually {border: 0;clip: rect(1px 1px 1px 1px);clip: rect(1px, 1px, 1px, 1px);height: 1px;margin: -1px;overflow: hidden;padding: 0;position: absolute;width: 1px;}#sk-container-id-6 div.sk-estimator {font-family: monospace;background-color: #f0f8ff;border: 1px dotted black;border-radius: 0.25em;box-sizing: border-box;margin-bottom: 0.5em;}#sk-container-id-6 div.sk-estimator:hover {background-color: #d4ebff;}#sk-container-id-6 div.sk-parallel-item::after {content: \"\";width: 100%;border-bottom: 1px solid gray;flex-grow: 1;}#sk-container-id-6 div.sk-label:hover label.sk-toggleable__label {background-color: #d4ebff;}#sk-container-id-6 div.sk-serial::before {content: \"\";position: absolute;border-left: 1px solid gray;box-sizing: border-box;top: 0;bottom: 0;left: 50%;z-index: 0;}#sk-container-id-6 div.sk-serial {display: flex;flex-direction: column;align-items: center;background-color: white;padding-right: 0.2em;padding-left: 0.2em;position: relative;}#sk-container-id-6 div.sk-item {position: relative;z-index: 1;}#sk-container-id-6 div.sk-parallel {display: flex;align-items: stretch;justify-content: center;background-color: white;position: relative;}#sk-container-id-6 div.sk-item::before, #sk-container-id-6 div.sk-parallel-item::before {content: \"\";position: absolute;border-left: 1px solid gray;box-sizing: border-box;top: 0;bottom: 0;left: 50%;z-index: -1;}#sk-container-id-6 div.sk-parallel-item {display: flex;flex-direction: column;z-index: 1;position: relative;background-color: white;}#sk-container-id-6 div.sk-parallel-item:first-child::after {align-self: flex-end;width: 50%;}#sk-container-id-6 div.sk-parallel-item:last-child::after {align-self: flex-start;width: 50%;}#sk-container-id-6 div.sk-parallel-item:only-child::after {width: 0;}#sk-container-id-6 div.sk-dashed-wrapped {border: 1px dashed gray;margin: 0 0.4em 0.5em 0.4em;box-sizing: border-box;padding-bottom: 0.4em;background-color: white;}#sk-container-id-6 div.sk-label label {font-family: monospace;font-weight: bold;display: inline-block;line-height: 1.2em;}#sk-container-id-6 div.sk-label-container {text-align: center;}#sk-container-id-6 div.sk-container {/* jupyter's `normalize.less` sets `[hidden] { display: none; }` but bootstrap.min.css set `[hidden] { display: none !important; }` so we also need the `!important` here to be able to override the default hidden behavior on the sphinx rendered scikit-learn.org. See: https://github.com/scikit-learn/scikit-learn/issues/21755 */display: inline-block !important;position: relative;}#sk-container-id-6 div.sk-text-repr-fallback {display: none;}</style><div id=\"sk-container-id-6\" class=\"sk-top-container\"><div class=\"sk-text-repr-fallback\"><pre>RandomForestClassifier(random_state=42)</pre><b>In a Jupyter environment, please rerun this cell to show the HTML representation or trust the notebook. <br />On GitHub, the HTML representation is unable to render, please try loading this page with nbviewer.org.</b></div><div class=\"sk-container\" hidden><div class=\"sk-item\"><div class=\"sk-estimator sk-toggleable\"><input class=\"sk-toggleable__control sk-hidden--visually\" id=\"sk-estimator-id-6\" type=\"checkbox\" checked><label for=\"sk-estimator-id-6\" class=\"sk-toggleable__label sk-toggleable__label-arrow\">RandomForestClassifier</label><div class=\"sk-toggleable__content\"><pre>RandomForestClassifier(random_state=42)</pre></div></div></div></div></div>"
      ],
      "text/plain": [
       "RandomForestClassifier(random_state=42)"
      ]
     },
     "execution_count": 214,
     "metadata": {},
     "output_type": "execute_result"
    }
   ],
   "source": [
    "rf_classifier.fit(X_train.tolist(), y_train)"
   ]
  },
  {
   "cell_type": "code",
   "execution_count": 215,
   "id": "131e87ee-e6c4-4ce8-b03e-606faf3918e7",
   "metadata": {},
   "outputs": [],
   "source": [
    "y_pred = rf_classifier.predict(X_test.tolist())"
   ]
  },
  {
   "cell_type": "code",
   "execution_count": 216,
   "id": "71e1e315-847a-4eb2-aca1-73db4965fdf9",
   "metadata": {},
   "outputs": [
    {
     "data": {
      "text/plain": [
       "0.45098039215686275"
      ]
     },
     "execution_count": 216,
     "metadata": {},
     "output_type": "execute_result"
    }
   ],
   "source": [
    "accuracy_score(y_test,y_pred)"
   ]
  },
  {
   "cell_type": "code",
   "execution_count": 217,
   "id": "c79c8e3d-1c9a-47ad-8750-8e6964bb8bad",
   "metadata": {},
   "outputs": [
    {
     "data": {
      "text/plain": [
       "0.391304347826087"
      ]
     },
     "execution_count": 217,
     "metadata": {},
     "output_type": "execute_result"
    }
   ],
   "source": [
    "precision_score(y_test,y_pred)"
   ]
  },
  {
   "cell_type": "code",
   "execution_count": 218,
   "id": "24f93387-c10f-42fa-bfb1-11d8ac54b6dd",
   "metadata": {},
   "outputs": [
    {
     "data": {
      "text/plain": [
       "0.391304347826087"
      ]
     },
     "execution_count": 218,
     "metadata": {},
     "output_type": "execute_result"
    }
   ],
   "source": [
    "recall_score(y_test,y_pred)"
   ]
  },
  {
   "cell_type": "code",
   "execution_count": 219,
   "id": "08d0fcee-8df7-4840-9c99-d55cc6998031",
   "metadata": {},
   "outputs": [],
   "source": [
    "yyy=logreg.predict(X_train.tolist())"
   ]
  },
  {
   "cell_type": "code",
   "execution_count": 220,
   "id": "ef7778ab-fe77-40f5-8f51-8cd5b1034a63",
   "metadata": {},
   "outputs": [
    {
     "data": {
      "text/plain": [
       "0.7262536873156342"
      ]
     },
     "execution_count": 220,
     "metadata": {},
     "output_type": "execute_result"
    }
   ],
   "source": [
    "accuracy_score(y_train,yyy)"
   ]
  },
  {
   "cell_type": "code",
   "execution_count": 221,
   "id": "edc3dacc-bf62-463b-abc5-4aeb3ac728c2",
   "metadata": {},
   "outputs": [],
   "source": [
    "# LSTM"
   ]
  },
  {
   "cell_type": "code",
   "execution_count": 222,
   "id": "f81e34c4-a676-499b-92b9-530834141994",
   "metadata": {},
   "outputs": [],
   "source": [
    "import tensorflow as tf\n",
    "from tensorflow.keras.models import Sequential\n",
    "from tensorflow.keras.layers import LSTM, Dense , Input\n",
    "from tensorflow.keras.optimizers import Adam"
   ]
  },
  {
   "cell_type": "code",
   "execution_count": 223,
   "id": "db0423a7-352a-4c6d-86bc-533ed2e1daa2",
   "metadata": {},
   "outputs": [
    {
     "data": {
      "text/plain": [
       "300"
      ]
     },
     "execution_count": 223,
     "metadata": {},
     "output_type": "execute_result"
    }
   ],
   "source": [
    "len(X_train[56])"
   ]
  },
  {
   "cell_type": "code",
   "execution_count": 224,
   "id": "2a0e2752-768f-427e-8ae5-403253b0ff6c",
   "metadata": {},
   "outputs": [
    {
     "data": {
      "text/plain": [
       "numpy.ndarray"
      ]
     },
     "execution_count": 224,
     "metadata": {},
     "output_type": "execute_result"
    }
   ],
   "source": [
    "type(X_train)"
   ]
  },
  {
   "cell_type": "code",
   "execution_count": 225,
   "id": "beb1fa3d-4524-4b79-be4d-2b2bdc3a600e",
   "metadata": {},
   "outputs": [
    {
     "data": {
      "text/plain": [
       "(1695, 300)"
      ]
     },
     "execution_count": 225,
     "metadata": {},
     "output_type": "execute_result"
    }
   ],
   "source": [
    "X_train.shape"
   ]
  },
  {
   "cell_type": "code",
   "execution_count": 226,
   "id": "126be378-0c1e-4a4e-9b7b-533f7b9e56f9",
   "metadata": {},
   "outputs": [],
   "source": [
    "from tensorflow.keras.layers import Reshape\n",
    "\n",
    "# Reshape the input data to include a dimension for timesteps\n",
    "model = Sequential()\n",
    "model.add(Input(shape=(300,)))  # Input shape: (622,)\n",
    "model.add(Reshape((1, 300)))  # Reshape to (batch_size, timesteps, input_dim)\n",
    "model.add(LSTM(100, return_sequences=True))\n",
    "model.add(LSTM(50))\n",
    "model.add(Dense(1, activation='sigmoid'))  # Assuming binary classification\n",
    "\n",
    "# Compile the model\n",
    "optimizer = Adam(learning_rate=0.001)\n",
    "model.compile(optimizer=optimizer, loss='binary_crossentropy', metrics=['accuracy'])"
   ]
  },
  {
   "cell_type": "code",
   "execution_count": 227,
   "id": "96c5dd28-3c1f-426b-94e0-c1b11b612a3e",
   "metadata": {
    "scrolled": true
   },
   "outputs": [
    {
     "name": "stdout",
     "output_type": "stream",
     "text": [
      "Epoch 1/30\n",
      "\u001b[1m272/272\u001b[0m \u001b[32m━━━━━━━━━━━━━━━━━━━━\u001b[0m\u001b[37m\u001b[0m \u001b[1m9s\u001b[0m 6ms/step - accuracy: 0.5185 - loss: 0.6952 - val_accuracy: 0.5457 - val_loss: 0.6901\n",
      "Epoch 2/30\n",
      "\u001b[1m272/272\u001b[0m \u001b[32m━━━━━━━━━━━━━━━━━━━━\u001b[0m\u001b[37m\u001b[0m \u001b[1m1s\u001b[0m 5ms/step - accuracy: 0.6586 - loss: 0.6354 - val_accuracy: 0.5546 - val_loss: 0.6879\n",
      "Epoch 3/30\n",
      "\u001b[1m272/272\u001b[0m \u001b[32m━━━━━━━━━━━━━━━━━━━━\u001b[0m\u001b[37m\u001b[0m \u001b[1m2s\u001b[0m 6ms/step - accuracy: 0.8435 - loss: 0.4269 - val_accuracy: 0.5457 - val_loss: 0.8535\n",
      "Epoch 4/30\n",
      "\u001b[1m272/272\u001b[0m \u001b[32m━━━━━━━━━━━━━━━━━━━━\u001b[0m\u001b[37m\u001b[0m \u001b[1m1s\u001b[0m 5ms/step - accuracy: 0.9277 - loss: 0.2050 - val_accuracy: 0.5516 - val_loss: 1.1788\n",
      "Epoch 5/30\n",
      "\u001b[1m272/272\u001b[0m \u001b[32m━━━━━━━━━━━━━━━━━━━━\u001b[0m\u001b[37m\u001b[0m \u001b[1m2s\u001b[0m 6ms/step - accuracy: 0.9879 - loss: 0.0522 - val_accuracy: 0.5280 - val_loss: 1.5438\n",
      "Epoch 6/30\n",
      "\u001b[1m272/272\u001b[0m \u001b[32m━━━━━━━━━━━━━━━━━━━━\u001b[0m\u001b[37m\u001b[0m \u001b[1m2s\u001b[0m 5ms/step - accuracy: 0.9994 - loss: 0.0143 - val_accuracy: 0.5339 - val_loss: 1.7712\n",
      "Epoch 7/30\n",
      "\u001b[1m272/272\u001b[0m \u001b[32m━━━━━━━━━━━━━━━━━━━━\u001b[0m\u001b[37m\u001b[0m \u001b[1m1s\u001b[0m 4ms/step - accuracy: 1.0000 - loss: 0.0067 - val_accuracy: 0.5251 - val_loss: 1.8382\n",
      "Epoch 8/30\n",
      "\u001b[1m272/272\u001b[0m \u001b[32m━━━━━━━━━━━━━━━━━━━━\u001b[0m\u001b[37m\u001b[0m \u001b[1m1s\u001b[0m 5ms/step - accuracy: 1.0000 - loss: 0.0017 - val_accuracy: 0.5457 - val_loss: 1.9273\n",
      "Epoch 9/30\n",
      "\u001b[1m  1/272\u001b[0m \u001b[37m━━━━━━━━━━━━━━━━━━━━\u001b[0m \u001b[1m12s\u001b[0m 47ms/step - accuracy: 1.0000 - loss: 5.5207e-04"
     ]
    },
    {
     "ename": "KeyboardInterrupt",
     "evalue": "",
     "output_type": "error",
     "traceback": [
      "\u001b[1;31m---------------------------------------------------------------------------\u001b[0m",
      "\u001b[1;31mKeyboardInterrupt\u001b[0m                         Traceback (most recent call last)",
      "Cell \u001b[1;32mIn[227], line 1\u001b[0m\n\u001b[1;32m----> 1\u001b[0m model\u001b[38;5;241m.\u001b[39mfit(X_train, y_train, epochs\u001b[38;5;241m=\u001b[39m\u001b[38;5;241m30\u001b[39m, batch_size\u001b[38;5;241m=\u001b[39m\u001b[38;5;241m5\u001b[39m, validation_split\u001b[38;5;241m=\u001b[39m\u001b[38;5;241m0.2\u001b[39m)\n",
      "File \u001b[1;32m~\\anaconda3\\Lib\\site-packages\\keras\\src\\utils\\traceback_utils.py:117\u001b[0m, in \u001b[0;36mfilter_traceback.<locals>.error_handler\u001b[1;34m(*args, **kwargs)\u001b[0m\n\u001b[0;32m    115\u001b[0m filtered_tb \u001b[38;5;241m=\u001b[39m \u001b[38;5;28;01mNone\u001b[39;00m\n\u001b[0;32m    116\u001b[0m \u001b[38;5;28;01mtry\u001b[39;00m:\n\u001b[1;32m--> 117\u001b[0m     \u001b[38;5;28;01mreturn\u001b[39;00m fn(\u001b[38;5;241m*\u001b[39margs, \u001b[38;5;241m*\u001b[39m\u001b[38;5;241m*\u001b[39mkwargs)\n\u001b[0;32m    118\u001b[0m \u001b[38;5;28;01mexcept\u001b[39;00m \u001b[38;5;167;01mException\u001b[39;00m \u001b[38;5;28;01mas\u001b[39;00m e:\n\u001b[0;32m    119\u001b[0m     filtered_tb \u001b[38;5;241m=\u001b[39m _process_traceback_frames(e\u001b[38;5;241m.\u001b[39m__traceback__)\n",
      "File \u001b[1;32m~\\anaconda3\\Lib\\site-packages\\keras\\src\\backend\\tensorflow\\trainer.py:314\u001b[0m, in \u001b[0;36mTensorFlowTrainer.fit\u001b[1;34m(self, x, y, batch_size, epochs, verbose, callbacks, validation_split, validation_data, shuffle, class_weight, sample_weight, initial_epoch, steps_per_epoch, validation_steps, validation_batch_size, validation_freq)\u001b[0m\n\u001b[0;32m    312\u001b[0m \u001b[38;5;28;01mfor\u001b[39;00m step, iterator \u001b[38;5;129;01min\u001b[39;00m epoch_iterator\u001b[38;5;241m.\u001b[39menumerate_epoch():\n\u001b[0;32m    313\u001b[0m     callbacks\u001b[38;5;241m.\u001b[39mon_train_batch_begin(step)\n\u001b[1;32m--> 314\u001b[0m     logs \u001b[38;5;241m=\u001b[39m \u001b[38;5;28mself\u001b[39m\u001b[38;5;241m.\u001b[39mtrain_function(iterator)\n\u001b[0;32m    315\u001b[0m     logs \u001b[38;5;241m=\u001b[39m \u001b[38;5;28mself\u001b[39m\u001b[38;5;241m.\u001b[39m_pythonify_logs(logs)\n\u001b[0;32m    316\u001b[0m     callbacks\u001b[38;5;241m.\u001b[39mon_train_batch_end(step, logs)\n",
      "File \u001b[1;32m~\\anaconda3\\Lib\\site-packages\\tensorflow\\python\\util\\traceback_utils.py:150\u001b[0m, in \u001b[0;36mfilter_traceback.<locals>.error_handler\u001b[1;34m(*args, **kwargs)\u001b[0m\n\u001b[0;32m    148\u001b[0m filtered_tb \u001b[38;5;241m=\u001b[39m \u001b[38;5;28;01mNone\u001b[39;00m\n\u001b[0;32m    149\u001b[0m \u001b[38;5;28;01mtry\u001b[39;00m:\n\u001b[1;32m--> 150\u001b[0m   \u001b[38;5;28;01mreturn\u001b[39;00m fn(\u001b[38;5;241m*\u001b[39margs, \u001b[38;5;241m*\u001b[39m\u001b[38;5;241m*\u001b[39mkwargs)\n\u001b[0;32m    151\u001b[0m \u001b[38;5;28;01mexcept\u001b[39;00m \u001b[38;5;167;01mException\u001b[39;00m \u001b[38;5;28;01mas\u001b[39;00m e:\n\u001b[0;32m    152\u001b[0m   filtered_tb \u001b[38;5;241m=\u001b[39m _process_traceback_frames(e\u001b[38;5;241m.\u001b[39m__traceback__)\n",
      "File \u001b[1;32m~\\anaconda3\\Lib\\site-packages\\tensorflow\\python\\eager\\polymorphic_function\\polymorphic_function.py:833\u001b[0m, in \u001b[0;36mFunction.__call__\u001b[1;34m(self, *args, **kwds)\u001b[0m\n\u001b[0;32m    830\u001b[0m compiler \u001b[38;5;241m=\u001b[39m \u001b[38;5;124m\"\u001b[39m\u001b[38;5;124mxla\u001b[39m\u001b[38;5;124m\"\u001b[39m \u001b[38;5;28;01mif\u001b[39;00m \u001b[38;5;28mself\u001b[39m\u001b[38;5;241m.\u001b[39m_jit_compile \u001b[38;5;28;01melse\u001b[39;00m \u001b[38;5;124m\"\u001b[39m\u001b[38;5;124mnonXla\u001b[39m\u001b[38;5;124m\"\u001b[39m\n\u001b[0;32m    832\u001b[0m \u001b[38;5;28;01mwith\u001b[39;00m OptionalXlaContext(\u001b[38;5;28mself\u001b[39m\u001b[38;5;241m.\u001b[39m_jit_compile):\n\u001b[1;32m--> 833\u001b[0m   result \u001b[38;5;241m=\u001b[39m \u001b[38;5;28mself\u001b[39m\u001b[38;5;241m.\u001b[39m_call(\u001b[38;5;241m*\u001b[39margs, \u001b[38;5;241m*\u001b[39m\u001b[38;5;241m*\u001b[39mkwds)\n\u001b[0;32m    835\u001b[0m new_tracing_count \u001b[38;5;241m=\u001b[39m \u001b[38;5;28mself\u001b[39m\u001b[38;5;241m.\u001b[39mexperimental_get_tracing_count()\n\u001b[0;32m    836\u001b[0m without_tracing \u001b[38;5;241m=\u001b[39m (tracing_count \u001b[38;5;241m==\u001b[39m new_tracing_count)\n",
      "File \u001b[1;32m~\\anaconda3\\Lib\\site-packages\\tensorflow\\python\\eager\\polymorphic_function\\polymorphic_function.py:878\u001b[0m, in \u001b[0;36mFunction._call\u001b[1;34m(self, *args, **kwds)\u001b[0m\n\u001b[0;32m    875\u001b[0m \u001b[38;5;28mself\u001b[39m\u001b[38;5;241m.\u001b[39m_lock\u001b[38;5;241m.\u001b[39mrelease()\n\u001b[0;32m    876\u001b[0m \u001b[38;5;66;03m# In this case we have not created variables on the first call. So we can\u001b[39;00m\n\u001b[0;32m    877\u001b[0m \u001b[38;5;66;03m# run the first trace but we should fail if variables are created.\u001b[39;00m\n\u001b[1;32m--> 878\u001b[0m results \u001b[38;5;241m=\u001b[39m tracing_compilation\u001b[38;5;241m.\u001b[39mcall_function(\n\u001b[0;32m    879\u001b[0m     args, kwds, \u001b[38;5;28mself\u001b[39m\u001b[38;5;241m.\u001b[39m_variable_creation_config\n\u001b[0;32m    880\u001b[0m )\n\u001b[0;32m    881\u001b[0m \u001b[38;5;28;01mif\u001b[39;00m \u001b[38;5;28mself\u001b[39m\u001b[38;5;241m.\u001b[39m_created_variables:\n\u001b[0;32m    882\u001b[0m   \u001b[38;5;28;01mraise\u001b[39;00m \u001b[38;5;167;01mValueError\u001b[39;00m(\u001b[38;5;124m\"\u001b[39m\u001b[38;5;124mCreating variables on a non-first call to a function\u001b[39m\u001b[38;5;124m\"\u001b[39m\n\u001b[0;32m    883\u001b[0m                    \u001b[38;5;124m\"\u001b[39m\u001b[38;5;124m decorated with tf.function.\u001b[39m\u001b[38;5;124m\"\u001b[39m)\n",
      "File \u001b[1;32m~\\anaconda3\\Lib\\site-packages\\tensorflow\\python\\eager\\polymorphic_function\\tracing_compilation.py:137\u001b[0m, in \u001b[0;36mcall_function\u001b[1;34m(args, kwargs, tracing_options)\u001b[0m\n\u001b[0;32m    132\u001b[0m function \u001b[38;5;241m=\u001b[39m trace_function(\n\u001b[0;32m    133\u001b[0m     args\u001b[38;5;241m=\u001b[39margs, kwargs\u001b[38;5;241m=\u001b[39mkwargs, tracing_options\u001b[38;5;241m=\u001b[39mtracing_options\n\u001b[0;32m    134\u001b[0m )\n\u001b[0;32m    136\u001b[0m \u001b[38;5;66;03m# Bind it ourselves to skip unnecessary canonicalization of default call.\u001b[39;00m\n\u001b[1;32m--> 137\u001b[0m bound_args \u001b[38;5;241m=\u001b[39m function\u001b[38;5;241m.\u001b[39mfunction_type\u001b[38;5;241m.\u001b[39mbind(\u001b[38;5;241m*\u001b[39margs, \u001b[38;5;241m*\u001b[39m\u001b[38;5;241m*\u001b[39mkwargs)\n\u001b[0;32m    138\u001b[0m flat_inputs \u001b[38;5;241m=\u001b[39m function\u001b[38;5;241m.\u001b[39mfunction_type\u001b[38;5;241m.\u001b[39munpack_inputs(bound_args)\n\u001b[0;32m    139\u001b[0m \u001b[38;5;28;01mreturn\u001b[39;00m function\u001b[38;5;241m.\u001b[39m_call_flat(  \u001b[38;5;66;03m# pylint: disable=protected-access\u001b[39;00m\n\u001b[0;32m    140\u001b[0m     flat_inputs, captured_inputs\u001b[38;5;241m=\u001b[39mfunction\u001b[38;5;241m.\u001b[39mcaptured_inputs\n\u001b[0;32m    141\u001b[0m )\n",
      "File \u001b[1;32m~\\anaconda3\\Lib\\inspect.py:3207\u001b[0m, in \u001b[0;36mSignature.bind\u001b[1;34m(self, *args, **kwargs)\u001b[0m\n\u001b[0;32m   3201\u001b[0m             \u001b[38;5;28;01mraise\u001b[39;00m \u001b[38;5;167;01mTypeError\u001b[39;00m(\n\u001b[0;32m   3202\u001b[0m                 \u001b[38;5;124m'\u001b[39m\u001b[38;5;124mgot an unexpected keyword argument \u001b[39m\u001b[38;5;132;01m{arg!r}\u001b[39;00m\u001b[38;5;124m'\u001b[39m\u001b[38;5;241m.\u001b[39mformat(\n\u001b[0;32m   3203\u001b[0m                     arg\u001b[38;5;241m=\u001b[39m\u001b[38;5;28mnext\u001b[39m(\u001b[38;5;28miter\u001b[39m(kwargs))))\n\u001b[0;32m   3205\u001b[0m     \u001b[38;5;28;01mreturn\u001b[39;00m \u001b[38;5;28mself\u001b[39m\u001b[38;5;241m.\u001b[39m_bound_arguments_cls(\u001b[38;5;28mself\u001b[39m, arguments)\n\u001b[1;32m-> 3207\u001b[0m \u001b[38;5;28;01mdef\u001b[39;00m \u001b[38;5;21mbind\u001b[39m(\u001b[38;5;28mself\u001b[39m, \u001b[38;5;241m/\u001b[39m, \u001b[38;5;241m*\u001b[39margs, \u001b[38;5;241m*\u001b[39m\u001b[38;5;241m*\u001b[39mkwargs):\n\u001b[0;32m   3208\u001b[0m \u001b[38;5;250m    \u001b[39m\u001b[38;5;124;03m\"\"\"Get a BoundArguments object, that maps the passed `args`\u001b[39;00m\n\u001b[0;32m   3209\u001b[0m \u001b[38;5;124;03m    and `kwargs` to the function's signature.  Raises `TypeError`\u001b[39;00m\n\u001b[0;32m   3210\u001b[0m \u001b[38;5;124;03m    if the passed arguments can not be bound.\u001b[39;00m\n\u001b[0;32m   3211\u001b[0m \u001b[38;5;124;03m    \"\"\"\u001b[39;00m\n\u001b[0;32m   3212\u001b[0m     \u001b[38;5;28;01mreturn\u001b[39;00m \u001b[38;5;28mself\u001b[39m\u001b[38;5;241m.\u001b[39m_bind(args, kwargs)\n",
      "\u001b[1;31mKeyboardInterrupt\u001b[0m: "
     ]
    }
   ],
   "source": [
    "model.fit(X_train, y_train, epochs=30, batch_size=5, validation_split=0.2)"
   ]
  },
  {
   "cell_type": "code",
   "execution_count": null,
   "id": "3b989b2f-baa6-43f7-81ef-e2802815b402",
   "metadata": {},
   "outputs": [],
   "source": [
    "y_pred=model.predict(X_test)"
   ]
  },
  {
   "cell_type": "code",
   "execution_count": null,
   "id": "8eccf295-5a9f-4141-b9c4-dd29dccbe47c",
   "metadata": {},
   "outputs": [],
   "source": [
    "threshold = 0.5\n",
    "y_pred = (y_pred > threshold).astype(int)"
   ]
  },
  {
   "cell_type": "code",
   "execution_count": null,
   "id": "095ec912-aea7-477d-bb39-6acf59400cf2",
   "metadata": {},
   "outputs": [],
   "source": [
    "accuracy_score(y_test,y_pred)"
   ]
  },
  {
   "cell_type": "code",
   "execution_count": null,
   "id": "78b7d2d0-1a4b-4ef6-b319-5ba1ed71536d",
   "metadata": {},
   "outputs": [],
   "source": [
    "precision_score(y_test,y_pred)"
   ]
  },
  {
   "cell_type": "code",
   "execution_count": null,
   "id": "fcd04652-df81-4c0e-9497-837b2408b8fd",
   "metadata": {},
   "outputs": [],
   "source": [
    "recall_score(y_test,y_pred)"
   ]
  },
  {
   "cell_type": "code",
   "execution_count": null,
   "id": "0b8271a3-1af7-434b-a572-131bfb9e2ed9",
   "metadata": {},
   "outputs": [],
   "source": [
    "yyy=logreg.predict(X_train)"
   ]
  },
  {
   "cell_type": "code",
   "execution_count": null,
   "id": "761a5902-472d-4e91-9453-c7305e25fb84",
   "metadata": {},
   "outputs": [],
   "source": [
    "accuracy_score(y_train,yyy)"
   ]
  },
  {
   "cell_type": "code",
   "execution_count": null,
   "id": "01a5d879-0149-405f-a4d5-b2f120c8daca",
   "metadata": {},
   "outputs": [],
   "source": [
    "# GRU"
   ]
  },
  {
   "cell_type": "code",
   "execution_count": null,
   "id": "a827a35a-0e8c-471e-8ba8-67ad9d5a9803",
   "metadata": {},
   "outputs": [],
   "source": [
    "from tensorflow.keras.layers import GRU, Dense"
   ]
  },
  {
   "cell_type": "code",
   "execution_count": null,
   "id": "2443b9d6-75eb-40bf-81df-4f07d0708eb8",
   "metadata": {},
   "outputs": [],
   "source": [
    "optimizer = Adam(learning_rate=0.001)\n",
    "batch_size = 8\n",
    "epochs = 30"
   ]
  },
  {
   "cell_type": "code",
   "execution_count": null,
   "id": "d2a67993-479e-4710-9bfa-1edd659db826",
   "metadata": {},
   "outputs": [],
   "source": [
    "X_train_reshaped = np.reshape(X_train, (X_train.shape[0], 1, X_train.shape[1]))\n",
    "\n",
    "# Reshape test set: (53, 622) -> (53, 1, 622)\n",
    "X_test_reshaped = np.reshape(X_test, (X_test.shape[0], 1, X_test.shape[1]))"
   ]
  },
  {
   "cell_type": "code",
   "execution_count": null,
   "id": "e6a99802-33b1-4d66-9aca-ab6f4543101c",
   "metadata": {},
   "outputs": [],
   "source": [
    "model_gru_2hidden = Sequential()\n",
    "model_gru_2hidden.add(Input(shape=(X_train_reshaped.shape[1], X_train_reshaped.shape[2])))\n",
    "model_gru_2hidden.add(GRU(units=100, return_sequences=True))\n",
    "model_gru_2hidden.add(GRU(units=50))\n",
    "model_gru_2hidden.add(Dense(units=1, activation='sigmoid'))  # Assuming binary classification\n",
    "\n",
    "# Compile the model\n",
    "optimizer = Adam(learning_rate=0.001)\n",
    "model_gru_2hidden.compile(optimizer=optimizer, loss='binary_crossentropy', metrics=['accuracy'])"
   ]
  },
  {
   "cell_type": "code",
   "execution_count": null,
   "id": "13911309-0b94-4e88-bd7e-4b395b84ee17",
   "metadata": {},
   "outputs": [],
   "source": [
    "model_gru_2hidden.fit(X_train_reshaped, y_train, batch_size=batch_size, epochs=epochs, validation_split=0.2)"
   ]
  },
  {
   "cell_type": "code",
   "execution_count": null,
   "id": "30a586b8-a010-4960-892d-363d8538deef",
   "metadata": {},
   "outputs": [],
   "source": [
    "y_pred=model_gru_2hidden.predict(X_test_reshaped)"
   ]
  },
  {
   "cell_type": "code",
   "execution_count": null,
   "id": "030f04b3-048d-41ac-89ce-3d433f149f23",
   "metadata": {},
   "outputs": [],
   "source": [
    "y_pred.shape"
   ]
  },
  {
   "cell_type": "code",
   "execution_count": null,
   "id": "5bf2260d-513d-4e6e-b956-d28fbd6528d2",
   "metadata": {},
   "outputs": [],
   "source": [
    "threshold = 0.5\n",
    "y_pred = (y_pred > threshold).astype(int)"
   ]
  },
  {
   "cell_type": "code",
   "execution_count": null,
   "id": "6443ad69-eb8a-469e-b9c5-7f0560d86b05",
   "metadata": {},
   "outputs": [],
   "source": [
    "X_test.shape"
   ]
  },
  {
   "cell_type": "code",
   "execution_count": null,
   "id": "f448fd09-8be8-4c1d-b85e-4ba6264cc640",
   "metadata": {},
   "outputs": [],
   "source": [
    "y_pred.shape"
   ]
  },
  {
   "cell_type": "code",
   "execution_count": null,
   "id": "f899183d-9613-464e-b563-106dc414cf4c",
   "metadata": {},
   "outputs": [],
   "source": [
    "accuracy_score(y_test,y_pred)"
   ]
  },
  {
   "cell_type": "code",
   "execution_count": null,
   "id": "592acb47-a695-4759-a38b-9a81f55b6cb4",
   "metadata": {},
   "outputs": [],
   "source": [
    "precision_score(y_test,y_pred)"
   ]
  },
  {
   "cell_type": "code",
   "execution_count": null,
   "id": "aca8e4ef-aa70-4406-851e-49bac8f7d83f",
   "metadata": {},
   "outputs": [],
   "source": [
    "recall_score(y_test,y_pred)"
   ]
  },
  {
   "cell_type": "code",
   "execution_count": null,
   "id": "2c461677-e4c2-4ec9-a83a-f600e955a9d1",
   "metadata": {},
   "outputs": [],
   "source": [
    "yyy=logreg.predict(X_train)"
   ]
  },
  {
   "cell_type": "code",
   "execution_count": null,
   "id": "bcc26a15-718a-4c5d-9823-41382b3206c7",
   "metadata": {},
   "outputs": [],
   "source": [
    "accuracy_score(y_train,yyy)"
   ]
  },
  {
   "cell_type": "markdown",
   "id": "37244911-6d64-4a3b-99b4-268108f481c5",
   "metadata": {},
   "source": [
    "## local Word2Vec Model Checking"
   ]
  },
  {
   "cell_type": "code",
   "execution_count": null,
   "id": "a451e496-3647-4cb7-9b5a-e92c6212f50e",
   "metadata": {},
   "outputs": [],
   "source": [
    "# LR 0.64,0.60\n",
    "# NB 0.50,0.52\n",
    "# SVM linear 0.62,0.61\n",
    "# DT 0.41,0.82\n",
    "# RF 0.52,0.67\n",
    "# LSTM 0.49,0.89\n",
    "# GRU 0.37,0.88"
   ]
  },
  {
   "cell_type": "code",
   "execution_count": null,
   "id": "b7ee0e4a-6897-49f8-be24-bfabcc95b60c",
   "metadata": {},
   "outputs": [],
   "source": [
    "type(word2vec_matrix)"
   ]
  },
  {
   "cell_type": "code",
   "execution_count": null,
   "id": "1344909e-0bc5-4d6e-8d9b-ccd6f05b106e",
   "metadata": {},
   "outputs": [],
   "source": [
    "word2vec_matrix"
   ]
  },
  {
   "cell_type": "code",
   "execution_count": null,
   "id": "8a99ea1d-91e6-4524-af84-5ab875b6e563",
   "metadata": {},
   "outputs": [],
   "source": [
    "X_test=word2vec_matrix[-test_size:]\n",
    "y_test=df4['Label'][-test_size:]"
   ]
  },
  {
   "cell_type": "code",
   "execution_count": null,
   "id": "6d433147-6b11-4532-af8b-f2545796855f",
   "metadata": {},
   "outputs": [],
   "source": [
    "type(pre_trained_word2vec)"
   ]
  },
  {
   "cell_type": "code",
   "execution_count": null,
   "id": "46c7c787-2b94-4987-bacf-856d77a54638",
   "metadata": {},
   "outputs": [],
   "source": [
    "pre_trained_word2vec"
   ]
  },
  {
   "cell_type": "code",
   "execution_count": null,
   "id": "d005b74f-dccf-4327-ae74-f33bbc70c993",
   "metadata": {},
   "outputs": [],
   "source": [
    "comb_train=pd.concat([word2vec_matrix[:-test_size],df4['Label'][:-test_size]],axis=1)\n",
    "comb_train"
   ]
  },
  {
   "cell_type": "code",
   "execution_count": null,
   "id": "a26f4964-4d4e-4d89-b260-056e26e54b51",
   "metadata": {},
   "outputs": [],
   "source": [
    "shuffled_df = comb_train.sample(frac=1, random_state=42)"
   ]
  },
  {
   "cell_type": "code",
   "execution_count": null,
   "id": "707db3d1-ea7e-4f8c-9431-04e742377e46",
   "metadata": {},
   "outputs": [],
   "source": [
    "shuffled_df"
   ]
  },
  {
   "cell_type": "code",
   "execution_count": null,
   "id": "225c4a6f-1fb4-4c30-9194-57b358f90277",
   "metadata": {},
   "outputs": [],
   "source": [
    "X_train=shuffled_df['clean_title']\n",
    "y_train=shuffled_df['Label']"
   ]
  },
  {
   "cell_type": "code",
   "execution_count": null,
   "id": "29787044-8acd-4883-8e43-d3b0e18e09b2",
   "metadata": {},
   "outputs": [],
   "source": [
    "from sklearn.preprocessing import StandardScaler"
   ]
  },
  {
   "cell_type": "code",
   "execution_count": null,
   "id": "37bc450f-bc61-4568-83da-0da0d4dee6fe",
   "metadata": {},
   "outputs": [],
   "source": [
    "X_train=scaler.fit_transform(X_train.tolist())\n",
    "X_test=scaler.transform(X_test.tolist())"
   ]
  },
  {
   "cell_type": "code",
   "execution_count": null,
   "id": "32dbb702-bae5-4886-a29d-73cea4298cdd",
   "metadata": {},
   "outputs": [],
   "source": [
    "logreg = LogisticRegression(solver='lbfgs',max_iter=300,penalty='l2')\n",
    "logreg.fit(X_train, y_train)"
   ]
  },
  {
   "cell_type": "code",
   "execution_count": null,
   "id": "81aaf4ec-7948-4f16-9e04-181c5f7d4660",
   "metadata": {},
   "outputs": [],
   "source": [
    "y_pred = logreg.predict(X_test)"
   ]
  },
  {
   "cell_type": "code",
   "execution_count": null,
   "id": "5eb2d0d7-a842-49c0-94b0-fa8c97321750",
   "metadata": {},
   "outputs": [],
   "source": [
    "accuracy_score(y_test,y_pred)"
   ]
  },
  {
   "cell_type": "code",
   "execution_count": null,
   "id": "021cb486-a0f7-49ec-8e8f-0fd75f24f893",
   "metadata": {},
   "outputs": [],
   "source": [
    "precision_score(y_test,y_pred)"
   ]
  },
  {
   "cell_type": "code",
   "execution_count": null,
   "id": "971d40d5-e53f-40c5-b28b-1c9d4963ac09",
   "metadata": {},
   "outputs": [],
   "source": [
    "recall_score(y_test,y_pred)"
   ]
  },
  {
   "cell_type": "code",
   "execution_count": null,
   "id": "6b2c96f4-c2ba-42d3-8c45-f5f67c28e73c",
   "metadata": {},
   "outputs": [],
   "source": [
    "yyy=logreg.predict(X_train)"
   ]
  },
  {
   "cell_type": "code",
   "execution_count": null,
   "id": "49ee174b-553a-47c8-97c7-5bbe5b8d4694",
   "metadata": {},
   "outputs": [],
   "source": [
    "accuracy_score(y_train,yyy)"
   ]
  },
  {
   "cell_type": "code",
   "execution_count": null,
   "id": "c23c8064-c02c-4d9d-9b01-14fffb8d74e3",
   "metadata": {},
   "outputs": [],
   "source": [
    "# NB"
   ]
  },
  {
   "cell_type": "code",
   "execution_count": null,
   "id": "00da6ecf-f1c2-4eed-8e1b-f766309c3ddf",
   "metadata": {},
   "outputs": [],
   "source": [
    "nb_classifier = GaussianNB()\n",
    "nb_classifier.fit(X_train, y_train)"
   ]
  },
  {
   "cell_type": "code",
   "execution_count": null,
   "id": "c99e9088-8aed-4947-972a-6dc16f101cde",
   "metadata": {},
   "outputs": [],
   "source": [
    "y_pred = nb_classifier.predict(X_test)"
   ]
  },
  {
   "cell_type": "code",
   "execution_count": null,
   "id": "ec37a22a-692e-4c95-ab10-1320e0c0b4c6",
   "metadata": {},
   "outputs": [],
   "source": [
    "accuracy_score(y_test,y_pred)"
   ]
  },
  {
   "cell_type": "code",
   "execution_count": null,
   "id": "effad197-2db4-4108-b15b-830c11552560",
   "metadata": {},
   "outputs": [],
   "source": [
    "precision_score(y_test,y_pred)"
   ]
  },
  {
   "cell_type": "code",
   "execution_count": null,
   "id": "c92f6083-f3e9-4ecc-a817-520703424397",
   "metadata": {},
   "outputs": [],
   "source": [
    "recall_score(y_test,y_pred)"
   ]
  },
  {
   "cell_type": "code",
   "execution_count": null,
   "id": "e290bc80-6dbe-4729-a01d-0c54de6c2efa",
   "metadata": {},
   "outputs": [],
   "source": [
    "yyy=nb_classifier.predict(X_train)"
   ]
  },
  {
   "cell_type": "code",
   "execution_count": null,
   "id": "e75f4896-104c-4181-bf7d-77d3149757be",
   "metadata": {},
   "outputs": [],
   "source": [
    "accuracy_score(y_train,yyy)"
   ]
  },
  {
   "cell_type": "code",
   "execution_count": null,
   "id": "e3ac0bd5-1b2f-4d23-8242-0be7af1926a9",
   "metadata": {},
   "outputs": [],
   "source": [
    "# SVM"
   ]
  },
  {
   "cell_type": "code",
   "execution_count": null,
   "id": "70f0236e-ba85-4ca9-a0ed-c419d0d77cd8",
   "metadata": {},
   "outputs": [],
   "source": [
    "svm_classifier = SVC(kernel='linear', C=1, gamma='scale')\n",
    "svm_classifier.fit(X_train, y_train)"
   ]
  },
  {
   "cell_type": "code",
   "execution_count": null,
   "id": "2ee6367a-91f8-48f0-9b6e-9fe3c9794994",
   "metadata": {},
   "outputs": [],
   "source": [
    "y_pred = svm_classifier.predict(X_test)"
   ]
  },
  {
   "cell_type": "code",
   "execution_count": null,
   "id": "0ad76832-1cd6-4eb7-a725-221cc91e4179",
   "metadata": {},
   "outputs": [],
   "source": [
    "accuracy_score(y_test,y_pred)"
   ]
  },
  {
   "cell_type": "code",
   "execution_count": null,
   "id": "e7ecc728-aeff-436d-b17b-ce47289892a0",
   "metadata": {},
   "outputs": [],
   "source": [
    "precision_score(y_test,y_pred)"
   ]
  },
  {
   "cell_type": "code",
   "execution_count": null,
   "id": "2b26ee20-0e2d-4e2e-bef3-00426e2a4d39",
   "metadata": {},
   "outputs": [],
   "source": [
    "recall_score(y_test,y_pred)"
   ]
  },
  {
   "cell_type": "code",
   "execution_count": null,
   "id": "f843f19c-f9a9-4aef-a982-ddda276aa3a2",
   "metadata": {},
   "outputs": [],
   "source": [
    "yyy=svm_classifier.predict(X_train)"
   ]
  },
  {
   "cell_type": "code",
   "execution_count": null,
   "id": "f7170915-6f16-4be4-840c-101b68601fa7",
   "metadata": {},
   "outputs": [],
   "source": [
    "accuracy_score(y_train,yyy)"
   ]
  },
  {
   "cell_type": "code",
   "execution_count": null,
   "id": "b6e93578-790f-42c4-b8db-ee35ffe27b06",
   "metadata": {},
   "outputs": [],
   "source": [
    "# DT"
   ]
  },
  {
   "cell_type": "code",
   "execution_count": null,
   "id": "783fe7f9-4f56-4bf6-8a9a-bad3c9cb73e8",
   "metadata": {},
   "outputs": [],
   "source": [
    "dt_classifier = DecisionTreeClassifier(random_state=42,max_depth=10)\n",
    "dt_classifier.fit(X_train.tolist(), y_train)"
   ]
  },
  {
   "cell_type": "code",
   "execution_count": null,
   "id": "f61680bd-b9a0-4b4d-b968-bc55729cda13",
   "metadata": {},
   "outputs": [],
   "source": [
    "y_pred = dt_classifier.predict(X_test.tolist())"
   ]
  },
  {
   "cell_type": "code",
   "execution_count": null,
   "id": "771b6be8-1cb4-4bb0-b1d6-fd67adf561cb",
   "metadata": {},
   "outputs": [],
   "source": [
    "accuracy_score(y_test,y_pred)"
   ]
  },
  {
   "cell_type": "code",
   "execution_count": null,
   "id": "a3fd0a9e-19b8-4e1e-add9-e7d2cae6a0c9",
   "metadata": {},
   "outputs": [],
   "source": [
    "precision_score(y_test,y_pred)"
   ]
  },
  {
   "cell_type": "code",
   "execution_count": null,
   "id": "6bc301b4-aeb6-4b0f-b1ce-636fff8dadca",
   "metadata": {},
   "outputs": [],
   "source": [
    "recall_score(y_test,y_pred)"
   ]
  },
  {
   "cell_type": "code",
   "execution_count": null,
   "id": "1abecbe8-3332-4064-80b2-3845a256f3d6",
   "metadata": {},
   "outputs": [],
   "source": [
    "yyy=dt_classifier.predict(X_train.tolist())"
   ]
  },
  {
   "cell_type": "code",
   "execution_count": null,
   "id": "0127ad02-d47b-48cf-9c1d-4776f3088b9b",
   "metadata": {},
   "outputs": [],
   "source": [
    "accuracy_score(y_train,yyy)"
   ]
  },
  {
   "cell_type": "code",
   "execution_count": null,
   "id": "fb6976e4-9fd7-4e04-a6ad-9aa7d8be7013",
   "metadata": {},
   "outputs": [],
   "source": [
    "# RF"
   ]
  },
  {
   "cell_type": "code",
   "execution_count": null,
   "id": "df49164e-b2b2-400b-b68d-dd4c1a1b53a1",
   "metadata": {},
   "outputs": [],
   "source": [
    "rf_classifier = RandomForestClassifier(n_estimators=5,random_state=42,max_depth=5)"
   ]
  },
  {
   "cell_type": "code",
   "execution_count": null,
   "id": "d5d84380-7704-42b9-926a-84e84f37b97d",
   "metadata": {},
   "outputs": [],
   "source": [
    "rf_classifier.fit(X_train.tolist(), y_train)"
   ]
  },
  {
   "cell_type": "code",
   "execution_count": null,
   "id": "57c51a36-6683-4ae0-b4b9-a932b06247de",
   "metadata": {},
   "outputs": [],
   "source": [
    "y_pred = rf_classifier.predict(X_test.tolist())"
   ]
  },
  {
   "cell_type": "code",
   "execution_count": null,
   "id": "3c96ab7f-61d5-46ae-a88b-31b688f2ed0a",
   "metadata": {},
   "outputs": [],
   "source": [
    "accuracy_score(y_test,y_pred)"
   ]
  },
  {
   "cell_type": "code",
   "execution_count": null,
   "id": "b6000a4d-dafc-4fda-81e6-8c357b40f5ed",
   "metadata": {},
   "outputs": [],
   "source": [
    "precision_score(y_test,y_pred)"
   ]
  },
  {
   "cell_type": "code",
   "execution_count": null,
   "id": "0630461f-bd77-411b-8402-e6d8ba264696",
   "metadata": {},
   "outputs": [],
   "source": [
    "recall_score(y_test,y_pred)"
   ]
  },
  {
   "cell_type": "code",
   "execution_count": null,
   "id": "25154fb9-83a2-4013-8a7f-282b2bfb7ccd",
   "metadata": {},
   "outputs": [],
   "source": [
    "yyy=rf_classifier.predict(X_train.tolist())"
   ]
  },
  {
   "cell_type": "code",
   "execution_count": null,
   "id": "ef752014-b180-436c-9fc2-d5e741cedb80",
   "metadata": {},
   "outputs": [],
   "source": [
    "accuracy_score(y_train,yyy)"
   ]
  },
  {
   "cell_type": "code",
   "execution_count": null,
   "id": "7a51d283-71a2-4abd-9283-972b6349d985",
   "metadata": {},
   "outputs": [],
   "source": [
    "# LSTM"
   ]
  },
  {
   "cell_type": "code",
   "execution_count": null,
   "id": "d349d99e-73fe-4bf5-bacc-bedc2b3be947",
   "metadata": {},
   "outputs": [],
   "source": [
    "X_train.shape"
   ]
  },
  {
   "cell_type": "code",
   "execution_count": null,
   "id": "088a9402-3e6f-42c2-8ff8-2c1bbf9c56f0",
   "metadata": {},
   "outputs": [],
   "source": [
    "model = Sequential()\n",
    "model.add(Input(shape=(100,)))  # Input shape: (622,)\n",
    "model.add(Reshape((1, 100)))  # Reshape to (batch_size, timesteps, input_dim)\n",
    "model.add(LSTM(100, return_sequences=True))\n",
    "model.add(LSTM(50))\n",
    "model.add(Dense(1, activation='sigmoid'))  # Assuming binary classification\n",
    "\n",
    "# Compile the model\n",
    "optimizer = Adam(learning_rate=0.001)\n",
    "model.compile(optimizer=optimizer, loss='binary_crossentropy', metrics=['accuracy'])"
   ]
  },
  {
   "cell_type": "code",
   "execution_count": null,
   "id": "20fdebee-9a15-47f2-a772-7ccbd42ad4df",
   "metadata": {},
   "outputs": [],
   "source": [
    "model.fit(X_train, y_train, epochs=30, batch_size=5, validation_split=0.2)"
   ]
  },
  {
   "cell_type": "code",
   "execution_count": null,
   "id": "13ead1ec-2dd5-463a-a642-e9274ce52654",
   "metadata": {},
   "outputs": [],
   "source": [
    "y_pred=model.predict(X_test)"
   ]
  },
  {
   "cell_type": "code",
   "execution_count": null,
   "id": "a7d0a072-581b-4a91-8c22-25c0d2b62923",
   "metadata": {},
   "outputs": [],
   "source": [
    "threshold = 0.5\n",
    "y_pred = (y_pred > threshold).astype(int)"
   ]
  },
  {
   "cell_type": "code",
   "execution_count": null,
   "id": "dd2fe38d-dae2-4d96-8d2b-ce6bf59a7bea",
   "metadata": {},
   "outputs": [],
   "source": [
    "accuracy_score(y_test,y_pred)"
   ]
  },
  {
   "cell_type": "code",
   "execution_count": null,
   "id": "635cf781-8cf7-4ac4-a437-373efa19fc85",
   "metadata": {},
   "outputs": [],
   "source": [
    "precision_score(y_test,y_pred)"
   ]
  },
  {
   "cell_type": "code",
   "execution_count": null,
   "id": "aa9f2640-541d-4a1d-bdf8-6d8ab17165cc",
   "metadata": {},
   "outputs": [],
   "source": [
    "recall_score(y_test,y_pred)"
   ]
  },
  {
   "cell_type": "code",
   "execution_count": null,
   "id": "ac7811ee-8a31-4209-b894-73bbf5c83c98",
   "metadata": {},
   "outputs": [],
   "source": [
    "yyy=model.predict(X_train)"
   ]
  },
  {
   "cell_type": "code",
   "execution_count": null,
   "id": "6c055349-a461-460f-880c-96fa399e379d",
   "metadata": {},
   "outputs": [],
   "source": [
    "threshold = 0.5\n",
    "yyy = (yyy > threshold).astype(int)"
   ]
  },
  {
   "cell_type": "code",
   "execution_count": null,
   "id": "2d5bce67-6f1f-47b2-8fce-c76ae039f734",
   "metadata": {},
   "outputs": [],
   "source": [
    "accuracy_score(y_train,yyy)"
   ]
  },
  {
   "cell_type": "code",
   "execution_count": null,
   "id": "124b62f9-0310-4cea-adcc-0bf4b14885fe",
   "metadata": {},
   "outputs": [],
   "source": [
    "# GRU"
   ]
  },
  {
   "cell_type": "code",
   "execution_count": null,
   "id": "2f78c353-3baa-4e2c-adec-866bec59f9bd",
   "metadata": {},
   "outputs": [],
   "source": [
    "optimizer = Adam(learning_rate=0.001)\n",
    "batch_size = 8\n",
    "epochs = 30"
   ]
  },
  {
   "cell_type": "code",
   "execution_count": null,
   "id": "c8a3931b-140b-4305-9ad4-152b81a9ebfa",
   "metadata": {},
   "outputs": [],
   "source": [
    "X_train_reshaped = np.reshape(X_train, (X_train.shape[0], 1, X_train.shape[1]))\n",
    "\n",
    "# Reshape test set: (53, 622) -> (53, 1, 622)\n",
    "X_test_reshaped = np.reshape(X_test, (X_test.shape[0], 1, X_test.shape[1]))"
   ]
  },
  {
   "cell_type": "code",
   "execution_count": null,
   "id": "ac68dbe0-dd0d-4b5e-9abd-25996e3bdfa3",
   "metadata": {},
   "outputs": [],
   "source": [
    "model_gru_2hidden = Sequential()\n",
    "model_gru_2hidden.add(Input(shape=(X_train_reshaped.shape[1], X_train_reshaped.shape[2])))\n",
    "model_gru_2hidden.add(GRU(units=100, return_sequences=True))\n",
    "model_gru_2hidden.add(GRU(units=50))\n",
    "model_gru_2hidden.add(Dense(units=1, activation='sigmoid'))  # Assuming binary classification\n",
    "\n",
    "# Compile the model\n",
    "optimizer = Adam(learning_rate=0.001)\n",
    "model_gru_2hidden.compile(optimizer=optimizer, loss='binary_crossentropy', metrics=['accuracy'])"
   ]
  },
  {
   "cell_type": "code",
   "execution_count": null,
   "id": "32cd171e-a651-4572-ba43-96e91a1b69c1",
   "metadata": {},
   "outputs": [],
   "source": [
    "model_gru_2hidden.fit(X_train_reshaped, y_train, batch_size=batch_size, epochs=epochs, validation_split=0.2)"
   ]
  },
  {
   "cell_type": "code",
   "execution_count": null,
   "id": "12576b5a-f58a-4a2b-b1d5-213917f5a52f",
   "metadata": {},
   "outputs": [],
   "source": [
    "y_pred=model_gru_2hidden.predict(X_test_reshaped)"
   ]
  },
  {
   "cell_type": "code",
   "execution_count": null,
   "id": "239c38e8-dc52-42cf-b61a-87dd977ec8d4",
   "metadata": {},
   "outputs": [],
   "source": [
    "threshold = 0.5\n",
    "y_pred = (y_pred >= threshold).astype(int)"
   ]
  },
  {
   "cell_type": "code",
   "execution_count": null,
   "id": "f81b5abd-7820-4739-87c4-b6ecbdcac017",
   "metadata": {},
   "outputs": [],
   "source": [
    "accuracy_score(y_test,y_pred)"
   ]
  },
  {
   "cell_type": "code",
   "execution_count": null,
   "id": "68ecfb6b-9dcc-4016-8591-19ee9ef7ae58",
   "metadata": {},
   "outputs": [],
   "source": [
    "precision_score(y_test,y_pred)"
   ]
  },
  {
   "cell_type": "code",
   "execution_count": null,
   "id": "a62c8d9b-0db4-4190-ab75-482e7dc5b1f6",
   "metadata": {},
   "outputs": [],
   "source": [
    "recall_score(y_test,y_pred)"
   ]
  },
  {
   "cell_type": "code",
   "execution_count": null,
   "id": "c927d6c1-e090-47b1-8959-0d315f9fae14",
   "metadata": {},
   "outputs": [],
   "source": [
    "yyy=model_gru_2hidden.predict(X_train_reshaped)"
   ]
  },
  {
   "cell_type": "code",
   "execution_count": null,
   "id": "c75e69c1-2c5c-40c7-bd21-26df6ca52fe5",
   "metadata": {},
   "outputs": [],
   "source": [
    "threshold = 0.5\n",
    "yyy = (yyy > threshold).astype(int)"
   ]
  },
  {
   "cell_type": "code",
   "execution_count": null,
   "id": "72914064-7c63-4c0f-aac0-4530e3f4e17c",
   "metadata": {},
   "outputs": [],
   "source": [
    "accuracy_score(y_train,yyy)"
   ]
  },
  {
   "cell_type": "code",
   "execution_count": null,
   "id": "16ac0c7f-bd03-42db-87c8-41ce40aaf6a9",
   "metadata": {},
   "outputs": [],
   "source": [
    "y_test.sum()"
   ]
  },
  {
   "cell_type": "markdown",
   "id": "772367d7-e958-412a-a847-987ff229fb67",
   "metadata": {},
   "source": [
    "## Sentiment Intensity Analyser Model Checking"
   ]
  },
  {
   "cell_type": "code",
   "execution_count": null,
   "id": "a71fe1e8-28b8-4962-8251-39097f729811",
   "metadata": {},
   "outputs": [],
   "source": [
    "# LR 0.54,0.53\n",
    "# NB 0.50,0.53\n",
    "# SVM linear 0.50,0.56\n",
    "# DT 0.56,0.91\n",
    "# RF 0.50,0.89\n",
    "# LSTM 0.549,0.548\n",
    "# GRU 0.54,0.55"
   ]
  },
  {
   "cell_type": "code",
   "execution_count": null,
   "id": "265803d8-cda0-49d2-92c3-60ce176fa140",
   "metadata": {},
   "outputs": [],
   "source": [
    "type(sentiment_scores)"
   ]
  },
  {
   "cell_type": "code",
   "execution_count": null,
   "id": "c017ba19-ab37-4a68-a7b9-03c8d3d7c825",
   "metadata": {},
   "outputs": [],
   "source": [
    "compound_sentiment"
   ]
  },
  {
   "cell_type": "code",
   "execution_count": null,
   "id": "4a2182ed-1a8f-4e8f-8ca5-df56712abe1d",
   "metadata": {},
   "outputs": [],
   "source": [
    "neg_sentiment = sentiment_scores.apply(lambda x: x['neg'])\n",
    "neg_sentiment"
   ]
  },
  {
   "cell_type": "code",
   "execution_count": null,
   "id": "52975ab8-5494-48a8-9ad4-fa2d10b8e881",
   "metadata": {},
   "outputs": [],
   "source": [
    "pos_sentiment = sentiment_scores.apply(lambda x: x['pos'])\n",
    "pos_sentiment"
   ]
  },
  {
   "cell_type": "code",
   "execution_count": null,
   "id": "58b0750c-7d2c-48ac-8ef9-fe0752fb030f",
   "metadata": {},
   "outputs": [],
   "source": [
    "neu_sentiment = sentiment_scores.apply(lambda x: x['neu'])\n",
    "neu_sentiment"
   ]
  },
  {
   "cell_type": "code",
   "execution_count": null,
   "id": "7ac336cd-d486-4539-9464-b4dabab17dfd",
   "metadata": {},
   "outputs": [],
   "source": [
    "type(neg_sentiment)"
   ]
  },
  {
   "cell_type": "code",
   "execution_count": null,
   "id": "58abd57b-7204-4ef5-a3bb-ec1e5e7a2621",
   "metadata": {},
   "outputs": [],
   "source": [
    "sentiment_df=pd.concat([neg_sentiment,neu_sentiment,pos_sentiment,compound_sentiment],axis=1)\n",
    "sentiment_df.columns=['neg','neu','pos','compound']\n",
    "sentiment_df"
   ]
  },
  {
   "cell_type": "code",
   "execution_count": null,
   "id": "dcd7bbe4-69a7-4e29-b220-511862b1f9cd",
   "metadata": {},
   "outputs": [],
   "source": [
    "X_test=sentiment_df[-test_size:]\n",
    "y_test=df4['Label'][-test_size:]\n"
   ]
  },
  {
   "cell_type": "code",
   "execution_count": null,
   "id": "fdc0984a-d6ec-4f50-a4b9-ba28a7eb794a",
   "metadata": {},
   "outputs": [],
   "source": [
    "type(X_test)"
   ]
  },
  {
   "cell_type": "code",
   "execution_count": null,
   "id": "e84d1e39-a8ec-46db-ad3e-e37b0a840273",
   "metadata": {},
   "outputs": [],
   "source": [
    "comb_train=pd.concat([sentiment_df[:-test_size],df4['Label'][:-test_size]],axis=1)\n",
    "comb_train"
   ]
  },
  {
   "cell_type": "code",
   "execution_count": null,
   "id": "c68eddf9-6908-4957-9e51-a303ce4d50bc",
   "metadata": {},
   "outputs": [],
   "source": [
    "shuffled_df = comb_train.sample(frac=1, random_state=42)\n",
    "shuffled_df"
   ]
  },
  {
   "cell_type": "code",
   "execution_count": null,
   "id": "73303774-0773-4d49-91ab-9813515f9d7e",
   "metadata": {},
   "outputs": [],
   "source": [
    "needed_col=['neg','neu','pos','compound']"
   ]
  },
  {
   "cell_type": "code",
   "execution_count": null,
   "id": "c5f73f85-d21b-4fdd-97d1-eab8a189b80b",
   "metadata": {},
   "outputs": [],
   "source": [
    "X_train=shuffled_df[needed_col]\n",
    "y_train=shuffled_df['Label']"
   ]
  },
  {
   "cell_type": "code",
   "execution_count": null,
   "id": "3eb86cfa-5f2a-40c2-beff-43208e81329a",
   "metadata": {},
   "outputs": [],
   "source": [
    "from sklearn.preprocessing import StandardScaler"
   ]
  },
  {
   "cell_type": "code",
   "execution_count": null,
   "id": "be97cb7d-6a4f-4f92-98ff-754b8f484db2",
   "metadata": {},
   "outputs": [],
   "source": [
    "X_train=scaler.fit_transform(X_train)\n",
    "X_test=scaler.transform(X_test)"
   ]
  },
  {
   "cell_type": "code",
   "execution_count": null,
   "id": "c3fbd934-704e-421f-a402-67de35bb00f4",
   "metadata": {},
   "outputs": [],
   "source": [
    "logreg = LogisticRegression(solver='liblinear',max_iter=50,penalty='l1')\n",
    "logreg.fit(X_train, y_train)"
   ]
  },
  {
   "cell_type": "code",
   "execution_count": null,
   "id": "3c2c3145-a7b5-4edd-acca-938d71656c70",
   "metadata": {},
   "outputs": [],
   "source": [
    "y_pred = logreg.predict(X_test)"
   ]
  },
  {
   "cell_type": "code",
   "execution_count": null,
   "id": "6fb304ea-80ae-411a-bcd4-caabf78400da",
   "metadata": {},
   "outputs": [],
   "source": [
    "accuracy_score(y_test,y_pred)"
   ]
  },
  {
   "cell_type": "code",
   "execution_count": null,
   "id": "d17fa404-0980-46c4-84d2-1d67982bc0df",
   "metadata": {},
   "outputs": [],
   "source": [
    "precision_score(y_test,y_pred)"
   ]
  },
  {
   "cell_type": "code",
   "execution_count": null,
   "id": "975f8255-2721-4af7-aa57-193703fc55e0",
   "metadata": {},
   "outputs": [],
   "source": [
    "recall_score(y_test,y_pred)"
   ]
  },
  {
   "cell_type": "code",
   "execution_count": null,
   "id": "4e5425eb-37e8-42ee-9a67-046a0af9170b",
   "metadata": {},
   "outputs": [],
   "source": [
    "yyy=logreg.predict(X_train)"
   ]
  },
  {
   "cell_type": "code",
   "execution_count": null,
   "id": "28cb6586-f259-437e-9e28-d36c05c24d93",
   "metadata": {},
   "outputs": [],
   "source": [
    "accuracy_score(y_train,yyy)"
   ]
  },
  {
   "cell_type": "code",
   "execution_count": null,
   "id": "e7911f7c-e325-4b0c-8a12-c2274c9c6f10",
   "metadata": {},
   "outputs": [],
   "source": [
    "# NB"
   ]
  },
  {
   "cell_type": "code",
   "execution_count": null,
   "id": "3bf76d54-7ce6-485b-99e5-e11b902c77b5",
   "metadata": {},
   "outputs": [],
   "source": [
    "nb_classifier = GaussianNB()\n",
    "nb_classifier.fit(X_train, y_train)"
   ]
  },
  {
   "cell_type": "code",
   "execution_count": null,
   "id": "c38ec00d-c5bb-4715-84b9-92f93dec6d4c",
   "metadata": {},
   "outputs": [],
   "source": [
    "y_pred = nb_classifier.predict(X_test)"
   ]
  },
  {
   "cell_type": "code",
   "execution_count": null,
   "id": "f79baf7a-4d12-467b-bac0-2ac1db2c5765",
   "metadata": {},
   "outputs": [],
   "source": [
    "accuracy_score(y_test,y_pred)"
   ]
  },
  {
   "cell_type": "code",
   "execution_count": null,
   "id": "03c90fd0-f5ad-489a-87ab-990d307a148e",
   "metadata": {},
   "outputs": [],
   "source": [
    "precision_score(y_test,y_pred)"
   ]
  },
  {
   "cell_type": "code",
   "execution_count": null,
   "id": "5c3ab327-cfa4-4770-b937-2027a81237b5",
   "metadata": {},
   "outputs": [],
   "source": [
    "recall_score(y_test,y_pred)"
   ]
  },
  {
   "cell_type": "code",
   "execution_count": null,
   "id": "50880ccc-9fe8-428c-8b33-b68d4499cca7",
   "metadata": {},
   "outputs": [],
   "source": [
    "yyy=nb_classifier.predict(X_train)"
   ]
  },
  {
   "cell_type": "code",
   "execution_count": null,
   "id": "4486fb42-30bd-4c5b-a525-fd6243564fdf",
   "metadata": {},
   "outputs": [],
   "source": [
    "accuracy_score(y_train,yyy)"
   ]
  },
  {
   "cell_type": "code",
   "execution_count": null,
   "id": "41e1840b-9c10-4ed2-88be-486950b674de",
   "metadata": {},
   "outputs": [],
   "source": [
    "# SVM linear"
   ]
  },
  {
   "cell_type": "code",
   "execution_count": null,
   "id": "c6015294-734a-42dd-8f39-c2e31c4a87c2",
   "metadata": {},
   "outputs": [],
   "source": [
    "svm_classifier = SVC(kernel='rbf', C=2, gamma='scale')\n",
    "svm_classifier.fit(X_train, y_train)"
   ]
  },
  {
   "cell_type": "code",
   "execution_count": null,
   "id": "8087bd36-ec88-44d0-8e5e-d90073098400",
   "metadata": {},
   "outputs": [],
   "source": [
    "y_pred = svm_classifier.predict(X_test)"
   ]
  },
  {
   "cell_type": "code",
   "execution_count": null,
   "id": "da4b1079-fc1f-488c-a8f3-d2915e936bd0",
   "metadata": {},
   "outputs": [],
   "source": [
    "accuracy_score(y_test,y_pred)"
   ]
  },
  {
   "cell_type": "code",
   "execution_count": null,
   "id": "56c43c62-e6f5-4367-af40-918dd8b8d38a",
   "metadata": {},
   "outputs": [],
   "source": [
    "precision_score(y_test,y_pred)"
   ]
  },
  {
   "cell_type": "code",
   "execution_count": null,
   "id": "c7320341-d8bf-4a7a-8e0b-1113e5eda135",
   "metadata": {},
   "outputs": [],
   "source": [
    "recall_score(y_test,y_pred)"
   ]
  },
  {
   "cell_type": "code",
   "execution_count": null,
   "id": "15b331af-d3ff-4b38-93e5-383c5b7d6a6f",
   "metadata": {},
   "outputs": [],
   "source": [
    "yyy=svm_classifier.predict(X_train)"
   ]
  },
  {
   "cell_type": "code",
   "execution_count": null,
   "id": "259cae35-a0ac-4923-9adc-ee76ed8139e3",
   "metadata": {},
   "outputs": [],
   "source": [
    "accuracy_score(y_train,yyy)"
   ]
  },
  {
   "cell_type": "code",
   "execution_count": null,
   "id": "b8107588-eba4-4227-a6d4-c317b7a2992d",
   "metadata": {},
   "outputs": [],
   "source": [
    "# DT"
   ]
  },
  {
   "cell_type": "code",
   "execution_count": null,
   "id": "622d451c-f794-4012-b353-9aab067a15f2",
   "metadata": {},
   "outputs": [],
   "source": [
    "dt_classifier = DecisionTreeClassifier(random_state=42,max_depth=20)\n",
    "dt_classifier.fit(X_train, y_train)"
   ]
  },
  {
   "cell_type": "code",
   "execution_count": null,
   "id": "cd565e44-0063-419e-98fd-968bc8e4f195",
   "metadata": {},
   "outputs": [],
   "source": [
    "y_pred = dt_classifier.predict(X_test)"
   ]
  },
  {
   "cell_type": "code",
   "execution_count": null,
   "id": "18c197b0-b16e-4618-84c5-63ddffce8fb1",
   "metadata": {},
   "outputs": [],
   "source": [
    "accuracy_score(y_test,y_pred)"
   ]
  },
  {
   "cell_type": "code",
   "execution_count": null,
   "id": "0c58513b-f836-47e1-8c13-a1aaeb729606",
   "metadata": {},
   "outputs": [],
   "source": [
    "precision_score(y_test,y_pred)"
   ]
  },
  {
   "cell_type": "code",
   "execution_count": null,
   "id": "87077bcd-064c-471f-a392-67b41a2476f3",
   "metadata": {},
   "outputs": [],
   "source": [
    "recall_score(y_test,y_pred)"
   ]
  },
  {
   "cell_type": "code",
   "execution_count": null,
   "id": "8a5acbaa-31d0-4e6b-a88f-dd6975455e8a",
   "metadata": {},
   "outputs": [],
   "source": [
    "yyy=dt_classifier.predict(X_train)"
   ]
  },
  {
   "cell_type": "code",
   "execution_count": null,
   "id": "264b9bb3-bc70-4f49-a042-8d9298f3d2cd",
   "metadata": {},
   "outputs": [],
   "source": [
    "accuracy_score(y_train,yyy)"
   ]
  },
  {
   "cell_type": "code",
   "execution_count": null,
   "id": "a20f5db9-6377-489a-b19c-0e4374bbee07",
   "metadata": {},
   "outputs": [],
   "source": [
    "# RF"
   ]
  },
  {
   "cell_type": "code",
   "execution_count": null,
   "id": "0fc646e4-c4ef-4eac-9530-fc7f26fd9a1b",
   "metadata": {},
   "outputs": [],
   "source": [
    "rf_classifier = RandomForestClassifier(random_state=42,n_estimators=50,max_depth=10)"
   ]
  },
  {
   "cell_type": "code",
   "execution_count": null,
   "id": "6c722933-9b2b-4872-9ab4-d0aa7bd76a80",
   "metadata": {},
   "outputs": [],
   "source": [
    "rf_classifier.fit(X_train, y_train)"
   ]
  },
  {
   "cell_type": "code",
   "execution_count": null,
   "id": "afc12cdd-62ab-4ea2-a0b5-fa253a50fd92",
   "metadata": {},
   "outputs": [],
   "source": [
    "y_pred = rf_classifier.predict(X_test)"
   ]
  },
  {
   "cell_type": "code",
   "execution_count": null,
   "id": "5990e13c-76da-4875-be4d-f606e3ee9f9e",
   "metadata": {},
   "outputs": [],
   "source": [
    "accuracy_score(y_test,y_pred)"
   ]
  },
  {
   "cell_type": "code",
   "execution_count": null,
   "id": "1445e542-2c11-45de-a323-2d6c3696b41b",
   "metadata": {},
   "outputs": [],
   "source": [
    "precision_score(y_test,y_pred)"
   ]
  },
  {
   "cell_type": "code",
   "execution_count": null,
   "id": "f87396f7-0b27-409d-bcf0-17e6a9d99406",
   "metadata": {},
   "outputs": [],
   "source": [
    "recall_score(y_test,y_pred)"
   ]
  },
  {
   "cell_type": "code",
   "execution_count": null,
   "id": "45cd14e3-ac5c-43bf-8f7b-71048ae8bbb5",
   "metadata": {},
   "outputs": [],
   "source": [
    "yyy=rf_classifier.predict(X_train)"
   ]
  },
  {
   "cell_type": "code",
   "execution_count": null,
   "id": "2206d19f-b15e-4cd4-b8f5-917d9322f7d0",
   "metadata": {},
   "outputs": [],
   "source": [
    "accuracy_score(y_train,yyy)"
   ]
  },
  {
   "cell_type": "code",
   "execution_count": null,
   "id": "318f52ae-0a5d-4b76-b6e6-8cb5f72ddc6b",
   "metadata": {},
   "outputs": [],
   "source": [
    "# LSTM"
   ]
  },
  {
   "cell_type": "code",
   "execution_count": null,
   "id": "da97e028-c5b9-4e20-a0f6-1427b7d928b5",
   "metadata": {},
   "outputs": [],
   "source": [
    "model = Sequential()\n",
    "model.add(Input(shape=(4,)))  # Input shape: (622,)\n",
    "model.add(Reshape((1, 4)))  # Reshape to (batch_size, timesteps, input_dim)\n",
    "model.add(LSTM(100, return_sequences=True))\n",
    "model.add(LSTM(50))\n",
    "model.add(Dense(1, activation='sigmoid'))  # Assuming binary classification\n",
    "\n",
    "# Compile the model\n",
    "optimizer = Adam(learning_rate=0.001)\n",
    "model.compile(optimizer=optimizer, loss='binary_crossentropy', metrics=['accuracy'])"
   ]
  },
  {
   "cell_type": "code",
   "execution_count": null,
   "id": "72b6ac55-91dc-4fff-8a72-972487e8a2ee",
   "metadata": {},
   "outputs": [],
   "source": [
    "model.fit(X_train, y_train, epochs=30, batch_size=5, validation_split=0.2)"
   ]
  },
  {
   "cell_type": "code",
   "execution_count": null,
   "id": "3cfd2e89-1db9-4211-9211-aef7f2a5348f",
   "metadata": {},
   "outputs": [],
   "source": [
    "y_pred=model.predict(X_test)"
   ]
  },
  {
   "cell_type": "code",
   "execution_count": null,
   "id": "ac861798-c62a-40df-ac63-72c7e0358418",
   "metadata": {},
   "outputs": [],
   "source": [
    "threshold = 0.5\n",
    "y_pred = (y_pred > threshold).astype(int)"
   ]
  },
  {
   "cell_type": "code",
   "execution_count": null,
   "id": "21e97421-7318-42c3-b08d-81b5653b3daf",
   "metadata": {},
   "outputs": [],
   "source": [
    "accuracy_score(y_test,y_pred)"
   ]
  },
  {
   "cell_type": "code",
   "execution_count": null,
   "id": "8dc3a623-49a9-4035-8ea7-c32f216d600b",
   "metadata": {},
   "outputs": [],
   "source": [
    "precision_score(y_test,y_pred)"
   ]
  },
  {
   "cell_type": "code",
   "execution_count": null,
   "id": "311c8578-34df-499b-8cf7-49ed96b29bf7",
   "metadata": {},
   "outputs": [],
   "source": [
    "recall_score(y_test,y_pred)"
   ]
  },
  {
   "cell_type": "code",
   "execution_count": null,
   "id": "0b19cb03-c974-4916-9adb-d429bdc422c7",
   "metadata": {},
   "outputs": [],
   "source": [
    "yyy=model.predict(X_train)"
   ]
  },
  {
   "cell_type": "code",
   "execution_count": null,
   "id": "c0a326d9-e4a4-46f9-a75e-e558c2a1fe5c",
   "metadata": {},
   "outputs": [],
   "source": [
    "threshold = 0.5\n",
    "yyy = (yyy > threshold).astype(int)"
   ]
  },
  {
   "cell_type": "code",
   "execution_count": null,
   "id": "88c1ffcb-5ee0-4751-a7c1-6abb6a51d17f",
   "metadata": {},
   "outputs": [],
   "source": [
    "accuracy_score(y_train,yyy)"
   ]
  },
  {
   "cell_type": "code",
   "execution_count": null,
   "id": "57545bc1-7292-4916-80b7-3b2232d90919",
   "metadata": {},
   "outputs": [],
   "source": [
    "# GRU"
   ]
  },
  {
   "cell_type": "code",
   "execution_count": null,
   "id": "3e1aaae5-724e-44ab-856c-4b43991c992d",
   "metadata": {},
   "outputs": [],
   "source": [
    "optimizer = Adam(learning_rate=0.001)\n",
    "batch_size = 8\n",
    "epochs = 30"
   ]
  },
  {
   "cell_type": "code",
   "execution_count": null,
   "id": "f661d7cb-ef66-402a-9b20-ada1887f6d32",
   "metadata": {},
   "outputs": [],
   "source": [
    "X_train_reshaped = np.reshape(X_train, (X_train.shape[0], 1, X_train.shape[1]))\n",
    "# Reshape test set: (53, 622) -> (53, 1, 622)\n",
    "X_test_reshaped = np.reshape(X_test, (X_test.shape[0], 1, X_test.shape[1]))"
   ]
  },
  {
   "cell_type": "code",
   "execution_count": null,
   "id": "1cbca4f4-abb5-4509-96ae-70dac56c7906",
   "metadata": {},
   "outputs": [],
   "source": [
    "model_gru_2hidden = Sequential()\n",
    "model_gru_2hidden.add(Input(shape=(X_train_reshaped.shape[1], X_train_reshaped.shape[2])))\n",
    "model_gru_2hidden.add(GRU(units=100, return_sequences=True))\n",
    "model_gru_2hidden.add(GRU(units=50))\n",
    "model_gru_2hidden.add(Dense(units=1, activation='sigmoid'))  # Assuming binary classification\n",
    "\n",
    "# Compile the model\n",
    "optimizer = Adam(learning_rate=0.001)\n",
    "model_gru_2hidden.compile(optimizer=optimizer, loss='binary_crossentropy', metrics=['accuracy'])"
   ]
  },
  {
   "cell_type": "code",
   "execution_count": null,
   "id": "97044592-f2b2-4732-b9e3-f067cd6104a6",
   "metadata": {},
   "outputs": [],
   "source": [
    "model_gru_2hidden.fit(X_train_reshaped, y_train, batch_size=batch_size, epochs=epochs, validation_split=0.2)\n",
    "                      "
   ]
  },
  {
   "cell_type": "code",
   "execution_count": null,
   "id": "bbabe074-f255-4677-b8ea-400a56743878",
   "metadata": {},
   "outputs": [],
   "source": [
    "y_pred=model_gru_2hidden.predict(X_test_reshaped)"
   ]
  },
  {
   "cell_type": "code",
   "execution_count": null,
   "id": "35ff71db-1757-4a4f-9bfc-8915bba30ec6",
   "metadata": {},
   "outputs": [],
   "source": [
    "threshold = 0.5\n",
    "y_pred = (y_pred > threshold).astype(int)"
   ]
  },
  {
   "cell_type": "code",
   "execution_count": null,
   "id": "1827c0c7-1d86-4833-a115-a87858c7800e",
   "metadata": {},
   "outputs": [],
   "source": [
    "accuracy_score(y_test,y_pred)"
   ]
  },
  {
   "cell_type": "code",
   "execution_count": null,
   "id": "9cfa0449-6335-43ab-a842-56a932374e2d",
   "metadata": {},
   "outputs": [],
   "source": [
    "precision_score(y_test,y_pred)"
   ]
  },
  {
   "cell_type": "code",
   "execution_count": null,
   "id": "f6ec0698-4fa3-4290-9c66-004134292cd4",
   "metadata": {},
   "outputs": [],
   "source": [
    "recall_score(y_test,y_pred)"
   ]
  },
  {
   "cell_type": "code",
   "execution_count": null,
   "id": "ed2aeafa-1fa9-4391-b974-b9a2c5423ee7",
   "metadata": {},
   "outputs": [],
   "source": [
    "yyy=model_gru_2hidden.predict(X_train_reshaped)"
   ]
  },
  {
   "cell_type": "code",
   "execution_count": null,
   "id": "5bd7bd1b-2a17-4c7e-b772-1c8695165296",
   "metadata": {},
   "outputs": [],
   "source": [
    "threshold = 0.5\n",
    "yyy = (yyy > threshold).astype(int)"
   ]
  },
  {
   "cell_type": "code",
   "execution_count": null,
   "id": "7cbfb7ef-0236-4321-aa69-8485882af0d5",
   "metadata": {},
   "outputs": [],
   "source": [
    "accuracy_score(y_train,yyy)"
   ]
  },
  {
   "cell_type": "markdown",
   "id": "f04d79f5-19a8-4b2b-a543-aa13eefae3c7",
   "metadata": {},
   "source": [
    "## Tf-Idf Model Check"
   ]
  },
  {
   "cell_type": "code",
   "execution_count": null,
   "id": "8bb9db61-6b3a-4dd3-8b8d-c07acd3f3dac",
   "metadata": {},
   "outputs": [],
   "source": [
    "# 900 columns\n",
    "# LR 0.45,0.99\n",
    "# NB 0.43,0.60\n",
    "# SVM linear 0.54,1\n",
    "# DT 0.45,0.94\n",
    "# RF 0.43,0.83\n",
    "# LSTM 0.60,0.92\n",
    "# GRU 0.54,0.92"
   ]
  },
  {
   "cell_type": "code",
   "execution_count": null,
   "id": "7ff72ff3-37ca-4473-af1b-8f5d851c9a03",
   "metadata": {},
   "outputs": [],
   "source": [
    "tfidf_pca.shape"
   ]
  },
  {
   "cell_type": "code",
   "execution_count": null,
   "id": "3758bd39-33b2-4656-a96d-3e7c67ffbc6d",
   "metadata": {},
   "outputs": [],
   "source": [
    "test_size"
   ]
  },
  {
   "cell_type": "code",
   "execution_count": null,
   "id": "5ea31949-5298-4446-96b3-f05f51b4279f",
   "metadata": {},
   "outputs": [],
   "source": [
    "X_test=tfidf_pca[-test_size:]\n",
    "y_test=df4['Label'][-test_size:]"
   ]
  },
  {
   "cell_type": "code",
   "execution_count": null,
   "id": "c176aaed-5366-43d8-99f2-c6874eefb833",
   "metadata": {},
   "outputs": [],
   "source": [
    "comb_train=pd.concat([pd.DataFrame(tfidf_pca[:-test_size]),df4['Label'][:-test_size]],axis=1)\n",
    "comb_train"
   ]
  },
  {
   "cell_type": "code",
   "execution_count": null,
   "id": "ca758510-6d62-4816-82e1-46954d6e1478",
   "metadata": {},
   "outputs": [],
   "source": [
    "shuffled_df = comb_train.sample(frac=1, random_state=42)"
   ]
  },
  {
   "cell_type": "code",
   "execution_count": null,
   "id": "dfbe9b82-27b4-453a-a397-e15bf492bbae",
   "metadata": {},
   "outputs": [],
   "source": [
    "shuffled_df"
   ]
  },
  {
   "cell_type": "code",
   "execution_count": null,
   "id": "3eff605d-d1e2-4d19-b5e8-2e9a7b7fbe11",
   "metadata": {},
   "outputs": [],
   "source": [
    "X_train=shuffled_df.iloc[:,:944]\n",
    "y_train=shuffled_df['Label']"
   ]
  },
  {
   "cell_type": "code",
   "execution_count": null,
   "id": "4af38eec-31f5-42ff-8916-b7be6e195c77",
   "metadata": {},
   "outputs": [],
   "source": [
    "X_train.shape"
   ]
  },
  {
   "cell_type": "code",
   "execution_count": null,
   "id": "cafbb1f5-7a9d-4853-99fc-8f3fe677abdf",
   "metadata": {},
   "outputs": [],
   "source": [
    "X_train=scaler.fit_transform(X_train)\n",
    "X_test=scaler.transform(X_test)"
   ]
  },
  {
   "cell_type": "code",
   "execution_count": null,
   "id": "f0238257-221a-4dba-9a6e-26b6d97eb974",
   "metadata": {},
   "outputs": [],
   "source": [
    "logreg = LogisticRegression(solver='liblinear',max_iter=20,penalty='l1')\n",
    "logreg.fit(X_train, y_train)"
   ]
  },
  {
   "cell_type": "code",
   "execution_count": null,
   "id": "f6391b97-e629-4c78-8672-0e850b5334d9",
   "metadata": {},
   "outputs": [],
   "source": [
    "y_pred = logreg.predict(X_test)"
   ]
  },
  {
   "cell_type": "code",
   "execution_count": null,
   "id": "97c46568-6b83-4b8d-af06-168d6998cdba",
   "metadata": {},
   "outputs": [],
   "source": [
    "accuracy_score(y_test,y_pred)"
   ]
  },
  {
   "cell_type": "code",
   "execution_count": null,
   "id": "e9130e09-9e3c-418a-a1a1-bf7dd34940dc",
   "metadata": {},
   "outputs": [],
   "source": [
    "precision_score(y_test,y_pred)"
   ]
  },
  {
   "cell_type": "code",
   "execution_count": null,
   "id": "b3daef02-bc34-4d23-a8e6-6aeb9281d122",
   "metadata": {},
   "outputs": [],
   "source": [
    "recall_score(y_test,y_pred)"
   ]
  },
  {
   "cell_type": "code",
   "execution_count": null,
   "id": "533786f4-4d70-4f36-a8dc-058c5aa29a1d",
   "metadata": {},
   "outputs": [],
   "source": [
    "yyy=logreg.predict(X_train)"
   ]
  },
  {
   "cell_type": "code",
   "execution_count": null,
   "id": "027c4448-688f-41ed-8595-473c28aa608b",
   "metadata": {},
   "outputs": [],
   "source": [
    "accuracy_score(y_train,yyy)"
   ]
  },
  {
   "cell_type": "code",
   "execution_count": null,
   "id": "43c382fb-40aa-42b0-b4fe-91185d7a1da8",
   "metadata": {},
   "outputs": [],
   "source": [
    "# NB"
   ]
  },
  {
   "cell_type": "code",
   "execution_count": null,
   "id": "ffc3740b-4725-4d9f-bbb5-17046a2e9969",
   "metadata": {},
   "outputs": [],
   "source": [
    "nb_classifier = GaussianNB()\n",
    "nb_classifier.fit(X_train, y_train)"
   ]
  },
  {
   "cell_type": "code",
   "execution_count": null,
   "id": "476a92a9-79e8-47f0-86be-ac887f89ca57",
   "metadata": {},
   "outputs": [],
   "source": [
    "y_pred = nb_classifier.predict(X_test)"
   ]
  },
  {
   "cell_type": "code",
   "execution_count": null,
   "id": "e79d699b-3dc3-4bbb-b583-61b5ef699529",
   "metadata": {},
   "outputs": [],
   "source": [
    "accuracy_score(y_test,y_pred)"
   ]
  },
  {
   "cell_type": "code",
   "execution_count": null,
   "id": "8c572a5a-0e21-4241-aee5-7ff4691be667",
   "metadata": {},
   "outputs": [],
   "source": [
    "precision_score(y_test,y_pred)"
   ]
  },
  {
   "cell_type": "code",
   "execution_count": null,
   "id": "41c1cdb9-a101-4f2b-b13e-d91f788ea7ef",
   "metadata": {},
   "outputs": [],
   "source": [
    "recall_score(y_test,y_pred)"
   ]
  },
  {
   "cell_type": "code",
   "execution_count": null,
   "id": "9771be14-b4ce-4922-a48c-652f7705fd5d",
   "metadata": {},
   "outputs": [],
   "source": [
    "yyy=nb_classifier.predict(X_train)"
   ]
  },
  {
   "cell_type": "code",
   "execution_count": null,
   "id": "8abbf132-8c9e-41c1-931d-51cbe5c2d2f3",
   "metadata": {},
   "outputs": [],
   "source": [
    "accuracy_score(y_train,yyy)"
   ]
  },
  {
   "cell_type": "code",
   "execution_count": null,
   "id": "6bf6136c-7745-44dd-88d2-3887a597c2b2",
   "metadata": {},
   "outputs": [],
   "source": [
    "# SVM"
   ]
  },
  {
   "cell_type": "code",
   "execution_count": null,
   "id": "1715cb10-1fb4-4dfb-925c-22584143d0eb",
   "metadata": {},
   "outputs": [],
   "source": [
    "svm_classifier = SVC(kernel='linear', C=2, gamma='scale')\n",
    "svm_classifier.fit(X_train, y_train)"
   ]
  },
  {
   "cell_type": "code",
   "execution_count": null,
   "id": "ffbc6ca9-cf5c-4705-816e-4403ebfcab3a",
   "metadata": {},
   "outputs": [],
   "source": [
    "y_pred = svm_classifier.predict(X_test)"
   ]
  },
  {
   "cell_type": "code",
   "execution_count": null,
   "id": "cf2b0a45-6ca7-4ede-8f3b-33d5f5cad396",
   "metadata": {},
   "outputs": [],
   "source": [
    "accuracy_score(y_test,y_pred)"
   ]
  },
  {
   "cell_type": "code",
   "execution_count": null,
   "id": "21ca6681-e3b7-4b04-896b-e11834697096",
   "metadata": {},
   "outputs": [],
   "source": [
    "precision_score(y_test,y_pred)"
   ]
  },
  {
   "cell_type": "code",
   "execution_count": null,
   "id": "f7070475-921f-40ef-add7-9a7050e39bee",
   "metadata": {},
   "outputs": [],
   "source": [
    "recall_score(y_test,y_pred)"
   ]
  },
  {
   "cell_type": "code",
   "execution_count": null,
   "id": "85e16ffa-b48b-4870-8fae-f6dd88b57b35",
   "metadata": {},
   "outputs": [],
   "source": [
    "yyy=svm_classifier.predict(X_train)"
   ]
  },
  {
   "cell_type": "code",
   "execution_count": null,
   "id": "e8823b2f-f0cc-45f8-a9dc-659ea7b48ca6",
   "metadata": {},
   "outputs": [],
   "source": [
    "accuracy_score(y_train,yyy)"
   ]
  },
  {
   "cell_type": "code",
   "execution_count": null,
   "id": "0664e302-ca86-4507-88a0-f8c0b26b69ef",
   "metadata": {},
   "outputs": [],
   "source": [
    "# DT"
   ]
  },
  {
   "cell_type": "code",
   "execution_count": null,
   "id": "1525578b-d060-487e-a2e3-003118374668",
   "metadata": {},
   "outputs": [],
   "source": [
    "dt_classifier = DecisionTreeClassifier(random_state=42,max_depth=10)\n",
    "dt_classifier.fit(X_train, y_train)"
   ]
  },
  {
   "cell_type": "code",
   "execution_count": null,
   "id": "017bd520-3314-49c4-b9aa-8a69873de10e",
   "metadata": {},
   "outputs": [],
   "source": [
    "y_pred = dt_classifier.predict(X_test)"
   ]
  },
  {
   "cell_type": "code",
   "execution_count": null,
   "id": "d25d0d83-48c0-4559-800f-8c022af1ac65",
   "metadata": {},
   "outputs": [],
   "source": [
    "accuracy_score(y_test,y_pred)"
   ]
  },
  {
   "cell_type": "code",
   "execution_count": null,
   "id": "fe4bf544-d346-4e02-931a-f4ba3a42a182",
   "metadata": {},
   "outputs": [],
   "source": [
    "precision_score(y_test,y_pred)"
   ]
  },
  {
   "cell_type": "code",
   "execution_count": null,
   "id": "4594bda5-a4e1-4528-b2f8-e43b4e904cc8",
   "metadata": {},
   "outputs": [],
   "source": [
    "recall_score(y_test,y_pred)"
   ]
  },
  {
   "cell_type": "code",
   "execution_count": null,
   "id": "a01edd4b-72e2-44c4-a309-bd6ecc25faab",
   "metadata": {},
   "outputs": [],
   "source": [
    "yyy=dt_classifier.predict(X_train.tolist())"
   ]
  },
  {
   "cell_type": "code",
   "execution_count": null,
   "id": "b4f3fd74-12c3-40b5-b20f-f0be5d8b5e12",
   "metadata": {},
   "outputs": [],
   "source": [
    "accuracy_score(y_train,yyy)"
   ]
  },
  {
   "cell_type": "code",
   "execution_count": null,
   "id": "46ea8fce-de1b-4dda-a568-9720747df0a0",
   "metadata": {},
   "outputs": [],
   "source": [
    "# RF"
   ]
  },
  {
   "cell_type": "code",
   "execution_count": null,
   "id": "62c95155-b6ce-40bd-bea2-77271966ed2c",
   "metadata": {},
   "outputs": [],
   "source": [
    "rf_classifier = RandomForestClassifier(random_state=42,n_estimators=25,max_depth=5)"
   ]
  },
  {
   "cell_type": "code",
   "execution_count": null,
   "id": "3e92be86-7f6a-4e98-9b43-13d95cff4d87",
   "metadata": {},
   "outputs": [],
   "source": [
    "rf_classifier.fit(X_train, y_train)"
   ]
  },
  {
   "cell_type": "code",
   "execution_count": null,
   "id": "c0927028-46a4-4567-bf2e-8d0a47c36490",
   "metadata": {},
   "outputs": [],
   "source": [
    "y_pred = rf_classifier.predict(X_test)"
   ]
  },
  {
   "cell_type": "code",
   "execution_count": null,
   "id": "54c298fd-d96e-4979-922c-6e4e660220f6",
   "metadata": {},
   "outputs": [],
   "source": [
    "accuracy_score(y_test,y_pred)"
   ]
  },
  {
   "cell_type": "code",
   "execution_count": null,
   "id": "9c571060-32dc-466d-a70e-0482e796554a",
   "metadata": {},
   "outputs": [],
   "source": [
    "precision_score(y_test,y_pred)"
   ]
  },
  {
   "cell_type": "code",
   "execution_count": null,
   "id": "f1261aa0-b49a-4aeb-bba1-4278f2db42e5",
   "metadata": {},
   "outputs": [],
   "source": [
    "recall_score(y_test,y_pred)"
   ]
  },
  {
   "cell_type": "code",
   "execution_count": null,
   "id": "73645aeb-78ef-46a6-a08c-a4cf706261fe",
   "metadata": {},
   "outputs": [],
   "source": [
    "yyy=rf_classifier.predict(X_train.tolist())"
   ]
  },
  {
   "cell_type": "code",
   "execution_count": null,
   "id": "4bdbccf9-2675-48a7-9a68-a16a5fd01d3b",
   "metadata": {},
   "outputs": [],
   "source": [
    "accuracy_score(y_train,yyy)"
   ]
  },
  {
   "cell_type": "code",
   "execution_count": null,
   "id": "6976c072-e7a5-4782-be05-60228c1c172b",
   "metadata": {},
   "outputs": [],
   "source": [
    "# LSTM"
   ]
  },
  {
   "cell_type": "code",
   "execution_count": null,
   "id": "2d2616d4-d85c-4446-9b51-8ba056e90fa7",
   "metadata": {},
   "outputs": [],
   "source": [
    "X_train.shape"
   ]
  },
  {
   "cell_type": "code",
   "execution_count": null,
   "id": "061d0af5-0981-4aa5-b183-8512b42f9f06",
   "metadata": {},
   "outputs": [],
   "source": [
    "model = Sequential()\n",
    "model.add(Input(shape=(944,)))  # Input shape: (622,)\n",
    "model.add(Reshape((1, 944)))  # Reshape to (batch_size, timesteps, input_dim)\n",
    "model.add(LSTM(100, return_sequences=True))\n",
    "model.add(LSTM(50))\n",
    "model.add(Dense(1, activation='sigmoid'))  # Assuming binary classification\n",
    "\n",
    "# Compile the model\n",
    "optimizer = Adam(learning_rate=0.001)\n",
    "model.compile(optimizer=optimizer, loss='binary_crossentropy', metrics=['accuracy'])"
   ]
  },
  {
   "cell_type": "code",
   "execution_count": null,
   "id": "ccebddc1-b4a4-4b80-9200-e5a47328d14f",
   "metadata": {},
   "outputs": [],
   "source": [
    "model.fit(X_train, y_train, epochs=30, batch_size=5, validation_split=0.2)"
   ]
  },
  {
   "cell_type": "code",
   "execution_count": null,
   "id": "fa540618-5201-438f-ac7a-ffd41ee9110c",
   "metadata": {},
   "outputs": [],
   "source": [
    "y_pred=model.predict(X_test)"
   ]
  },
  {
   "cell_type": "code",
   "execution_count": null,
   "id": "a7c757c7-07ee-4804-a387-72b3e39f7b97",
   "metadata": {},
   "outputs": [],
   "source": [
    "threshold = 0.5\n",
    "y_pred = (y_pred > threshold).astype(int)"
   ]
  },
  {
   "cell_type": "code",
   "execution_count": null,
   "id": "28181442-04ca-4e08-8427-bd07f524ca6f",
   "metadata": {},
   "outputs": [],
   "source": [
    "accuracy_score(y_test,y_pred)"
   ]
  },
  {
   "cell_type": "code",
   "execution_count": null,
   "id": "bce768c8-5dfa-476d-a569-b1da0f6e4e85",
   "metadata": {},
   "outputs": [],
   "source": [
    "precision_score(y_test,y_pred)"
   ]
  },
  {
   "cell_type": "code",
   "execution_count": null,
   "id": "d762d1c3-1ce0-4a43-82aa-880cc8c32d5c",
   "metadata": {},
   "outputs": [],
   "source": [
    "recall_score(y_test,y_pred)"
   ]
  },
  {
   "cell_type": "code",
   "execution_count": null,
   "id": "7c888414-234d-4a09-8ac0-85244080175b",
   "metadata": {},
   "outputs": [],
   "source": [
    "yyy=model.predict(X_train)"
   ]
  },
  {
   "cell_type": "code",
   "execution_count": null,
   "id": "d46f89cc-1bb7-453d-acd5-6d283817b42e",
   "metadata": {},
   "outputs": [],
   "source": [
    "threshold = 0.5\n",
    "yyy = (yyy > threshold).astype(int)"
   ]
  },
  {
   "cell_type": "code",
   "execution_count": null,
   "id": "4cfd0e81-b8e2-4e4c-865b-c4341facaab4",
   "metadata": {},
   "outputs": [],
   "source": [
    "accuracy_score(y_train,yyy)"
   ]
  },
  {
   "cell_type": "code",
   "execution_count": null,
   "id": "95f42d7f-aeaf-4fea-ab68-b552ed2ef239",
   "metadata": {},
   "outputs": [],
   "source": [
    "# GRU"
   ]
  },
  {
   "cell_type": "code",
   "execution_count": null,
   "id": "4db8d90c-ccda-46a4-b532-fdfbd4283b86",
   "metadata": {},
   "outputs": [],
   "source": [
    "optimizer = Adam(learning_rate=0.001)\n",
    "batch_size = 8\n",
    "epochs = 30"
   ]
  },
  {
   "cell_type": "code",
   "execution_count": null,
   "id": "2b74475a-4a8c-4f5c-813f-29af8126be10",
   "metadata": {},
   "outputs": [],
   "source": [
    "X_train_reshaped = np.reshape(X_train, (X_train.shape[0], 1, X_train.shape[1]))\n",
    "\n",
    "# Reshape test set: (53, 622) -> (53, 1, 622)\n",
    "X_test_reshaped = np.reshape(X_test, (X_test.shape[0], 1, X_test.shape[1]))"
   ]
  },
  {
   "cell_type": "code",
   "execution_count": null,
   "id": "b47f827f-4f0a-4095-bcfb-d89e62bd1459",
   "metadata": {},
   "outputs": [],
   "source": [
    "model_gru_2hidden = Sequential()\n",
    "model_gru_2hidden.add(Input(shape=(X_train_reshaped.shape[1], X_train_reshaped.shape[2])))\n",
    "model_gru_2hidden.add(GRU(units=100, return_sequences=True))\n",
    "model_gru_2hidden.add(GRU(units=50))\n",
    "model_gru_2hidden.add(Dense(units=1, activation='sigmoid'))  # Assuming binary classification\n",
    "\n",
    "# Compile the model\n",
    "optimizer = Adam(learning_rate=0.001)\n",
    "model_gru_2hidden.compile(optimizer=optimizer, loss='binary_crossentropy', metrics=['accuracy'])"
   ]
  },
  {
   "cell_type": "code",
   "execution_count": null,
   "id": "fcd3510b-f397-4db7-8ae6-74b4749d4b36",
   "metadata": {},
   "outputs": [],
   "source": [
    "model_gru_2hidden.fit(X_train_reshaped, y_train, batch_size=batch_size, epochs=epochs, validation_split=0.2)"
   ]
  },
  {
   "cell_type": "code",
   "execution_count": null,
   "id": "33c18baa-6e3a-49c9-81aa-b6e31fb14381",
   "metadata": {},
   "outputs": [],
   "source": [
    "y_pred=model_gru_2hidden.predict(X_test_reshaped)"
   ]
  },
  {
   "cell_type": "code",
   "execution_count": null,
   "id": "ee73490b-a062-4163-ac2d-56b7d10328e1",
   "metadata": {},
   "outputs": [],
   "source": [
    "threshold = 0.5\n",
    "y_pred = (y_pred > threshold).astype(int)"
   ]
  },
  {
   "cell_type": "code",
   "execution_count": null,
   "id": "bb49da22-3610-4c88-81d6-f52cf7e8d774",
   "metadata": {},
   "outputs": [],
   "source": [
    "accuracy_score(y_test,y_pred)"
   ]
  },
  {
   "cell_type": "code",
   "execution_count": null,
   "id": "d541322c-da2e-4712-a737-769cf54357f7",
   "metadata": {},
   "outputs": [],
   "source": [
    "precision_score(y_test,y_pred)"
   ]
  },
  {
   "cell_type": "code",
   "execution_count": null,
   "id": "99cf5117-9aaf-421b-a107-875ecfdee52b",
   "metadata": {},
   "outputs": [],
   "source": [
    "recall_score(y_test,y_pred)"
   ]
  },
  {
   "cell_type": "code",
   "execution_count": null,
   "id": "130fdd18-b9e2-427b-846e-fdd6a6f860d4",
   "metadata": {},
   "outputs": [],
   "source": [
    "yyy=model_gru_2hidden.predict(X_train_reshaped)"
   ]
  },
  {
   "cell_type": "code",
   "execution_count": null,
   "id": "5273629b-3cf5-424b-8d09-9299ff966e87",
   "metadata": {},
   "outputs": [],
   "source": [
    "threshold = 0.5\n",
    "yyy = (yyy > threshold).astype(int)"
   ]
  },
  {
   "cell_type": "code",
   "execution_count": null,
   "id": "cffffd4a-e33f-4364-b9d1-802251d37567",
   "metadata": {},
   "outputs": [],
   "source": [
    "accuracy_score(y_train,yyy)"
   ]
  },
  {
   "cell_type": "code",
   "execution_count": null,
   "id": "7eb8557a-4bfd-4ef4-bb17-3ac02e9f547b",
   "metadata": {},
   "outputs": [],
   "source": [
    "df4"
   ]
  },
  {
   "cell_type": "code",
   "execution_count": null,
   "id": "81f3af0e-9eee-4461-9fbc-50625133bc98",
   "metadata": {},
   "outputs": [],
   "source": []
  },
  {
   "cell_type": "code",
   "execution_count": null,
   "id": "fc7fb770-1120-4e31-a5e7-aa07b5152560",
   "metadata": {},
   "outputs": [],
   "source": []
  },
  {
   "cell_type": "code",
   "execution_count": null,
   "id": "d56040f5-e8c0-4443-82f3-1a67f2d912e6",
   "metadata": {},
   "outputs": [],
   "source": []
  },
  {
   "cell_type": "code",
   "execution_count": null,
   "id": "168331dd-656c-4722-9ce0-e3a0539ab9c5",
   "metadata": {},
   "outputs": [],
   "source": []
  },
  {
   "cell_type": "code",
   "execution_count": null,
   "id": "1cc315c8-5b4d-4853-9a80-3f7b34af935d",
   "metadata": {},
   "outputs": [],
   "source": []
  }
 ],
 "metadata": {
  "kernelspec": {
   "display_name": "Python 3 (ipykernel)",
   "language": "python",
   "name": "python3"
  },
  "language_info": {
   "codemirror_mode": {
    "name": "ipython",
    "version": 3
   },
   "file_extension": ".py",
   "mimetype": "text/x-python",
   "name": "python",
   "nbconvert_exporter": "python",
   "pygments_lexer": "ipython3",
   "version": "3.11.7"
  }
 },
 "nbformat": 4,
 "nbformat_minor": 5
}
